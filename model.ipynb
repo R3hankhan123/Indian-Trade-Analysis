{
 "cells": [
  {
   "cell_type": "code",
   "execution_count": 43,
   "metadata": {},
   "outputs": [],
   "source": [
    "import numpy as np \n",
    "import pandas as pd\n",
    "\n",
    "import seaborn as sns \n",
    "sns.set_style(\"whitegrid\")\n",
    "import matplotlib.pyplot as plt\n",
    "import plotly.express as px\n",
    "from plotly.subplots import make_subplots\n",
    "import plotly.graph_objects as go\n",
    "import warnings\n",
    "warnings.filterwarnings(\"ignore\")"
   ]
  },
  {
   "cell_type": "code",
   "execution_count": 44,
   "metadata": {},
   "outputs": [],
   "source": [
    "df_import = pd.read_csv(\"2010_2021_HS2_import.csv\")\n",
    "df_export = pd.read_csv(\"2010_2021_HS2_export.csv\")"
   ]
  },
  {
   "attachments": {},
   "cell_type": "markdown",
   "metadata": {},
   "source": [
    "Exploring the Dataset"
   ]
  },
  {
   "cell_type": "code",
   "execution_count": 45,
   "metadata": {},
   "outputs": [
    {
     "data": {
      "text/html": [
       "<div>\n",
       "<style scoped>\n",
       "    .dataframe tbody tr th:only-of-type {\n",
       "        vertical-align: middle;\n",
       "    }\n",
       "\n",
       "    .dataframe tbody tr th {\n",
       "        vertical-align: top;\n",
       "    }\n",
       "\n",
       "    .dataframe thead th {\n",
       "        text-align: right;\n",
       "    }\n",
       "</style>\n",
       "<table border=\"1\" class=\"dataframe\">\n",
       "  <thead>\n",
       "    <tr style=\"text-align: right;\">\n",
       "      <th></th>\n",
       "      <th>HSCode</th>\n",
       "      <th>Commodity</th>\n",
       "      <th>value</th>\n",
       "      <th>country</th>\n",
       "      <th>year</th>\n",
       "    </tr>\n",
       "  </thead>\n",
       "  <tbody>\n",
       "    <tr>\n",
       "      <th>0</th>\n",
       "      <td>2</td>\n",
       "      <td>MEAT AND EDIBLE MEAT OFFAL.</td>\n",
       "      <td>1.40</td>\n",
       "      <td>AFGHANISTAN</td>\n",
       "      <td>2010</td>\n",
       "    </tr>\n",
       "    <tr>\n",
       "      <th>1</th>\n",
       "      <td>3</td>\n",
       "      <td>FISH AND CRUSTACEANS, MOLLUSCS AND OTHER AQUAT...</td>\n",
       "      <td>0.08</td>\n",
       "      <td>AFGHANISTAN</td>\n",
       "      <td>2010</td>\n",
       "    </tr>\n",
       "    <tr>\n",
       "      <th>2</th>\n",
       "      <td>4</td>\n",
       "      <td>DAIRY PRODUCE; BIRDS' EGGS; NATURAL HONEY; EDI...</td>\n",
       "      <td>3.89</td>\n",
       "      <td>AFGHANISTAN</td>\n",
       "      <td>2010</td>\n",
       "    </tr>\n",
       "    <tr>\n",
       "      <th>3</th>\n",
       "      <td>5</td>\n",
       "      <td>PRODUCTS OF ANIMAL ORIGIN, NOT ELSEWHERE SPECI...</td>\n",
       "      <td>NaN</td>\n",
       "      <td>AFGHANISTAN</td>\n",
       "      <td>2010</td>\n",
       "    </tr>\n",
       "    <tr>\n",
       "      <th>4</th>\n",
       "      <td>6</td>\n",
       "      <td>LIVE TREES AND OTHER PLANTS; BULBS; ROOTS AND ...</td>\n",
       "      <td>NaN</td>\n",
       "      <td>AFGHANISTAN</td>\n",
       "      <td>2010</td>\n",
       "    </tr>\n",
       "  </tbody>\n",
       "</table>\n",
       "</div>"
      ],
      "text/plain": [
       "   HSCode                                          Commodity  value  \\\n",
       "0       2                        MEAT AND EDIBLE MEAT OFFAL.   1.40   \n",
       "1       3  FISH AND CRUSTACEANS, MOLLUSCS AND OTHER AQUAT...   0.08   \n",
       "2       4  DAIRY PRODUCE; BIRDS' EGGS; NATURAL HONEY; EDI...   3.89   \n",
       "3       5  PRODUCTS OF ANIMAL ORIGIN, NOT ELSEWHERE SPECI...    NaN   \n",
       "4       6  LIVE TREES AND OTHER PLANTS; BULBS; ROOTS AND ...    NaN   \n",
       "\n",
       "       country  year  \n",
       "0  AFGHANISTAN  2010  \n",
       "1  AFGHANISTAN  2010  \n",
       "2  AFGHANISTAN  2010  \n",
       "3  AFGHANISTAN  2010  \n",
       "4  AFGHANISTAN  2010  "
      ]
     },
     "execution_count": 45,
     "metadata": {},
     "output_type": "execute_result"
    }
   ],
   "source": [
    "df_export.head()"
   ]
  },
  {
   "cell_type": "code",
   "execution_count": 46,
   "metadata": {},
   "outputs": [
    {
     "data": {
      "text/html": [
       "<div>\n",
       "<style scoped>\n",
       "    .dataframe tbody tr th:only-of-type {\n",
       "        vertical-align: middle;\n",
       "    }\n",
       "\n",
       "    .dataframe tbody tr th {\n",
       "        vertical-align: top;\n",
       "    }\n",
       "\n",
       "    .dataframe thead th {\n",
       "        text-align: right;\n",
       "    }\n",
       "</style>\n",
       "<table border=\"1\" class=\"dataframe\">\n",
       "  <thead>\n",
       "    <tr style=\"text-align: right;\">\n",
       "      <th></th>\n",
       "      <th>HSCode</th>\n",
       "      <th>Commodity</th>\n",
       "      <th>value</th>\n",
       "      <th>country</th>\n",
       "      <th>year</th>\n",
       "    </tr>\n",
       "  </thead>\n",
       "  <tbody>\n",
       "    <tr>\n",
       "      <th>0</th>\n",
       "      <td>7</td>\n",
       "      <td>EDIBLE VEGETABLES AND CERTAIN ROOTS AND TUBERS.</td>\n",
       "      <td>9.14</td>\n",
       "      <td>AFGHANISTAN</td>\n",
       "      <td>2010</td>\n",
       "    </tr>\n",
       "    <tr>\n",
       "      <th>1</th>\n",
       "      <td>8</td>\n",
       "      <td>EDIBLE FRUIT AND NUTS; PEEL OR CITRUS FRUIT OR...</td>\n",
       "      <td>93.82</td>\n",
       "      <td>AFGHANISTAN</td>\n",
       "      <td>2010</td>\n",
       "    </tr>\n",
       "    <tr>\n",
       "      <th>2</th>\n",
       "      <td>9</td>\n",
       "      <td>COFFEE, TEA, MATE AND SPICES.</td>\n",
       "      <td>2.54</td>\n",
       "      <td>AFGHANISTAN</td>\n",
       "      <td>2010</td>\n",
       "    </tr>\n",
       "    <tr>\n",
       "      <th>3</th>\n",
       "      <td>12</td>\n",
       "      <td>OIL SEEDS AND OLEA. FRUITS; MISC. GRAINS, SEED...</td>\n",
       "      <td>0.32</td>\n",
       "      <td>AFGHANISTAN</td>\n",
       "      <td>2010</td>\n",
       "    </tr>\n",
       "    <tr>\n",
       "      <th>4</th>\n",
       "      <td>13</td>\n",
       "      <td>LAC; GUMS, RESINS AND OTHER VEGETABLE SAPS AND...</td>\n",
       "      <td>37.67</td>\n",
       "      <td>AFGHANISTAN</td>\n",
       "      <td>2010</td>\n",
       "    </tr>\n",
       "  </tbody>\n",
       "</table>\n",
       "</div>"
      ],
      "text/plain": [
       "   HSCode                                          Commodity  value  \\\n",
       "0       7    EDIBLE VEGETABLES AND CERTAIN ROOTS AND TUBERS.   9.14   \n",
       "1       8  EDIBLE FRUIT AND NUTS; PEEL OR CITRUS FRUIT OR...  93.82   \n",
       "2       9                      COFFEE, TEA, MATE AND SPICES.   2.54   \n",
       "3      12  OIL SEEDS AND OLEA. FRUITS; MISC. GRAINS, SEED...   0.32   \n",
       "4      13  LAC; GUMS, RESINS AND OTHER VEGETABLE SAPS AND...  37.67   \n",
       "\n",
       "       country  year  \n",
       "0  AFGHANISTAN  2010  \n",
       "1  AFGHANISTAN  2010  \n",
       "2  AFGHANISTAN  2010  \n",
       "3  AFGHANISTAN  2010  \n",
       "4  AFGHANISTAN  2010  "
      ]
     },
     "execution_count": 46,
     "metadata": {},
     "output_type": "execute_result"
    }
   ],
   "source": [
    "df_import.head()"
   ]
  },
  {
   "attachments": {},
   "cell_type": "markdown",
   "metadata": {},
   "source": [
    "# Findings:\n",
    "\n",
    "In both the input files we have 5 columns each.\n",
    "\n",
    "* HSCode - HS stands for Harmonized System. It is an identification code which follows international product nomenclature and describes the type of good that is shipped. All the commodities are grouped under 99 chapters or commodity groups or HSCode as they are commonly called.\n",
    "\n",
    "* Commodity - The column contains commodity category. In each commodity category there are various commodities. A commodity is an economic goods or service.\n",
    "\n",
    "* Value - Amount for export and import of commodities in million USD.\n",
    "\n",
    "* Country - Country from where the goods are imported from or exported to.\n",
    "\n",
    "* Year - Year in which comodities where imported or exported (lies between 2010 to 2018)."
   ]
  },
  {
   "cell_type": "code",
   "execution_count": 47,
   "metadata": {},
   "outputs": [
    {
     "data": {
      "text/html": [
       "<div>\n",
       "<style scoped>\n",
       "    .dataframe tbody tr th:only-of-type {\n",
       "        vertical-align: middle;\n",
       "    }\n",
       "\n",
       "    .dataframe tbody tr th {\n",
       "        vertical-align: top;\n",
       "    }\n",
       "\n",
       "    .dataframe thead th {\n",
       "        text-align: right;\n",
       "    }\n",
       "</style>\n",
       "<table border=\"1\" class=\"dataframe\">\n",
       "  <thead>\n",
       "    <tr style=\"text-align: right;\">\n",
       "      <th></th>\n",
       "      <th>HSCode</th>\n",
       "      <th>value</th>\n",
       "      <th>year</th>\n",
       "    </tr>\n",
       "  </thead>\n",
       "  <tbody>\n",
       "    <tr>\n",
       "      <th>count</th>\n",
       "      <td>184755.000000</td>\n",
       "      <td>165497.000000</td>\n",
       "      <td>184755.000000</td>\n",
       "    </tr>\n",
       "    <tr>\n",
       "      <th>mean</th>\n",
       "      <td>51.232291</td>\n",
       "      <td>22.233844</td>\n",
       "      <td>2015.590344</td>\n",
       "    </tr>\n",
       "    <tr>\n",
       "      <th>std</th>\n",
       "      <td>27.965879</td>\n",
       "      <td>223.795216</td>\n",
       "      <td>3.444532</td>\n",
       "    </tr>\n",
       "    <tr>\n",
       "      <th>min</th>\n",
       "      <td>1.000000</td>\n",
       "      <td>0.000000</td>\n",
       "      <td>2010.000000</td>\n",
       "    </tr>\n",
       "    <tr>\n",
       "      <th>25%</th>\n",
       "      <td>28.000000</td>\n",
       "      <td>0.030000</td>\n",
       "      <td>2013.000000</td>\n",
       "    </tr>\n",
       "    <tr>\n",
       "      <th>50%</th>\n",
       "      <td>52.000000</td>\n",
       "      <td>0.370000</td>\n",
       "      <td>2016.000000</td>\n",
       "    </tr>\n",
       "    <tr>\n",
       "      <th>75%</th>\n",
       "      <td>74.000000</td>\n",
       "      <td>3.870000</td>\n",
       "      <td>2019.000000</td>\n",
       "    </tr>\n",
       "    <tr>\n",
       "      <th>max</th>\n",
       "      <td>99.000000</td>\n",
       "      <td>19805.170000</td>\n",
       "      <td>2021.000000</td>\n",
       "    </tr>\n",
       "  </tbody>\n",
       "</table>\n",
       "</div>"
      ],
      "text/plain": [
       "              HSCode          value           year\n",
       "count  184755.000000  165497.000000  184755.000000\n",
       "mean       51.232291      22.233844    2015.590344\n",
       "std        27.965879     223.795216       3.444532\n",
       "min         1.000000       0.000000    2010.000000\n",
       "25%        28.000000       0.030000    2013.000000\n",
       "50%        52.000000       0.370000    2016.000000\n",
       "75%        74.000000       3.870000    2019.000000\n",
       "max        99.000000   19805.170000    2021.000000"
      ]
     },
     "execution_count": 47,
     "metadata": {},
     "output_type": "execute_result"
    }
   ],
   "source": [
    "df_export.describe()"
   ]
  },
  {
   "cell_type": "code",
   "execution_count": 48,
   "metadata": {},
   "outputs": [
    {
     "data": {
      "text/html": [
       "<div>\n",
       "<style scoped>\n",
       "    .dataframe tbody tr th:only-of-type {\n",
       "        vertical-align: middle;\n",
       "    }\n",
       "\n",
       "    .dataframe tbody tr th {\n",
       "        vertical-align: top;\n",
       "    }\n",
       "\n",
       "    .dataframe thead th {\n",
       "        text-align: right;\n",
       "    }\n",
       "</style>\n",
       "<table border=\"1\" class=\"dataframe\">\n",
       "  <thead>\n",
       "    <tr style=\"text-align: right;\">\n",
       "      <th></th>\n",
       "      <th>HSCode</th>\n",
       "      <th>value</th>\n",
       "      <th>year</th>\n",
       "    </tr>\n",
       "  </thead>\n",
       "  <tbody>\n",
       "    <tr>\n",
       "      <th>count</th>\n",
       "      <td>101051.000000</td>\n",
       "      <td>85306.000000</td>\n",
       "      <td>101051.000000</td>\n",
       "    </tr>\n",
       "    <tr>\n",
       "      <th>mean</th>\n",
       "      <td>53.655501</td>\n",
       "      <td>64.183018</td>\n",
       "      <td>2015.541143</td>\n",
       "    </tr>\n",
       "    <tr>\n",
       "      <th>std</th>\n",
       "      <td>27.627867</td>\n",
       "      <td>680.976703</td>\n",
       "      <td>3.464244</td>\n",
       "    </tr>\n",
       "    <tr>\n",
       "      <th>min</th>\n",
       "      <td>1.000000</td>\n",
       "      <td>0.000000</td>\n",
       "      <td>2010.000000</td>\n",
       "    </tr>\n",
       "    <tr>\n",
       "      <th>25%</th>\n",
       "      <td>30.000000</td>\n",
       "      <td>0.030000</td>\n",
       "      <td>2012.000000</td>\n",
       "    </tr>\n",
       "    <tr>\n",
       "      <th>50%</th>\n",
       "      <td>54.000000</td>\n",
       "      <td>0.380000</td>\n",
       "      <td>2016.000000</td>\n",
       "    </tr>\n",
       "    <tr>\n",
       "      <th>75%</th>\n",
       "      <td>78.000000</td>\n",
       "      <td>5.040000</td>\n",
       "      <td>2019.000000</td>\n",
       "    </tr>\n",
       "    <tr>\n",
       "      <th>max</th>\n",
       "      <td>99.000000</td>\n",
       "      <td>32781.570000</td>\n",
       "      <td>2021.000000</td>\n",
       "    </tr>\n",
       "  </tbody>\n",
       "</table>\n",
       "</div>"
      ],
      "text/plain": [
       "              HSCode         value           year\n",
       "count  101051.000000  85306.000000  101051.000000\n",
       "mean       53.655501     64.183018    2015.541143\n",
       "std        27.627867    680.976703       3.464244\n",
       "min         1.000000      0.000000    2010.000000\n",
       "25%        30.000000      0.030000    2012.000000\n",
       "50%        54.000000      0.380000    2016.000000\n",
       "75%        78.000000      5.040000    2019.000000\n",
       "max        99.000000  32781.570000    2021.000000"
      ]
     },
     "execution_count": 48,
     "metadata": {},
     "output_type": "execute_result"
    }
   ],
   "source": [
    "df_import.describe()"
   ]
  },
  {
   "cell_type": "code",
   "execution_count": 49,
   "metadata": {},
   "outputs": [
    {
     "data": {
      "text/plain": [
       "HSCode           0\n",
       "Commodity        0\n",
       "value        19258\n",
       "country          0\n",
       "year             0\n",
       "dtype: int64"
      ]
     },
     "execution_count": 49,
     "metadata": {},
     "output_type": "execute_result"
    }
   ],
   "source": [
    "df_export.isnull().sum()"
   ]
  },
  {
   "cell_type": "code",
   "execution_count": 50,
   "metadata": {},
   "outputs": [
    {
     "data": {
      "text/plain": [
       "['AFGHANISTAN',\n",
       " 'ALBANIA',\n",
       " 'ALGERIA',\n",
       " 'AMERI SAMOA',\n",
       " 'ANDORRA',\n",
       " 'ANGOLA',\n",
       " 'ANGUILLA',\n",
       " 'ANTARTICA',\n",
       " 'ANTIGUA',\n",
       " 'ARGENTINA',\n",
       " 'ARMENIA',\n",
       " 'ARUBA',\n",
       " 'AUSTRALIA',\n",
       " 'AUSTRIA',\n",
       " 'AZERBAIJAN',\n",
       " 'BAHAMAS',\n",
       " 'BAHARAIN IS',\n",
       " 'BANGLADESH PR',\n",
       " 'BARBADOS',\n",
       " 'BELARUS',\n",
       " 'BELGIUM',\n",
       " 'BELIZE',\n",
       " 'BENIN',\n",
       " 'BERMUDA',\n",
       " 'BHUTAN',\n",
       " 'BOLIVIA',\n",
       " 'BOSNIA-HRZGOVIN',\n",
       " 'BOTSWANA',\n",
       " 'BR VIRGN IS',\n",
       " 'BRAZIL',\n",
       " 'BRUNEI',\n",
       " 'BULGARIA',\n",
       " 'BURKINA FASO',\n",
       " 'BURUNDI',\n",
       " 'C AFRI REP',\n",
       " 'CAMBODIA',\n",
       " 'CAMEROON',\n",
       " 'CANADA',\n",
       " 'CANARY IS',\n",
       " 'CAPE VERDE IS',\n",
       " 'CAYMAN IS',\n",
       " 'CHAD',\n",
       " 'CHILE',\n",
       " 'CHINA P RP',\n",
       " 'CHRISTMAS IS.',\n",
       " 'COCOS IS',\n",
       " 'COLOMBIA',\n",
       " 'COMOROS',\n",
       " 'CONGO D. REP.',\n",
       " 'CONGO P REP',\n",
       " 'COOK IS',\n",
       " 'COSTA RICA',\n",
       " \"COTE D' IVOIRE\",\n",
       " 'CROATIA',\n",
       " 'CUBA',\n",
       " 'CYPRUS',\n",
       " 'CZECH REPUBLIC',\n",
       " 'DENMARK',\n",
       " 'DJIBOUTI',\n",
       " 'DOMINIC REP',\n",
       " 'DOMINICA',\n",
       " 'ECUADOR',\n",
       " 'EGYPT A RP',\n",
       " 'EL SALVADOR',\n",
       " 'EQUTL GUINEA',\n",
       " 'ERITREA',\n",
       " 'ESTONIA',\n",
       " 'ETHIOPIA',\n",
       " 'FALKLAND IS',\n",
       " 'FAROE IS.',\n",
       " 'FIJI IS',\n",
       " 'FINLAND',\n",
       " 'FR GUIANA',\n",
       " 'FR POLYNESIA',\n",
       " 'FR S ANT TR',\n",
       " 'FRANCE',\n",
       " 'GABON',\n",
       " 'GAMBIA',\n",
       " 'GEORGIA',\n",
       " 'GERMANY',\n",
       " 'GHANA',\n",
       " 'GIBRALTAR',\n",
       " 'GREECE',\n",
       " 'GREENLAND',\n",
       " 'GRENADA',\n",
       " 'GUADELOUPE',\n",
       " 'GUAM',\n",
       " 'GUATEMALA',\n",
       " 'GUINEA',\n",
       " 'GUINEA BISSAU',\n",
       " 'GUYANA',\n",
       " 'HAITI',\n",
       " 'HEARD MACDONALD',\n",
       " 'HONDURAS',\n",
       " 'HONG KONG',\n",
       " 'HUNGARY',\n",
       " 'ICELAND',\n",
       " 'INDONESIA',\n",
       " 'IRAN',\n",
       " 'IRAQ',\n",
       " 'IRELAND',\n",
       " 'ISRAEL',\n",
       " 'ITALY',\n",
       " 'JAMAICA',\n",
       " 'JAPAN',\n",
       " 'JORDAN',\n",
       " 'KAZAKHSTAN',\n",
       " 'KENYA',\n",
       " 'KIRIBATI REP',\n",
       " 'KOREA DP RP',\n",
       " 'KOREA RP',\n",
       " 'KUWAIT',\n",
       " 'KYRGHYZSTAN',\n",
       " 'LAO PD RP',\n",
       " 'LATVIA',\n",
       " 'LEBANON',\n",
       " 'LESOTHO',\n",
       " 'LIBERIA',\n",
       " 'LIBYA',\n",
       " 'LIECHTENSTEIN',\n",
       " 'LITHUANIA',\n",
       " 'LUXEMBOURG',\n",
       " 'MACAO',\n",
       " 'MACEDONIA',\n",
       " 'MADAGASCAR',\n",
       " 'MALAWI',\n",
       " 'MALAYSIA',\n",
       " 'MALDIVES',\n",
       " 'MALI',\n",
       " 'MALTA',\n",
       " 'MARSHALL ISLAND',\n",
       " 'MARTINIQUE',\n",
       " 'MAURITANIA',\n",
       " 'MAURITIUS',\n",
       " 'MEXICO',\n",
       " 'MICRONESIA',\n",
       " 'MOLDOVA',\n",
       " 'MONACO',\n",
       " 'MONGOLIA',\n",
       " 'MONTSERRAT',\n",
       " 'MOROCCO',\n",
       " 'MOZAMBIQUE',\n",
       " 'MYANMAR',\n",
       " 'N. MARIANA IS.',\n",
       " 'NAMIBIA',\n",
       " 'NAURU RP',\n",
       " 'NEPAL',\n",
       " 'NETHERLAND',\n",
       " 'NETHERLANDANTIL',\n",
       " 'NEW CALEDONIA',\n",
       " 'NEW ZEALAND',\n",
       " 'NICARAGUA',\n",
       " 'NIGER',\n",
       " 'NIGERIA',\n",
       " 'NIUE IS',\n",
       " 'NORFOLK IS',\n",
       " 'NORWAY',\n",
       " 'OMAN',\n",
       " 'PACIFIC IS',\n",
       " 'PAKISTAN IR',\n",
       " 'PALAU',\n",
       " 'PANAMA C Z',\n",
       " 'PANAMA REPUBLIC',\n",
       " 'PAPUA N GNA',\n",
       " 'PARAGUAY',\n",
       " 'PERU',\n",
       " 'PHILIPPINES',\n",
       " 'PITCAIRN IS.',\n",
       " 'POLAND',\n",
       " 'PORTUGAL',\n",
       " 'PUERTO RICO',\n",
       " 'QATAR',\n",
       " 'REUNION',\n",
       " 'ROMANIA',\n",
       " 'RUSSIA',\n",
       " 'RWANDA',\n",
       " 'SAHARWI A.DM RP',\n",
       " 'SAMOA',\n",
       " 'SAO TOME',\n",
       " 'SAUDI ARAB',\n",
       " 'SENEGAL',\n",
       " 'SEYCHELLES',\n",
       " 'SIERRA LEONE',\n",
       " 'SINGAPORE',\n",
       " 'SLOVAK REP',\n",
       " 'SLOVENIA',\n",
       " 'SOLOMON IS',\n",
       " 'SOMALIA',\n",
       " 'SOUTH AFRICA',\n",
       " 'SPAIN',\n",
       " 'SRI LANKA DSR',\n",
       " 'ST HELENA',\n",
       " 'ST KITT N A',\n",
       " 'ST LUCIA',\n",
       " 'ST PIERRE',\n",
       " 'ST VINCENT',\n",
       " 'SUDAN',\n",
       " 'SURINAME',\n",
       " 'SWAZILAND',\n",
       " 'SWEDEN',\n",
       " 'SWITZERLAND',\n",
       " 'SYRIA',\n",
       " 'TAIWAN',\n",
       " 'TAJIKISTAN',\n",
       " 'TANZANIA REP',\n",
       " 'THAILAND',\n",
       " 'TIMOR LESTE',\n",
       " 'TOGO',\n",
       " 'TOKELAU IS',\n",
       " 'TONGA',\n",
       " 'TRINIDAD',\n",
       " 'TUNISIA',\n",
       " 'TURKEY',\n",
       " 'TURKMENISTAN',\n",
       " 'TURKS C IS',\n",
       " 'TUVALU',\n",
       " 'U ARAB EMTS',\n",
       " 'U K',\n",
       " 'U S A',\n",
       " 'UGANDA',\n",
       " 'UKRAINE',\n",
       " 'UNION OF SERBIA & MONTENEGRO',\n",
       " 'UNSPECIFIED',\n",
       " 'URUGUAY',\n",
       " 'UZBEKISTAN',\n",
       " 'VANUATU REP',\n",
       " 'VENEZUELA',\n",
       " 'VIETNAM SOC REP',\n",
       " 'VIRGIN IS US',\n",
       " 'WALLIS F IS',\n",
       " 'YEMEN REPUBLC',\n",
       " 'ZAMBIA',\n",
       " 'ZIMBABWE',\n",
       " 'CHANNEL IS',\n",
       " 'NEUTRAL ZONE',\n",
       " 'MONTENEGRO',\n",
       " 'SAN MARINO',\n",
       " 'SERBIA',\n",
       " 'US MINOR OUTLYING ISLANDS               ',\n",
       " 'VATICAN CITY',\n",
       " 'CURACAO',\n",
       " 'INSTALLATIONS IN INTERNATIONAL WATERS   ',\n",
       " 'MAYOTTE',\n",
       " 'SINT MAARTEN (DUTCH PART)',\n",
       " 'SOUTH SUDAN ',\n",
       " 'GUERNSEY',\n",
       " 'JERSEY         ',\n",
       " 'STATE OF PALEST',\n",
       " 'SVALLBARD AND J']"
      ]
     },
     "execution_count": 50,
     "metadata": {},
     "output_type": "execute_result"
    }
   ],
   "source": [
    "country_list=list(df_export.country.unique())\n",
    "country_list"
   ]
  },
  {
   "cell_type": "code",
   "execution_count": 51,
   "metadata": {},
   "outputs": [
    {
     "name": "stdout",
     "output_type": "stream",
     "text": [
      "Duplicate exports : 0\n"
     ]
    }
   ],
   "source": [
    "print(\"Duplicate exports : \"+str(df_export.duplicated().sum()))"
   ]
  },
  {
   "cell_type": "code",
   "execution_count": 52,
   "metadata": {},
   "outputs": [
    {
     "data": {
      "text/plain": [
       "HSCode           0\n",
       "Commodity        0\n",
       "value        15745\n",
       "country          0\n",
       "year             0\n",
       "dtype: int64"
      ]
     },
     "execution_count": 52,
     "metadata": {},
     "output_type": "execute_result"
    }
   ],
   "source": [
    "df_import.isnull().sum()"
   ]
  },
  {
   "cell_type": "code",
   "execution_count": 53,
   "metadata": {},
   "outputs": [
    {
     "data": {
      "text/plain": [
       "['AFGHANISTAN',\n",
       " 'ALBANIA',\n",
       " 'ALGERIA',\n",
       " 'AMERI SAMOA',\n",
       " 'ANDORRA',\n",
       " 'ANGOLA',\n",
       " 'ANGUILLA',\n",
       " 'ANTARTICA',\n",
       " 'ANTIGUA',\n",
       " 'ARGENTINA',\n",
       " 'ARMENIA',\n",
       " 'ARUBA',\n",
       " 'AUSTRALIA',\n",
       " 'AUSTRIA',\n",
       " 'AZERBAIJAN',\n",
       " 'BAHAMAS',\n",
       " 'BAHARAIN IS',\n",
       " 'BANGLADESH PR',\n",
       " 'BARBADOS',\n",
       " 'BELARUS',\n",
       " 'BELGIUM',\n",
       " 'BELIZE',\n",
       " 'BENIN',\n",
       " 'BERMUDA',\n",
       " 'BHUTAN',\n",
       " 'BOLIVIA',\n",
       " 'BOSNIA-HRZGOVIN',\n",
       " 'BOTSWANA',\n",
       " 'BR VIRGN IS',\n",
       " 'BRAZIL',\n",
       " 'BRUNEI',\n",
       " 'BULGARIA',\n",
       " 'BURKINA FASO',\n",
       " 'BURUNDI',\n",
       " 'C AFRI REP',\n",
       " 'CAMBODIA',\n",
       " 'CAMEROON',\n",
       " 'CANADA',\n",
       " 'CAPE VERDE IS',\n",
       " 'CAYMAN IS',\n",
       " 'CHAD',\n",
       " 'CHANNEL IS',\n",
       " 'CHILE',\n",
       " 'CHINA P RP',\n",
       " 'CHRISTMAS IS.',\n",
       " 'COCOS IS',\n",
       " 'COLOMBIA',\n",
       " 'COMOROS',\n",
       " 'CONGO D. REP.',\n",
       " 'CONGO P REP',\n",
       " 'COOK IS',\n",
       " 'COSTA RICA',\n",
       " \"COTE D' IVOIRE\",\n",
       " 'CROATIA',\n",
       " 'CUBA',\n",
       " 'CYPRUS',\n",
       " 'CZECH REPUBLIC',\n",
       " 'DENMARK',\n",
       " 'DJIBOUTI',\n",
       " 'DOMINIC REP',\n",
       " 'DOMINICA',\n",
       " 'ECUADOR',\n",
       " 'EGYPT A RP',\n",
       " 'EL SALVADOR',\n",
       " 'EQUTL GUINEA',\n",
       " 'ERITREA',\n",
       " 'ESTONIA',\n",
       " 'ETHIOPIA',\n",
       " 'FALKLAND IS',\n",
       " 'FAROE IS.',\n",
       " 'FIJI IS',\n",
       " 'FINLAND',\n",
       " 'FR GUIANA',\n",
       " 'FR POLYNESIA',\n",
       " 'FR S ANT TR',\n",
       " 'FRANCE',\n",
       " 'GABON',\n",
       " 'GAMBIA',\n",
       " 'GEORGIA',\n",
       " 'GERMANY',\n",
       " 'GHANA',\n",
       " 'GIBRALTAR',\n",
       " 'GREECE',\n",
       " 'GREENLAND',\n",
       " 'GRENADA',\n",
       " 'GUADELOUPE',\n",
       " 'GUAM',\n",
       " 'GUATEMALA',\n",
       " 'GUINEA',\n",
       " 'GUINEA BISSAU',\n",
       " 'GUYANA',\n",
       " 'HAITI',\n",
       " 'HEARD MACDONALD',\n",
       " 'HONDURAS',\n",
       " 'HONG KONG',\n",
       " 'HUNGARY',\n",
       " 'ICELAND',\n",
       " 'INDONESIA',\n",
       " 'IRAN',\n",
       " 'IRAQ',\n",
       " 'IRELAND',\n",
       " 'ISRAEL',\n",
       " 'ITALY',\n",
       " 'JAMAICA',\n",
       " 'JAPAN',\n",
       " 'JORDAN',\n",
       " 'KAZAKHSTAN',\n",
       " 'KENYA',\n",
       " 'KIRIBATI REP',\n",
       " 'KOREA DP RP',\n",
       " 'KOREA RP',\n",
       " 'KUWAIT',\n",
       " 'KYRGHYZSTAN',\n",
       " 'LAO PD RP',\n",
       " 'LATVIA',\n",
       " 'LEBANON',\n",
       " 'LESOTHO',\n",
       " 'LIBERIA',\n",
       " 'LIBYA',\n",
       " 'LIECHTENSTEIN',\n",
       " 'LITHUANIA',\n",
       " 'LUXEMBOURG',\n",
       " 'MACAO',\n",
       " 'MACEDONIA',\n",
       " 'MADAGASCAR',\n",
       " 'MALAWI',\n",
       " 'MALAYSIA',\n",
       " 'MALDIVES',\n",
       " 'MALI',\n",
       " 'MALTA',\n",
       " 'MARSHALL ISLAND',\n",
       " 'MARTINIQUE',\n",
       " 'MAURITANIA',\n",
       " 'MAURITIUS',\n",
       " 'MEXICO',\n",
       " 'MOLDOVA',\n",
       " 'MONACO',\n",
       " 'MONGOLIA',\n",
       " 'MONTSERRAT',\n",
       " 'MOROCCO',\n",
       " 'MOZAMBIQUE',\n",
       " 'MYANMAR',\n",
       " 'N. MARIANA IS.',\n",
       " 'NAMIBIA',\n",
       " 'NAURU RP',\n",
       " 'NEPAL',\n",
       " 'NETHERLAND',\n",
       " 'NETHERLANDANTIL',\n",
       " 'NEW CALEDONIA',\n",
       " 'NEW ZEALAND',\n",
       " 'NICARAGUA',\n",
       " 'NIGER',\n",
       " 'NIGERIA',\n",
       " 'NIUE IS',\n",
       " 'NORFOLK IS',\n",
       " 'NORWAY',\n",
       " 'OMAN',\n",
       " 'PAKISTAN IR',\n",
       " 'PALAU',\n",
       " 'PANAMA C Z',\n",
       " 'PANAMA REPUBLIC',\n",
       " 'PAPUA N GNA',\n",
       " 'PARAGUAY',\n",
       " 'PERU',\n",
       " 'PHILIPPINES',\n",
       " 'POLAND',\n",
       " 'PORTUGAL',\n",
       " 'PUERTO RICO',\n",
       " 'QATAR',\n",
       " 'REUNION',\n",
       " 'ROMANIA',\n",
       " 'RUSSIA',\n",
       " 'RWANDA',\n",
       " 'SAMOA',\n",
       " 'SAO TOME',\n",
       " 'SAUDI ARAB',\n",
       " 'SENEGAL',\n",
       " 'SEYCHELLES',\n",
       " 'SIERRA LEONE',\n",
       " 'SINGAPORE',\n",
       " 'SLOVAK REP',\n",
       " 'SLOVENIA',\n",
       " 'SOLOMON IS',\n",
       " 'SOMALIA',\n",
       " 'SOUTH AFRICA',\n",
       " 'SPAIN',\n",
       " 'SRI LANKA DSR',\n",
       " 'ST HELENA',\n",
       " 'ST KITT N A',\n",
       " 'ST LUCIA',\n",
       " 'ST PIERRE',\n",
       " 'ST VINCENT',\n",
       " 'SUDAN',\n",
       " 'SURINAME',\n",
       " 'SWAZILAND',\n",
       " 'SWEDEN',\n",
       " 'SWITZERLAND',\n",
       " 'SYRIA',\n",
       " 'TAIWAN',\n",
       " 'TAJIKISTAN',\n",
       " 'TANZANIA REP',\n",
       " 'THAILAND',\n",
       " 'TIMOR LESTE',\n",
       " 'TOGO',\n",
       " 'TOKELAU IS',\n",
       " 'TONGA',\n",
       " 'TRINIDAD',\n",
       " 'TUNISIA',\n",
       " 'TURKEY',\n",
       " 'TURKMENISTAN',\n",
       " 'TURKS C IS',\n",
       " 'TUVALU',\n",
       " 'U ARAB EMTS',\n",
       " 'U K',\n",
       " 'U S A',\n",
       " 'UGANDA',\n",
       " 'UKRAINE',\n",
       " 'UNION OF SERBIA & MONTENEGRO',\n",
       " 'UNSPECIFIED',\n",
       " 'URUGUAY',\n",
       " 'UZBEKISTAN',\n",
       " 'VANUATU REP',\n",
       " 'VENEZUELA',\n",
       " 'VIETNAM SOC REP',\n",
       " 'VIRGIN IS US',\n",
       " 'WALLIS F IS',\n",
       " 'YEMEN REPUBLC',\n",
       " 'ZAMBIA',\n",
       " 'ZIMBABWE',\n",
       " 'PACIFIC IS',\n",
       " 'MICRONESIA',\n",
       " 'MONTENEGRO',\n",
       " 'SAN MARINO',\n",
       " 'SERBIA',\n",
       " 'US MINOR OUTLYING ISLANDS               ',\n",
       " 'VATICAN CITY',\n",
       " 'PITCAIRN IS.',\n",
       " 'SOUTH SUDAN ',\n",
       " 'GUERNSEY',\n",
       " 'MAYOTTE',\n",
       " 'JERSEY         ',\n",
       " 'STATE OF PALEST',\n",
       " 'INSTALLATIONS IN INTERNATIONAL WATERS   ']"
      ]
     },
     "execution_count": 53,
     "metadata": {},
     "output_type": "execute_result"
    }
   ],
   "source": [
    "country_list1=list(df_import.country.unique())\n",
    "country_list1"
   ]
  },
  {
   "cell_type": "code",
   "execution_count": 54,
   "metadata": {},
   "outputs": [
    {
     "name": "stdout",
     "output_type": "stream",
     "text": [
      "Duplicate imports : 0\n"
     ]
    }
   ],
   "source": [
    "print(\"Duplicate imports : \"+str(df_import.duplicated().sum()))"
   ]
  },
  {
   "attachments": {},
   "cell_type": "markdown",
   "metadata": {},
   "source": [
    "Cleaning the Dataset"
   ]
  },
  {
   "cell_type": "code",
   "execution_count": 55,
   "metadata": {},
   "outputs": [],
   "source": [
    "def cleanup(df_data):\n",
    "    df_data['country']= df_data['country'].apply(lambda x : np.NaN if x == \"UNSPECIFIED\" else x)\n",
    "    df_data.dropna(inplace=True)\n",
    "    df_data = df_data[df_data.value!=0] \n",
    "    df_data.drop_duplicates(keep=\"first\",inplace=True)\n",
    "    df_data = df_data.reset_index(drop=True)\n",
    "    return df_data"
   ]
  },
  {
   "cell_type": "code",
   "execution_count": 56,
   "metadata": {},
   "outputs": [],
   "source": [
    "df_export = cleanup(df_export)\n",
    "df_import = cleanup(df_import)"
   ]
  },
  {
   "cell_type": "code",
   "execution_count": 57,
   "metadata": {},
   "outputs": [
    {
     "data": {
      "text/plain": [
       "HSCode       0\n",
       "Commodity    0\n",
       "value        0\n",
       "country      0\n",
       "year         0\n",
       "dtype: int64"
      ]
     },
     "execution_count": 57,
     "metadata": {},
     "output_type": "execute_result"
    }
   ],
   "source": [
    "df_import.isnull().sum()"
   ]
  },
  {
   "cell_type": "code",
   "execution_count": 58,
   "metadata": {},
   "outputs": [
    {
     "data": {
      "text/plain": [
       "HSCode       0\n",
       "Commodity    0\n",
       "value        0\n",
       "country      0\n",
       "year         0\n",
       "dtype: int64"
      ]
     },
     "execution_count": 58,
     "metadata": {},
     "output_type": "execute_result"
    }
   ],
   "source": [
    "df_import.isnull().sum()"
   ]
  },
  {
   "attachments": {},
   "cell_type": "markdown",
   "metadata": {},
   "source": [
    "Number of Commodities Exported or Imported"
   ]
  },
  {
   "cell_type": "code",
   "execution_count": 59,
   "metadata": {},
   "outputs": [
    {
     "name": "stdout",
     "output_type": "stream",
     "text": [
      "Count of Commodities Exported: 98\n",
      "Count of Commodities Imported: 98\n"
     ]
    }
   ],
   "source": [
    "print(\"Count of Commodities Exported: \"+ str(len(df_export['Commodity'].unique())))\n",
    "print(\"Count of Commodities Imported: \"+ str(len(df_import['Commodity'].unique())))"
   ]
  },
  {
   "attachments": {},
   "cell_type": "markdown",
   "metadata": {},
   "source": [
    "While exploring data, we found there are 99 groups. But here we see that commodities exported or imported have a count of 98 only. One group with HSCode 77 is missing because it is reserved for future use."
   ]
  },
  {
   "attachments": {},
   "cell_type": "markdown",
   "metadata": {},
   "source": [
    "# Expensive Commodities Exported\n",
    "\n",
    "While exploring the dataset, we found that some expensive commodities (coming as outliers) are exported. Lets find them and the total exports amount involved."
   ]
  },
  {
   "cell_type": "code",
   "execution_count": 60,
   "metadata": {},
   "outputs": [],
   "source": [
    "df_import_temp = df_import.copy(deep=True)\n",
    "df_export_temp = df_export.copy(deep=True)\n",
    "df_import_temp['commodity_sum'] = df_import_temp['value'].groupby(df_import_temp['Commodity']).transform('sum')\n",
    "df_export_temp['commodity_sum'] = df_export_temp['value'].groupby(df_export_temp['Commodity']).transform('sum')\n",
    "df_import_temp.drop(['value','country','year','HSCode'],axis=1,inplace=True)\n",
    "df_export_temp.drop(['value','country','year','HSCode'],axis=1,inplace=True)\n",
    "\n",
    "df_import_temp.sort_values(by='commodity_sum',inplace=True,ascending=False)\n",
    "df_export_temp.sort_values(by='commodity_sum',inplace=True,ascending=False)\n",
    "\n",
    "df_import_temp.drop_duplicates(inplace=True)\n",
    "df_export_temp.drop_duplicates(inplace=True)"
   ]
  },
  {
   "cell_type": "code",
   "execution_count": 61,
   "metadata": {},
   "outputs": [
    {
     "data": {
      "application/vnd.plotly.v1+json": {
       "config": {
        "plotlyServerURL": "https://plot.ly"
       },
       "data": [
        {
         "alignmentgroup": "True",
         "hovertemplate": "Commoditiy Value in Million US $=%{marker.color}<br>Commodity=%{y}<extra></extra>",
         "legendgroup": "",
         "marker": {
          "color": [
           547514.12,
           477223.77999999997,
           188914.19,
           174573.86,
           170194.93,
           156570.13999999998,
           139167.64
          ],
          "coloraxis": "coloraxis",
          "pattern": {
           "shape": ""
          }
         },
         "name": "",
         "offsetgroup": "",
         "orientation": "h",
         "showlegend": false,
         "textposition": "auto",
         "type": "bar",
         "x": [
          547514.12,
          477223.77999999997,
          188914.19,
          174573.86,
          170194.93,
          156570.13999999998,
          139167.64
         ],
         "xaxis": "x",
         "y": [
          "MINERAL",
          "NATURAL",
          "NUCLEAR",
          "VEHICLES",
          "ORGANIC",
          "PHARMACEUTICAL",
          "ELECTRICAL"
         ],
         "yaxis": "y"
        }
       ],
       "layout": {
        "barmode": "relative",
        "coloraxis": {
         "colorbar": {
          "title": {
           "text": "Commoditiy Value in Million US $"
          }
         },
         "colorscale": [
          [
           0,
           "#0d0887"
          ],
          [
           0.1111111111111111,
           "#46039f"
          ],
          [
           0.2222222222222222,
           "#7201a8"
          ],
          [
           0.3333333333333333,
           "#9c179e"
          ],
          [
           0.4444444444444444,
           "#bd3786"
          ],
          [
           0.5555555555555556,
           "#d8576b"
          ],
          [
           0.6666666666666666,
           "#ed7953"
          ],
          [
           0.7777777777777778,
           "#fb9f3a"
          ],
          [
           0.8888888888888888,
           "#fdca26"
          ],
          [
           1,
           "#f0f921"
          ]
         ]
        },
        "legend": {
         "tracegroupgap": 0
        },
        "template": {
         "data": {
          "bar": [
           {
            "error_x": {
             "color": "#2a3f5f"
            },
            "error_y": {
             "color": "#2a3f5f"
            },
            "marker": {
             "line": {
              "color": "#E5ECF6",
              "width": 0.5
             },
             "pattern": {
              "fillmode": "overlay",
              "size": 10,
              "solidity": 0.2
             }
            },
            "type": "bar"
           }
          ],
          "barpolar": [
           {
            "marker": {
             "line": {
              "color": "#E5ECF6",
              "width": 0.5
             },
             "pattern": {
              "fillmode": "overlay",
              "size": 10,
              "solidity": 0.2
             }
            },
            "type": "barpolar"
           }
          ],
          "carpet": [
           {
            "aaxis": {
             "endlinecolor": "#2a3f5f",
             "gridcolor": "white",
             "linecolor": "white",
             "minorgridcolor": "white",
             "startlinecolor": "#2a3f5f"
            },
            "baxis": {
             "endlinecolor": "#2a3f5f",
             "gridcolor": "white",
             "linecolor": "white",
             "minorgridcolor": "white",
             "startlinecolor": "#2a3f5f"
            },
            "type": "carpet"
           }
          ],
          "choropleth": [
           {
            "colorbar": {
             "outlinewidth": 0,
             "ticks": ""
            },
            "type": "choropleth"
           }
          ],
          "contour": [
           {
            "colorbar": {
             "outlinewidth": 0,
             "ticks": ""
            },
            "colorscale": [
             [
              0,
              "#0d0887"
             ],
             [
              0.1111111111111111,
              "#46039f"
             ],
             [
              0.2222222222222222,
              "#7201a8"
             ],
             [
              0.3333333333333333,
              "#9c179e"
             ],
             [
              0.4444444444444444,
              "#bd3786"
             ],
             [
              0.5555555555555556,
              "#d8576b"
             ],
             [
              0.6666666666666666,
              "#ed7953"
             ],
             [
              0.7777777777777778,
              "#fb9f3a"
             ],
             [
              0.8888888888888888,
              "#fdca26"
             ],
             [
              1,
              "#f0f921"
             ]
            ],
            "type": "contour"
           }
          ],
          "contourcarpet": [
           {
            "colorbar": {
             "outlinewidth": 0,
             "ticks": ""
            },
            "type": "contourcarpet"
           }
          ],
          "heatmap": [
           {
            "colorbar": {
             "outlinewidth": 0,
             "ticks": ""
            },
            "colorscale": [
             [
              0,
              "#0d0887"
             ],
             [
              0.1111111111111111,
              "#46039f"
             ],
             [
              0.2222222222222222,
              "#7201a8"
             ],
             [
              0.3333333333333333,
              "#9c179e"
             ],
             [
              0.4444444444444444,
              "#bd3786"
             ],
             [
              0.5555555555555556,
              "#d8576b"
             ],
             [
              0.6666666666666666,
              "#ed7953"
             ],
             [
              0.7777777777777778,
              "#fb9f3a"
             ],
             [
              0.8888888888888888,
              "#fdca26"
             ],
             [
              1,
              "#f0f921"
             ]
            ],
            "type": "heatmap"
           }
          ],
          "heatmapgl": [
           {
            "colorbar": {
             "outlinewidth": 0,
             "ticks": ""
            },
            "colorscale": [
             [
              0,
              "#0d0887"
             ],
             [
              0.1111111111111111,
              "#46039f"
             ],
             [
              0.2222222222222222,
              "#7201a8"
             ],
             [
              0.3333333333333333,
              "#9c179e"
             ],
             [
              0.4444444444444444,
              "#bd3786"
             ],
             [
              0.5555555555555556,
              "#d8576b"
             ],
             [
              0.6666666666666666,
              "#ed7953"
             ],
             [
              0.7777777777777778,
              "#fb9f3a"
             ],
             [
              0.8888888888888888,
              "#fdca26"
             ],
             [
              1,
              "#f0f921"
             ]
            ],
            "type": "heatmapgl"
           }
          ],
          "histogram": [
           {
            "marker": {
             "pattern": {
              "fillmode": "overlay",
              "size": 10,
              "solidity": 0.2
             }
            },
            "type": "histogram"
           }
          ],
          "histogram2d": [
           {
            "colorbar": {
             "outlinewidth": 0,
             "ticks": ""
            },
            "colorscale": [
             [
              0,
              "#0d0887"
             ],
             [
              0.1111111111111111,
              "#46039f"
             ],
             [
              0.2222222222222222,
              "#7201a8"
             ],
             [
              0.3333333333333333,
              "#9c179e"
             ],
             [
              0.4444444444444444,
              "#bd3786"
             ],
             [
              0.5555555555555556,
              "#d8576b"
             ],
             [
              0.6666666666666666,
              "#ed7953"
             ],
             [
              0.7777777777777778,
              "#fb9f3a"
             ],
             [
              0.8888888888888888,
              "#fdca26"
             ],
             [
              1,
              "#f0f921"
             ]
            ],
            "type": "histogram2d"
           }
          ],
          "histogram2dcontour": [
           {
            "colorbar": {
             "outlinewidth": 0,
             "ticks": ""
            },
            "colorscale": [
             [
              0,
              "#0d0887"
             ],
             [
              0.1111111111111111,
              "#46039f"
             ],
             [
              0.2222222222222222,
              "#7201a8"
             ],
             [
              0.3333333333333333,
              "#9c179e"
             ],
             [
              0.4444444444444444,
              "#bd3786"
             ],
             [
              0.5555555555555556,
              "#d8576b"
             ],
             [
              0.6666666666666666,
              "#ed7953"
             ],
             [
              0.7777777777777778,
              "#fb9f3a"
             ],
             [
              0.8888888888888888,
              "#fdca26"
             ],
             [
              1,
              "#f0f921"
             ]
            ],
            "type": "histogram2dcontour"
           }
          ],
          "mesh3d": [
           {
            "colorbar": {
             "outlinewidth": 0,
             "ticks": ""
            },
            "type": "mesh3d"
           }
          ],
          "parcoords": [
           {
            "line": {
             "colorbar": {
              "outlinewidth": 0,
              "ticks": ""
             }
            },
            "type": "parcoords"
           }
          ],
          "pie": [
           {
            "automargin": true,
            "type": "pie"
           }
          ],
          "scatter": [
           {
            "fillpattern": {
             "fillmode": "overlay",
             "size": 10,
             "solidity": 0.2
            },
            "type": "scatter"
           }
          ],
          "scatter3d": [
           {
            "line": {
             "colorbar": {
              "outlinewidth": 0,
              "ticks": ""
             }
            },
            "marker": {
             "colorbar": {
              "outlinewidth": 0,
              "ticks": ""
             }
            },
            "type": "scatter3d"
           }
          ],
          "scattercarpet": [
           {
            "marker": {
             "colorbar": {
              "outlinewidth": 0,
              "ticks": ""
             }
            },
            "type": "scattercarpet"
           }
          ],
          "scattergeo": [
           {
            "marker": {
             "colorbar": {
              "outlinewidth": 0,
              "ticks": ""
             }
            },
            "type": "scattergeo"
           }
          ],
          "scattergl": [
           {
            "marker": {
             "colorbar": {
              "outlinewidth": 0,
              "ticks": ""
             }
            },
            "type": "scattergl"
           }
          ],
          "scattermapbox": [
           {
            "marker": {
             "colorbar": {
              "outlinewidth": 0,
              "ticks": ""
             }
            },
            "type": "scattermapbox"
           }
          ],
          "scatterpolar": [
           {
            "marker": {
             "colorbar": {
              "outlinewidth": 0,
              "ticks": ""
             }
            },
            "type": "scatterpolar"
           }
          ],
          "scatterpolargl": [
           {
            "marker": {
             "colorbar": {
              "outlinewidth": 0,
              "ticks": ""
             }
            },
            "type": "scatterpolargl"
           }
          ],
          "scatterternary": [
           {
            "marker": {
             "colorbar": {
              "outlinewidth": 0,
              "ticks": ""
             }
            },
            "type": "scatterternary"
           }
          ],
          "surface": [
           {
            "colorbar": {
             "outlinewidth": 0,
             "ticks": ""
            },
            "colorscale": [
             [
              0,
              "#0d0887"
             ],
             [
              0.1111111111111111,
              "#46039f"
             ],
             [
              0.2222222222222222,
              "#7201a8"
             ],
             [
              0.3333333333333333,
              "#9c179e"
             ],
             [
              0.4444444444444444,
              "#bd3786"
             ],
             [
              0.5555555555555556,
              "#d8576b"
             ],
             [
              0.6666666666666666,
              "#ed7953"
             ],
             [
              0.7777777777777778,
              "#fb9f3a"
             ],
             [
              0.8888888888888888,
              "#fdca26"
             ],
             [
              1,
              "#f0f921"
             ]
            ],
            "type": "surface"
           }
          ],
          "table": [
           {
            "cells": {
             "fill": {
              "color": "#EBF0F8"
             },
             "line": {
              "color": "white"
             }
            },
            "header": {
             "fill": {
              "color": "#C8D4E3"
             },
             "line": {
              "color": "white"
             }
            },
            "type": "table"
           }
          ]
         },
         "layout": {
          "annotationdefaults": {
           "arrowcolor": "#2a3f5f",
           "arrowhead": 0,
           "arrowwidth": 1
          },
          "autotypenumbers": "strict",
          "coloraxis": {
           "colorbar": {
            "outlinewidth": 0,
            "ticks": ""
           }
          },
          "colorscale": {
           "diverging": [
            [
             0,
             "#8e0152"
            ],
            [
             0.1,
             "#c51b7d"
            ],
            [
             0.2,
             "#de77ae"
            ],
            [
             0.3,
             "#f1b6da"
            ],
            [
             0.4,
             "#fde0ef"
            ],
            [
             0.5,
             "#f7f7f7"
            ],
            [
             0.6,
             "#e6f5d0"
            ],
            [
             0.7,
             "#b8e186"
            ],
            [
             0.8,
             "#7fbc41"
            ],
            [
             0.9,
             "#4d9221"
            ],
            [
             1,
             "#276419"
            ]
           ],
           "sequential": [
            [
             0,
             "#0d0887"
            ],
            [
             0.1111111111111111,
             "#46039f"
            ],
            [
             0.2222222222222222,
             "#7201a8"
            ],
            [
             0.3333333333333333,
             "#9c179e"
            ],
            [
             0.4444444444444444,
             "#bd3786"
            ],
            [
             0.5555555555555556,
             "#d8576b"
            ],
            [
             0.6666666666666666,
             "#ed7953"
            ],
            [
             0.7777777777777778,
             "#fb9f3a"
            ],
            [
             0.8888888888888888,
             "#fdca26"
            ],
            [
             1,
             "#f0f921"
            ]
           ],
           "sequentialminus": [
            [
             0,
             "#0d0887"
            ],
            [
             0.1111111111111111,
             "#46039f"
            ],
            [
             0.2222222222222222,
             "#7201a8"
            ],
            [
             0.3333333333333333,
             "#9c179e"
            ],
            [
             0.4444444444444444,
             "#bd3786"
            ],
            [
             0.5555555555555556,
             "#d8576b"
            ],
            [
             0.6666666666666666,
             "#ed7953"
            ],
            [
             0.7777777777777778,
             "#fb9f3a"
            ],
            [
             0.8888888888888888,
             "#fdca26"
            ],
            [
             1,
             "#f0f921"
            ]
           ]
          },
          "colorway": [
           "#636efa",
           "#EF553B",
           "#00cc96",
           "#ab63fa",
           "#FFA15A",
           "#19d3f3",
           "#FF6692",
           "#B6E880",
           "#FF97FF",
           "#FECB52"
          ],
          "font": {
           "color": "#2a3f5f"
          },
          "geo": {
           "bgcolor": "white",
           "lakecolor": "white",
           "landcolor": "#E5ECF6",
           "showlakes": true,
           "showland": true,
           "subunitcolor": "white"
          },
          "hoverlabel": {
           "align": "left"
          },
          "hovermode": "closest",
          "mapbox": {
           "style": "light"
          },
          "paper_bgcolor": "white",
          "plot_bgcolor": "#E5ECF6",
          "polar": {
           "angularaxis": {
            "gridcolor": "white",
            "linecolor": "white",
            "ticks": ""
           },
           "bgcolor": "#E5ECF6",
           "radialaxis": {
            "gridcolor": "white",
            "linecolor": "white",
            "ticks": ""
           }
          },
          "scene": {
           "xaxis": {
            "backgroundcolor": "#E5ECF6",
            "gridcolor": "white",
            "gridwidth": 2,
            "linecolor": "white",
            "showbackground": true,
            "ticks": "",
            "zerolinecolor": "white"
           },
           "yaxis": {
            "backgroundcolor": "#E5ECF6",
            "gridcolor": "white",
            "gridwidth": 2,
            "linecolor": "white",
            "showbackground": true,
            "ticks": "",
            "zerolinecolor": "white"
           },
           "zaxis": {
            "backgroundcolor": "#E5ECF6",
            "gridcolor": "white",
            "gridwidth": 2,
            "linecolor": "white",
            "showbackground": true,
            "ticks": "",
            "zerolinecolor": "white"
           }
          },
          "shapedefaults": {
           "line": {
            "color": "#2a3f5f"
           }
          },
          "ternary": {
           "aaxis": {
            "gridcolor": "white",
            "linecolor": "white",
            "ticks": ""
           },
           "baxis": {
            "gridcolor": "white",
            "linecolor": "white",
            "ticks": ""
           },
           "bgcolor": "#E5ECF6",
           "caxis": {
            "gridcolor": "white",
            "linecolor": "white",
            "ticks": ""
           }
          },
          "title": {
           "x": 0.05
          },
          "xaxis": {
           "automargin": true,
           "gridcolor": "white",
           "linecolor": "white",
           "ticks": "",
           "title": {
            "standoff": 15
           },
           "zerolinecolor": "white",
           "zerolinewidth": 2
          },
          "yaxis": {
           "automargin": true,
           "gridcolor": "white",
           "linecolor": "white",
           "ticks": "",
           "title": {
            "standoff": 15
           },
           "zerolinecolor": "white",
           "zerolinewidth": 2
          }
         }
        },
        "title": {
         "text": "Expensive Goods Exported from India Between 2010-2018 According to their Aggregate Value"
        },
        "xaxis": {
         "anchor": "y",
         "domain": [
          0,
          1
         ],
         "title": {
          "text": "Commoditiy Value in Million US $"
         }
        },
        "yaxis": {
         "anchor": "x",
         "domain": [
          0,
          1
         ],
         "title": {
          "text": "Commodity"
         }
        }
       }
      }
     },
     "metadata": {},
     "output_type": "display_data"
    }
   ],
   "source": [
    "# Top 7 Goods exported as per their aggregate values\n",
    "df_export_temp['Commodity'] = df_export_temp['Commodity'].apply(lambda x:x.split()[0])\n",
    "px.bar(data_frame=df_export_temp.head(7),y='Commodity', x='commodity_sum', orientation='h',\n",
    "       color='commodity_sum', title='Expensive Goods Exported from India Between 2010-2018 According to their Aggregate Value',\n",
    "       labels={'commodity_sum':'Commoditiy Value in Million US $'})"
   ]
  },
  {
   "attachments": {},
   "cell_type": "markdown",
   "metadata": {},
   "source": [
    "Goods Exported Net Value"
   ]
  },
  {
   "cell_type": "code",
   "execution_count": 62,
   "metadata": {},
   "outputs": [
    {
     "data": {
      "text/html": [
       "<div>\n",
       "<style scoped>\n",
       "    .dataframe tbody tr th:only-of-type {\n",
       "        vertical-align: middle;\n",
       "    }\n",
       "\n",
       "    .dataframe tbody tr th {\n",
       "        vertical-align: top;\n",
       "    }\n",
       "\n",
       "    .dataframe thead th {\n",
       "        text-align: right;\n",
       "    }\n",
       "</style>\n",
       "<table border=\"1\" class=\"dataframe\">\n",
       "  <thead>\n",
       "    <tr style=\"text-align: right;\">\n",
       "      <th></th>\n",
       "      <th>value</th>\n",
       "    </tr>\n",
       "    <tr>\n",
       "      <th>Commodity</th>\n",
       "      <th></th>\n",
       "    </tr>\n",
       "  </thead>\n",
       "  <tbody>\n",
       "    <tr>\n",
       "      <th>MINERAL FUELS, MINERAL OILS AND PRODUCTS OF THEIR DISTILLATION; BITUMINOUS SUBSTANCES; MINERAL WAXES.</th>\n",
       "      <td>547514.12</td>\n",
       "    </tr>\n",
       "    <tr>\n",
       "      <th>NATURAL OR CULTURED PEARLS,PRECIOUS OR SEMIPRECIOUS STONES,PRE.METALS,CLAD WITH PRE.METAL AND ARTCLS THEREOF;IMIT.JEWLRY;COIN.</th>\n",
       "      <td>477223.78</td>\n",
       "    </tr>\n",
       "    <tr>\n",
       "      <th>NUCLEAR REACTORS, BOILERS, MACHINERY AND MECHANICAL APPLIANCES; PARTS THEREOF.</th>\n",
       "      <td>188914.19</td>\n",
       "    </tr>\n",
       "    <tr>\n",
       "      <th>VEHICLES OTHER THAN RAILWAY OR TRAMWAY ROLLING STOCK, AND PARTS AND ACCESSORIES THEREOF.</th>\n",
       "      <td>174573.86</td>\n",
       "    </tr>\n",
       "    <tr>\n",
       "      <th>ORGANIC CHEMICALS</th>\n",
       "      <td>170194.93</td>\n",
       "    </tr>\n",
       "    <tr>\n",
       "      <th>PHARMACEUTICAL PRODUCTS</th>\n",
       "      <td>156570.14</td>\n",
       "    </tr>\n",
       "    <tr>\n",
       "      <th>ELECTRICAL MACHINERY AND EQUIPMENT AND PARTS THEREOF; SOUND RECORDERS AND REPRODUCERS, TELEVISION IMAGE AND SOUND RECORDERS AND REPRODUCERS,AND PARTS.</th>\n",
       "      <td>139167.64</td>\n",
       "    </tr>\n",
       "  </tbody>\n",
       "</table>\n",
       "</div>"
      ],
      "text/plain": [
       "                                                        value\n",
       "Commodity                                                    \n",
       "MINERAL FUELS, MINERAL OILS AND PRODUCTS OF THE...  547514.12\n",
       "NATURAL OR CULTURED PEARLS,PRECIOUS OR SEMIPREC...  477223.78\n",
       "NUCLEAR REACTORS, BOILERS, MACHINERY AND MECHAN...  188914.19\n",
       "VEHICLES OTHER THAN RAILWAY OR TRAMWAY ROLLING ...  174573.86\n",
       "ORGANIC CHEMICALS                                   170194.93\n",
       "PHARMACEUTICAL PRODUCTS                             156570.14\n",
       "ELECTRICAL MACHINERY AND EQUIPMENT AND PARTS TH...  139167.64"
      ]
     },
     "execution_count": 62,
     "metadata": {},
     "output_type": "execute_result"
    }
   ],
   "source": [
    "pd.DataFrame(df_export.groupby(df_export['Commodity'])['value'].sum().sort_values(ascending=False).head(7))"
   ]
  },
  {
   "attachments": {},
   "cell_type": "markdown",
   "metadata": {},
   "source": [
    "Expensive Exports based on HSCode"
   ]
  },
  {
   "cell_type": "code",
   "execution_count": 63,
   "metadata": {},
   "outputs": [
    {
     "data": {
      "application/vnd.plotly.v1+json": {
       "config": {
        "plotlyServerURL": "https://plot.ly"
       },
       "data": [
        {
         "alignmentgroup": "True",
         "hovertemplate": "<b>%{hovertext}</b><br><br>HSCode=%{x}<br>value=%{y}<extra></extra>",
         "hovertext": [
          2017.73,
          2010.06,
          825.14,
          2135.19,
          2558.99,
          1165.81,
          1987.34,
          1061.84,
          1319.92,
          852.18,
          4189.39,
          700.73,
          5518.15,
          871.73,
          1266.27,
          844.02,
          5019.58,
          960.32,
          1958.54,
          3340.46,
          1173.19,
          1017.21,
          2325.53,
          1701.88,
          2639.86,
          880.79,
          1654.94,
          759.92,
          1125.76,
          1009.43,
          4557.95,
          1573.07,
          9549.73,
          1874.08,
          2106.4,
          851.23,
          745.69,
          6571.21,
          1276.86,
          2666.69,
          3305.29,
          1462.68,
          1487.64,
          1694.94,
          2461.63,
          2401.41,
          1194.33,
          741.31,
          1025.76,
          1170.1,
          6295.14,
          1548.21,
          5136.7,
          7936.96,
          1791,
          1781.43,
          1253.98,
          1075.99,
          6964.32,
          1787.23,
          2694.75,
          1022.88,
          1178.94,
          1515.48,
          1450.58,
          3006.13,
          861.89,
          2429.01,
          1116.48,
          783.31,
          1175.79,
          3793.2,
          1286.66,
          6833.13,
          7464.6,
          1716.74,
          703.49,
          2453.37,
          798.23,
          5039.94,
          1101.94,
          3956.16,
          3155.07,
          1290.59,
          777.29,
          741.48,
          1049.34,
          1852.69,
          2734.01,
          1532.46,
          1246.04,
          1546.47,
          1646.13,
          1302.99,
          2472.18,
          935.91,
          5570.4,
          5333,
          1580.51,
          787.86,
          951.27,
          1435.63,
          1363.12,
          6519.64,
          3884.78,
          1155.92,
          714.96,
          1182.22,
          804.78,
          1178.8,
          1539.43,
          877.61,
          767.43,
          1047.67,
          1017.73,
          1443.41,
          2998.87,
          782.5,
          858.1,
          4004.77,
          2072.96,
          706.17,
          789.48,
          747.71,
          1285.65,
          1018.4,
          767.36,
          987.55,
          915.44,
          706.24,
          1115.72,
          1414.53,
          1262.58,
          4757.42,
          904.15,
          945.43,
          1225.81,
          3907.11,
          1870.12,
          1359.97,
          791.02,
          1507.21,
          1051.5,
          866.14,
          768.58,
          1625.85,
          1536.87,
          2149.94,
          1014.39,
          6179.9,
          779.74,
          768.24,
          728.79,
          933.52,
          4663.09,
          2578.2,
          1034.06,
          2855.69,
          1608.52,
          909.28,
          2214.63,
          746.43,
          1997.08,
          4364.22,
          5877.28,
          859.67,
          1090.83,
          1209.58,
          6367.54,
          2435.86,
          856.78,
          2128.57,
          1297.21,
          782.38,
          1062.97,
          1470.93,
          1731.7,
          1920.41,
          3908.63,
          4455.88,
          773.1,
          710.33,
          856.28,
          5732.18,
          2286.87,
          1135.95,
          1030.61,
          1046.55,
          788.35,
          1230.31,
          732.81,
          1384.98,
          1874.14,
          4118.68,
          1014.53,
          2810.47,
          1155.37,
          4616.5,
          1786.11,
          1925.48,
          1311.37,
          1874.67,
          812.29,
          2352.14,
          767.09,
          1627.02,
          981.8,
          2542.98,
          2237.57,
          1420.73,
          2498.11,
          5273.87,
          1233.3,
          1030.84,
          2464.32,
          6100.88,
          1420.68,
          1414.44,
          851.38,
          2433.5,
          2176.87,
          6196.05,
          5103.19
         ],
         "legendgroup": "27",
         "marker": {
          "color": "#636efa"
         },
         "name": "27",
         "notched": false,
         "offsetgroup": "27",
         "orientation": "v",
         "showlegend": true,
         "type": "box",
         "x": [
          27,
          27,
          27,
          27,
          27,
          27,
          27,
          27,
          27,
          27,
          27,
          27,
          27,
          27,
          27,
          27,
          27,
          27,
          27,
          27,
          27,
          27,
          27,
          27,
          27,
          27,
          27,
          27,
          27,
          27,
          27,
          27,
          27,
          27,
          27,
          27,
          27,
          27,
          27,
          27,
          27,
          27,
          27,
          27,
          27,
          27,
          27,
          27,
          27,
          27,
          27,
          27,
          27,
          27,
          27,
          27,
          27,
          27,
          27,
          27,
          27,
          27,
          27,
          27,
          27,
          27,
          27,
          27,
          27,
          27,
          27,
          27,
          27,
          27,
          27,
          27,
          27,
          27,
          27,
          27,
          27,
          27,
          27,
          27,
          27,
          27,
          27,
          27,
          27,
          27,
          27,
          27,
          27,
          27,
          27,
          27,
          27,
          27,
          27,
          27,
          27,
          27,
          27,
          27,
          27,
          27,
          27,
          27,
          27,
          27,
          27,
          27,
          27,
          27,
          27,
          27,
          27,
          27,
          27,
          27,
          27,
          27,
          27,
          27,
          27,
          27,
          27,
          27,
          27,
          27,
          27,
          27,
          27,
          27,
          27,
          27,
          27,
          27,
          27,
          27,
          27,
          27,
          27,
          27,
          27,
          27,
          27,
          27,
          27,
          27,
          27,
          27,
          27,
          27,
          27,
          27,
          27,
          27,
          27,
          27,
          27,
          27,
          27,
          27,
          27,
          27,
          27,
          27,
          27,
          27,
          27,
          27,
          27,
          27,
          27,
          27,
          27,
          27,
          27,
          27,
          27,
          27,
          27,
          27,
          27,
          27,
          27,
          27,
          27,
          27,
          27,
          27,
          27,
          27,
          27,
          27,
          27,
          27,
          27,
          27,
          27,
          27,
          27,
          27,
          27,
          27,
          27,
          27,
          27,
          27,
          27,
          27,
          27,
          27,
          27,
          27,
          27,
          27,
          27,
          27,
          27,
          27,
          27
         ],
         "x0": " ",
         "xaxis": "x",
         "y": [
          2017.73,
          2010.06,
          825.14,
          2135.19,
          2558.99,
          1165.81,
          1987.34,
          1061.84,
          1319.92,
          852.18,
          4189.39,
          700.73,
          5518.15,
          871.73,
          1266.27,
          844.02,
          5019.58,
          960.32,
          1958.54,
          3340.46,
          1173.19,
          1017.21,
          2325.53,
          1701.88,
          2639.86,
          880.79,
          1654.94,
          759.92,
          1125.76,
          1009.43,
          4557.95,
          1573.07,
          9549.73,
          1874.08,
          2106.4,
          851.23,
          745.69,
          6571.21,
          1276.86,
          2666.69,
          3305.29,
          1462.68,
          1487.64,
          1694.94,
          2461.63,
          2401.41,
          1194.33,
          741.31,
          1025.76,
          1170.1,
          6295.14,
          1548.21,
          5136.7,
          7936.96,
          1791,
          1781.43,
          1253.98,
          1075.99,
          6964.32,
          1787.23,
          2694.75,
          1022.88,
          1178.94,
          1515.48,
          1450.58,
          3006.13,
          861.89,
          2429.01,
          1116.48,
          783.31,
          1175.79,
          3793.2,
          1286.66,
          6833.13,
          7464.6,
          1716.74,
          703.49,
          2453.37,
          798.23,
          5039.94,
          1101.94,
          3956.16,
          3155.07,
          1290.59,
          777.29,
          741.48,
          1049.34,
          1852.69,
          2734.01,
          1532.46,
          1246.04,
          1546.47,
          1646.13,
          1302.99,
          2472.18,
          935.91,
          5570.4,
          5333,
          1580.51,
          787.86,
          951.27,
          1435.63,
          1363.12,
          6519.64,
          3884.78,
          1155.92,
          714.96,
          1182.22,
          804.78,
          1178.8,
          1539.43,
          877.61,
          767.43,
          1047.67,
          1017.73,
          1443.41,
          2998.87,
          782.5,
          858.1,
          4004.77,
          2072.96,
          706.17,
          789.48,
          747.71,
          1285.65,
          1018.4,
          767.36,
          987.55,
          915.44,
          706.24,
          1115.72,
          1414.53,
          1262.58,
          4757.42,
          904.15,
          945.43,
          1225.81,
          3907.11,
          1870.12,
          1359.97,
          791.02,
          1507.21,
          1051.5,
          866.14,
          768.58,
          1625.85,
          1536.87,
          2149.94,
          1014.39,
          6179.9,
          779.74,
          768.24,
          728.79,
          933.52,
          4663.09,
          2578.2,
          1034.06,
          2855.69,
          1608.52,
          909.28,
          2214.63,
          746.43,
          1997.08,
          4364.22,
          5877.28,
          859.67,
          1090.83,
          1209.58,
          6367.54,
          2435.86,
          856.78,
          2128.57,
          1297.21,
          782.38,
          1062.97,
          1470.93,
          1731.7,
          1920.41,
          3908.63,
          4455.88,
          773.1,
          710.33,
          856.28,
          5732.18,
          2286.87,
          1135.95,
          1030.61,
          1046.55,
          788.35,
          1230.31,
          732.81,
          1384.98,
          1874.14,
          4118.68,
          1014.53,
          2810.47,
          1155.37,
          4616.5,
          1786.11,
          1925.48,
          1311.37,
          1874.67,
          812.29,
          2352.14,
          767.09,
          1627.02,
          981.8,
          2542.98,
          2237.57,
          1420.73,
          2498.11,
          5273.87,
          1233.3,
          1030.84,
          2464.32,
          6100.88,
          1420.68,
          1414.44,
          851.38,
          2433.5,
          2176.87,
          6196.05,
          5103.19
         ],
         "y0": " ",
         "yaxis": "y"
        },
        {
         "alignmentgroup": "True",
         "hovertemplate": "<b>%{hovertext}</b><br><br>HSCode=%{x}<br>value=%{y}<extra></extra>",
         "hovertext": [
          1081.39,
          1891.46,
          1076.74,
          4020.71,
          1505.76,
          3410.51,
          1576.84,
          3833.41,
          1524.13,
          2277.87,
          1615.07,
          1688.53,
          782.34,
          1595.12,
          1342.55,
          1822.99,
          1003.28,
          1878.04,
          1786.77,
          1649.99,
          777.96,
          1779.64,
          1277.24,
          4566.17,
          1254.72
         ],
         "legendgroup": "52",
         "marker": {
          "color": "#EF553B"
         },
         "name": "52",
         "notched": false,
         "offsetgroup": "52",
         "orientation": "v",
         "showlegend": true,
         "type": "box",
         "x": [
          52,
          52,
          52,
          52,
          52,
          52,
          52,
          52,
          52,
          52,
          52,
          52,
          52,
          52,
          52,
          52,
          52,
          52,
          52,
          52,
          52,
          52,
          52,
          52,
          52
         ],
         "x0": " ",
         "xaxis": "x",
         "y": [
          1081.39,
          1891.46,
          1076.74,
          4020.71,
          1505.76,
          3410.51,
          1576.84,
          3833.41,
          1524.13,
          2277.87,
          1615.07,
          1688.53,
          782.34,
          1595.12,
          1342.55,
          1822.99,
          1003.28,
          1878.04,
          1786.77,
          1649.99,
          777.96,
          1779.64,
          1277.24,
          4566.17,
          1254.72
         ],
         "y0": " ",
         "yaxis": "y"
        },
        {
         "alignmentgroup": "True",
         "hovertemplate": "<b>%{hovertext}</b><br><br>HSCode=%{x}<br>value=%{y}<extra></extra>",
         "hovertext": [
          2393.13,
          8670.13,
          960.78,
          19805.17,
          5272.78,
          3829.8,
          11398.19,
          1456.12,
          18392.75,
          6808.23,
          2435.61,
          10632.37,
          1158.73,
          18890.69,
          6749.99,
          2678.31,
          11141.56,
          1315.25,
          756.13,
          12778.8,
          7842.22,
          2680.36,
          12206.19,
          1183.21,
          12280.37,
          8419.58,
          2327.4,
          10890.09,
          1003.05,
          12934.57,
          8674.42,
          2474.05,
          12835.84,
          999.4,
          13884.06,
          9734.37,
          2428.35,
          13124.06,
          1031.34,
          10832.28,
          707.97,
          10058.76,
          2475.7,
          11140.21,
          1006.88,
          703.35,
          10418.15,
          10442.27,
          2175.92,
          9524.43,
          914.17,
          700.32,
          9433.84,
          9259.9,
          1362.25,
          8113.77,
          841.8,
          2773.7,
          806.8,
          8722.2,
          2740.37,
          9379.2,
          1474.12,
          1163.97,
          4953.11,
          776.1,
          14667.48
         ],
         "legendgroup": "71",
         "marker": {
          "color": "#00cc96"
         },
         "name": "71",
         "notched": false,
         "offsetgroup": "71",
         "orientation": "v",
         "showlegend": true,
         "type": "box",
         "x": [
          71,
          71,
          71,
          71,
          71,
          71,
          71,
          71,
          71,
          71,
          71,
          71,
          71,
          71,
          71,
          71,
          71,
          71,
          71,
          71,
          71,
          71,
          71,
          71,
          71,
          71,
          71,
          71,
          71,
          71,
          71,
          71,
          71,
          71,
          71,
          71,
          71,
          71,
          71,
          71,
          71,
          71,
          71,
          71,
          71,
          71,
          71,
          71,
          71,
          71,
          71,
          71,
          71,
          71,
          71,
          71,
          71,
          71,
          71,
          71,
          71,
          71,
          71,
          71,
          71,
          71,
          71
         ],
         "x0": " ",
         "xaxis": "x",
         "y": [
          2393.13,
          8670.13,
          960.78,
          19805.17,
          5272.78,
          3829.8,
          11398.19,
          1456.12,
          18392.75,
          6808.23,
          2435.61,
          10632.37,
          1158.73,
          18890.69,
          6749.99,
          2678.31,
          11141.56,
          1315.25,
          756.13,
          12778.8,
          7842.22,
          2680.36,
          12206.19,
          1183.21,
          12280.37,
          8419.58,
          2327.4,
          10890.09,
          1003.05,
          12934.57,
          8674.42,
          2474.05,
          12835.84,
          999.4,
          13884.06,
          9734.37,
          2428.35,
          13124.06,
          1031.34,
          10832.28,
          707.97,
          10058.76,
          2475.7,
          11140.21,
          1006.88,
          703.35,
          10418.15,
          10442.27,
          2175.92,
          9524.43,
          914.17,
          700.32,
          9433.84,
          9259.9,
          1362.25,
          8113.77,
          841.8,
          2773.7,
          806.8,
          8722.2,
          2740.37,
          9379.2,
          1474.12,
          1163.97,
          4953.11,
          776.1,
          14667.48
         ],
         "y0": " ",
         "yaxis": "y"
        },
        {
         "alignmentgroup": "True",
         "hovertemplate": "<b>%{hovertext}</b><br><br>HSCode=%{x}<br>value=%{y}<extra></extra>",
         "hovertext": [
          4767.11,
          4614.72,
          1897.67,
          1570.59,
          1648.22,
          1259.79,
          1220.22,
          2356.97,
          4382.42,
          2535.62
         ],
         "legendgroup": "26",
         "marker": {
          "color": "#ab63fa"
         },
         "name": "26",
         "notched": false,
         "offsetgroup": "26",
         "orientation": "v",
         "showlegend": true,
         "type": "box",
         "x": [
          26,
          26,
          26,
          26,
          26,
          26,
          26,
          26,
          26,
          26
         ],
         "x0": " ",
         "xaxis": "x",
         "y": [
          4767.11,
          4614.72,
          1897.67,
          1570.59,
          1648.22,
          1259.79,
          1220.22,
          2356.97,
          4382.42,
          2535.62
         ],
         "y0": " ",
         "yaxis": "y"
        },
        {
         "alignmentgroup": "True",
         "hovertemplate": "<b>%{hovertext}</b><br><br>HSCode=%{x}<br>value=%{y}<extra></extra>",
         "hovertext": [
          701.81,
          1260.86,
          901.95,
          776.71,
          1539.96,
          1019.64,
          1531.53,
          918.77,
          1534.94,
          1045.4,
          1637.82,
          842.84,
          1413.36,
          882.22,
          1393.66,
          2106.24,
          1581.24,
          3249.21,
          723.9,
          1843.41,
          2702.44,
          706.43,
          1908.82,
          2416.35,
          809.88,
          2102.74,
          884.43,
          2380.24,
          843.1,
          1080.43,
          1075.24,
          701.33,
          2965.97
         ],
         "legendgroup": "29",
         "marker": {
          "color": "#FFA15A"
         },
         "name": "29",
         "notched": false,
         "offsetgroup": "29",
         "orientation": "v",
         "showlegend": true,
         "type": "box",
         "x": [
          29,
          29,
          29,
          29,
          29,
          29,
          29,
          29,
          29,
          29,
          29,
          29,
          29,
          29,
          29,
          29,
          29,
          29,
          29,
          29,
          29,
          29,
          29,
          29,
          29,
          29,
          29,
          29,
          29,
          29,
          29,
          29,
          29
         ],
         "x0": " ",
         "xaxis": "x",
         "y": [
          701.81,
          1260.86,
          901.95,
          776.71,
          1539.96,
          1019.64,
          1531.53,
          918.77,
          1534.94,
          1045.4,
          1637.82,
          842.84,
          1413.36,
          882.22,
          1393.66,
          2106.24,
          1581.24,
          3249.21,
          723.9,
          1843.41,
          2702.44,
          706.43,
          1908.82,
          2416.35,
          809.88,
          2102.74,
          884.43,
          2380.24,
          843.1,
          1080.43,
          1075.24,
          701.33,
          2965.97
         ],
         "y0": " ",
         "yaxis": "y"
        },
        {
         "alignmentgroup": "True",
         "hovertemplate": "<b>%{hovertext}</b><br><br>HSCode=%{x}<br>value=%{y}<extra></extra>",
         "hovertext": [
          748.61,
          700.26,
          738.87,
          764.45,
          777.5,
          1033.71,
          880.5,
          711.58,
          887.32,
          1140.02,
          733.44,
          730.89,
          982.89,
          774.54,
          1098.14,
          2512.55,
          938.24,
          930.79,
          765.3,
          1030.43,
          1522.17,
          1412.19,
          2144.69,
          1361.05,
          1198.34,
          1650.73,
          898.53,
          1473.86
         ],
         "legendgroup": "72",
         "marker": {
          "color": "#19d3f3"
         },
         "name": "72",
         "notched": false,
         "offsetgroup": "72",
         "orientation": "v",
         "showlegend": true,
         "type": "box",
         "x": [
          72,
          72,
          72,
          72,
          72,
          72,
          72,
          72,
          72,
          72,
          72,
          72,
          72,
          72,
          72,
          72,
          72,
          72,
          72,
          72,
          72,
          72,
          72,
          72,
          72,
          72,
          72,
          72
         ],
         "x0": " ",
         "xaxis": "x",
         "y": [
          748.61,
          700.26,
          738.87,
          764.45,
          777.5,
          1033.71,
          880.5,
          711.58,
          887.32,
          1140.02,
          733.44,
          730.89,
          982.89,
          774.54,
          1098.14,
          2512.55,
          938.24,
          930.79,
          765.3,
          1030.43,
          1522.17,
          1412.19,
          2144.69,
          1361.05,
          1198.34,
          1650.73,
          898.53,
          1473.86
         ],
         "y0": " ",
         "yaxis": "y"
        },
        {
         "alignmentgroup": "True",
         "hovertemplate": "<b>%{hovertext}</b><br><br>HSCode=%{x}<br>value=%{y}<extra></extra>",
         "hovertext": [
          1365.69,
          2019.93,
          2010.97,
          1841.71,
          1890.82,
          1144.1,
          701.93,
          1548.47,
          779.26,
          1210.61
         ],
         "legendgroup": "74",
         "marker": {
          "color": "#FF6692"
         },
         "name": "74",
         "notched": false,
         "offsetgroup": "74",
         "orientation": "v",
         "showlegend": true,
         "type": "box",
         "x": [
          74,
          74,
          74,
          74,
          74,
          74,
          74,
          74,
          74,
          74
         ],
         "x0": " ",
         "xaxis": "x",
         "y": [
          1365.69,
          2019.93,
          2010.97,
          1841.71,
          1890.82,
          1144.1,
          701.93,
          1548.47,
          779.26,
          1210.61
         ],
         "y0": " ",
         "yaxis": "y"
        },
        {
         "alignmentgroup": "True",
         "hovertemplate": "<b>%{hovertext}</b><br><br>HSCode=%{x}<br>value=%{y}<extra></extra>",
         "hovertext": [
          719.08,
          1357.03,
          1634.04,
          723.76,
          1756.05,
          791.22,
          1328.7,
          701.71,
          1712.6,
          1232.51,
          1263.6,
          1605.5,
          1699.57,
          1595.94,
          1487.23,
          2671.29
         ],
         "legendgroup": "73",
         "marker": {
          "color": "#B6E880"
         },
         "name": "73",
         "notched": false,
         "offsetgroup": "73",
         "orientation": "v",
         "showlegend": true,
         "type": "box",
         "x": [
          73,
          73,
          73,
          73,
          73,
          73,
          73,
          73,
          73,
          73,
          73,
          73,
          73,
          73,
          73,
          73
         ],
         "x0": " ",
         "xaxis": "x",
         "y": [
          719.08,
          1357.03,
          1634.04,
          723.76,
          1756.05,
          791.22,
          1328.7,
          701.71,
          1712.6,
          1232.51,
          1263.6,
          1605.5,
          1699.57,
          1595.94,
          1487.23,
          2671.29
         ],
         "y0": " ",
         "yaxis": "y"
        },
        {
         "alignmentgroup": "True",
         "hovertemplate": "<b>%{hovertext}</b><br><br>HSCode=%{x}<br>value=%{y}<extra></extra>",
         "hovertext": [
          859.28,
          933.44,
          844.26,
          3399.87,
          1217.82,
          903.76,
          1723.5,
          1614.65,
          1068.58,
          935.08,
          871.92,
          827.12,
          1181.39,
          1593.98,
          786.81,
          774.98,
          1590.68,
          1122.1,
          1160.27,
          734.61,
          1989.65,
          1357.7,
          931.3,
          1307.84,
          831.48,
          1263.33,
          1061.05
         ],
         "legendgroup": "89",
         "marker": {
          "color": "#FF97FF"
         },
         "name": "89",
         "notched": false,
         "offsetgroup": "89",
         "orientation": "v",
         "showlegend": true,
         "type": "box",
         "x": [
          89,
          89,
          89,
          89,
          89,
          89,
          89,
          89,
          89,
          89,
          89,
          89,
          89,
          89,
          89,
          89,
          89,
          89,
          89,
          89,
          89,
          89,
          89,
          89,
          89,
          89,
          89
         ],
         "x0": " ",
         "xaxis": "x",
         "y": [
          859.28,
          933.44,
          844.26,
          3399.87,
          1217.82,
          903.76,
          1723.5,
          1614.65,
          1068.58,
          935.08,
          871.92,
          827.12,
          1181.39,
          1593.98,
          786.81,
          774.98,
          1590.68,
          1122.1,
          1160.27,
          734.61,
          1989.65,
          1357.7,
          931.3,
          1307.84,
          831.48,
          1263.33,
          1061.05
         ],
         "y0": " ",
         "yaxis": "y"
        },
        {
         "alignmentgroup": "True",
         "hovertemplate": "<b>%{hovertext}</b><br><br>HSCode=%{x}<br>value=%{y}<extra></extra>",
         "hovertext": [
          707.39,
          773.87,
          714.82,
          1015.37,
          919.68,
          1037.35,
          738.28,
          1007.76,
          721.93,
          956.14,
          853.67,
          1058.83,
          1027.08,
          878.43,
          1287.74,
          1350.57,
          709.84,
          831.65,
          1420.9,
          737.99,
          1872.68,
          766.55,
          1195.45,
          1009.3,
          2027.07,
          879.42,
          2125.82,
          1146.35,
          1617.68,
          738.17,
          823.67,
          2854.93,
          789.93,
          1661.69,
          755.5,
          1030.96,
          2569.83,
          1207.96,
          2080.87,
          916.26,
          1520.04,
          777.86,
          1318.16,
          2891.7
         ],
         "legendgroup": "87",
         "marker": {
          "color": "#FECB52"
         },
         "name": "87",
         "notched": false,
         "offsetgroup": "87",
         "orientation": "v",
         "showlegend": true,
         "type": "box",
         "x": [
          87,
          87,
          87,
          87,
          87,
          87,
          87,
          87,
          87,
          87,
          87,
          87,
          87,
          87,
          87,
          87,
          87,
          87,
          87,
          87,
          87,
          87,
          87,
          87,
          87,
          87,
          87,
          87,
          87,
          87,
          87,
          87,
          87,
          87,
          87,
          87,
          87,
          87,
          87,
          87,
          87,
          87,
          87,
          87
         ],
         "x0": " ",
         "xaxis": "x",
         "y": [
          707.39,
          773.87,
          714.82,
          1015.37,
          919.68,
          1037.35,
          738.28,
          1007.76,
          721.93,
          956.14,
          853.67,
          1058.83,
          1027.08,
          878.43,
          1287.74,
          1350.57,
          709.84,
          831.65,
          1420.9,
          737.99,
          1872.68,
          766.55,
          1195.45,
          1009.3,
          2027.07,
          879.42,
          2125.82,
          1146.35,
          1617.68,
          738.17,
          823.67,
          2854.93,
          789.93,
          1661.69,
          755.5,
          1030.96,
          2569.83,
          1207.96,
          2080.87,
          916.26,
          1520.04,
          777.86,
          1318.16,
          2891.7
         ],
         "y0": " ",
         "yaxis": "y"
        },
        {
         "alignmentgroup": "True",
         "hovertemplate": "<b>%{hovertext}</b><br><br>HSCode=%{x}<br>value=%{y}<extra></extra>",
         "hovertext": [
          805.73,
          1296.65,
          758.33,
          974.56,
          1865.96,
          903.61,
          1653.18,
          1035.73,
          1301.17,
          1266.95,
          744.66,
          1160.94,
          1150.85,
          1324.76,
          1713.22,
          1786.79,
          862.33,
          2694.86,
          2502.86,
          717.37,
          860.67,
          1559.37,
          2754.55,
          828.96,
          931.63,
          835.98,
          2757.7,
          983.26,
          3581.33
         ],
         "legendgroup": "85",
         "marker": {
          "color": "#636efa"
         },
         "name": "85",
         "notched": false,
         "offsetgroup": "85",
         "orientation": "v",
         "showlegend": true,
         "type": "box",
         "x": [
          85,
          85,
          85,
          85,
          85,
          85,
          85,
          85,
          85,
          85,
          85,
          85,
          85,
          85,
          85,
          85,
          85,
          85,
          85,
          85,
          85,
          85,
          85,
          85,
          85,
          85,
          85,
          85,
          85
         ],
         "x0": " ",
         "xaxis": "x",
         "y": [
          805.73,
          1296.65,
          758.33,
          974.56,
          1865.96,
          903.61,
          1653.18,
          1035.73,
          1301.17,
          1266.95,
          744.66,
          1160.94,
          1150.85,
          1324.76,
          1713.22,
          1786.79,
          862.33,
          2694.86,
          2502.86,
          717.37,
          860.67,
          1559.37,
          2754.55,
          828.96,
          931.63,
          835.98,
          2757.7,
          983.26,
          3581.33
         ],
         "y0": " ",
         "yaxis": "y"
        },
        {
         "alignmentgroup": "True",
         "hovertemplate": "<b>%{hovertext}</b><br><br>HSCode=%{x}<br>value=%{y}<extra></extra>",
         "hovertext": [
          844.55,
          1577.75,
          725.04,
          913.12,
          1805.28,
          792.64,
          811.08,
          1768.02,
          947.94,
          859.33,
          1926.94,
          1507.56,
          955.88,
          1994.79,
          1762.53,
          905.79,
          2186.94,
          1817.48,
          827.34,
          2052.14,
          1214.35,
          873.09,
          2127.74,
          831.41,
          825.51,
          2231.06,
          794.73,
          2258.6,
          1592.05,
          913.09,
          2630.54
         ],
         "legendgroup": "62",
         "marker": {
          "color": "#EF553B"
         },
         "name": "62",
         "notched": false,
         "offsetgroup": "62",
         "orientation": "v",
         "showlegend": true,
         "type": "box",
         "x": [
          62,
          62,
          62,
          62,
          62,
          62,
          62,
          62,
          62,
          62,
          62,
          62,
          62,
          62,
          62,
          62,
          62,
          62,
          62,
          62,
          62,
          62,
          62,
          62,
          62,
          62,
          62,
          62,
          62,
          62,
          62
         ],
         "x0": " ",
         "xaxis": "x",
         "y": [
          844.55,
          1577.75,
          725.04,
          913.12,
          1805.28,
          792.64,
          811.08,
          1768.02,
          947.94,
          859.33,
          1926.94,
          1507.56,
          955.88,
          1994.79,
          1762.53,
          905.79,
          2186.94,
          1817.48,
          827.34,
          2052.14,
          1214.35,
          873.09,
          2127.74,
          831.41,
          825.51,
          2231.06,
          794.73,
          2258.6,
          1592.05,
          913.09,
          2630.54
         ],
         "y0": " ",
         "yaxis": "y"
        },
        {
         "alignmentgroup": "True",
         "hovertemplate": "<b>%{hovertext}</b><br><br>HSCode=%{x}<br>value=%{y}<extra></extra>",
         "hovertext": [
          1833.32,
          2533.21,
          3093.24,
          3445.75,
          3769.08,
          5026.46,
          5098.25,
          4667.24,
          5389.73,
          6331.97,
          745.16,
          7179.87,
          6472.25
         ],
         "legendgroup": "30",
         "marker": {
          "color": "#00cc96"
         },
         "name": "30",
         "notched": false,
         "offsetgroup": "30",
         "orientation": "v",
         "showlegend": true,
         "type": "box",
         "x": [
          30,
          30,
          30,
          30,
          30,
          30,
          30,
          30,
          30,
          30,
          30,
          30,
          30
         ],
         "x0": " ",
         "xaxis": "x",
         "y": [
          1833.32,
          2533.21,
          3093.24,
          3445.75,
          3769.08,
          5026.46,
          5098.25,
          4667.24,
          5389.73,
          6331.97,
          745.16,
          7179.87,
          6472.25
         ],
         "y0": " ",
         "yaxis": "y"
        },
        {
         "alignmentgroup": "True",
         "hovertemplate": "<b>%{hovertext}</b><br><br>HSCode=%{x}<br>value=%{y}<extra></extra>",
         "hovertext": [
          1378.95,
          1382.82,
          1327.12,
          789.86,
          799.96,
          1496.97,
          1142.7,
          903.34,
          1620.15,
          1661.22,
          896.63,
          1675.03,
          2114.92,
          804.01,
          1696.17,
          1603.03,
          845.39,
          1736.79,
          1159.74,
          780,
          1934.89,
          1030.36,
          736.07,
          1982.71,
          914.14,
          1700.84,
          911.82,
          719.72,
          2712.18
         ],
         "legendgroup": "61",
         "marker": {
          "color": "#ab63fa"
         },
         "name": "61",
         "notched": false,
         "offsetgroup": "61",
         "orientation": "v",
         "showlegend": true,
         "type": "box",
         "x": [
          61,
          61,
          61,
          61,
          61,
          61,
          61,
          61,
          61,
          61,
          61,
          61,
          61,
          61,
          61,
          61,
          61,
          61,
          61,
          61,
          61,
          61,
          61,
          61,
          61,
          61,
          61,
          61,
          61
         ],
         "x0": " ",
         "xaxis": "x",
         "y": [
          1378.95,
          1382.82,
          1327.12,
          789.86,
          799.96,
          1496.97,
          1142.7,
          903.34,
          1620.15,
          1661.22,
          896.63,
          1675.03,
          2114.92,
          804.01,
          1696.17,
          1603.03,
          845.39,
          1736.79,
          1159.74,
          780,
          1934.89,
          1030.36,
          736.07,
          1982.71,
          914.14,
          1700.84,
          911.82,
          719.72,
          2712.18
         ],
         "y0": " ",
         "yaxis": "y"
        },
        {
         "alignmentgroup": "True",
         "hovertemplate": "<b>%{hovertext}</b><br><br>HSCode=%{x}<br>value=%{y}<extra></extra>",
         "hovertext": [
          1404.36,
          1770.13,
          1958.62,
          2093.36,
          2213.75,
          2289.88,
          2397.11,
          2390.99,
          2472.97,
          2414.01,
          2704.43,
          3455.11
         ],
         "legendgroup": "63",
         "marker": {
          "color": "#FFA15A"
         },
         "name": "63",
         "notched": false,
         "offsetgroup": "63",
         "orientation": "v",
         "showlegend": true,
         "type": "box",
         "x": [
          63,
          63,
          63,
          63,
          63,
          63,
          63,
          63,
          63,
          63,
          63,
          63
         ],
         "x0": " ",
         "xaxis": "x",
         "y": [
          1404.36,
          1770.13,
          1958.62,
          2093.36,
          2213.75,
          2289.88,
          2397.11,
          2390.99,
          2472.97,
          2414.01,
          2704.43,
          3455.11
         ],
         "y0": " ",
         "yaxis": "y"
        },
        {
         "alignmentgroup": "True",
         "hovertemplate": "<b>%{hovertext}</b><br><br>HSCode=%{x}<br>value=%{y}<extra></extra>",
         "hovertext": [
          1140.68,
          730.71,
          1585.81,
          802.12,
          1627.68,
          1589.12,
          711.47,
          744.85,
          2157.13,
          720.04,
          732.31,
          1849.86,
          2071.12,
          715.78,
          1390.82,
          710.26,
          1018.49,
          2838.2,
          752.72,
          830.88,
          1430.85,
          800.36,
          1063.26,
          4026.34,
          730.03,
          804.31,
          1375.75,
          760.21,
          701.81,
          776.36,
          1024.79,
          4495.08,
          750.73,
          1155.15,
          721.22,
          837.6,
          720.74,
          744.2,
          4057.92,
          733.46,
          1067.53,
          1419.33,
          990.66,
          1096.48,
          902.74,
          1057.66,
          5798.48
         ],
         "legendgroup": "84",
         "marker": {
          "color": "#19d3f3"
         },
         "name": "84",
         "notched": false,
         "offsetgroup": "84",
         "orientation": "v",
         "showlegend": true,
         "type": "box",
         "x": [
          84,
          84,
          84,
          84,
          84,
          84,
          84,
          84,
          84,
          84,
          84,
          84,
          84,
          84,
          84,
          84,
          84,
          84,
          84,
          84,
          84,
          84,
          84,
          84,
          84,
          84,
          84,
          84,
          84,
          84,
          84,
          84,
          84,
          84,
          84,
          84,
          84,
          84,
          84,
          84,
          84,
          84,
          84,
          84,
          84,
          84,
          84
         ],
         "x0": " ",
         "xaxis": "x",
         "y": [
          1140.68,
          730.71,
          1585.81,
          802.12,
          1627.68,
          1589.12,
          711.47,
          744.85,
          2157.13,
          720.04,
          732.31,
          1849.86,
          2071.12,
          715.78,
          1390.82,
          710.26,
          1018.49,
          2838.2,
          752.72,
          830.88,
          1430.85,
          800.36,
          1063.26,
          4026.34,
          730.03,
          804.31,
          1375.75,
          760.21,
          701.81,
          776.36,
          1024.79,
          4495.08,
          750.73,
          1155.15,
          721.22,
          837.6,
          720.74,
          744.2,
          4057.92,
          733.46,
          1067.53,
          1419.33,
          990.66,
          1096.48,
          902.74,
          1057.66,
          5798.48
         ],
         "y0": " ",
         "yaxis": "y"
        },
        {
         "alignmentgroup": "True",
         "hovertemplate": "<b>%{hovertext}</b><br><br>HSCode=%{x}<br>value=%{y}<extra></extra>",
         "hovertext": [
          764.15,
          896.1,
          1247.25,
          759.31,
          924.26,
          1968.73,
          1240.05,
          851.98,
          1239.72,
          1299.89,
          927.02,
          741.32,
          871.5,
          949.72,
          908.03,
          1584.09,
          1044.97,
          1254.75,
          1024.24,
          1004.67,
          1067.37,
          2246.52,
          857.71,
          721.94,
          722.64
         ],
         "legendgroup": "10",
         "marker": {
          "color": "#FF6692"
         },
         "name": "10",
         "notched": false,
         "offsetgroup": "10",
         "orientation": "v",
         "showlegend": true,
         "type": "box",
         "x": [
          10,
          10,
          10,
          10,
          10,
          10,
          10,
          10,
          10,
          10,
          10,
          10,
          10,
          10,
          10,
          10,
          10,
          10,
          10,
          10,
          10,
          10,
          10,
          10,
          10
         ],
         "x0": " ",
         "xaxis": "x",
         "y": [
          764.15,
          896.1,
          1247.25,
          759.31,
          924.26,
          1968.73,
          1240.05,
          851.98,
          1239.72,
          1299.89,
          927.02,
          741.32,
          871.5,
          949.72,
          908.03,
          1584.09,
          1044.97,
          1254.75,
          1024.24,
          1004.67,
          1067.37,
          2246.52,
          857.71,
          721.94,
          722.64
         ],
         "y0": " ",
         "yaxis": "y"
        },
        {
         "alignmentgroup": "True",
         "hovertemplate": "<b>%{hovertext}</b><br><br>HSCode=%{x}<br>value=%{y}<extra></extra>",
         "hovertext": [
          2650.08,
          3357.4,
          1655.57,
          1324.11
         ],
         "legendgroup": "13",
         "marker": {
          "color": "#B6E880"
         },
         "name": "13",
         "notched": false,
         "offsetgroup": "13",
         "orientation": "v",
         "showlegend": true,
         "type": "box",
         "x": [
          13,
          13,
          13,
          13
         ],
         "x0": " ",
         "xaxis": "x",
         "y": [
          2650.08,
          3357.4,
          1655.57,
          1324.11
         ],
         "y0": " ",
         "yaxis": "y"
        },
        {
         "alignmentgroup": "True",
         "hovertemplate": "<b>%{hovertext}</b><br><br>HSCode=%{x}<br>value=%{y}<extra></extra>",
         "hovertext": [
          835.13,
          945.18,
          1797.45,
          2154.86,
          1993.27,
          2026.41,
          2292.38,
          1710.22,
          1071.7,
          860.76,
          739.66
         ],
         "legendgroup": "2",
         "marker": {
          "color": "#FF97FF"
         },
         "name": "2",
         "notched": false,
         "offsetgroup": "2",
         "orientation": "v",
         "showlegend": true,
         "type": "box",
         "x": [
          2,
          2,
          2,
          2,
          2,
          2,
          2,
          2,
          2,
          2,
          2
         ],
         "x0": " ",
         "xaxis": "x",
         "y": [
          835.13,
          945.18,
          1797.45,
          2154.86,
          1993.27,
          2026.41,
          2292.38,
          1710.22,
          1071.7,
          860.76,
          739.66
         ],
         "y0": " ",
         "yaxis": "y"
        },
        {
         "alignmentgroup": "True",
         "hovertemplate": "<b>%{hovertext}</b><br><br>HSCode=%{x}<br>value=%{y}<extra></extra>",
         "hovertext": [
          931.48,
          1060.36,
          1745.17,
          1068.95,
          1308.92,
          724.69,
          743.5
         ],
         "legendgroup": "88",
         "marker": {
          "color": "#FECB52"
         },
         "name": "88",
         "notched": false,
         "offsetgroup": "88",
         "orientation": "v",
         "showlegend": true,
         "type": "box",
         "x": [
          88,
          88,
          88,
          88,
          88,
          88,
          88
         ],
         "x0": " ",
         "xaxis": "x",
         "y": [
          931.48,
          1060.36,
          1745.17,
          1068.95,
          1308.92,
          724.69,
          743.5
         ],
         "y0": " ",
         "yaxis": "y"
        },
        {
         "alignmentgroup": "True",
         "hovertemplate": "<b>%{hovertext}</b><br><br>HSCode=%{x}<br>value=%{y}<extra></extra>",
         "hovertext": [
          1225.07,
          964.58,
          1391.81,
          1091.41,
          1212.87,
          883.62,
          1560.73,
          1353.02,
          2105.93,
          1843.79,
          721.26,
          2000.3,
          988.04,
          1336.57,
          2157.28,
          860.74,
          1891.5,
          1092.75,
          2678.3
         ],
         "legendgroup": "3",
         "marker": {
          "color": "#636efa"
         },
         "name": "3",
         "notched": false,
         "offsetgroup": "3",
         "orientation": "v",
         "showlegend": true,
         "type": "box",
         "x": [
          3,
          3,
          3,
          3,
          3,
          3,
          3,
          3,
          3,
          3,
          3,
          3,
          3,
          3,
          3,
          3,
          3,
          3,
          3
         ],
         "x0": " ",
         "xaxis": "x",
         "y": [
          1225.07,
          964.58,
          1391.81,
          1091.41,
          1212.87,
          883.62,
          1560.73,
          1353.02,
          2105.93,
          1843.79,
          721.26,
          2000.3,
          988.04,
          1336.57,
          2157.28,
          860.74,
          1891.5,
          1092.75,
          2678.3
         ],
         "y0": " ",
         "yaxis": "y"
        },
        {
         "alignmentgroup": "True",
         "hovertemplate": "<b>%{hovertext}</b><br><br>HSCode=%{x}<br>value=%{y}<extra></extra>",
         "hovertext": [
          767.11,
          811.09,
          824.26,
          848.35,
          925.08,
          906.03,
          1063.37,
          1281.29
         ],
         "legendgroup": "57",
         "marker": {
          "color": "#EF553B"
         },
         "name": "57",
         "notched": false,
         "offsetgroup": "57",
         "orientation": "v",
         "showlegend": true,
         "type": "box",
         "x": [
          57,
          57,
          57,
          57,
          57,
          57,
          57,
          57
         ],
         "x0": " ",
         "xaxis": "x",
         "y": [
          767.11,
          811.09,
          824.26,
          848.35,
          925.08,
          906.03,
          1063.37,
          1281.29
         ],
         "y0": " ",
         "yaxis": "y"
        },
        {
         "alignmentgroup": "True",
         "hovertemplate": "<b>%{hovertext}</b><br><br>HSCode=%{x}<br>value=%{y}<extra></extra>",
         "hovertext": [
          742.75,
          764.63,
          775.63,
          909.65,
          782.6,
          922.64,
          1272.78,
          1074.29,
          1223.96,
          1273.17,
          1519.03,
          892.93,
          1103.45
         ],
         "legendgroup": "76",
         "marker": {
          "color": "#00cc96"
         },
         "name": "76",
         "notched": false,
         "offsetgroup": "76",
         "orientation": "v",
         "showlegend": true,
         "type": "box",
         "x": [
          76,
          76,
          76,
          76,
          76,
          76,
          76,
          76,
          76,
          76,
          76,
          76,
          76
         ],
         "x0": " ",
         "xaxis": "x",
         "y": [
          742.75,
          764.63,
          775.63,
          909.65,
          782.6,
          922.64,
          1272.78,
          1074.29,
          1223.96,
          1273.17,
          1519.03,
          892.93,
          1103.45
         ],
         "y0": " ",
         "yaxis": "y"
        },
        {
         "alignmentgroup": "True",
         "hovertemplate": "<b>%{hovertext}</b><br><br>HSCode=%{x}<br>value=%{y}<extra></extra>",
         "hovertext": [
          720.65,
          1104.52,
          831.33,
          843.06,
          876.93,
          949.2,
          900.99,
          1531.55
         ],
         "legendgroup": "39",
         "marker": {
          "color": "#ab63fa"
         },
         "name": "39",
         "notched": false,
         "offsetgroup": "39",
         "orientation": "v",
         "showlegend": true,
         "type": "box",
         "x": [
          39,
          39,
          39,
          39,
          39,
          39,
          39,
          39
         ],
         "x0": " ",
         "xaxis": "x",
         "y": [
          720.65,
          1104.52,
          831.33,
          843.06,
          876.93,
          949.2,
          900.99,
          1531.55
         ],
         "y0": " ",
         "yaxis": "y"
        },
        {
         "alignmentgroup": "True",
         "hovertemplate": "<b>%{hovertext}</b><br><br>HSCode=%{x}<br>value=%{y}<extra></extra>",
         "hovertext": [
          807.72,
          857,
          926.4,
          836.63,
          1280.83,
          1445.67
         ],
         "legendgroup": "38",
         "marker": {
          "color": "#FFA15A"
         },
         "name": "38",
         "notched": false,
         "offsetgroup": "38",
         "orientation": "v",
         "showlegend": true,
         "type": "box",
         "x": [
          38,
          38,
          38,
          38,
          38,
          38
         ],
         "x0": " ",
         "xaxis": "x",
         "y": [
          807.72,
          857,
          926.4,
          836.63,
          1280.83,
          1445.67
         ],
         "y0": " ",
         "yaxis": "y"
        },
        {
         "alignmentgroup": "True",
         "hovertemplate": "<b>%{hovertext}</b><br><br>HSCode=%{x}<br>value=%{y}<extra></extra>",
         "hovertext": [
          768.25,
          901.08,
          1385.36
         ],
         "legendgroup": "94",
         "marker": {
          "color": "#19d3f3"
         },
         "name": "94",
         "notched": false,
         "offsetgroup": "94",
         "orientation": "v",
         "showlegend": true,
         "type": "box",
         "x": [
          94,
          94,
          94
         ],
         "x0": " ",
         "xaxis": "x",
         "y": [
          768.25,
          901.08,
          1385.36
         ],
         "y0": " ",
         "yaxis": "y"
        },
        {
         "alignmentgroup": "True",
         "hovertemplate": "<b>%{hovertext}</b><br><br>HSCode=%{x}<br>value=%{y}<extra></extra>",
         "hovertext": [
          731.26,
          911.02
         ],
         "legendgroup": "25",
         "marker": {
          "color": "#FF6692"
         },
         "name": "25",
         "notched": false,
         "offsetgroup": "25",
         "orientation": "v",
         "showlegend": true,
         "type": "box",
         "x": [
          25,
          25
         ],
         "x0": " ",
         "xaxis": "x",
         "y": [
          731.26,
          911.02
         ],
         "y0": " ",
         "yaxis": "y"
        },
        {
         "alignmentgroup": "True",
         "hovertemplate": "<b>%{hovertext}</b><br><br>HSCode=%{x}<br>value=%{y}<extra></extra>",
         "hovertext": [
          875.91
         ],
         "legendgroup": "15",
         "marker": {
          "color": "#B6E880"
         },
         "name": "15",
         "notched": false,
         "offsetgroup": "15",
         "orientation": "v",
         "showlegend": true,
         "type": "box",
         "x": [
          15
         ],
         "x0": " ",
         "xaxis": "x",
         "y": [
          875.91
         ],
         "y0": " ",
         "yaxis": "y"
        },
        {
         "alignmentgroup": "True",
         "hovertemplate": "<b>%{hovertext}</b><br><br>HSCode=%{x}<br>value=%{y}<extra></extra>",
         "hovertext": [
          904.32
         ],
         "legendgroup": "17",
         "marker": {
          "color": "#FF97FF"
         },
         "name": "17",
         "notched": false,
         "offsetgroup": "17",
         "orientation": "v",
         "showlegend": true,
         "type": "box",
         "x": [
          17
         ],
         "x0": " ",
         "xaxis": "x",
         "y": [
          904.32
         ],
         "y0": " ",
         "yaxis": "y"
        },
        {
         "alignmentgroup": "True",
         "hovertemplate": "<b>%{hovertext}</b><br><br>HSCode=%{x}<br>value=%{y}<extra></extra>",
         "hovertext": [
          886.84
         ],
         "legendgroup": "40",
         "marker": {
          "color": "#FECB52"
         },
         "name": "40",
         "notched": false,
         "offsetgroup": "40",
         "orientation": "v",
         "showlegend": true,
         "type": "box",
         "x": [
          40
         ],
         "x0": " ",
         "xaxis": "x",
         "y": [
          886.84
         ],
         "y0": " ",
         "yaxis": "y"
        },
        {
         "alignmentgroup": "True",
         "hovertemplate": "<b>%{hovertext}</b><br><br>HSCode=%{x}<br>value=%{y}<extra></extra>",
         "hovertext": [
          777.01
         ],
         "legendgroup": "42",
         "marker": {
          "color": "#636efa"
         },
         "name": "42",
         "notched": false,
         "offsetgroup": "42",
         "orientation": "v",
         "showlegend": true,
         "type": "box",
         "x": [
          42
         ],
         "x0": " ",
         "xaxis": "x",
         "y": [
          777.01
         ],
         "y0": " ",
         "yaxis": "y"
        },
        {
         "alignmentgroup": "True",
         "hovertemplate": "<b>%{hovertext}</b><br><br>HSCode=%{x}<br>value=%{y}<extra></extra>",
         "hovertext": [
          923.36
         ],
         "legendgroup": "68",
         "marker": {
          "color": "#EF553B"
         },
         "name": "68",
         "notched": false,
         "offsetgroup": "68",
         "orientation": "v",
         "showlegend": true,
         "type": "box",
         "x": [
          68
         ],
         "x0": " ",
         "xaxis": "x",
         "y": [
          923.36
         ],
         "y0": " ",
         "yaxis": "y"
        },
        {
         "alignmentgroup": "True",
         "hovertemplate": "<b>%{hovertext}</b><br><br>HSCode=%{x}<br>value=%{y}<extra></extra>",
         "hovertext": [
          785.05
         ],
         "legendgroup": "90",
         "marker": {
          "color": "#00cc96"
         },
         "name": "90",
         "notched": false,
         "offsetgroup": "90",
         "orientation": "v",
         "showlegend": true,
         "type": "box",
         "x": [
          90
         ],
         "x0": " ",
         "xaxis": "x",
         "y": [
          785.05
         ],
         "y0": " ",
         "yaxis": "y"
        }
       ],
       "layout": {
        "boxmode": "overlay",
        "height": 700,
        "legend": {
         "title": {
          "text": "HSCode"
         },
         "tracegroupgap": 0
        },
        "template": {
         "data": {
          "bar": [
           {
            "error_x": {
             "color": "#2a3f5f"
            },
            "error_y": {
             "color": "#2a3f5f"
            },
            "marker": {
             "line": {
              "color": "#E5ECF6",
              "width": 0.5
             },
             "pattern": {
              "fillmode": "overlay",
              "size": 10,
              "solidity": 0.2
             }
            },
            "type": "bar"
           }
          ],
          "barpolar": [
           {
            "marker": {
             "line": {
              "color": "#E5ECF6",
              "width": 0.5
             },
             "pattern": {
              "fillmode": "overlay",
              "size": 10,
              "solidity": 0.2
             }
            },
            "type": "barpolar"
           }
          ],
          "carpet": [
           {
            "aaxis": {
             "endlinecolor": "#2a3f5f",
             "gridcolor": "white",
             "linecolor": "white",
             "minorgridcolor": "white",
             "startlinecolor": "#2a3f5f"
            },
            "baxis": {
             "endlinecolor": "#2a3f5f",
             "gridcolor": "white",
             "linecolor": "white",
             "minorgridcolor": "white",
             "startlinecolor": "#2a3f5f"
            },
            "type": "carpet"
           }
          ],
          "choropleth": [
           {
            "colorbar": {
             "outlinewidth": 0,
             "ticks": ""
            },
            "type": "choropleth"
           }
          ],
          "contour": [
           {
            "colorbar": {
             "outlinewidth": 0,
             "ticks": ""
            },
            "colorscale": [
             [
              0,
              "#0d0887"
             ],
             [
              0.1111111111111111,
              "#46039f"
             ],
             [
              0.2222222222222222,
              "#7201a8"
             ],
             [
              0.3333333333333333,
              "#9c179e"
             ],
             [
              0.4444444444444444,
              "#bd3786"
             ],
             [
              0.5555555555555556,
              "#d8576b"
             ],
             [
              0.6666666666666666,
              "#ed7953"
             ],
             [
              0.7777777777777778,
              "#fb9f3a"
             ],
             [
              0.8888888888888888,
              "#fdca26"
             ],
             [
              1,
              "#f0f921"
             ]
            ],
            "type": "contour"
           }
          ],
          "contourcarpet": [
           {
            "colorbar": {
             "outlinewidth": 0,
             "ticks": ""
            },
            "type": "contourcarpet"
           }
          ],
          "heatmap": [
           {
            "colorbar": {
             "outlinewidth": 0,
             "ticks": ""
            },
            "colorscale": [
             [
              0,
              "#0d0887"
             ],
             [
              0.1111111111111111,
              "#46039f"
             ],
             [
              0.2222222222222222,
              "#7201a8"
             ],
             [
              0.3333333333333333,
              "#9c179e"
             ],
             [
              0.4444444444444444,
              "#bd3786"
             ],
             [
              0.5555555555555556,
              "#d8576b"
             ],
             [
              0.6666666666666666,
              "#ed7953"
             ],
             [
              0.7777777777777778,
              "#fb9f3a"
             ],
             [
              0.8888888888888888,
              "#fdca26"
             ],
             [
              1,
              "#f0f921"
             ]
            ],
            "type": "heatmap"
           }
          ],
          "heatmapgl": [
           {
            "colorbar": {
             "outlinewidth": 0,
             "ticks": ""
            },
            "colorscale": [
             [
              0,
              "#0d0887"
             ],
             [
              0.1111111111111111,
              "#46039f"
             ],
             [
              0.2222222222222222,
              "#7201a8"
             ],
             [
              0.3333333333333333,
              "#9c179e"
             ],
             [
              0.4444444444444444,
              "#bd3786"
             ],
             [
              0.5555555555555556,
              "#d8576b"
             ],
             [
              0.6666666666666666,
              "#ed7953"
             ],
             [
              0.7777777777777778,
              "#fb9f3a"
             ],
             [
              0.8888888888888888,
              "#fdca26"
             ],
             [
              1,
              "#f0f921"
             ]
            ],
            "type": "heatmapgl"
           }
          ],
          "histogram": [
           {
            "marker": {
             "pattern": {
              "fillmode": "overlay",
              "size": 10,
              "solidity": 0.2
             }
            },
            "type": "histogram"
           }
          ],
          "histogram2d": [
           {
            "colorbar": {
             "outlinewidth": 0,
             "ticks": ""
            },
            "colorscale": [
             [
              0,
              "#0d0887"
             ],
             [
              0.1111111111111111,
              "#46039f"
             ],
             [
              0.2222222222222222,
              "#7201a8"
             ],
             [
              0.3333333333333333,
              "#9c179e"
             ],
             [
              0.4444444444444444,
              "#bd3786"
             ],
             [
              0.5555555555555556,
              "#d8576b"
             ],
             [
              0.6666666666666666,
              "#ed7953"
             ],
             [
              0.7777777777777778,
              "#fb9f3a"
             ],
             [
              0.8888888888888888,
              "#fdca26"
             ],
             [
              1,
              "#f0f921"
             ]
            ],
            "type": "histogram2d"
           }
          ],
          "histogram2dcontour": [
           {
            "colorbar": {
             "outlinewidth": 0,
             "ticks": ""
            },
            "colorscale": [
             [
              0,
              "#0d0887"
             ],
             [
              0.1111111111111111,
              "#46039f"
             ],
             [
              0.2222222222222222,
              "#7201a8"
             ],
             [
              0.3333333333333333,
              "#9c179e"
             ],
             [
              0.4444444444444444,
              "#bd3786"
             ],
             [
              0.5555555555555556,
              "#d8576b"
             ],
             [
              0.6666666666666666,
              "#ed7953"
             ],
             [
              0.7777777777777778,
              "#fb9f3a"
             ],
             [
              0.8888888888888888,
              "#fdca26"
             ],
             [
              1,
              "#f0f921"
             ]
            ],
            "type": "histogram2dcontour"
           }
          ],
          "mesh3d": [
           {
            "colorbar": {
             "outlinewidth": 0,
             "ticks": ""
            },
            "type": "mesh3d"
           }
          ],
          "parcoords": [
           {
            "line": {
             "colorbar": {
              "outlinewidth": 0,
              "ticks": ""
             }
            },
            "type": "parcoords"
           }
          ],
          "pie": [
           {
            "automargin": true,
            "type": "pie"
           }
          ],
          "scatter": [
           {
            "fillpattern": {
             "fillmode": "overlay",
             "size": 10,
             "solidity": 0.2
            },
            "type": "scatter"
           }
          ],
          "scatter3d": [
           {
            "line": {
             "colorbar": {
              "outlinewidth": 0,
              "ticks": ""
             }
            },
            "marker": {
             "colorbar": {
              "outlinewidth": 0,
              "ticks": ""
             }
            },
            "type": "scatter3d"
           }
          ],
          "scattercarpet": [
           {
            "marker": {
             "colorbar": {
              "outlinewidth": 0,
              "ticks": ""
             }
            },
            "type": "scattercarpet"
           }
          ],
          "scattergeo": [
           {
            "marker": {
             "colorbar": {
              "outlinewidth": 0,
              "ticks": ""
             }
            },
            "type": "scattergeo"
           }
          ],
          "scattergl": [
           {
            "marker": {
             "colorbar": {
              "outlinewidth": 0,
              "ticks": ""
             }
            },
            "type": "scattergl"
           }
          ],
          "scattermapbox": [
           {
            "marker": {
             "colorbar": {
              "outlinewidth": 0,
              "ticks": ""
             }
            },
            "type": "scattermapbox"
           }
          ],
          "scatterpolar": [
           {
            "marker": {
             "colorbar": {
              "outlinewidth": 0,
              "ticks": ""
             }
            },
            "type": "scatterpolar"
           }
          ],
          "scatterpolargl": [
           {
            "marker": {
             "colorbar": {
              "outlinewidth": 0,
              "ticks": ""
             }
            },
            "type": "scatterpolargl"
           }
          ],
          "scatterternary": [
           {
            "marker": {
             "colorbar": {
              "outlinewidth": 0,
              "ticks": ""
             }
            },
            "type": "scatterternary"
           }
          ],
          "surface": [
           {
            "colorbar": {
             "outlinewidth": 0,
             "ticks": ""
            },
            "colorscale": [
             [
              0,
              "#0d0887"
             ],
             [
              0.1111111111111111,
              "#46039f"
             ],
             [
              0.2222222222222222,
              "#7201a8"
             ],
             [
              0.3333333333333333,
              "#9c179e"
             ],
             [
              0.4444444444444444,
              "#bd3786"
             ],
             [
              0.5555555555555556,
              "#d8576b"
             ],
             [
              0.6666666666666666,
              "#ed7953"
             ],
             [
              0.7777777777777778,
              "#fb9f3a"
             ],
             [
              0.8888888888888888,
              "#fdca26"
             ],
             [
              1,
              "#f0f921"
             ]
            ],
            "type": "surface"
           }
          ],
          "table": [
           {
            "cells": {
             "fill": {
              "color": "#EBF0F8"
             },
             "line": {
              "color": "white"
             }
            },
            "header": {
             "fill": {
              "color": "#C8D4E3"
             },
             "line": {
              "color": "white"
             }
            },
            "type": "table"
           }
          ]
         },
         "layout": {
          "annotationdefaults": {
           "arrowcolor": "#2a3f5f",
           "arrowhead": 0,
           "arrowwidth": 1
          },
          "autotypenumbers": "strict",
          "coloraxis": {
           "colorbar": {
            "outlinewidth": 0,
            "ticks": ""
           }
          },
          "colorscale": {
           "diverging": [
            [
             0,
             "#8e0152"
            ],
            [
             0.1,
             "#c51b7d"
            ],
            [
             0.2,
             "#de77ae"
            ],
            [
             0.3,
             "#f1b6da"
            ],
            [
             0.4,
             "#fde0ef"
            ],
            [
             0.5,
             "#f7f7f7"
            ],
            [
             0.6,
             "#e6f5d0"
            ],
            [
             0.7,
             "#b8e186"
            ],
            [
             0.8,
             "#7fbc41"
            ],
            [
             0.9,
             "#4d9221"
            ],
            [
             1,
             "#276419"
            ]
           ],
           "sequential": [
            [
             0,
             "#0d0887"
            ],
            [
             0.1111111111111111,
             "#46039f"
            ],
            [
             0.2222222222222222,
             "#7201a8"
            ],
            [
             0.3333333333333333,
             "#9c179e"
            ],
            [
             0.4444444444444444,
             "#bd3786"
            ],
            [
             0.5555555555555556,
             "#d8576b"
            ],
            [
             0.6666666666666666,
             "#ed7953"
            ],
            [
             0.7777777777777778,
             "#fb9f3a"
            ],
            [
             0.8888888888888888,
             "#fdca26"
            ],
            [
             1,
             "#f0f921"
            ]
           ],
           "sequentialminus": [
            [
             0,
             "#0d0887"
            ],
            [
             0.1111111111111111,
             "#46039f"
            ],
            [
             0.2222222222222222,
             "#7201a8"
            ],
            [
             0.3333333333333333,
             "#9c179e"
            ],
            [
             0.4444444444444444,
             "#bd3786"
            ],
            [
             0.5555555555555556,
             "#d8576b"
            ],
            [
             0.6666666666666666,
             "#ed7953"
            ],
            [
             0.7777777777777778,
             "#fb9f3a"
            ],
            [
             0.8888888888888888,
             "#fdca26"
            ],
            [
             1,
             "#f0f921"
            ]
           ]
          },
          "colorway": [
           "#636efa",
           "#EF553B",
           "#00cc96",
           "#ab63fa",
           "#FFA15A",
           "#19d3f3",
           "#FF6692",
           "#B6E880",
           "#FF97FF",
           "#FECB52"
          ],
          "font": {
           "color": "#2a3f5f"
          },
          "geo": {
           "bgcolor": "white",
           "lakecolor": "white",
           "landcolor": "#E5ECF6",
           "showlakes": true,
           "showland": true,
           "subunitcolor": "white"
          },
          "hoverlabel": {
           "align": "left"
          },
          "hovermode": "closest",
          "mapbox": {
           "style": "light"
          },
          "paper_bgcolor": "white",
          "plot_bgcolor": "#E5ECF6",
          "polar": {
           "angularaxis": {
            "gridcolor": "white",
            "linecolor": "white",
            "ticks": ""
           },
           "bgcolor": "#E5ECF6",
           "radialaxis": {
            "gridcolor": "white",
            "linecolor": "white",
            "ticks": ""
           }
          },
          "scene": {
           "xaxis": {
            "backgroundcolor": "#E5ECF6",
            "gridcolor": "white",
            "gridwidth": 2,
            "linecolor": "white",
            "showbackground": true,
            "ticks": "",
            "zerolinecolor": "white"
           },
           "yaxis": {
            "backgroundcolor": "#E5ECF6",
            "gridcolor": "white",
            "gridwidth": 2,
            "linecolor": "white",
            "showbackground": true,
            "ticks": "",
            "zerolinecolor": "white"
           },
           "zaxis": {
            "backgroundcolor": "#E5ECF6",
            "gridcolor": "white",
            "gridwidth": 2,
            "linecolor": "white",
            "showbackground": true,
            "ticks": "",
            "zerolinecolor": "white"
           }
          },
          "shapedefaults": {
           "line": {
            "color": "#2a3f5f"
           }
          },
          "ternary": {
           "aaxis": {
            "gridcolor": "white",
            "linecolor": "white",
            "ticks": ""
           },
           "baxis": {
            "gridcolor": "white",
            "linecolor": "white",
            "ticks": ""
           },
           "bgcolor": "#E5ECF6",
           "caxis": {
            "gridcolor": "white",
            "linecolor": "white",
            "ticks": ""
           }
          },
          "title": {
           "x": 0.05
          },
          "xaxis": {
           "automargin": true,
           "gridcolor": "white",
           "linecolor": "white",
           "ticks": "",
           "title": {
            "standoff": 15
           },
           "zerolinecolor": "white",
           "zerolinewidth": 2
          },
          "yaxis": {
           "automargin": true,
           "gridcolor": "white",
           "linecolor": "white",
           "ticks": "",
           "title": {
            "standoff": 15
           },
           "zerolinecolor": "white",
           "zerolinewidth": 2
          }
         }
        },
        "title": {
         "text": "Expensive Exports HSCodewise"
        },
        "width": 1400,
        "xaxis": {
         "anchor": "y",
         "categoryarray": [
          27,
          52,
          71,
          26,
          29,
          72,
          74,
          73,
          89,
          87,
          85,
          62,
          30,
          61,
          63,
          84,
          10,
          13,
          2,
          88,
          3,
          57,
          76,
          39,
          38,
          94,
          25,
          15,
          17,
          40,
          42,
          68,
          90
         ],
         "categoryorder": "array",
         "domain": [
          0,
          1
         ],
         "title": {
          "text": "HSCode"
         }
        },
        "yaxis": {
         "anchor": "x",
         "domain": [
          0,
          1
         ],
         "title": {
          "text": "value"
         }
        }
       }
      }
     },
     "metadata": {},
     "output_type": "display_data"
    }
   ],
   "source": [
    "exp_exports = pd.DataFrame(data=df_export[df_export.value>700])\n",
    "px.box(x=\"HSCode\", y=\"value\", data_frame=exp_exports, title='Expensive Exports HSCodewise', \n",
    "            color='HSCode', hover_name='value', height=700, width = 1400)"
   ]
  },
  {
   "attachments": {},
   "cell_type": "markdown",
   "metadata": {},
   "source": [
    "# Expensive Commodities Imported\n",
    "\n",
    "While exploring the dataset, we found that some expensive commodities (coming as outliers) are imported. Lets find them and the total imports amount involved."
   ]
  },
  {
   "cell_type": "code",
   "execution_count": 64,
   "metadata": {},
   "outputs": [
    {
     "data": {
      "application/vnd.plotly.v1+json": {
       "config": {
        "plotlyServerURL": "https://plot.ly"
       },
       "data": [
        {
         "alignmentgroup": "True",
         "hovertemplate": "Commoditiy Value in Million USD=%{marker.color}<br>Commodity=%{y}<extra></extra>",
         "legendgroup": "",
         "marker": {
          "color": [
           1753459.63,
           802726.78,
           484964.28,
           441382.89,
           218069.27,
           146994.87,
           133740.72
          ],
          "coloraxis": "coloraxis",
          "pattern": {
           "shape": ""
          }
         },
         "name": "",
         "offsetgroup": "",
         "orientation": "h",
         "showlegend": false,
         "textposition": "auto",
         "type": "bar",
         "x": [
          1753459.63,
          802726.78,
          484964.28,
          441382.89,
          218069.27,
          146994.87,
          133740.72
         ],
         "xaxis": "x",
         "y": [
          "MINERAL",
          "NATURAL",
          "ELECTRICAL",
          "NUCLEAR",
          "ORGANIC",
          "PLASTIC",
          "IRON"
         ],
         "yaxis": "y"
        }
       ],
       "layout": {
        "barmode": "relative",
        "coloraxis": {
         "colorbar": {
          "title": {
           "text": "Commoditiy Value in Million USD"
          }
         },
         "colorscale": [
          [
           0,
           "#0d0887"
          ],
          [
           0.1111111111111111,
           "#46039f"
          ],
          [
           0.2222222222222222,
           "#7201a8"
          ],
          [
           0.3333333333333333,
           "#9c179e"
          ],
          [
           0.4444444444444444,
           "#bd3786"
          ],
          [
           0.5555555555555556,
           "#d8576b"
          ],
          [
           0.6666666666666666,
           "#ed7953"
          ],
          [
           0.7777777777777778,
           "#fb9f3a"
          ],
          [
           0.8888888888888888,
           "#fdca26"
          ],
          [
           1,
           "#f0f921"
          ]
         ]
        },
        "legend": {
         "tracegroupgap": 0
        },
        "template": {
         "data": {
          "bar": [
           {
            "error_x": {
             "color": "#2a3f5f"
            },
            "error_y": {
             "color": "#2a3f5f"
            },
            "marker": {
             "line": {
              "color": "#E5ECF6",
              "width": 0.5
             },
             "pattern": {
              "fillmode": "overlay",
              "size": 10,
              "solidity": 0.2
             }
            },
            "type": "bar"
           }
          ],
          "barpolar": [
           {
            "marker": {
             "line": {
              "color": "#E5ECF6",
              "width": 0.5
             },
             "pattern": {
              "fillmode": "overlay",
              "size": 10,
              "solidity": 0.2
             }
            },
            "type": "barpolar"
           }
          ],
          "carpet": [
           {
            "aaxis": {
             "endlinecolor": "#2a3f5f",
             "gridcolor": "white",
             "linecolor": "white",
             "minorgridcolor": "white",
             "startlinecolor": "#2a3f5f"
            },
            "baxis": {
             "endlinecolor": "#2a3f5f",
             "gridcolor": "white",
             "linecolor": "white",
             "minorgridcolor": "white",
             "startlinecolor": "#2a3f5f"
            },
            "type": "carpet"
           }
          ],
          "choropleth": [
           {
            "colorbar": {
             "outlinewidth": 0,
             "ticks": ""
            },
            "type": "choropleth"
           }
          ],
          "contour": [
           {
            "colorbar": {
             "outlinewidth": 0,
             "ticks": ""
            },
            "colorscale": [
             [
              0,
              "#0d0887"
             ],
             [
              0.1111111111111111,
              "#46039f"
             ],
             [
              0.2222222222222222,
              "#7201a8"
             ],
             [
              0.3333333333333333,
              "#9c179e"
             ],
             [
              0.4444444444444444,
              "#bd3786"
             ],
             [
              0.5555555555555556,
              "#d8576b"
             ],
             [
              0.6666666666666666,
              "#ed7953"
             ],
             [
              0.7777777777777778,
              "#fb9f3a"
             ],
             [
              0.8888888888888888,
              "#fdca26"
             ],
             [
              1,
              "#f0f921"
             ]
            ],
            "type": "contour"
           }
          ],
          "contourcarpet": [
           {
            "colorbar": {
             "outlinewidth": 0,
             "ticks": ""
            },
            "type": "contourcarpet"
           }
          ],
          "heatmap": [
           {
            "colorbar": {
             "outlinewidth": 0,
             "ticks": ""
            },
            "colorscale": [
             [
              0,
              "#0d0887"
             ],
             [
              0.1111111111111111,
              "#46039f"
             ],
             [
              0.2222222222222222,
              "#7201a8"
             ],
             [
              0.3333333333333333,
              "#9c179e"
             ],
             [
              0.4444444444444444,
              "#bd3786"
             ],
             [
              0.5555555555555556,
              "#d8576b"
             ],
             [
              0.6666666666666666,
              "#ed7953"
             ],
             [
              0.7777777777777778,
              "#fb9f3a"
             ],
             [
              0.8888888888888888,
              "#fdca26"
             ],
             [
              1,
              "#f0f921"
             ]
            ],
            "type": "heatmap"
           }
          ],
          "heatmapgl": [
           {
            "colorbar": {
             "outlinewidth": 0,
             "ticks": ""
            },
            "colorscale": [
             [
              0,
              "#0d0887"
             ],
             [
              0.1111111111111111,
              "#46039f"
             ],
             [
              0.2222222222222222,
              "#7201a8"
             ],
             [
              0.3333333333333333,
              "#9c179e"
             ],
             [
              0.4444444444444444,
              "#bd3786"
             ],
             [
              0.5555555555555556,
              "#d8576b"
             ],
             [
              0.6666666666666666,
              "#ed7953"
             ],
             [
              0.7777777777777778,
              "#fb9f3a"
             ],
             [
              0.8888888888888888,
              "#fdca26"
             ],
             [
              1,
              "#f0f921"
             ]
            ],
            "type": "heatmapgl"
           }
          ],
          "histogram": [
           {
            "marker": {
             "pattern": {
              "fillmode": "overlay",
              "size": 10,
              "solidity": 0.2
             }
            },
            "type": "histogram"
           }
          ],
          "histogram2d": [
           {
            "colorbar": {
             "outlinewidth": 0,
             "ticks": ""
            },
            "colorscale": [
             [
              0,
              "#0d0887"
             ],
             [
              0.1111111111111111,
              "#46039f"
             ],
             [
              0.2222222222222222,
              "#7201a8"
             ],
             [
              0.3333333333333333,
              "#9c179e"
             ],
             [
              0.4444444444444444,
              "#bd3786"
             ],
             [
              0.5555555555555556,
              "#d8576b"
             ],
             [
              0.6666666666666666,
              "#ed7953"
             ],
             [
              0.7777777777777778,
              "#fb9f3a"
             ],
             [
              0.8888888888888888,
              "#fdca26"
             ],
             [
              1,
              "#f0f921"
             ]
            ],
            "type": "histogram2d"
           }
          ],
          "histogram2dcontour": [
           {
            "colorbar": {
             "outlinewidth": 0,
             "ticks": ""
            },
            "colorscale": [
             [
              0,
              "#0d0887"
             ],
             [
              0.1111111111111111,
              "#46039f"
             ],
             [
              0.2222222222222222,
              "#7201a8"
             ],
             [
              0.3333333333333333,
              "#9c179e"
             ],
             [
              0.4444444444444444,
              "#bd3786"
             ],
             [
              0.5555555555555556,
              "#d8576b"
             ],
             [
              0.6666666666666666,
              "#ed7953"
             ],
             [
              0.7777777777777778,
              "#fb9f3a"
             ],
             [
              0.8888888888888888,
              "#fdca26"
             ],
             [
              1,
              "#f0f921"
             ]
            ],
            "type": "histogram2dcontour"
           }
          ],
          "mesh3d": [
           {
            "colorbar": {
             "outlinewidth": 0,
             "ticks": ""
            },
            "type": "mesh3d"
           }
          ],
          "parcoords": [
           {
            "line": {
             "colorbar": {
              "outlinewidth": 0,
              "ticks": ""
             }
            },
            "type": "parcoords"
           }
          ],
          "pie": [
           {
            "automargin": true,
            "type": "pie"
           }
          ],
          "scatter": [
           {
            "fillpattern": {
             "fillmode": "overlay",
             "size": 10,
             "solidity": 0.2
            },
            "type": "scatter"
           }
          ],
          "scatter3d": [
           {
            "line": {
             "colorbar": {
              "outlinewidth": 0,
              "ticks": ""
             }
            },
            "marker": {
             "colorbar": {
              "outlinewidth": 0,
              "ticks": ""
             }
            },
            "type": "scatter3d"
           }
          ],
          "scattercarpet": [
           {
            "marker": {
             "colorbar": {
              "outlinewidth": 0,
              "ticks": ""
             }
            },
            "type": "scattercarpet"
           }
          ],
          "scattergeo": [
           {
            "marker": {
             "colorbar": {
              "outlinewidth": 0,
              "ticks": ""
             }
            },
            "type": "scattergeo"
           }
          ],
          "scattergl": [
           {
            "marker": {
             "colorbar": {
              "outlinewidth": 0,
              "ticks": ""
             }
            },
            "type": "scattergl"
           }
          ],
          "scattermapbox": [
           {
            "marker": {
             "colorbar": {
              "outlinewidth": 0,
              "ticks": ""
             }
            },
            "type": "scattermapbox"
           }
          ],
          "scatterpolar": [
           {
            "marker": {
             "colorbar": {
              "outlinewidth": 0,
              "ticks": ""
             }
            },
            "type": "scatterpolar"
           }
          ],
          "scatterpolargl": [
           {
            "marker": {
             "colorbar": {
              "outlinewidth": 0,
              "ticks": ""
             }
            },
            "type": "scatterpolargl"
           }
          ],
          "scatterternary": [
           {
            "marker": {
             "colorbar": {
              "outlinewidth": 0,
              "ticks": ""
             }
            },
            "type": "scatterternary"
           }
          ],
          "surface": [
           {
            "colorbar": {
             "outlinewidth": 0,
             "ticks": ""
            },
            "colorscale": [
             [
              0,
              "#0d0887"
             ],
             [
              0.1111111111111111,
              "#46039f"
             ],
             [
              0.2222222222222222,
              "#7201a8"
             ],
             [
              0.3333333333333333,
              "#9c179e"
             ],
             [
              0.4444444444444444,
              "#bd3786"
             ],
             [
              0.5555555555555556,
              "#d8576b"
             ],
             [
              0.6666666666666666,
              "#ed7953"
             ],
             [
              0.7777777777777778,
              "#fb9f3a"
             ],
             [
              0.8888888888888888,
              "#fdca26"
             ],
             [
              1,
              "#f0f921"
             ]
            ],
            "type": "surface"
           }
          ],
          "table": [
           {
            "cells": {
             "fill": {
              "color": "#EBF0F8"
             },
             "line": {
              "color": "white"
             }
            },
            "header": {
             "fill": {
              "color": "#C8D4E3"
             },
             "line": {
              "color": "white"
             }
            },
            "type": "table"
           }
          ]
         },
         "layout": {
          "annotationdefaults": {
           "arrowcolor": "#2a3f5f",
           "arrowhead": 0,
           "arrowwidth": 1
          },
          "autotypenumbers": "strict",
          "coloraxis": {
           "colorbar": {
            "outlinewidth": 0,
            "ticks": ""
           }
          },
          "colorscale": {
           "diverging": [
            [
             0,
             "#8e0152"
            ],
            [
             0.1,
             "#c51b7d"
            ],
            [
             0.2,
             "#de77ae"
            ],
            [
             0.3,
             "#f1b6da"
            ],
            [
             0.4,
             "#fde0ef"
            ],
            [
             0.5,
             "#f7f7f7"
            ],
            [
             0.6,
             "#e6f5d0"
            ],
            [
             0.7,
             "#b8e186"
            ],
            [
             0.8,
             "#7fbc41"
            ],
            [
             0.9,
             "#4d9221"
            ],
            [
             1,
             "#276419"
            ]
           ],
           "sequential": [
            [
             0,
             "#0d0887"
            ],
            [
             0.1111111111111111,
             "#46039f"
            ],
            [
             0.2222222222222222,
             "#7201a8"
            ],
            [
             0.3333333333333333,
             "#9c179e"
            ],
            [
             0.4444444444444444,
             "#bd3786"
            ],
            [
             0.5555555555555556,
             "#d8576b"
            ],
            [
             0.6666666666666666,
             "#ed7953"
            ],
            [
             0.7777777777777778,
             "#fb9f3a"
            ],
            [
             0.8888888888888888,
             "#fdca26"
            ],
            [
             1,
             "#f0f921"
            ]
           ],
           "sequentialminus": [
            [
             0,
             "#0d0887"
            ],
            [
             0.1111111111111111,
             "#46039f"
            ],
            [
             0.2222222222222222,
             "#7201a8"
            ],
            [
             0.3333333333333333,
             "#9c179e"
            ],
            [
             0.4444444444444444,
             "#bd3786"
            ],
            [
             0.5555555555555556,
             "#d8576b"
            ],
            [
             0.6666666666666666,
             "#ed7953"
            ],
            [
             0.7777777777777778,
             "#fb9f3a"
            ],
            [
             0.8888888888888888,
             "#fdca26"
            ],
            [
             1,
             "#f0f921"
            ]
           ]
          },
          "colorway": [
           "#636efa",
           "#EF553B",
           "#00cc96",
           "#ab63fa",
           "#FFA15A",
           "#19d3f3",
           "#FF6692",
           "#B6E880",
           "#FF97FF",
           "#FECB52"
          ],
          "font": {
           "color": "#2a3f5f"
          },
          "geo": {
           "bgcolor": "white",
           "lakecolor": "white",
           "landcolor": "#E5ECF6",
           "showlakes": true,
           "showland": true,
           "subunitcolor": "white"
          },
          "hoverlabel": {
           "align": "left"
          },
          "hovermode": "closest",
          "mapbox": {
           "style": "light"
          },
          "paper_bgcolor": "white",
          "plot_bgcolor": "#E5ECF6",
          "polar": {
           "angularaxis": {
            "gridcolor": "white",
            "linecolor": "white",
            "ticks": ""
           },
           "bgcolor": "#E5ECF6",
           "radialaxis": {
            "gridcolor": "white",
            "linecolor": "white",
            "ticks": ""
           }
          },
          "scene": {
           "xaxis": {
            "backgroundcolor": "#E5ECF6",
            "gridcolor": "white",
            "gridwidth": 2,
            "linecolor": "white",
            "showbackground": true,
            "ticks": "",
            "zerolinecolor": "white"
           },
           "yaxis": {
            "backgroundcolor": "#E5ECF6",
            "gridcolor": "white",
            "gridwidth": 2,
            "linecolor": "white",
            "showbackground": true,
            "ticks": "",
            "zerolinecolor": "white"
           },
           "zaxis": {
            "backgroundcolor": "#E5ECF6",
            "gridcolor": "white",
            "gridwidth": 2,
            "linecolor": "white",
            "showbackground": true,
            "ticks": "",
            "zerolinecolor": "white"
           }
          },
          "shapedefaults": {
           "line": {
            "color": "#2a3f5f"
           }
          },
          "ternary": {
           "aaxis": {
            "gridcolor": "white",
            "linecolor": "white",
            "ticks": ""
           },
           "baxis": {
            "gridcolor": "white",
            "linecolor": "white",
            "ticks": ""
           },
           "bgcolor": "#E5ECF6",
           "caxis": {
            "gridcolor": "white",
            "linecolor": "white",
            "ticks": ""
           }
          },
          "title": {
           "x": 0.05
          },
          "xaxis": {
           "automargin": true,
           "gridcolor": "white",
           "linecolor": "white",
           "ticks": "",
           "title": {
            "standoff": 15
           },
           "zerolinecolor": "white",
           "zerolinewidth": 2
          },
          "yaxis": {
           "automargin": true,
           "gridcolor": "white",
           "linecolor": "white",
           "ticks": "",
           "title": {
            "standoff": 15
           },
           "zerolinecolor": "white",
           "zerolinewidth": 2
          }
         }
        },
        "title": {
         "text": "Expensive Goods Imported to India Between 2010-2018 According to their Aggregate Value"
        },
        "xaxis": {
         "anchor": "y",
         "domain": [
          0,
          1
         ],
         "title": {
          "text": "Commoditiy Value in Million USD"
         }
        },
        "yaxis": {
         "anchor": "x",
         "domain": [
          0,
          1
         ],
         "title": {
          "text": "Commodity"
         }
        }
       }
      }
     },
     "metadata": {},
     "output_type": "display_data"
    }
   ],
   "source": [
    "# Top 7 Goods imported as per their aggergate values\n",
    "df_import_temp['Commodity'] = df_import_temp['Commodity'].apply(lambda x:x.split()[0])\n",
    "\n",
    "px.bar(data_frame=df_import_temp.head(7),y='Commodity', x='commodity_sum', orientation='h',\n",
    "       color='commodity_sum', title='Expensive Goods Imported to India Between 2010-2018 According to their Aggregate Value',\n",
    "       labels={'commodity_sum':'Commoditiy Value in Million USD'})"
   ]
  },
  {
   "attachments": {},
   "cell_type": "markdown",
   "metadata": {},
   "source": [
    "Goods Imported Net Value"
   ]
  },
  {
   "cell_type": "code",
   "execution_count": 65,
   "metadata": {},
   "outputs": [
    {
     "data": {
      "text/html": [
       "<div>\n",
       "<style scoped>\n",
       "    .dataframe tbody tr th:only-of-type {\n",
       "        vertical-align: middle;\n",
       "    }\n",
       "\n",
       "    .dataframe tbody tr th {\n",
       "        vertical-align: top;\n",
       "    }\n",
       "\n",
       "    .dataframe thead th {\n",
       "        text-align: right;\n",
       "    }\n",
       "</style>\n",
       "<table border=\"1\" class=\"dataframe\">\n",
       "  <thead>\n",
       "    <tr style=\"text-align: right;\">\n",
       "      <th></th>\n",
       "      <th>value</th>\n",
       "    </tr>\n",
       "    <tr>\n",
       "      <th>Commodity</th>\n",
       "      <th></th>\n",
       "    </tr>\n",
       "  </thead>\n",
       "  <tbody>\n",
       "    <tr>\n",
       "      <th>MINERAL FUELS, MINERAL OILS AND PRODUCTS OF THEIR DISTILLATION; BITUMINOUS SUBSTANCES; MINERAL WAXES.</th>\n",
       "      <td>1753459.63</td>\n",
       "    </tr>\n",
       "    <tr>\n",
       "      <th>NATURAL OR CULTURED PEARLS,PRECIOUS OR SEMIPRECIOUS STONES,PRE.METALS,CLAD WITH PRE.METAL AND ARTCLS THEREOF;IMIT.JEWLRY;COIN.</th>\n",
       "      <td>802726.78</td>\n",
       "    </tr>\n",
       "    <tr>\n",
       "      <th>ELECTRICAL MACHINERY AND EQUIPMENT AND PARTS THEREOF; SOUND RECORDERS AND REPRODUCERS, TELEVISION IMAGE AND SOUND RECORDERS AND REPRODUCERS,AND PARTS.</th>\n",
       "      <td>484964.28</td>\n",
       "    </tr>\n",
       "    <tr>\n",
       "      <th>NUCLEAR REACTORS, BOILERS, MACHINERY AND MECHANICAL APPLIANCES; PARTS THEREOF.</th>\n",
       "      <td>441382.89</td>\n",
       "    </tr>\n",
       "    <tr>\n",
       "      <th>ORGANIC CHEMICALS</th>\n",
       "      <td>218069.27</td>\n",
       "    </tr>\n",
       "    <tr>\n",
       "      <th>PLASTIC AND ARTICLES THEREOF.</th>\n",
       "      <td>146994.87</td>\n",
       "    </tr>\n",
       "    <tr>\n",
       "      <th>IRON AND STEEL</th>\n",
       "      <td>133740.72</td>\n",
       "    </tr>\n",
       "  </tbody>\n",
       "</table>\n",
       "</div>"
      ],
      "text/plain": [
       "                                                         value\n",
       "Commodity                                                     \n",
       "MINERAL FUELS, MINERAL OILS AND PRODUCTS OF THE...  1753459.63\n",
       "NATURAL OR CULTURED PEARLS,PRECIOUS OR SEMIPREC...   802726.78\n",
       "ELECTRICAL MACHINERY AND EQUIPMENT AND PARTS TH...   484964.28\n",
       "NUCLEAR REACTORS, BOILERS, MACHINERY AND MECHAN...   441382.89\n",
       "ORGANIC CHEMICALS                                    218069.27\n",
       "PLASTIC AND ARTICLES THEREOF.                        146994.87\n",
       "IRON AND STEEL                                       133740.72"
      ]
     },
     "execution_count": 65,
     "metadata": {},
     "output_type": "execute_result"
    }
   ],
   "source": [
    "pd.DataFrame(df_import.groupby(df_import['Commodity'])['value'].sum().sort_values(ascending=False).head(7))"
   ]
  },
  {
   "attachments": {},
   "cell_type": "markdown",
   "metadata": {},
   "source": [
    "Expensive Imports based on HSCode"
   ]
  },
  {
   "cell_type": "code",
   "execution_count": 66,
   "metadata": {},
   "outputs": [
    {
     "data": {
      "application/vnd.plotly.v1+json": {
       "config": {
        "plotlyServerURL": "https://plot.ly"
       },
       "data": [
        {
         "alignmentgroup": "True",
         "hovertemplate": "<b>%{hovertext}</b><br><br>HSCode=%{x}<br>value=%{y}<extra></extra>",
         "hovertext": [
          1789.77,
          5089.14,
          4950.11,
          1733.66,
          818.96,
          1076.47,
          3054.14,
          9377.88,
          8954.66,
          9729.09,
          961,
          1767.96,
          10660.41,
          3293.14,
          6060.95,
          17932.31,
          2419.9,
          1303.79,
          9398.23,
          1132.82,
          5203.69,
          1722.95,
          2074.64,
          6547.72,
          8319.93,
          2876.68,
          791.87,
          2588.39,
          5593.74,
          11764.01,
          18826.19,
          814.28,
          15718.33,
          2305.33,
          1724.32,
          14621.44,
          2083.84,
          11697.83,
          28302.37,
          2388.51,
          1651.81,
          15102.54,
          1675.58,
          6653.12,
          955.26,
          7088.24,
          6063.2,
          2658.79,
          809.86,
          2241.33,
          812.85,
          2124.19,
          735.86,
          6110.42,
          9716.39,
          19166.06,
          812.37,
          15737.46,
          1822.98,
          2081.06,
          3263.92,
          11916.51,
          14578.34,
          29896.53,
          932.44,
          2108.99,
          1120.15,
          14984.68,
          2046.14,
          14105.91,
          942,
          841.43,
          5935.84,
          5536.9,
          1128.72,
          1996.5,
          758.56,
          837.69,
          4853.74,
          2016.2,
          790.43,
          6896.05,
          8556.95,
          18450.33,
          708.29,
          16121.78,
          2150.88,
          2961.87,
          13959.6,
          1514.11,
          14590.81,
          32781.57,
          1870.52,
          13263.35,
          1530.79,
          13936.59,
          762.62,
          4418.33,
          5720.64,
          2534.5,
          835.04,
          705.09,
          778.4,
          1776.55,
          962.33,
          1357.83,
          745.56,
          726.14,
          7497.34,
          7292.13,
          14177.22,
          881.63,
          12228.71,
          2762.68,
          2684.32,
          765.22,
          13532.36,
          732.51,
          13415.31,
          23212.88,
          2512.7,
          13509.04,
          1458.07,
          11669.14,
          2659.17,
          5052.3,
          1244.65,
          876.36,
          5089.67,
          4461.57,
          10759.19,
          4059.61,
          1547.96,
          1378.92,
          9769.56,
          7942.43,
          15177.91,
          783.61,
          2392.12,
          7912.8,
          1308.02,
          5678.63,
          2280.65,
          7025.76,
          1383.92,
          763.09,
          796.54,
          5036.24,
          9006.29,
          11633.29,
          3455.54,
          2103.73,
          1842.4,
          7461.06,
          6762.1,
          895.84,
          15583.08,
          2209.89,
          9457.6,
          1666.11,
          5505.88,
          1227.8,
          3609.09,
          9343.96,
          1561.43,
          1004.44,
          888.86,
          752.78,
          6322.78,
          9232.61,
          17544.32,
          738.1,
          922.96,
          6121.36,
          1642.88,
          2766.02,
          754.8,
          9293.95,
          2880.79,
          7207.82,
          2103.53,
          17816.06,
          3139.97,
          9080.71,
          3973.53,
          5859.4,
          1559.37,
          4012,
          9664.58,
          1596.79,
          1165.81,
          1047.32,
          1014.14,
          7283.42,
          12369.07,
          22300.67,
          935.15,
          6427.71,
          2939.62,
          4269.55,
          857.62,
          10619.6,
          1685.15,
          9270.34,
          2157.74,
          24508.68,
          1636.28,
          2771.99,
          1138.19,
          13656.84,
          7294.36,
          7248.15,
          1910.88,
          3629.2,
          7672.69,
          1102.93,
          1127.44,
          1379.95,
          964.08,
          6716.12,
          1013.52,
          23674.07,
          2142.06,
          765.14,
          5879.57,
          2373.28,
          3322.17,
          10033.18,
          1838.78,
          8431.48,
          3189.36,
          23157.24,
          1724.58,
          3013.69,
          783.55,
          16196.71,
          8300.24,
          6029.57,
          1866.02,
          6070.9,
          933.26,
          943.5,
          1048.02,
          4956.99,
          14162.16,
          789.41,
          765.04,
          4141.61,
          1076.7,
          1974.5,
          5539.05,
          1884.24,
          6789.85,
          2110.67,
          13004.51,
          1064.37,
          2251.76,
          11822.66,
          8705.59,
          717.65,
          2593.06,
          13172.34,
          2248.53,
          784.81,
          812.21,
          912.89,
          2319.53,
          1280.6,
          865.4,
          2086.86,
          875.12,
          6876.78,
          31517.05,
          1479.87,
          9923.08,
          1479.77,
          3419.65,
          1011.06,
          10012.5,
          1508.08,
          4707.86,
          10887.22,
          5250.08,
          27612.29,
          3066.25,
          3720.09,
          20320.22,
          16849.16
         ],
         "legendgroup": "27",
         "marker": {
          "color": "#636efa"
         },
         "name": "27",
         "notched": false,
         "offsetgroup": "27",
         "orientation": "v",
         "showlegend": true,
         "type": "box",
         "x": [
          27,
          27,
          27,
          27,
          27,
          27,
          27,
          27,
          27,
          27,
          27,
          27,
          27,
          27,
          27,
          27,
          27,
          27,
          27,
          27,
          27,
          27,
          27,
          27,
          27,
          27,
          27,
          27,
          27,
          27,
          27,
          27,
          27,
          27,
          27,
          27,
          27,
          27,
          27,
          27,
          27,
          27,
          27,
          27,
          27,
          27,
          27,
          27,
          27,
          27,
          27,
          27,
          27,
          27,
          27,
          27,
          27,
          27,
          27,
          27,
          27,
          27,
          27,
          27,
          27,
          27,
          27,
          27,
          27,
          27,
          27,
          27,
          27,
          27,
          27,
          27,
          27,
          27,
          27,
          27,
          27,
          27,
          27,
          27,
          27,
          27,
          27,
          27,
          27,
          27,
          27,
          27,
          27,
          27,
          27,
          27,
          27,
          27,
          27,
          27,
          27,
          27,
          27,
          27,
          27,
          27,
          27,
          27,
          27,
          27,
          27,
          27,
          27,
          27,
          27,
          27,
          27,
          27,
          27,
          27,
          27,
          27,
          27,
          27,
          27,
          27,
          27,
          27,
          27,
          27,
          27,
          27,
          27,
          27,
          27,
          27,
          27,
          27,
          27,
          27,
          27,
          27,
          27,
          27,
          27,
          27,
          27,
          27,
          27,
          27,
          27,
          27,
          27,
          27,
          27,
          27,
          27,
          27,
          27,
          27,
          27,
          27,
          27,
          27,
          27,
          27,
          27,
          27,
          27,
          27,
          27,
          27,
          27,
          27,
          27,
          27,
          27,
          27,
          27,
          27,
          27,
          27,
          27,
          27,
          27,
          27,
          27,
          27,
          27,
          27,
          27,
          27,
          27,
          27,
          27,
          27,
          27,
          27,
          27,
          27,
          27,
          27,
          27,
          27,
          27,
          27,
          27,
          27,
          27,
          27,
          27,
          27,
          27,
          27,
          27,
          27,
          27,
          27,
          27,
          27,
          27,
          27,
          27,
          27,
          27,
          27,
          27,
          27,
          27,
          27,
          27,
          27,
          27,
          27,
          27,
          27,
          27,
          27,
          27,
          27,
          27,
          27,
          27,
          27,
          27,
          27,
          27,
          27,
          27,
          27,
          27,
          27,
          27,
          27,
          27,
          27,
          27,
          27,
          27,
          27,
          27,
          27,
          27,
          27,
          27,
          27,
          27,
          27,
          27,
          27,
          27,
          27,
          27,
          27,
          27,
          27,
          27,
          27,
          27,
          27,
          27,
          27,
          27,
          27,
          27,
          27,
          27,
          27
         ],
         "x0": " ",
         "xaxis": "x",
         "y": [
          1789.77,
          5089.14,
          4950.11,
          1733.66,
          818.96,
          1076.47,
          3054.14,
          9377.88,
          8954.66,
          9729.09,
          961,
          1767.96,
          10660.41,
          3293.14,
          6060.95,
          17932.31,
          2419.9,
          1303.79,
          9398.23,
          1132.82,
          5203.69,
          1722.95,
          2074.64,
          6547.72,
          8319.93,
          2876.68,
          791.87,
          2588.39,
          5593.74,
          11764.01,
          18826.19,
          814.28,
          15718.33,
          2305.33,
          1724.32,
          14621.44,
          2083.84,
          11697.83,
          28302.37,
          2388.51,
          1651.81,
          15102.54,
          1675.58,
          6653.12,
          955.26,
          7088.24,
          6063.2,
          2658.79,
          809.86,
          2241.33,
          812.85,
          2124.19,
          735.86,
          6110.42,
          9716.39,
          19166.06,
          812.37,
          15737.46,
          1822.98,
          2081.06,
          3263.92,
          11916.51,
          14578.34,
          29896.53,
          932.44,
          2108.99,
          1120.15,
          14984.68,
          2046.14,
          14105.91,
          942,
          841.43,
          5935.84,
          5536.9,
          1128.72,
          1996.5,
          758.56,
          837.69,
          4853.74,
          2016.2,
          790.43,
          6896.05,
          8556.95,
          18450.33,
          708.29,
          16121.78,
          2150.88,
          2961.87,
          13959.6,
          1514.11,
          14590.81,
          32781.57,
          1870.52,
          13263.35,
          1530.79,
          13936.59,
          762.62,
          4418.33,
          5720.64,
          2534.5,
          835.04,
          705.09,
          778.4,
          1776.55,
          962.33,
          1357.83,
          745.56,
          726.14,
          7497.34,
          7292.13,
          14177.22,
          881.63,
          12228.71,
          2762.68,
          2684.32,
          765.22,
          13532.36,
          732.51,
          13415.31,
          23212.88,
          2512.7,
          13509.04,
          1458.07,
          11669.14,
          2659.17,
          5052.3,
          1244.65,
          876.36,
          5089.67,
          4461.57,
          10759.19,
          4059.61,
          1547.96,
          1378.92,
          9769.56,
          7942.43,
          15177.91,
          783.61,
          2392.12,
          7912.8,
          1308.02,
          5678.63,
          2280.65,
          7025.76,
          1383.92,
          763.09,
          796.54,
          5036.24,
          9006.29,
          11633.29,
          3455.54,
          2103.73,
          1842.4,
          7461.06,
          6762.1,
          895.84,
          15583.08,
          2209.89,
          9457.6,
          1666.11,
          5505.88,
          1227.8,
          3609.09,
          9343.96,
          1561.43,
          1004.44,
          888.86,
          752.78,
          6322.78,
          9232.61,
          17544.32,
          738.1,
          922.96,
          6121.36,
          1642.88,
          2766.02,
          754.8,
          9293.95,
          2880.79,
          7207.82,
          2103.53,
          17816.06,
          3139.97,
          9080.71,
          3973.53,
          5859.4,
          1559.37,
          4012,
          9664.58,
          1596.79,
          1165.81,
          1047.32,
          1014.14,
          7283.42,
          12369.07,
          22300.67,
          935.15,
          6427.71,
          2939.62,
          4269.55,
          857.62,
          10619.6,
          1685.15,
          9270.34,
          2157.74,
          24508.68,
          1636.28,
          2771.99,
          1138.19,
          13656.84,
          7294.36,
          7248.15,
          1910.88,
          3629.2,
          7672.69,
          1102.93,
          1127.44,
          1379.95,
          964.08,
          6716.12,
          1013.52,
          23674.07,
          2142.06,
          765.14,
          5879.57,
          2373.28,
          3322.17,
          10033.18,
          1838.78,
          8431.48,
          3189.36,
          23157.24,
          1724.58,
          3013.69,
          783.55,
          16196.71,
          8300.24,
          6029.57,
          1866.02,
          6070.9,
          933.26,
          943.5,
          1048.02,
          4956.99,
          14162.16,
          789.41,
          765.04,
          4141.61,
          1076.7,
          1974.5,
          5539.05,
          1884.24,
          6789.85,
          2110.67,
          13004.51,
          1064.37,
          2251.76,
          11822.66,
          8705.59,
          717.65,
          2593.06,
          13172.34,
          2248.53,
          784.81,
          812.21,
          912.89,
          2319.53,
          1280.6,
          865.4,
          2086.86,
          875.12,
          6876.78,
          31517.05,
          1479.87,
          9923.08,
          1479.77,
          3419.65,
          1011.06,
          10012.5,
          1508.08,
          4707.86,
          10887.22,
          5250.08,
          27612.29,
          3066.25,
          3720.09,
          20320.22,
          16849.16
         ],
         "y0": " ",
         "yaxis": "y"
        },
        {
         "alignmentgroup": "True",
         "hovertemplate": "<b>%{hovertext}</b><br><br>HSCode=%{x}<br>value=%{y}<extra></extra>",
         "hovertext": [
          890.47,
          3950.67,
          784.24,
          996.32,
          5658.82,
          1675.3,
          958.58,
          1031.68,
          5625.93,
          2649.41,
          1368.99,
          1111.27,
          4615.43,
          1973.28,
          1135.7,
          1583.75,
          3893.77,
          2591.88,
          1578.32,
          2246.26,
          3642.56,
          2299.25,
          1274.49,
          2291.92,
          4244.97,
          1934.93,
          1405.62,
          2064.73,
          5024.8,
          1597.3,
          1754.03,
          1720.46,
          3440.97,
          1501.04,
          1894.95,
          1945.88,
          2850.45,
          1907.85,
          1500.18,
          2185.58,
          3214.41,
          2287.06,
          1607.12,
          3267.41,
          1070.59,
          4123.29,
          4429.34,
          891.96,
          712.7,
          2110.04
         ],
         "legendgroup": "15",
         "marker": {
          "color": "#EF553B"
         },
         "name": "15",
         "notched": false,
         "offsetgroup": "15",
         "orientation": "v",
         "showlegend": true,
         "type": "box",
         "x": [
          15,
          15,
          15,
          15,
          15,
          15,
          15,
          15,
          15,
          15,
          15,
          15,
          15,
          15,
          15,
          15,
          15,
          15,
          15,
          15,
          15,
          15,
          15,
          15,
          15,
          15,
          15,
          15,
          15,
          15,
          15,
          15,
          15,
          15,
          15,
          15,
          15,
          15,
          15,
          15,
          15,
          15,
          15,
          15,
          15,
          15,
          15,
          15,
          15,
          15
         ],
         "x0": " ",
         "xaxis": "x",
         "y": [
          890.47,
          3950.67,
          784.24,
          996.32,
          5658.82,
          1675.3,
          958.58,
          1031.68,
          5625.93,
          2649.41,
          1368.99,
          1111.27,
          4615.43,
          1973.28,
          1135.7,
          1583.75,
          3893.77,
          2591.88,
          1578.32,
          2246.26,
          3642.56,
          2299.25,
          1274.49,
          2291.92,
          4244.97,
          1934.93,
          1405.62,
          2064.73,
          5024.8,
          1597.3,
          1754.03,
          1720.46,
          3440.97,
          1501.04,
          1894.95,
          1945.88,
          2850.45,
          1907.85,
          1500.18,
          2185.58,
          3214.41,
          2287.06,
          1607.12,
          3267.41,
          1070.59,
          4123.29,
          4429.34,
          891.96,
          712.7,
          2110.04
         ],
         "y0": " ",
         "yaxis": "y"
        },
        {
         "alignmentgroup": "True",
         "hovertemplate": "<b>%{hovertext}</b><br><br>HSCode=%{x}<br>value=%{y}<extra></extra>",
         "hovertext": [
          1293.49,
          1314.92,
          1698.02,
          1925.38,
          1004.76,
          1701.76,
          2688.04,
          1450.65,
          2153.88,
          725.07,
          1145.63,
          2615.04,
          852.48,
          1696.51,
          713.59,
          975.34,
          713.51,
          1790.62,
          731.72,
          705.23,
          731.6,
          862,
          847.83,
          880.53,
          1003.59,
          718.83
         ],
         "legendgroup": "26",
         "marker": {
          "color": "#00cc96"
         },
         "name": "26",
         "notched": false,
         "offsetgroup": "26",
         "orientation": "v",
         "showlegend": true,
         "type": "box",
         "x": [
          26,
          26,
          26,
          26,
          26,
          26,
          26,
          26,
          26,
          26,
          26,
          26,
          26,
          26,
          26,
          26,
          26,
          26,
          26,
          26,
          26,
          26,
          26,
          26,
          26,
          26
         ],
         "x0": " ",
         "xaxis": "x",
         "y": [
          1293.49,
          1314.92,
          1698.02,
          1925.38,
          1004.76,
          1701.76,
          2688.04,
          1450.65,
          2153.88,
          725.07,
          1145.63,
          2615.04,
          852.48,
          1696.51,
          713.59,
          975.34,
          713.51,
          1790.62,
          731.72,
          705.23,
          731.6,
          862,
          847.83,
          880.53,
          1003.59,
          718.83
         ],
         "y0": " ",
         "yaxis": "y"
        },
        {
         "alignmentgroup": "True",
         "hovertemplate": "<b>%{hovertext}</b><br><br>HSCode=%{x}<br>value=%{y}<extra></extra>",
         "hovertext": [
          3047.85,
          7061.29,
          7794.46,
          1184.7,
          4426.92,
          22815.23,
          20896.32,
          1760.09,
          2792.03,
          3846.1,
          8408.39,
          935.42,
          8240.72,
          1285.83,
          1263,
          7658.05,
          32188.31,
          18235.49,
          2612.94,
          2305,
          3183.21,
          8313.06,
          5501.39,
          1194.98,
          740.8,
          5088.19,
          29679.47,
          20376.74,
          1965.45,
          4374.26,
          1037.25,
          9015.85,
          950.76,
          4771.83,
          1199.81,
          1080.91,
          2770.35,
          17496.09,
          11899.69,
          2554.05,
          2131.3,
          1647.25,
          9017.19,
          926.15,
          1231.17,
          1047.8,
          4094.58,
          1090.94,
          1272.87,
          758.62,
          1896.33,
          20384.67,
          8795.44,
          1151.51,
          3521.72,
          918.23,
          6562.2,
          853.71,
          2784.06,
          4127.22,
          1045.84,
          1488.19,
          1860.94,
          17605.99,
          7944.29,
          1504.97,
          3153.91,
          5091.04,
          1306.27,
          903,
          1760.2,
          6279.9,
          1114.59,
          2475.83,
          2271.01,
          15581.11,
          8571.03,
          2082.36,
          705.71,
          778.2,
          4116.18,
          1637.51,
          1216.09,
          2392.97,
          8708.93,
          995.46,
          1441.03,
          1775.7,
          3947.58,
          1813.74,
          17254.31,
          996.69,
          8703.34,
          923.42,
          2762.73,
          6619.68,
          848.74,
          974.29,
          806.85,
          3018.01,
          5930.47,
          899.41,
          2209.2,
          852.16,
          1746.87,
          15476.53,
          8594.62,
          2311.23,
          8230.09,
          5124.01,
          843.35,
          743.64,
          1298.04,
          4796.24,
          1424.8,
          730.55,
          2064.03,
          14701.6,
          7867.03,
          1774.83,
          6242.02,
          3501.33,
          1155.55,
          894.55,
          1431.71,
          4375.55,
          1499.85,
          953.18,
          1377.77,
          3274.43,
          16319.24,
          9348.77,
          852.79,
          5069.81,
          929.28,
          5801.9,
          2063.34,
          702.95,
          1054.07,
          3316.49,
          5938.38,
          1320.27,
          2316.58,
          1253.42,
          1071,
          4321.18,
          20870.91,
          739.67,
          15925.43,
          1797.75,
          6845.01
         ],
         "legendgroup": "71",
         "marker": {
          "color": "#ab63fa"
         },
         "name": "71",
         "notched": false,
         "offsetgroup": "71",
         "orientation": "v",
         "showlegend": true,
         "type": "box",
         "x": [
          71,
          71,
          71,
          71,
          71,
          71,
          71,
          71,
          71,
          71,
          71,
          71,
          71,
          71,
          71,
          71,
          71,
          71,
          71,
          71,
          71,
          71,
          71,
          71,
          71,
          71,
          71,
          71,
          71,
          71,
          71,
          71,
          71,
          71,
          71,
          71,
          71,
          71,
          71,
          71,
          71,
          71,
          71,
          71,
          71,
          71,
          71,
          71,
          71,
          71,
          71,
          71,
          71,
          71,
          71,
          71,
          71,
          71,
          71,
          71,
          71,
          71,
          71,
          71,
          71,
          71,
          71,
          71,
          71,
          71,
          71,
          71,
          71,
          71,
          71,
          71,
          71,
          71,
          71,
          71,
          71,
          71,
          71,
          71,
          71,
          71,
          71,
          71,
          71,
          71,
          71,
          71,
          71,
          71,
          71,
          71,
          71,
          71,
          71,
          71,
          71,
          71,
          71,
          71,
          71,
          71,
          71,
          71,
          71,
          71,
          71,
          71,
          71,
          71,
          71,
          71,
          71,
          71,
          71,
          71,
          71,
          71,
          71,
          71,
          71,
          71,
          71,
          71,
          71,
          71,
          71,
          71,
          71,
          71,
          71,
          71,
          71,
          71,
          71,
          71,
          71,
          71,
          71,
          71,
          71,
          71,
          71,
          71,
          71,
          71,
          71
         ],
         "x0": " ",
         "xaxis": "x",
         "y": [
          3047.85,
          7061.29,
          7794.46,
          1184.7,
          4426.92,
          22815.23,
          20896.32,
          1760.09,
          2792.03,
          3846.1,
          8408.39,
          935.42,
          8240.72,
          1285.83,
          1263,
          7658.05,
          32188.31,
          18235.49,
          2612.94,
          2305,
          3183.21,
          8313.06,
          5501.39,
          1194.98,
          740.8,
          5088.19,
          29679.47,
          20376.74,
          1965.45,
          4374.26,
          1037.25,
          9015.85,
          950.76,
          4771.83,
          1199.81,
          1080.91,
          2770.35,
          17496.09,
          11899.69,
          2554.05,
          2131.3,
          1647.25,
          9017.19,
          926.15,
          1231.17,
          1047.8,
          4094.58,
          1090.94,
          1272.87,
          758.62,
          1896.33,
          20384.67,
          8795.44,
          1151.51,
          3521.72,
          918.23,
          6562.2,
          853.71,
          2784.06,
          4127.22,
          1045.84,
          1488.19,
          1860.94,
          17605.99,
          7944.29,
          1504.97,
          3153.91,
          5091.04,
          1306.27,
          903,
          1760.2,
          6279.9,
          1114.59,
          2475.83,
          2271.01,
          15581.11,
          8571.03,
          2082.36,
          705.71,
          778.2,
          4116.18,
          1637.51,
          1216.09,
          2392.97,
          8708.93,
          995.46,
          1441.03,
          1775.7,
          3947.58,
          1813.74,
          17254.31,
          996.69,
          8703.34,
          923.42,
          2762.73,
          6619.68,
          848.74,
          974.29,
          806.85,
          3018.01,
          5930.47,
          899.41,
          2209.2,
          852.16,
          1746.87,
          15476.53,
          8594.62,
          2311.23,
          8230.09,
          5124.01,
          843.35,
          743.64,
          1298.04,
          4796.24,
          1424.8,
          730.55,
          2064.03,
          14701.6,
          7867.03,
          1774.83,
          6242.02,
          3501.33,
          1155.55,
          894.55,
          1431.71,
          4375.55,
          1499.85,
          953.18,
          1377.77,
          3274.43,
          16319.24,
          9348.77,
          852.79,
          5069.81,
          929.28,
          5801.9,
          2063.34,
          702.95,
          1054.07,
          3316.49,
          5938.38,
          1320.27,
          2316.58,
          1253.42,
          1071,
          4321.18,
          20870.91,
          739.67,
          15925.43,
          1797.75,
          6845.01
         ],
         "y0": " ",
         "yaxis": "y"
        },
        {
         "alignmentgroup": "True",
         "hovertemplate": "<b>%{hovertext}</b><br><br>HSCode=%{x}<br>value=%{y}<extra></extra>",
         "hovertext": [
          3853.42,
          790.54,
          1009.23,
          898.93,
          737.46,
          4384.81,
          702.26,
          745.73,
          1255.01,
          991.48,
          854.84,
          4946.74,
          726.71,
          1055.32,
          1248.98,
          1133.34,
          946.73,
          5396.44,
          733.97,
          1250.92,
          729.06,
          1206.11,
          1607.12,
          868.04,
          6327.5,
          725.99,
          942.68,
          833.24,
          1265.24,
          1428.35,
          750.07,
          6068.24,
          1274.64,
          1190.26,
          789.16,
          5615.88,
          702.78,
          719.67,
          1697.55,
          1151.38,
          801.01,
          7091.53,
          1052.22,
          749.51,
          1538,
          1500.27,
          1226.06,
          8596.25,
          940.53,
          1094.03,
          1082.09,
          1807.28,
          1855.25,
          7970.43,
          1244.37,
          845.72,
          1169.29,
          1645.08,
          8974.24,
          764.45,
          806.79,
          961.45,
          1591.94,
          12497.95,
          776.88,
          1334.61,
          879.88,
          746.85,
          1744.95,
          1533.66,
          988.58,
          929.22,
          1999.44
         ],
         "legendgroup": "29",
         "marker": {
          "color": "#FFA15A"
         },
         "name": "29",
         "notched": false,
         "offsetgroup": "29",
         "orientation": "v",
         "showlegend": true,
         "type": "box",
         "x": [
          29,
          29,
          29,
          29,
          29,
          29,
          29,
          29,
          29,
          29,
          29,
          29,
          29,
          29,
          29,
          29,
          29,
          29,
          29,
          29,
          29,
          29,
          29,
          29,
          29,
          29,
          29,
          29,
          29,
          29,
          29,
          29,
          29,
          29,
          29,
          29,
          29,
          29,
          29,
          29,
          29,
          29,
          29,
          29,
          29,
          29,
          29,
          29,
          29,
          29,
          29,
          29,
          29,
          29,
          29,
          29,
          29,
          29,
          29,
          29,
          29,
          29,
          29,
          29,
          29,
          29,
          29,
          29,
          29,
          29,
          29,
          29,
          29
         ],
         "x0": " ",
         "xaxis": "x",
         "y": [
          3853.42,
          790.54,
          1009.23,
          898.93,
          737.46,
          4384.81,
          702.26,
          745.73,
          1255.01,
          991.48,
          854.84,
          4946.74,
          726.71,
          1055.32,
          1248.98,
          1133.34,
          946.73,
          5396.44,
          733.97,
          1250.92,
          729.06,
          1206.11,
          1607.12,
          868.04,
          6327.5,
          725.99,
          942.68,
          833.24,
          1265.24,
          1428.35,
          750.07,
          6068.24,
          1274.64,
          1190.26,
          789.16,
          5615.88,
          702.78,
          719.67,
          1697.55,
          1151.38,
          801.01,
          7091.53,
          1052.22,
          749.51,
          1538,
          1500.27,
          1226.06,
          8596.25,
          940.53,
          1094.03,
          1082.09,
          1807.28,
          1855.25,
          7970.43,
          1244.37,
          845.72,
          1169.29,
          1645.08,
          8974.24,
          764.45,
          806.79,
          961.45,
          1591.94,
          12497.95,
          776.88,
          1334.61,
          879.88,
          746.85,
          1744.95,
          1533.66,
          988.58,
          929.22,
          1999.44
         ],
         "y0": " ",
         "yaxis": "y"
        },
        {
         "alignmentgroup": "True",
         "hovertemplate": "<b>%{hovertext}</b><br><br>HSCode=%{x}<br>value=%{y}<extra></extra>",
         "hovertext": [
          1517.44,
          901.76,
          2596.01,
          763.98,
          733.96,
          1401.98,
          2999.7,
          1925.7,
          3154.68,
          3268.09,
          1250.63,
          1072.13,
          2053.22,
          1044.66,
          1820.88,
          927.25,
          1551.23,
          771.17,
          2953.45,
          1015.95,
          1038.58,
          773.54,
          1894.64
         ],
         "legendgroup": "31",
         "marker": {
          "color": "#19d3f3"
         },
         "name": "31",
         "notched": false,
         "offsetgroup": "31",
         "orientation": "v",
         "showlegend": true,
         "type": "box",
         "x": [
          31,
          31,
          31,
          31,
          31,
          31,
          31,
          31,
          31,
          31,
          31,
          31,
          31,
          31,
          31,
          31,
          31,
          31,
          31,
          31,
          31,
          31,
          31
         ],
         "x0": " ",
         "xaxis": "x",
         "y": [
          1517.44,
          901.76,
          2596.01,
          763.98,
          733.96,
          1401.98,
          2999.7,
          1925.7,
          3154.68,
          3268.09,
          1250.63,
          1072.13,
          2053.22,
          1044.66,
          1820.88,
          927.25,
          1551.23,
          771.17,
          2953.45,
          1015.95,
          1038.58,
          773.54,
          1894.64
         ],
         "y0": " ",
         "yaxis": "y"
        },
        {
         "alignmentgroup": "True",
         "hovertemplate": "<b>%{hovertext}</b><br><br>HSCode=%{x}<br>value=%{y}<extra></extra>",
         "hovertext": [
          855.71,
          851.3,
          816.91,
          1057.69,
          946.84,
          1000.9,
          1133.91,
          1146.55,
          782.72,
          882.72,
          1320.57,
          1180.59,
          832.41,
          776.09,
          847.84,
          1710.63,
          1358.9,
          1135.75,
          836.81,
          755.98,
          716.94,
          831.21,
          1690.43,
          1272.95,
          862.96,
          762.78,
          720.5,
          839.4,
          1849.15,
          1230.01,
          880.21,
          727.33,
          945.97,
          2365.49,
          765.78,
          830.38,
          1540.92,
          1000.61,
          912.01,
          764.64,
          975.74,
          712.46,
          988.65,
          2722.6,
          891.82,
          1820.74,
          1200.93,
          829.3,
          949.1,
          984.49,
          1088.94,
          2714.82,
          938.08,
          1608.55,
          1073.01,
          785.21,
          835.63,
          828.4,
          1111.16,
          2530.53,
          941.18,
          1498.77,
          892.75,
          779.71,
          854.84,
          1066.6,
          4477.93,
          1237.17,
          2317.05,
          903.46,
          1300.47,
          1094.8,
          1369.05,
          1246.36,
          1185
         ],
         "legendgroup": "39",
         "marker": {
          "color": "#FF6692"
         },
         "name": "39",
         "notched": false,
         "offsetgroup": "39",
         "orientation": "v",
         "showlegend": true,
         "type": "box",
         "x": [
          39,
          39,
          39,
          39,
          39,
          39,
          39,
          39,
          39,
          39,
          39,
          39,
          39,
          39,
          39,
          39,
          39,
          39,
          39,
          39,
          39,
          39,
          39,
          39,
          39,
          39,
          39,
          39,
          39,
          39,
          39,
          39,
          39,
          39,
          39,
          39,
          39,
          39,
          39,
          39,
          39,
          39,
          39,
          39,
          39,
          39,
          39,
          39,
          39,
          39,
          39,
          39,
          39,
          39,
          39,
          39,
          39,
          39,
          39,
          39,
          39,
          39,
          39,
          39,
          39,
          39,
          39,
          39,
          39,
          39,
          39,
          39,
          39,
          39,
          39
         ],
         "x0": " ",
         "xaxis": "x",
         "y": [
          855.71,
          851.3,
          816.91,
          1057.69,
          946.84,
          1000.9,
          1133.91,
          1146.55,
          782.72,
          882.72,
          1320.57,
          1180.59,
          832.41,
          776.09,
          847.84,
          1710.63,
          1358.9,
          1135.75,
          836.81,
          755.98,
          716.94,
          831.21,
          1690.43,
          1272.95,
          862.96,
          762.78,
          720.5,
          839.4,
          1849.15,
          1230.01,
          880.21,
          727.33,
          945.97,
          2365.49,
          765.78,
          830.38,
          1540.92,
          1000.61,
          912.01,
          764.64,
          975.74,
          712.46,
          988.65,
          2722.6,
          891.82,
          1820.74,
          1200.93,
          829.3,
          949.1,
          984.49,
          1088.94,
          2714.82,
          938.08,
          1608.55,
          1073.01,
          785.21,
          835.63,
          828.4,
          1111.16,
          2530.53,
          941.18,
          1498.77,
          892.75,
          779.71,
          854.84,
          1066.6,
          4477.93,
          1237.17,
          2317.05,
          903.46,
          1300.47,
          1094.8,
          1369.05,
          1246.36,
          1185
         ],
         "y0": " ",
         "yaxis": "y"
        },
        {
         "alignmentgroup": "True",
         "hovertemplate": "<b>%{hovertext}</b><br><br>HSCode=%{x}<br>value=%{y}<extra></extra>",
         "hovertext": [
          1986.38,
          1049.42,
          1401.51,
          1855.49,
          1280.23,
          1722.24,
          779.54,
          1495.32,
          771.8,
          1636.78,
          1744.11,
          761.58,
          806.58,
          976.26,
          1289.65,
          1414.27,
          2713.34,
          1453.75,
          1818.86,
          2359.24,
          1490.42,
          1877.16,
          1346.69,
          930.55,
          1507.77,
          1621.03,
          1169.67,
          2257.54,
          1422.37,
          1259.14,
          2684.66,
          745.4,
          1121.33,
          817.94,
          1059.32,
          2268.24,
          895.38,
          1677.47,
          1315.49,
          1260.01,
          1011.55,
          2573.02,
          836.13
         ],
         "legendgroup": "72",
         "marker": {
          "color": "#B6E880"
         },
         "name": "72",
         "notched": false,
         "offsetgroup": "72",
         "orientation": "v",
         "showlegend": true,
         "type": "box",
         "x": [
          72,
          72,
          72,
          72,
          72,
          72,
          72,
          72,
          72,
          72,
          72,
          72,
          72,
          72,
          72,
          72,
          72,
          72,
          72,
          72,
          72,
          72,
          72,
          72,
          72,
          72,
          72,
          72,
          72,
          72,
          72,
          72,
          72,
          72,
          72,
          72,
          72,
          72,
          72,
          72,
          72,
          72,
          72
         ],
         "x0": " ",
         "xaxis": "x",
         "y": [
          1986.38,
          1049.42,
          1401.51,
          1855.49,
          1280.23,
          1722.24,
          779.54,
          1495.32,
          771.8,
          1636.78,
          1744.11,
          761.58,
          806.58,
          976.26,
          1289.65,
          1414.27,
          2713.34,
          1453.75,
          1818.86,
          2359.24,
          1490.42,
          1877.16,
          1346.69,
          930.55,
          1507.77,
          1621.03,
          1169.67,
          2257.54,
          1422.37,
          1259.14,
          2684.66,
          745.4,
          1121.33,
          817.94,
          1059.32,
          2268.24,
          895.38,
          1677.47,
          1315.49,
          1260.01,
          1011.55,
          2573.02,
          836.13
         ],
         "y0": " ",
         "yaxis": "y"
        },
        {
         "alignmentgroup": "True",
         "hovertemplate": "<b>%{hovertext}</b><br><br>HSCode=%{x}<br>value=%{y}<extra></extra>",
         "hovertext": [
          1178.18,
          1543.59,
          1476.78,
          1219.19,
          1392.09,
          1185.54,
          1234.16,
          1473.96,
          1735.33,
          1588.76,
          1317.92,
          1665.3
         ],
         "legendgroup": "73",
         "marker": {
          "color": "#FF97FF"
         },
         "name": "73",
         "notched": false,
         "offsetgroup": "73",
         "orientation": "v",
         "showlegend": true,
         "type": "box",
         "x": [
          73,
          73,
          73,
          73,
          73,
          73,
          73,
          73,
          73,
          73,
          73,
          73
         ],
         "x0": " ",
         "xaxis": "x",
         "y": [
          1178.18,
          1543.59,
          1476.78,
          1219.19,
          1392.09,
          1185.54,
          1234.16,
          1473.96,
          1735.33,
          1588.76,
          1317.92,
          1665.3
         ],
         "y0": " ",
         "yaxis": "y"
        },
        {
         "alignmentgroup": "True",
         "hovertemplate": "<b>%{hovertext}</b><br><br>HSCode=%{x}<br>value=%{y}<extra></extra>",
         "hovertext": [
          7699.9,
          3820.44,
          1748.33,
          2661.17,
          1697.81,
          1026.59,
          998.27,
          783.22,
          2563.53,
          10143.52,
          762.46,
          5036.29,
          2088.12,
          3876.3,
          2083.84,
          1013.69,
          1112.42,
          738.7,
          1136.04,
          853.51,
          3105.06,
          10007,
          4310.06,
          1893.94,
          3648.89,
          2055.16,
          844.26,
          980.55,
          1384.43,
          807.34,
          2956.44,
          9455.31,
          3697.71,
          1575.38,
          2597.34,
          1653.37,
          722.07,
          984.54,
          1228.82,
          2722.99,
          10144.22,
          3575.92,
          1512.63,
          2466.5,
          1706.39,
          709.07,
          1093.45,
          1382.71,
          3010.04,
          10554.22,
          3554.97,
          1518.23,
          2395.03,
          1605.96,
          1219.93,
          1328.39,
          723.89,
          3858.57,
          11121.17,
          3479.5,
          1467.62,
          2784.12,
          1506.91,
          1108.38,
          1184.73,
          3059.66,
          13539.97,
          3956.79,
          1692.74,
          2669.19,
          1600.68,
          1096.45,
          739.38,
          1341.78,
          710.49,
          4448.13,
          13383.76,
          4549.7,
          1289.76,
          1824.33,
          3413.46,
          2625.46,
          767.76,
          2654.93,
          996.71,
          1392.17,
          1180.32,
          3585.01,
          808.08,
          13322.13,
          808.74,
          3861.13,
          1354.74,
          1645.89,
          3036.98,
          2224.8,
          789.21,
          2800.73,
          890.14,
          1311.18,
          1135.02,
          4657.82,
          13987.55,
          2996.27,
          1614.2,
          1363.72,
          2147.03,
          1610.74,
          2268.99,
          732.56,
          1055.79,
          852.48,
          2386.09,
          706.37,
          19845.45,
          775.69,
          4015.4,
          2309.6,
          1762.81,
          2702.62,
          1780.84,
          920.92,
          773.5,
          3350.72,
          1079.57,
          1485.39,
          1043.84,
          3424.03
         ],
         "legendgroup": "84",
         "marker": {
          "color": "#FECB52"
         },
         "name": "84",
         "notched": false,
         "offsetgroup": "84",
         "orientation": "v",
         "showlegend": true,
         "type": "box",
         "x": [
          84,
          84,
          84,
          84,
          84,
          84,
          84,
          84,
          84,
          84,
          84,
          84,
          84,
          84,
          84,
          84,
          84,
          84,
          84,
          84,
          84,
          84,
          84,
          84,
          84,
          84,
          84,
          84,
          84,
          84,
          84,
          84,
          84,
          84,
          84,
          84,
          84,
          84,
          84,
          84,
          84,
          84,
          84,
          84,
          84,
          84,
          84,
          84,
          84,
          84,
          84,
          84,
          84,
          84,
          84,
          84,
          84,
          84,
          84,
          84,
          84,
          84,
          84,
          84,
          84,
          84,
          84,
          84,
          84,
          84,
          84,
          84,
          84,
          84,
          84,
          84,
          84,
          84,
          84,
          84,
          84,
          84,
          84,
          84,
          84,
          84,
          84,
          84,
          84,
          84,
          84,
          84,
          84,
          84,
          84,
          84,
          84,
          84,
          84,
          84,
          84,
          84,
          84,
          84,
          84,
          84,
          84,
          84,
          84,
          84,
          84,
          84,
          84,
          84,
          84,
          84,
          84,
          84,
          84,
          84,
          84,
          84,
          84,
          84,
          84,
          84,
          84,
          84
         ],
         "x0": " ",
         "xaxis": "x",
         "y": [
          7699.9,
          3820.44,
          1748.33,
          2661.17,
          1697.81,
          1026.59,
          998.27,
          783.22,
          2563.53,
          10143.52,
          762.46,
          5036.29,
          2088.12,
          3876.3,
          2083.84,
          1013.69,
          1112.42,
          738.7,
          1136.04,
          853.51,
          3105.06,
          10007,
          4310.06,
          1893.94,
          3648.89,
          2055.16,
          844.26,
          980.55,
          1384.43,
          807.34,
          2956.44,
          9455.31,
          3697.71,
          1575.38,
          2597.34,
          1653.37,
          722.07,
          984.54,
          1228.82,
          2722.99,
          10144.22,
          3575.92,
          1512.63,
          2466.5,
          1706.39,
          709.07,
          1093.45,
          1382.71,
          3010.04,
          10554.22,
          3554.97,
          1518.23,
          2395.03,
          1605.96,
          1219.93,
          1328.39,
          723.89,
          3858.57,
          11121.17,
          3479.5,
          1467.62,
          2784.12,
          1506.91,
          1108.38,
          1184.73,
          3059.66,
          13539.97,
          3956.79,
          1692.74,
          2669.19,
          1600.68,
          1096.45,
          739.38,
          1341.78,
          710.49,
          4448.13,
          13383.76,
          4549.7,
          1289.76,
          1824.33,
          3413.46,
          2625.46,
          767.76,
          2654.93,
          996.71,
          1392.17,
          1180.32,
          3585.01,
          808.08,
          13322.13,
          808.74,
          3861.13,
          1354.74,
          1645.89,
          3036.98,
          2224.8,
          789.21,
          2800.73,
          890.14,
          1311.18,
          1135.02,
          4657.82,
          13987.55,
          2996.27,
          1614.2,
          1363.72,
          2147.03,
          1610.74,
          2268.99,
          732.56,
          1055.79,
          852.48,
          2386.09,
          706.37,
          19845.45,
          775.69,
          4015.4,
          2309.6,
          1762.81,
          2702.62,
          1780.84,
          920.92,
          773.5,
          3350.72,
          1079.57,
          1485.39,
          1043.84,
          3424.03
         ],
         "y0": " ",
         "yaxis": "y"
        },
        {
         "alignmentgroup": "True",
         "hovertemplate": "<b>%{hovertext}</b><br><br>HSCode=%{x}<br>value=%{y}<extra></extra>",
         "hovertext": [
          11857.72,
          1024,
          1480.23,
          1062.01,
          1917.48,
          884.26,
          1054.7,
          747.78,
          1261.85,
          14183.07,
          1306.19,
          1998.02,
          1348.7,
          1828,
          1246.84,
          1271.57,
          1117.69,
          1553.32,
          13984.34,
          1527.49,
          1278.81,
          1472.44,
          1277.43,
          1130.59,
          834.49,
          1493.12,
          1112.53,
          14228.73,
          1349.57,
          1057.92,
          1959.12,
          1119.56,
          970.49,
          734.38,
          1382.13,
          1247.24,
          16738.41,
          1407.49,
          959.92,
          2460.35,
          1247.37,
          907.26,
          804.21,
          709.59,
          1712.99,
          1239.29,
          19758.2,
          1270.27,
          1007.18,
          1104.46,
          2807.58,
          1193.52,
          1139.47,
          704.98,
          1430.85,
          804.89,
          21982.63,
          1278.94,
          1126.58,
          1141.44,
          2815.4,
          1354.93,
          1109.49,
          770.91,
          1296.45,
          1024.34,
          28672.44,
          1509.51,
          1208.41,
          1335.74,
          2722.51,
          1542.72,
          1204.47,
          805.32,
          981.86,
          1754.82,
          1595.73,
          20627.56,
          1741.66,
          8657.63,
          1408.09,
          2854.04,
          986.23,
          3110.81,
          914.13,
          906.22,
          1852.93,
          3679.53,
          19104.15,
          708.73,
          1524.8,
          8703.22,
          1357.51,
          2815.1,
          792.12,
          2851.94,
          778.38,
          836.69,
          2219.03,
          4010.06,
          20328.53,
          1229.72,
          7499.25,
          1047.21,
          2393.94,
          763.57,
          2568.59,
          1158.11,
          1530.05,
          3265.56,
          30266.96,
          1535.79,
          8840.6,
          1317.65,
          3123.28,
          914.15,
          3117.16,
          1726.65,
          749.13,
          1836.92,
          3058.45
         ],
         "legendgroup": "85",
         "marker": {
          "color": "#636efa"
         },
         "name": "85",
         "notched": false,
         "offsetgroup": "85",
         "orientation": "v",
         "showlegend": true,
         "type": "box",
         "x": [
          85,
          85,
          85,
          85,
          85,
          85,
          85,
          85,
          85,
          85,
          85,
          85,
          85,
          85,
          85,
          85,
          85,
          85,
          85,
          85,
          85,
          85,
          85,
          85,
          85,
          85,
          85,
          85,
          85,
          85,
          85,
          85,
          85,
          85,
          85,
          85,
          85,
          85,
          85,
          85,
          85,
          85,
          85,
          85,
          85,
          85,
          85,
          85,
          85,
          85,
          85,
          85,
          85,
          85,
          85,
          85,
          85,
          85,
          85,
          85,
          85,
          85,
          85,
          85,
          85,
          85,
          85,
          85,
          85,
          85,
          85,
          85,
          85,
          85,
          85,
          85,
          85,
          85,
          85,
          85,
          85,
          85,
          85,
          85,
          85,
          85,
          85,
          85,
          85,
          85,
          85,
          85,
          85,
          85,
          85,
          85,
          85,
          85,
          85,
          85,
          85,
          85,
          85,
          85,
          85,
          85,
          85,
          85,
          85,
          85,
          85,
          85,
          85,
          85,
          85,
          85,
          85,
          85,
          85,
          85,
          85
         ],
         "x0": " ",
         "xaxis": "x",
         "y": [
          11857.72,
          1024,
          1480.23,
          1062.01,
          1917.48,
          884.26,
          1054.7,
          747.78,
          1261.85,
          14183.07,
          1306.19,
          1998.02,
          1348.7,
          1828,
          1246.84,
          1271.57,
          1117.69,
          1553.32,
          13984.34,
          1527.49,
          1278.81,
          1472.44,
          1277.43,
          1130.59,
          834.49,
          1493.12,
          1112.53,
          14228.73,
          1349.57,
          1057.92,
          1959.12,
          1119.56,
          970.49,
          734.38,
          1382.13,
          1247.24,
          16738.41,
          1407.49,
          959.92,
          2460.35,
          1247.37,
          907.26,
          804.21,
          709.59,
          1712.99,
          1239.29,
          19758.2,
          1270.27,
          1007.18,
          1104.46,
          2807.58,
          1193.52,
          1139.47,
          704.98,
          1430.85,
          804.89,
          21982.63,
          1278.94,
          1126.58,
          1141.44,
          2815.4,
          1354.93,
          1109.49,
          770.91,
          1296.45,
          1024.34,
          28672.44,
          1509.51,
          1208.41,
          1335.74,
          2722.51,
          1542.72,
          1204.47,
          805.32,
          981.86,
          1754.82,
          1595.73,
          20627.56,
          1741.66,
          8657.63,
          1408.09,
          2854.04,
          986.23,
          3110.81,
          914.13,
          906.22,
          1852.93,
          3679.53,
          19104.15,
          708.73,
          1524.8,
          8703.22,
          1357.51,
          2815.1,
          792.12,
          2851.94,
          778.38,
          836.69,
          2219.03,
          4010.06,
          20328.53,
          1229.72,
          7499.25,
          1047.21,
          2393.94,
          763.57,
          2568.59,
          1158.11,
          1530.05,
          3265.56,
          30266.96,
          1535.79,
          8840.6,
          1317.65,
          3123.28,
          914.15,
          3117.16,
          1726.65,
          749.13,
          1836.92,
          3058.45
         ],
         "y0": " ",
         "yaxis": "y"
        },
        {
         "alignmentgroup": "True",
         "hovertemplate": "<b>%{hovertext}</b><br><br>HSCode=%{x}<br>value=%{y}<extra></extra>",
         "hovertext": [
          733.65,
          736.22,
          776.44,
          993.32,
          1002.89,
          867.67,
          969.19,
          775.9,
          804.97,
          993.33,
          723.14,
          1165.34,
          804.03,
          1117.28,
          869.83,
          1111.89,
          1454.23,
          879.44,
          737.51,
          1521.1,
          1034.15,
          729.32,
          1273.88,
          975.58,
          1375.68,
          722.79,
          1689.42,
          763.59,
          762.9,
          813.11
         ],
         "legendgroup": "87",
         "marker": {
          "color": "#EF553B"
         },
         "name": "87",
         "notched": false,
         "offsetgroup": "87",
         "orientation": "v",
         "showlegend": true,
         "type": "box",
         "x": [
          87,
          87,
          87,
          87,
          87,
          87,
          87,
          87,
          87,
          87,
          87,
          87,
          87,
          87,
          87,
          87,
          87,
          87,
          87,
          87,
          87,
          87,
          87,
          87,
          87,
          87,
          87,
          87,
          87,
          87
         ],
         "x0": " ",
         "xaxis": "x",
         "y": [
          733.65,
          736.22,
          776.44,
          993.32,
          1002.89,
          867.67,
          969.19,
          775.9,
          804.97,
          993.33,
          723.14,
          1165.34,
          804.03,
          1117.28,
          869.83,
          1111.89,
          1454.23,
          879.44,
          737.51,
          1521.1,
          1034.15,
          729.32,
          1273.88,
          975.58,
          1375.68,
          722.79,
          1689.42,
          763.59,
          762.9,
          813.11
         ],
         "y0": " ",
         "yaxis": "y"
        },
        {
         "alignmentgroup": "True",
         "hovertemplate": "<b>%{hovertext}</b><br><br>HSCode=%{x}<br>value=%{y}<extra></extra>",
         "hovertext": [
          1213.39,
          1380.07,
          1099.42,
          1102.62,
          975.72,
          941.72,
          1207.54,
          1122.27,
          944.09,
          1264.9,
          1454.44,
          723.05,
          1208.98,
          730.41,
          1023.46,
          716.28,
          931.7,
          889.71,
          732.94,
          848.13,
          1042.2,
          901.57
         ],
         "legendgroup": "89",
         "marker": {
          "color": "#00cc96"
         },
         "name": "89",
         "notched": false,
         "offsetgroup": "89",
         "orientation": "v",
         "showlegend": true,
         "type": "box",
         "x": [
          89,
          89,
          89,
          89,
          89,
          89,
          89,
          89,
          89,
          89,
          89,
          89,
          89,
          89,
          89,
          89,
          89,
          89,
          89,
          89,
          89,
          89
         ],
         "x0": " ",
         "xaxis": "x",
         "y": [
          1213.39,
          1380.07,
          1099.42,
          1102.62,
          975.72,
          941.72,
          1207.54,
          1122.27,
          944.09,
          1264.9,
          1454.44,
          723.05,
          1208.98,
          730.41,
          1023.46,
          716.28,
          931.7,
          889.71,
          732.94,
          848.13,
          1042.2,
          901.57
         ],
         "y0": " ",
         "yaxis": "y"
        },
        {
         "alignmentgroup": "True",
         "hovertemplate": "<b>%{hovertext}</b><br><br>HSCode=%{x}<br>value=%{y}<extra></extra>",
         "hovertext": [
          3181.56,
          5062.51,
          744.93,
          3708.82,
          2126.62,
          1451.74,
          1001.85,
          764.75,
          756.09
         ],
         "legendgroup": "98",
         "marker": {
          "color": "#ab63fa"
         },
         "name": "98",
         "notched": false,
         "offsetgroup": "98",
         "orientation": "v",
         "showlegend": true,
         "type": "box",
         "x": [
          98,
          98,
          98,
          98,
          98,
          98,
          98,
          98,
          98
         ],
         "x0": " ",
         "xaxis": "x",
         "y": [
          3181.56,
          5062.51,
          744.93,
          3708.82,
          2126.62,
          1451.74,
          1001.85,
          764.75,
          756.09
         ],
         "y0": " ",
         "yaxis": "y"
        },
        {
         "alignmentgroup": "True",
         "hovertemplate": "<b>%{hovertext}</b><br><br>HSCode=%{x}<br>value=%{y}<extra></extra>",
         "hovertext": [
          1058.03,
          1594.39,
          770.07,
          1526.85,
          1301.04,
          790.36,
          1662.5,
          878.03,
          1973.15,
          1409.87,
          2333.57,
          1161.11,
          808.35,
          1857.04,
          3017.42,
          4237.56,
          3297.8,
          2049.61,
          3382.94,
          1463.15,
          1479.24,
          2618.63,
          2065.28,
          2934.36,
          1544.18,
          1117.39,
          3589.16,
          2146.36,
          1778.89
         ],
         "legendgroup": "88",
         "marker": {
          "color": "#FFA15A"
         },
         "name": "88",
         "notched": false,
         "offsetgroup": "88",
         "orientation": "v",
         "showlegend": true,
         "type": "box",
         "x": [
          88,
          88,
          88,
          88,
          88,
          88,
          88,
          88,
          88,
          88,
          88,
          88,
          88,
          88,
          88,
          88,
          88,
          88,
          88,
          88,
          88,
          88,
          88,
          88,
          88,
          88,
          88,
          88,
          88
         ],
         "x0": " ",
         "xaxis": "x",
         "y": [
          1058.03,
          1594.39,
          770.07,
          1526.85,
          1301.04,
          790.36,
          1662.5,
          878.03,
          1973.15,
          1409.87,
          2333.57,
          1161.11,
          808.35,
          1857.04,
          3017.42,
          4237.56,
          3297.8,
          2049.61,
          3382.94,
          1463.15,
          1479.24,
          2618.63,
          2065.28,
          2934.36,
          1544.18,
          1117.39,
          3589.16,
          2146.36,
          1778.89
         ],
         "y0": " ",
         "yaxis": "y"
        },
        {
         "alignmentgroup": "True",
         "hovertemplate": "<b>%{hovertext}</b><br><br>HSCode=%{x}<br>value=%{y}<extra></extra>",
         "hovertext": [
          776.98,
          1157.04,
          941.53,
          1008.2,
          1370.57,
          999.66,
          985.77,
          1439.77,
          1043.6,
          1011.71,
          1426.84,
          1221.68,
          965.67,
          1396.36,
          1291.14,
          977.3,
          1473.82,
          1320.48,
          1051.37,
          1451.64,
          1663.23,
          1173.14,
          700.88,
          1596.97,
          1587.69,
          1318.15,
          754.18,
          838.53,
          1512.76,
          1340.39,
          1201.08,
          704.45,
          879.02,
          1466.66,
          1732.52,
          1045.92,
          775.82,
          1176.16,
          2519.2,
          1305.99,
          981.48,
          1567.35
         ],
         "legendgroup": "90",
         "marker": {
          "color": "#19d3f3"
         },
         "name": "90",
         "notched": false,
         "offsetgroup": "90",
         "orientation": "v",
         "showlegend": true,
         "type": "box",
         "x": [
          90,
          90,
          90,
          90,
          90,
          90,
          90,
          90,
          90,
          90,
          90,
          90,
          90,
          90,
          90,
          90,
          90,
          90,
          90,
          90,
          90,
          90,
          90,
          90,
          90,
          90,
          90,
          90,
          90,
          90,
          90,
          90,
          90,
          90,
          90,
          90,
          90,
          90,
          90,
          90,
          90,
          90
         ],
         "x0": " ",
         "xaxis": "x",
         "y": [
          776.98,
          1157.04,
          941.53,
          1008.2,
          1370.57,
          999.66,
          985.77,
          1439.77,
          1043.6,
          1011.71,
          1426.84,
          1221.68,
          965.67,
          1396.36,
          1291.14,
          977.3,
          1473.82,
          1320.48,
          1051.37,
          1451.64,
          1663.23,
          1173.14,
          700.88,
          1596.97,
          1587.69,
          1318.15,
          754.18,
          838.53,
          1512.76,
          1340.39,
          1201.08,
          704.45,
          879.02,
          1466.66,
          1732.52,
          1045.92,
          775.82,
          1176.16,
          2519.2,
          1305.99,
          981.48,
          1567.35
         ],
         "y0": " ",
         "yaxis": "y"
        },
        {
         "alignmentgroup": "True",
         "hovertemplate": "<b>%{hovertext}</b><br><br>HSCode=%{x}<br>value=%{y}<extra></extra>",
         "hovertext": [
          706.57,
          885.56,
          897.33,
          851.87,
          792.69,
          776.42,
          707.66,
          863.87,
          947.3,
          759.55,
          1348.97,
          868.9,
          1290.59,
          959.66,
          1205.06,
          895.89,
          1386.24,
          878.32,
          1675.77,
          1166.72
         ],
         "legendgroup": "38",
         "marker": {
          "color": "#FF6692"
         },
         "name": "38",
         "notched": false,
         "offsetgroup": "38",
         "orientation": "v",
         "showlegend": true,
         "type": "box",
         "x": [
          38,
          38,
          38,
          38,
          38,
          38,
          38,
          38,
          38,
          38,
          38,
          38,
          38,
          38,
          38,
          38,
          38,
          38,
          38,
          38
         ],
         "x0": " ",
         "xaxis": "x",
         "y": [
          706.57,
          885.56,
          897.33,
          851.87,
          792.69,
          776.42,
          707.66,
          863.87,
          947.3,
          759.55,
          1348.97,
          868.9,
          1290.59,
          959.66,
          1205.06,
          895.89,
          1386.24,
          878.32,
          1675.77,
          1166.72
         ],
         "y0": " ",
         "yaxis": "y"
        },
        {
         "alignmentgroup": "True",
         "hovertemplate": "<b>%{hovertext}</b><br><br>HSCode=%{x}<br>value=%{y}<extra></extra>",
         "hovertext": [
          1626.08,
          857.34,
          2025.16,
          1205.51,
          1988.05,
          1144.75,
          2751.91
         ],
         "legendgroup": "99",
         "marker": {
          "color": "#B6E880"
         },
         "name": "99",
         "notched": false,
         "offsetgroup": "99",
         "orientation": "v",
         "showlegend": true,
         "type": "box",
         "x": [
          99,
          99,
          99,
          99,
          99,
          99,
          99
         ],
         "x0": " ",
         "xaxis": "x",
         "y": [
          1626.08,
          857.34,
          2025.16,
          1205.51,
          1988.05,
          1144.75,
          2751.91
         ],
         "y0": " ",
         "yaxis": "y"
        },
        {
         "alignmentgroup": "True",
         "hovertemplate": "<b>%{hovertext}</b><br><br>HSCode=%{x}<br>value=%{y}<extra></extra>",
         "hovertext": [
          776.64,
          937.91,
          700.91,
          737.5,
          705.73,
          802.74,
          1050.23,
          707.7,
          746.71,
          1014,
          955.94,
          1660.5,
          711.77,
          807.31
         ],
         "legendgroup": "28",
         "marker": {
          "color": "#FF97FF"
         },
         "name": "28",
         "notched": false,
         "offsetgroup": "28",
         "orientation": "v",
         "showlegend": true,
         "type": "box",
         "x": [
          28,
          28,
          28,
          28,
          28,
          28,
          28,
          28,
          28,
          28,
          28,
          28,
          28,
          28
         ],
         "x0": " ",
         "xaxis": "x",
         "y": [
          776.64,
          937.91,
          700.91,
          737.5,
          705.73,
          802.74,
          1050.23,
          707.7,
          746.71,
          1014,
          955.94,
          1660.5,
          711.77,
          807.31
         ],
         "y0": " ",
         "yaxis": "y"
        },
        {
         "alignmentgroup": "True",
         "hovertemplate": "<b>%{hovertext}</b><br><br>HSCode=%{x}<br>value=%{y}<extra></extra>",
         "hovertext": [
          931.84,
          857.44
         ],
         "legendgroup": "25",
         "marker": {
          "color": "#FECB52"
         },
         "name": "25",
         "notched": false,
         "offsetgroup": "25",
         "orientation": "v",
         "showlegend": true,
         "type": "box",
         "x": [
          25,
          25
         ],
         "x0": " ",
         "xaxis": "x",
         "y": [
          931.84,
          857.44
         ],
         "y0": " ",
         "yaxis": "y"
        },
        {
         "alignmentgroup": "True",
         "hovertemplate": "<b>%{hovertext}</b><br><br>HSCode=%{x}<br>value=%{y}<extra></extra>",
         "hovertext": [
          751.61,
          748.74
         ],
         "legendgroup": "44",
         "marker": {
          "color": "#636efa"
         },
         "name": "44",
         "notched": false,
         "offsetgroup": "44",
         "orientation": "v",
         "showlegend": true,
         "type": "box",
         "x": [
          44,
          44
         ],
         "x0": " ",
         "xaxis": "x",
         "y": [
          751.61,
          748.74
         ],
         "y0": " ",
         "yaxis": "y"
        },
        {
         "alignmentgroup": "True",
         "hovertemplate": "<b>%{hovertext}</b><br><br>HSCode=%{x}<br>value=%{y}<extra></extra>",
         "hovertext": [
          758.69,
          1074.57,
          813.85,
          1415.65,
          819.91,
          921.74,
          1155.88,
          809.45,
          924.14,
          706.78,
          760.24
         ],
         "legendgroup": "7",
         "marker": {
          "color": "#EF553B"
         },
         "name": "7",
         "notched": false,
         "offsetgroup": "7",
         "orientation": "v",
         "showlegend": true,
         "type": "box",
         "x": [
          7,
          7,
          7,
          7,
          7,
          7,
          7,
          7,
          7,
          7,
          7
         ],
         "x0": " ",
         "xaxis": "x",
         "y": [
          758.69,
          1074.57,
          813.85,
          1415.65,
          819.91,
          921.74,
          1155.88,
          809.45,
          924.14,
          706.78,
          760.24
         ],
         "y0": " ",
         "yaxis": "y"
        },
        {
         "alignmentgroup": "True",
         "hovertemplate": "<b>%{hovertext}</b><br><br>HSCode=%{x}<br>value=%{y}<extra></extra>",
         "hovertext": [
          714.06,
          755.1,
          1174.62,
          957.33,
          735.01,
          1023.49,
          974.27
         ],
         "legendgroup": "76",
         "marker": {
          "color": "#00cc96"
         },
         "name": "76",
         "notched": false,
         "offsetgroup": "76",
         "orientation": "v",
         "showlegend": true,
         "type": "box",
         "x": [
          76,
          76,
          76,
          76,
          76,
          76,
          76
         ],
         "x0": " ",
         "xaxis": "x",
         "y": [
          714.06,
          755.1,
          1174.62,
          957.33,
          735.01,
          1023.49,
          974.27
         ],
         "y0": " ",
         "yaxis": "y"
        },
        {
         "alignmentgroup": "True",
         "hovertemplate": "<b>%{hovertext}</b><br><br>HSCode=%{x}<br>value=%{y}<extra></extra>",
         "hovertext": [
          739.47,
          907.2,
          888.84,
          1200.9,
          987.58,
          899.44,
          717.31
         ],
         "legendgroup": "94",
         "marker": {
          "color": "#ab63fa"
         },
         "name": "94",
         "notched": false,
         "offsetgroup": "94",
         "orientation": "v",
         "showlegend": true,
         "type": "box",
         "x": [
          94,
          94,
          94,
          94,
          94,
          94,
          94
         ],
         "x0": " ",
         "xaxis": "x",
         "y": [
          739.47,
          907.2,
          888.84,
          1200.9,
          987.58,
          899.44,
          717.31
         ],
         "y0": " ",
         "yaxis": "y"
        },
        {
         "alignmentgroup": "True",
         "hovertemplate": "<b>%{hovertext}</b><br><br>HSCode=%{x}<br>value=%{y}<extra></extra>",
         "hovertext": [
          726.48,
          872.28,
          840.8,
          879.49,
          900.85,
          859.15
         ],
         "legendgroup": "8",
         "marker": {
          "color": "#FFA15A"
         },
         "name": "8",
         "notched": false,
         "offsetgroup": "8",
         "orientation": "v",
         "showlegend": true,
         "type": "box",
         "x": [
          8,
          8,
          8,
          8,
          8,
          8
         ],
         "x0": " ",
         "xaxis": "x",
         "y": [
          726.48,
          872.28,
          840.8,
          879.49,
          900.85,
          859.15
         ],
         "y0": " ",
         "yaxis": "y"
        },
        {
         "alignmentgroup": "True",
         "hovertemplate": "<b>%{hovertext}</b><br><br>HSCode=%{x}<br>value=%{y}<extra></extra>",
         "hovertext": [
          1015.64,
          919.73
         ],
         "legendgroup": "17",
         "marker": {
          "color": "#19d3f3"
         },
         "name": "17",
         "notched": false,
         "offsetgroup": "17",
         "orientation": "v",
         "showlegend": true,
         "type": "box",
         "x": [
          17,
          17
         ],
         "x0": " ",
         "xaxis": "x",
         "y": [
          1015.64,
          919.73
         ],
         "y0": " ",
         "yaxis": "y"
        },
        {
         "alignmentgroup": "True",
         "hovertemplate": "<b>%{hovertext}</b><br><br>HSCode=%{x}<br>value=%{y}<extra></extra>",
         "hovertext": [
          888.31,
          743.97,
          843.72,
          719.69,
          991.44,
          1193.58,
          1078.24
         ],
         "legendgroup": "74",
         "marker": {
          "color": "#FF6692"
         },
         "name": "74",
         "notched": false,
         "offsetgroup": "74",
         "orientation": "v",
         "showlegend": true,
         "type": "box",
         "x": [
          74,
          74,
          74,
          74,
          74,
          74,
          74
         ],
         "x0": " ",
         "xaxis": "x",
         "y": [
          888.31,
          743.97,
          843.72,
          719.69,
          991.44,
          1193.58,
          1078.24
         ],
         "y0": " ",
         "yaxis": "y"
        },
        {
         "alignmentgroup": "True",
         "hovertemplate": "<b>%{hovertext}</b><br><br>HSCode=%{x}<br>value=%{y}<extra></extra>",
         "hovertext": [
          759.45,
          1015.46
         ],
         "legendgroup": "47",
         "marker": {
          "color": "#B6E880"
         },
         "name": "47",
         "notched": false,
         "offsetgroup": "47",
         "orientation": "v",
         "showlegend": true,
         "type": "box",
         "x": [
          47,
          47
         ],
         "x0": " ",
         "xaxis": "x",
         "y": [
          759.45,
          1015.46
         ],
         "y0": " ",
         "yaxis": "y"
        },
        {
         "alignmentgroup": "True",
         "hovertemplate": "<b>%{hovertext}</b><br><br>HSCode=%{x}<br>value=%{y}<extra></extra>",
         "hovertext": [
          932.35
         ],
         "legendgroup": "32",
         "marker": {
          "color": "#FF97FF"
         },
         "name": "32",
         "notched": false,
         "offsetgroup": "32",
         "orientation": "v",
         "showlegend": true,
         "type": "box",
         "x": [
          32
         ],
         "x0": " ",
         "xaxis": "x",
         "y": [
          932.35
         ],
         "y0": " ",
         "yaxis": "y"
        },
        {
         "alignmentgroup": "True",
         "hovertemplate": "<b>%{hovertext}</b><br><br>HSCode=%{x}<br>value=%{y}<extra></extra>",
         "hovertext": [
          962.96
         ],
         "legendgroup": "54",
         "marker": {
          "color": "#FECB52"
         },
         "name": "54",
         "notched": false,
         "offsetgroup": "54",
         "orientation": "v",
         "showlegend": true,
         "type": "box",
         "x": [
          54
         ],
         "x0": " ",
         "xaxis": "x",
         "y": [
          962.96
         ],
         "y0": " ",
         "yaxis": "y"
        }
       ],
       "layout": {
        "boxmode": "overlay",
        "height": 700,
        "legend": {
         "title": {
          "text": "HSCode"
         },
         "tracegroupgap": 0
        },
        "template": {
         "data": {
          "bar": [
           {
            "error_x": {
             "color": "#2a3f5f"
            },
            "error_y": {
             "color": "#2a3f5f"
            },
            "marker": {
             "line": {
              "color": "#E5ECF6",
              "width": 0.5
             },
             "pattern": {
              "fillmode": "overlay",
              "size": 10,
              "solidity": 0.2
             }
            },
            "type": "bar"
           }
          ],
          "barpolar": [
           {
            "marker": {
             "line": {
              "color": "#E5ECF6",
              "width": 0.5
             },
             "pattern": {
              "fillmode": "overlay",
              "size": 10,
              "solidity": 0.2
             }
            },
            "type": "barpolar"
           }
          ],
          "carpet": [
           {
            "aaxis": {
             "endlinecolor": "#2a3f5f",
             "gridcolor": "white",
             "linecolor": "white",
             "minorgridcolor": "white",
             "startlinecolor": "#2a3f5f"
            },
            "baxis": {
             "endlinecolor": "#2a3f5f",
             "gridcolor": "white",
             "linecolor": "white",
             "minorgridcolor": "white",
             "startlinecolor": "#2a3f5f"
            },
            "type": "carpet"
           }
          ],
          "choropleth": [
           {
            "colorbar": {
             "outlinewidth": 0,
             "ticks": ""
            },
            "type": "choropleth"
           }
          ],
          "contour": [
           {
            "colorbar": {
             "outlinewidth": 0,
             "ticks": ""
            },
            "colorscale": [
             [
              0,
              "#0d0887"
             ],
             [
              0.1111111111111111,
              "#46039f"
             ],
             [
              0.2222222222222222,
              "#7201a8"
             ],
             [
              0.3333333333333333,
              "#9c179e"
             ],
             [
              0.4444444444444444,
              "#bd3786"
             ],
             [
              0.5555555555555556,
              "#d8576b"
             ],
             [
              0.6666666666666666,
              "#ed7953"
             ],
             [
              0.7777777777777778,
              "#fb9f3a"
             ],
             [
              0.8888888888888888,
              "#fdca26"
             ],
             [
              1,
              "#f0f921"
             ]
            ],
            "type": "contour"
           }
          ],
          "contourcarpet": [
           {
            "colorbar": {
             "outlinewidth": 0,
             "ticks": ""
            },
            "type": "contourcarpet"
           }
          ],
          "heatmap": [
           {
            "colorbar": {
             "outlinewidth": 0,
             "ticks": ""
            },
            "colorscale": [
             [
              0,
              "#0d0887"
             ],
             [
              0.1111111111111111,
              "#46039f"
             ],
             [
              0.2222222222222222,
              "#7201a8"
             ],
             [
              0.3333333333333333,
              "#9c179e"
             ],
             [
              0.4444444444444444,
              "#bd3786"
             ],
             [
              0.5555555555555556,
              "#d8576b"
             ],
             [
              0.6666666666666666,
              "#ed7953"
             ],
             [
              0.7777777777777778,
              "#fb9f3a"
             ],
             [
              0.8888888888888888,
              "#fdca26"
             ],
             [
              1,
              "#f0f921"
             ]
            ],
            "type": "heatmap"
           }
          ],
          "heatmapgl": [
           {
            "colorbar": {
             "outlinewidth": 0,
             "ticks": ""
            },
            "colorscale": [
             [
              0,
              "#0d0887"
             ],
             [
              0.1111111111111111,
              "#46039f"
             ],
             [
              0.2222222222222222,
              "#7201a8"
             ],
             [
              0.3333333333333333,
              "#9c179e"
             ],
             [
              0.4444444444444444,
              "#bd3786"
             ],
             [
              0.5555555555555556,
              "#d8576b"
             ],
             [
              0.6666666666666666,
              "#ed7953"
             ],
             [
              0.7777777777777778,
              "#fb9f3a"
             ],
             [
              0.8888888888888888,
              "#fdca26"
             ],
             [
              1,
              "#f0f921"
             ]
            ],
            "type": "heatmapgl"
           }
          ],
          "histogram": [
           {
            "marker": {
             "pattern": {
              "fillmode": "overlay",
              "size": 10,
              "solidity": 0.2
             }
            },
            "type": "histogram"
           }
          ],
          "histogram2d": [
           {
            "colorbar": {
             "outlinewidth": 0,
             "ticks": ""
            },
            "colorscale": [
             [
              0,
              "#0d0887"
             ],
             [
              0.1111111111111111,
              "#46039f"
             ],
             [
              0.2222222222222222,
              "#7201a8"
             ],
             [
              0.3333333333333333,
              "#9c179e"
             ],
             [
              0.4444444444444444,
              "#bd3786"
             ],
             [
              0.5555555555555556,
              "#d8576b"
             ],
             [
              0.6666666666666666,
              "#ed7953"
             ],
             [
              0.7777777777777778,
              "#fb9f3a"
             ],
             [
              0.8888888888888888,
              "#fdca26"
             ],
             [
              1,
              "#f0f921"
             ]
            ],
            "type": "histogram2d"
           }
          ],
          "histogram2dcontour": [
           {
            "colorbar": {
             "outlinewidth": 0,
             "ticks": ""
            },
            "colorscale": [
             [
              0,
              "#0d0887"
             ],
             [
              0.1111111111111111,
              "#46039f"
             ],
             [
              0.2222222222222222,
              "#7201a8"
             ],
             [
              0.3333333333333333,
              "#9c179e"
             ],
             [
              0.4444444444444444,
              "#bd3786"
             ],
             [
              0.5555555555555556,
              "#d8576b"
             ],
             [
              0.6666666666666666,
              "#ed7953"
             ],
             [
              0.7777777777777778,
              "#fb9f3a"
             ],
             [
              0.8888888888888888,
              "#fdca26"
             ],
             [
              1,
              "#f0f921"
             ]
            ],
            "type": "histogram2dcontour"
           }
          ],
          "mesh3d": [
           {
            "colorbar": {
             "outlinewidth": 0,
             "ticks": ""
            },
            "type": "mesh3d"
           }
          ],
          "parcoords": [
           {
            "line": {
             "colorbar": {
              "outlinewidth": 0,
              "ticks": ""
             }
            },
            "type": "parcoords"
           }
          ],
          "pie": [
           {
            "automargin": true,
            "type": "pie"
           }
          ],
          "scatter": [
           {
            "fillpattern": {
             "fillmode": "overlay",
             "size": 10,
             "solidity": 0.2
            },
            "type": "scatter"
           }
          ],
          "scatter3d": [
           {
            "line": {
             "colorbar": {
              "outlinewidth": 0,
              "ticks": ""
             }
            },
            "marker": {
             "colorbar": {
              "outlinewidth": 0,
              "ticks": ""
             }
            },
            "type": "scatter3d"
           }
          ],
          "scattercarpet": [
           {
            "marker": {
             "colorbar": {
              "outlinewidth": 0,
              "ticks": ""
             }
            },
            "type": "scattercarpet"
           }
          ],
          "scattergeo": [
           {
            "marker": {
             "colorbar": {
              "outlinewidth": 0,
              "ticks": ""
             }
            },
            "type": "scattergeo"
           }
          ],
          "scattergl": [
           {
            "marker": {
             "colorbar": {
              "outlinewidth": 0,
              "ticks": ""
             }
            },
            "type": "scattergl"
           }
          ],
          "scattermapbox": [
           {
            "marker": {
             "colorbar": {
              "outlinewidth": 0,
              "ticks": ""
             }
            },
            "type": "scattermapbox"
           }
          ],
          "scatterpolar": [
           {
            "marker": {
             "colorbar": {
              "outlinewidth": 0,
              "ticks": ""
             }
            },
            "type": "scatterpolar"
           }
          ],
          "scatterpolargl": [
           {
            "marker": {
             "colorbar": {
              "outlinewidth": 0,
              "ticks": ""
             }
            },
            "type": "scatterpolargl"
           }
          ],
          "scatterternary": [
           {
            "marker": {
             "colorbar": {
              "outlinewidth": 0,
              "ticks": ""
             }
            },
            "type": "scatterternary"
           }
          ],
          "surface": [
           {
            "colorbar": {
             "outlinewidth": 0,
             "ticks": ""
            },
            "colorscale": [
             [
              0,
              "#0d0887"
             ],
             [
              0.1111111111111111,
              "#46039f"
             ],
             [
              0.2222222222222222,
              "#7201a8"
             ],
             [
              0.3333333333333333,
              "#9c179e"
             ],
             [
              0.4444444444444444,
              "#bd3786"
             ],
             [
              0.5555555555555556,
              "#d8576b"
             ],
             [
              0.6666666666666666,
              "#ed7953"
             ],
             [
              0.7777777777777778,
              "#fb9f3a"
             ],
             [
              0.8888888888888888,
              "#fdca26"
             ],
             [
              1,
              "#f0f921"
             ]
            ],
            "type": "surface"
           }
          ],
          "table": [
           {
            "cells": {
             "fill": {
              "color": "#EBF0F8"
             },
             "line": {
              "color": "white"
             }
            },
            "header": {
             "fill": {
              "color": "#C8D4E3"
             },
             "line": {
              "color": "white"
             }
            },
            "type": "table"
           }
          ]
         },
         "layout": {
          "annotationdefaults": {
           "arrowcolor": "#2a3f5f",
           "arrowhead": 0,
           "arrowwidth": 1
          },
          "autotypenumbers": "strict",
          "coloraxis": {
           "colorbar": {
            "outlinewidth": 0,
            "ticks": ""
           }
          },
          "colorscale": {
           "diverging": [
            [
             0,
             "#8e0152"
            ],
            [
             0.1,
             "#c51b7d"
            ],
            [
             0.2,
             "#de77ae"
            ],
            [
             0.3,
             "#f1b6da"
            ],
            [
             0.4,
             "#fde0ef"
            ],
            [
             0.5,
             "#f7f7f7"
            ],
            [
             0.6,
             "#e6f5d0"
            ],
            [
             0.7,
             "#b8e186"
            ],
            [
             0.8,
             "#7fbc41"
            ],
            [
             0.9,
             "#4d9221"
            ],
            [
             1,
             "#276419"
            ]
           ],
           "sequential": [
            [
             0,
             "#0d0887"
            ],
            [
             0.1111111111111111,
             "#46039f"
            ],
            [
             0.2222222222222222,
             "#7201a8"
            ],
            [
             0.3333333333333333,
             "#9c179e"
            ],
            [
             0.4444444444444444,
             "#bd3786"
            ],
            [
             0.5555555555555556,
             "#d8576b"
            ],
            [
             0.6666666666666666,
             "#ed7953"
            ],
            [
             0.7777777777777778,
             "#fb9f3a"
            ],
            [
             0.8888888888888888,
             "#fdca26"
            ],
            [
             1,
             "#f0f921"
            ]
           ],
           "sequentialminus": [
            [
             0,
             "#0d0887"
            ],
            [
             0.1111111111111111,
             "#46039f"
            ],
            [
             0.2222222222222222,
             "#7201a8"
            ],
            [
             0.3333333333333333,
             "#9c179e"
            ],
            [
             0.4444444444444444,
             "#bd3786"
            ],
            [
             0.5555555555555556,
             "#d8576b"
            ],
            [
             0.6666666666666666,
             "#ed7953"
            ],
            [
             0.7777777777777778,
             "#fb9f3a"
            ],
            [
             0.8888888888888888,
             "#fdca26"
            ],
            [
             1,
             "#f0f921"
            ]
           ]
          },
          "colorway": [
           "#636efa",
           "#EF553B",
           "#00cc96",
           "#ab63fa",
           "#FFA15A",
           "#19d3f3",
           "#FF6692",
           "#B6E880",
           "#FF97FF",
           "#FECB52"
          ],
          "font": {
           "color": "#2a3f5f"
          },
          "geo": {
           "bgcolor": "white",
           "lakecolor": "white",
           "landcolor": "#E5ECF6",
           "showlakes": true,
           "showland": true,
           "subunitcolor": "white"
          },
          "hoverlabel": {
           "align": "left"
          },
          "hovermode": "closest",
          "mapbox": {
           "style": "light"
          },
          "paper_bgcolor": "white",
          "plot_bgcolor": "#E5ECF6",
          "polar": {
           "angularaxis": {
            "gridcolor": "white",
            "linecolor": "white",
            "ticks": ""
           },
           "bgcolor": "#E5ECF6",
           "radialaxis": {
            "gridcolor": "white",
            "linecolor": "white",
            "ticks": ""
           }
          },
          "scene": {
           "xaxis": {
            "backgroundcolor": "#E5ECF6",
            "gridcolor": "white",
            "gridwidth": 2,
            "linecolor": "white",
            "showbackground": true,
            "ticks": "",
            "zerolinecolor": "white"
           },
           "yaxis": {
            "backgroundcolor": "#E5ECF6",
            "gridcolor": "white",
            "gridwidth": 2,
            "linecolor": "white",
            "showbackground": true,
            "ticks": "",
            "zerolinecolor": "white"
           },
           "zaxis": {
            "backgroundcolor": "#E5ECF6",
            "gridcolor": "white",
            "gridwidth": 2,
            "linecolor": "white",
            "showbackground": true,
            "ticks": "",
            "zerolinecolor": "white"
           }
          },
          "shapedefaults": {
           "line": {
            "color": "#2a3f5f"
           }
          },
          "ternary": {
           "aaxis": {
            "gridcolor": "white",
            "linecolor": "white",
            "ticks": ""
           },
           "baxis": {
            "gridcolor": "white",
            "linecolor": "white",
            "ticks": ""
           },
           "bgcolor": "#E5ECF6",
           "caxis": {
            "gridcolor": "white",
            "linecolor": "white",
            "ticks": ""
           }
          },
          "title": {
           "x": 0.05
          },
          "xaxis": {
           "automargin": true,
           "gridcolor": "white",
           "linecolor": "white",
           "ticks": "",
           "title": {
            "standoff": 15
           },
           "zerolinecolor": "white",
           "zerolinewidth": 2
          },
          "yaxis": {
           "automargin": true,
           "gridcolor": "white",
           "linecolor": "white",
           "ticks": "",
           "title": {
            "standoff": 15
           },
           "zerolinecolor": "white",
           "zerolinewidth": 2
          }
         }
        },
        "title": {
         "text": "Expensive Imports HSCodewise"
        },
        "width": 1400,
        "xaxis": {
         "anchor": "y",
         "categoryarray": [
          27,
          15,
          26,
          71,
          29,
          31,
          39,
          72,
          73,
          84,
          85,
          87,
          89,
          98,
          88,
          90,
          38,
          99,
          28,
          25,
          44,
          7,
          76,
          94,
          8,
          17,
          74,
          47,
          32,
          54
         ],
         "categoryorder": "array",
         "domain": [
          0,
          1
         ],
         "title": {
          "text": "HSCode"
         }
        },
        "yaxis": {
         "anchor": "x",
         "domain": [
          0,
          1
         ],
         "title": {
          "text": "value"
         }
        }
       }
      }
     },
     "metadata": {},
     "output_type": "display_data"
    }
   ],
   "source": [
    "exp_imports = pd.DataFrame(data=df_import[df_import.value>700])\n",
    "px.box(x=\"HSCode\", y=\"value\", data_frame=exp_imports, title='Expensive Imports HSCodewise',\n",
    "            color='HSCode', hover_name='value', height=700, width = 1400)\n",
    "            "
   ]
  },
  {
   "attachments": {},
   "cell_type": "markdown",
   "metadata": {},
   "source": [
    "Findings:\n",
    "\n",
    "From above graphs, it is clear that the most expensive commodities exported or imported are: Mineral Fuels & Oils and Natural or Cultured Pearls, Stones etc. Their falling under outliers is justified from the graphs."
   ]
  },
  {
   "attachments": {},
   "cell_type": "markdown",
   "metadata": {},
   "source": [
    "#  Commodities Exported Most Often or Popular Exported Commodities"
   ]
  },
  {
   "cell_type": "code",
   "execution_count": 67,
   "metadata": {},
   "outputs": [
    {
     "data": {
      "text/html": [
       "<div>\n",
       "<style scoped>\n",
       "    .dataframe tbody tr th:only-of-type {\n",
       "        vertical-align: middle;\n",
       "    }\n",
       "\n",
       "    .dataframe tbody tr th {\n",
       "        vertical-align: top;\n",
       "    }\n",
       "\n",
       "    .dataframe thead th {\n",
       "        text-align: right;\n",
       "    }\n",
       "</style>\n",
       "<table border=\"1\" class=\"dataframe\">\n",
       "  <thead>\n",
       "    <tr style=\"text-align: right;\">\n",
       "      <th></th>\n",
       "      <th>Commodity</th>\n",
       "    </tr>\n",
       "  </thead>\n",
       "  <tbody>\n",
       "    <tr>\n",
       "      <th>PHARMACEUTICAL PRODUCTS</th>\n",
       "      <td>2421</td>\n",
       "    </tr>\n",
       "    <tr>\n",
       "      <th>NUCLEAR REACTORS, BOILERS, MACHINERY AND MECHANICAL APPLIANCES; PARTS THEREOF.</th>\n",
       "      <td>2416</td>\n",
       "    </tr>\n",
       "    <tr>\n",
       "      <th>ELECTRICAL MACHINERY AND EQUIPMENT AND PARTS THEREOF; SOUND RECORDERS AND REPRODUCERS, TELEVISION IMAGE AND SOUND RECORDERS AND REPRODUCERS,AND PARTS.</th>\n",
       "      <td>2332</td>\n",
       "    </tr>\n",
       "    <tr>\n",
       "      <th>VEHICLES OTHER THAN RAILWAY OR TRAMWAY ROLLING STOCK, AND PARTS AND ACCESSORIES THEREOF.</th>\n",
       "      <td>2313</td>\n",
       "    </tr>\n",
       "    <tr>\n",
       "      <th>PLASTIC AND ARTICLES THEREOF.</th>\n",
       "      <td>2303</td>\n",
       "    </tr>\n",
       "    <tr>\n",
       "      <th>OPTICAL, PHOTOGRAPHIC CINEMATOGRAPHIC MEASURING, CHECKING PRECISION, MEDICAL OR SURGICAL INST. AND APPARATUS PARTS AND ACCESSORIES THEREOF;</th>\n",
       "      <td>2284</td>\n",
       "    </tr>\n",
       "    <tr>\n",
       "      <th>ARTICLES OF APPAREL AND CLOTHING ACCESSORIES, NOT KNITTED OR CROCHETED.</th>\n",
       "      <td>2273</td>\n",
       "    </tr>\n",
       "    <tr>\n",
       "      <th>OTHER MADE UP TEXTILE ARTICLES; SETS; WORN CLOTHING AND WORN TEXTILE ARTICLES; RAGS</th>\n",
       "      <td>2265</td>\n",
       "    </tr>\n",
       "    <tr>\n",
       "      <th>ARTICLES OF IRON OR STEEL</th>\n",
       "      <td>2242</td>\n",
       "    </tr>\n",
       "    <tr>\n",
       "      <th>RUBBER AND ARTICLES THEREOF.</th>\n",
       "      <td>2160</td>\n",
       "    </tr>\n",
       "  </tbody>\n",
       "</table>\n",
       "</div>"
      ],
      "text/plain": [
       "                                                    Commodity\n",
       "PHARMACEUTICAL PRODUCTS                                  2421\n",
       "NUCLEAR REACTORS, BOILERS, MACHINERY AND MECHAN...       2416\n",
       "ELECTRICAL MACHINERY AND EQUIPMENT AND PARTS TH...       2332\n",
       "VEHICLES OTHER THAN RAILWAY OR TRAMWAY ROLLING ...       2313\n",
       "PLASTIC AND ARTICLES THEREOF.                            2303\n",
       "OPTICAL, PHOTOGRAPHIC CINEMATOGRAPHIC MEASURING...       2284\n",
       "ARTICLES OF APPAREL AND CLOTHING ACCESSORIES, N...       2273\n",
       "OTHER MADE UP TEXTILE ARTICLES; SETS; WORN CLOT...       2265\n",
       "ARTICLES OF IRON OR STEEL                                2242\n",
       "RUBBER AND ARTICLES THEREOF.                             2160"
      ]
     },
     "execution_count": 67,
     "metadata": {},
     "output_type": "execute_result"
    }
   ],
   "source": [
    "df = pd.DataFrame(df_export['Commodity'].value_counts())\n",
    "df.head(10)"
   ]
  },
  {
   "attachments": {},
   "cell_type": "markdown",
   "metadata": {},
   "source": [
    "Trend followed by the Popular Commodities Exported(In Value) From 2010 to 2021"
   ]
  },
  {
   "cell_type": "code",
   "execution_count": 68,
   "metadata": {},
   "outputs": [
    {
     "data": {
      "text/html": [
       "<div>\n",
       "<style scoped>\n",
       "    .dataframe tbody tr th:only-of-type {\n",
       "        vertical-align: middle;\n",
       "    }\n",
       "\n",
       "    .dataframe tbody tr th {\n",
       "        vertical-align: top;\n",
       "    }\n",
       "\n",
       "    .dataframe thead th {\n",
       "        text-align: right;\n",
       "    }\n",
       "</style>\n",
       "<table border=\"1\" class=\"dataframe\">\n",
       "  <thead>\n",
       "    <tr style=\"text-align: right;\">\n",
       "      <th></th>\n",
       "      <th>value</th>\n",
       "      <th>year</th>\n",
       "    </tr>\n",
       "    <tr>\n",
       "      <th>Commodity</th>\n",
       "      <th></th>\n",
       "      <th></th>\n",
       "    </tr>\n",
       "  </thead>\n",
       "  <tbody>\n",
       "    <tr>\n",
       "      <th>MEAT AND EDIBLE MEAT OFFAL.</th>\n",
       "      <td>1.40</td>\n",
       "      <td>2010</td>\n",
       "    </tr>\n",
       "    <tr>\n",
       "      <th>FISH AND CRUSTACEANS, MOLLUSCS AND OTHER AQUATIC INVERTABRATES.</th>\n",
       "      <td>0.08</td>\n",
       "      <td>2010</td>\n",
       "    </tr>\n",
       "    <tr>\n",
       "      <th>DAIRY PRODUCE</th>\n",
       "      <td>3.89</td>\n",
       "      <td>2010</td>\n",
       "    </tr>\n",
       "    <tr>\n",
       "      <th>EDIBLE VEGETABLES AND CERTAIN ROOTS AND TUBERS.</th>\n",
       "      <td>0.17</td>\n",
       "      <td>2010</td>\n",
       "    </tr>\n",
       "    <tr>\n",
       "      <th>EDIBLE FRUIT AND NUTS</th>\n",
       "      <td>0.12</td>\n",
       "      <td>2010</td>\n",
       "    </tr>\n",
       "    <tr>\n",
       "      <th>...</th>\n",
       "      <td>...</td>\n",
       "      <td>...</td>\n",
       "    </tr>\n",
       "    <tr>\n",
       "      <th>CLOCKS AND WATCHES AND PARTS THEREOF.</th>\n",
       "      <td>0.01</td>\n",
       "      <td>2021</td>\n",
       "    </tr>\n",
       "    <tr>\n",
       "      <th>FURNITURE</th>\n",
       "      <td>0.19</td>\n",
       "      <td>2021</td>\n",
       "    </tr>\n",
       "    <tr>\n",
       "      <th>TOYS, GAMES AND SPORTS REQUISITES</th>\n",
       "      <td>0.03</td>\n",
       "      <td>2021</td>\n",
       "    </tr>\n",
       "    <tr>\n",
       "      <th>MISCELLANEOUS MANUFACTURED ARTICLES.</th>\n",
       "      <td>0.31</td>\n",
       "      <td>2021</td>\n",
       "    </tr>\n",
       "    <tr>\n",
       "      <th>PROJECT GOODS</th>\n",
       "      <td>0.01</td>\n",
       "      <td>2021</td>\n",
       "    </tr>\n",
       "  </tbody>\n",
       "</table>\n",
       "<p>143270 rows × 2 columns</p>\n",
       "</div>"
      ],
      "text/plain": [
       "                                                    value  year\n",
       "Commodity                                                      \n",
       "MEAT AND EDIBLE MEAT OFFAL.                          1.40  2010\n",
       "FISH AND CRUSTACEANS, MOLLUSCS AND OTHER AQUATI...   0.08  2010\n",
       "DAIRY PRODUCE                                        3.89  2010\n",
       "EDIBLE VEGETABLES AND CERTAIN ROOTS AND TUBERS.      0.17  2010\n",
       "EDIBLE FRUIT AND NUTS                                0.12  2010\n",
       "...                                                   ...   ...\n",
       "CLOCKS AND WATCHES AND PARTS THEREOF.                0.01  2021\n",
       "FURNITURE                                            0.19  2021\n",
       "TOYS, GAMES AND SPORTS REQUISITES                    0.03  2021\n",
       "MISCELLANEOUS MANUFACTURED ARTICLES.                 0.31  2021\n",
       "PROJECT GOODS                                        0.01  2021\n",
       "\n",
       "[143270 rows x 2 columns]"
      ]
     },
     "execution_count": 68,
     "metadata": {},
     "output_type": "execute_result"
    }
   ],
   "source": [
    "exp_temp = df_export.copy()\n",
    "exp_temp.drop(['HSCode', 'country'], axis=1, inplace=True)\n",
    "exp_temp['Commodity'] = exp_temp['Commodity'].apply(lambda x:x.split(';')[0])\n",
    "exp_temp.set_index('Commodity', inplace=True)\n",
    "exp_temp"
   ]
  },
  {
   "cell_type": "code",
   "execution_count": 69,
   "metadata": {},
   "outputs": [
    {
     "data": {
      "application/vnd.plotly.v1+json": {
       "config": {
        "plotlyServerURL": "https://plot.ly"
       },
       "data": [
        {
         "type": "scatter",
         "x": [
          2010,
          2011,
          2012,
          2013,
          2014,
          2015,
          2016,
          2017,
          2018,
          2019,
          2020,
          2021
         ],
         "xaxis": "x",
         "y": [
          10136.24,
          11518.44,
          10818.45,
          10132.05,
          8695.42,
          8012.2300000000005,
          8229.08,
          9322.94,
          12726.619999999999,
          15186.31,
          14212.5,
          20177.36
         ],
         "yaxis": "y"
        },
        {
         "type": "scatter",
         "x": [
          2010,
          2011,
          2012,
          2013,
          2014,
          2015,
          2016,
          2017,
          2018,
          2019,
          2020,
          2021
         ],
         "xaxis": "x2",
         "y": [
          9083.92,
          10805.619999999999,
          11544.76,
          12062.42,
          13796.45,
          13513.68,
          14094.93,
          17864.39,
          20960.95,
          20831.89,
          18948.14,
          25407.04
         ],
         "yaxis": "y2"
        },
        {
         "type": "scatter",
         "x": [
          2010,
          2011,
          2012,
          2013,
          2014,
          2015,
          2016,
          2017,
          2018,
          2019,
          2020,
          2021
         ],
         "xaxis": "x3",
         "y": [
          1514.01,
          1914.24,
          2024.02,
          2128.52,
          2363.64,
          2394.66,
          2689.21,
          2994.75,
          3252.62,
          3370.92,
          3272.06,
          3979.9900000000002
         ],
         "yaxis": "y3"
        },
        {
         "type": "scatter",
         "x": [
          2010,
          2011,
          2012,
          2013,
          2014,
          2015,
          2016,
          2017,
          2018,
          2019,
          2020,
          2021
         ],
         "xaxis": "x4",
         "y": [
          6670.91,
          8457.68,
          10023.17,
          10923.91,
          11583.91,
          12906.630000000001,
          12929.55,
          13254.88,
          14753.39,
          16288.55,
          19382.87,
          19394.69
         ],
         "yaxis": "y4"
        },
        {
         "type": "scatter",
         "x": [
          2010,
          2011,
          2012,
          2013,
          2014,
          2015,
          2016,
          2017,
          2018,
          2019,
          2020,
          2021
         ],
         "xaxis": "x5",
         "y": [
          6667.05,
          7959.93,
          7407.18,
          8334.18,
          9191.53,
          9321.960000000001,
          9163.93,
          8723.869999999999,
          8335.41,
          7994.22,
          5941.26,
          7845.04
         ],
         "yaxis": "y5"
        }
       ],
       "layout": {
        "annotations": [
         {
          "font": {
           "size": 16
          },
          "showarrow": false,
          "text": "Trend for Electrical Machinery & Equipments and Parts",
          "x": 0.5,
          "xanchor": "center",
          "xref": "paper",
          "y": 1,
          "yanchor": "bottom",
          "yref": "paper"
         },
         {
          "font": {
           "size": 16
          },
          "showarrow": false,
          "text": "Trend for Nuclear Reactors",
          "x": 0.5,
          "xanchor": "center",
          "xref": "paper",
          "y": 0.78,
          "yanchor": "bottom",
          "yref": "paper"
         },
         {
          "font": {
           "size": 16
          },
          "showarrow": false,
          "text": "Trend for Medical or Surgical Apparatus & Equipments",
          "x": 0.5,
          "xanchor": "center",
          "xref": "paper",
          "y": 0.56,
          "yanchor": "bottom",
          "yref": "paper"
         },
         {
          "font": {
           "size": 16
          },
          "showarrow": false,
          "text": "Trend for Pharmaceutical Products",
          "x": 0.5,
          "xanchor": "center",
          "xref": "paper",
          "y": 0.33999999999999997,
          "yanchor": "bottom",
          "yref": "paper"
         },
         {
          "font": {
           "size": 16
          },
          "showarrow": false,
          "text": "Trend for Apparel and Clothing Accessories",
          "x": 0.5,
          "xanchor": "center",
          "xref": "paper",
          "y": 0.12,
          "yanchor": "bottom",
          "yref": "paper"
         }
        ],
        "height": 1500,
        "showlegend": false,
        "template": {
         "data": {
          "bar": [
           {
            "error_x": {
             "color": "#2a3f5f"
            },
            "error_y": {
             "color": "#2a3f5f"
            },
            "marker": {
             "line": {
              "color": "#E5ECF6",
              "width": 0.5
             },
             "pattern": {
              "fillmode": "overlay",
              "size": 10,
              "solidity": 0.2
             }
            },
            "type": "bar"
           }
          ],
          "barpolar": [
           {
            "marker": {
             "line": {
              "color": "#E5ECF6",
              "width": 0.5
             },
             "pattern": {
              "fillmode": "overlay",
              "size": 10,
              "solidity": 0.2
             }
            },
            "type": "barpolar"
           }
          ],
          "carpet": [
           {
            "aaxis": {
             "endlinecolor": "#2a3f5f",
             "gridcolor": "white",
             "linecolor": "white",
             "minorgridcolor": "white",
             "startlinecolor": "#2a3f5f"
            },
            "baxis": {
             "endlinecolor": "#2a3f5f",
             "gridcolor": "white",
             "linecolor": "white",
             "minorgridcolor": "white",
             "startlinecolor": "#2a3f5f"
            },
            "type": "carpet"
           }
          ],
          "choropleth": [
           {
            "colorbar": {
             "outlinewidth": 0,
             "ticks": ""
            },
            "type": "choropleth"
           }
          ],
          "contour": [
           {
            "colorbar": {
             "outlinewidth": 0,
             "ticks": ""
            },
            "colorscale": [
             [
              0,
              "#0d0887"
             ],
             [
              0.1111111111111111,
              "#46039f"
             ],
             [
              0.2222222222222222,
              "#7201a8"
             ],
             [
              0.3333333333333333,
              "#9c179e"
             ],
             [
              0.4444444444444444,
              "#bd3786"
             ],
             [
              0.5555555555555556,
              "#d8576b"
             ],
             [
              0.6666666666666666,
              "#ed7953"
             ],
             [
              0.7777777777777778,
              "#fb9f3a"
             ],
             [
              0.8888888888888888,
              "#fdca26"
             ],
             [
              1,
              "#f0f921"
             ]
            ],
            "type": "contour"
           }
          ],
          "contourcarpet": [
           {
            "colorbar": {
             "outlinewidth": 0,
             "ticks": ""
            },
            "type": "contourcarpet"
           }
          ],
          "heatmap": [
           {
            "colorbar": {
             "outlinewidth": 0,
             "ticks": ""
            },
            "colorscale": [
             [
              0,
              "#0d0887"
             ],
             [
              0.1111111111111111,
              "#46039f"
             ],
             [
              0.2222222222222222,
              "#7201a8"
             ],
             [
              0.3333333333333333,
              "#9c179e"
             ],
             [
              0.4444444444444444,
              "#bd3786"
             ],
             [
              0.5555555555555556,
              "#d8576b"
             ],
             [
              0.6666666666666666,
              "#ed7953"
             ],
             [
              0.7777777777777778,
              "#fb9f3a"
             ],
             [
              0.8888888888888888,
              "#fdca26"
             ],
             [
              1,
              "#f0f921"
             ]
            ],
            "type": "heatmap"
           }
          ],
          "heatmapgl": [
           {
            "colorbar": {
             "outlinewidth": 0,
             "ticks": ""
            },
            "colorscale": [
             [
              0,
              "#0d0887"
             ],
             [
              0.1111111111111111,
              "#46039f"
             ],
             [
              0.2222222222222222,
              "#7201a8"
             ],
             [
              0.3333333333333333,
              "#9c179e"
             ],
             [
              0.4444444444444444,
              "#bd3786"
             ],
             [
              0.5555555555555556,
              "#d8576b"
             ],
             [
              0.6666666666666666,
              "#ed7953"
             ],
             [
              0.7777777777777778,
              "#fb9f3a"
             ],
             [
              0.8888888888888888,
              "#fdca26"
             ],
             [
              1,
              "#f0f921"
             ]
            ],
            "type": "heatmapgl"
           }
          ],
          "histogram": [
           {
            "marker": {
             "pattern": {
              "fillmode": "overlay",
              "size": 10,
              "solidity": 0.2
             }
            },
            "type": "histogram"
           }
          ],
          "histogram2d": [
           {
            "colorbar": {
             "outlinewidth": 0,
             "ticks": ""
            },
            "colorscale": [
             [
              0,
              "#0d0887"
             ],
             [
              0.1111111111111111,
              "#46039f"
             ],
             [
              0.2222222222222222,
              "#7201a8"
             ],
             [
              0.3333333333333333,
              "#9c179e"
             ],
             [
              0.4444444444444444,
              "#bd3786"
             ],
             [
              0.5555555555555556,
              "#d8576b"
             ],
             [
              0.6666666666666666,
              "#ed7953"
             ],
             [
              0.7777777777777778,
              "#fb9f3a"
             ],
             [
              0.8888888888888888,
              "#fdca26"
             ],
             [
              1,
              "#f0f921"
             ]
            ],
            "type": "histogram2d"
           }
          ],
          "histogram2dcontour": [
           {
            "colorbar": {
             "outlinewidth": 0,
             "ticks": ""
            },
            "colorscale": [
             [
              0,
              "#0d0887"
             ],
             [
              0.1111111111111111,
              "#46039f"
             ],
             [
              0.2222222222222222,
              "#7201a8"
             ],
             [
              0.3333333333333333,
              "#9c179e"
             ],
             [
              0.4444444444444444,
              "#bd3786"
             ],
             [
              0.5555555555555556,
              "#d8576b"
             ],
             [
              0.6666666666666666,
              "#ed7953"
             ],
             [
              0.7777777777777778,
              "#fb9f3a"
             ],
             [
              0.8888888888888888,
              "#fdca26"
             ],
             [
              1,
              "#f0f921"
             ]
            ],
            "type": "histogram2dcontour"
           }
          ],
          "mesh3d": [
           {
            "colorbar": {
             "outlinewidth": 0,
             "ticks": ""
            },
            "type": "mesh3d"
           }
          ],
          "parcoords": [
           {
            "line": {
             "colorbar": {
              "outlinewidth": 0,
              "ticks": ""
             }
            },
            "type": "parcoords"
           }
          ],
          "pie": [
           {
            "automargin": true,
            "type": "pie"
           }
          ],
          "scatter": [
           {
            "fillpattern": {
             "fillmode": "overlay",
             "size": 10,
             "solidity": 0.2
            },
            "type": "scatter"
           }
          ],
          "scatter3d": [
           {
            "line": {
             "colorbar": {
              "outlinewidth": 0,
              "ticks": ""
             }
            },
            "marker": {
             "colorbar": {
              "outlinewidth": 0,
              "ticks": ""
             }
            },
            "type": "scatter3d"
           }
          ],
          "scattercarpet": [
           {
            "marker": {
             "colorbar": {
              "outlinewidth": 0,
              "ticks": ""
             }
            },
            "type": "scattercarpet"
           }
          ],
          "scattergeo": [
           {
            "marker": {
             "colorbar": {
              "outlinewidth": 0,
              "ticks": ""
             }
            },
            "type": "scattergeo"
           }
          ],
          "scattergl": [
           {
            "marker": {
             "colorbar": {
              "outlinewidth": 0,
              "ticks": ""
             }
            },
            "type": "scattergl"
           }
          ],
          "scattermapbox": [
           {
            "marker": {
             "colorbar": {
              "outlinewidth": 0,
              "ticks": ""
             }
            },
            "type": "scattermapbox"
           }
          ],
          "scatterpolar": [
           {
            "marker": {
             "colorbar": {
              "outlinewidth": 0,
              "ticks": ""
             }
            },
            "type": "scatterpolar"
           }
          ],
          "scatterpolargl": [
           {
            "marker": {
             "colorbar": {
              "outlinewidth": 0,
              "ticks": ""
             }
            },
            "type": "scatterpolargl"
           }
          ],
          "scatterternary": [
           {
            "marker": {
             "colorbar": {
              "outlinewidth": 0,
              "ticks": ""
             }
            },
            "type": "scatterternary"
           }
          ],
          "surface": [
           {
            "colorbar": {
             "outlinewidth": 0,
             "ticks": ""
            },
            "colorscale": [
             [
              0,
              "#0d0887"
             ],
             [
              0.1111111111111111,
              "#46039f"
             ],
             [
              0.2222222222222222,
              "#7201a8"
             ],
             [
              0.3333333333333333,
              "#9c179e"
             ],
             [
              0.4444444444444444,
              "#bd3786"
             ],
             [
              0.5555555555555556,
              "#d8576b"
             ],
             [
              0.6666666666666666,
              "#ed7953"
             ],
             [
              0.7777777777777778,
              "#fb9f3a"
             ],
             [
              0.8888888888888888,
              "#fdca26"
             ],
             [
              1,
              "#f0f921"
             ]
            ],
            "type": "surface"
           }
          ],
          "table": [
           {
            "cells": {
             "fill": {
              "color": "#EBF0F8"
             },
             "line": {
              "color": "white"
             }
            },
            "header": {
             "fill": {
              "color": "#C8D4E3"
             },
             "line": {
              "color": "white"
             }
            },
            "type": "table"
           }
          ]
         },
         "layout": {
          "annotationdefaults": {
           "arrowcolor": "#2a3f5f",
           "arrowhead": 0,
           "arrowwidth": 1
          },
          "autotypenumbers": "strict",
          "coloraxis": {
           "colorbar": {
            "outlinewidth": 0,
            "ticks": ""
           }
          },
          "colorscale": {
           "diverging": [
            [
             0,
             "#8e0152"
            ],
            [
             0.1,
             "#c51b7d"
            ],
            [
             0.2,
             "#de77ae"
            ],
            [
             0.3,
             "#f1b6da"
            ],
            [
             0.4,
             "#fde0ef"
            ],
            [
             0.5,
             "#f7f7f7"
            ],
            [
             0.6,
             "#e6f5d0"
            ],
            [
             0.7,
             "#b8e186"
            ],
            [
             0.8,
             "#7fbc41"
            ],
            [
             0.9,
             "#4d9221"
            ],
            [
             1,
             "#276419"
            ]
           ],
           "sequential": [
            [
             0,
             "#0d0887"
            ],
            [
             0.1111111111111111,
             "#46039f"
            ],
            [
             0.2222222222222222,
             "#7201a8"
            ],
            [
             0.3333333333333333,
             "#9c179e"
            ],
            [
             0.4444444444444444,
             "#bd3786"
            ],
            [
             0.5555555555555556,
             "#d8576b"
            ],
            [
             0.6666666666666666,
             "#ed7953"
            ],
            [
             0.7777777777777778,
             "#fb9f3a"
            ],
            [
             0.8888888888888888,
             "#fdca26"
            ],
            [
             1,
             "#f0f921"
            ]
           ],
           "sequentialminus": [
            [
             0,
             "#0d0887"
            ],
            [
             0.1111111111111111,
             "#46039f"
            ],
            [
             0.2222222222222222,
             "#7201a8"
            ],
            [
             0.3333333333333333,
             "#9c179e"
            ],
            [
             0.4444444444444444,
             "#bd3786"
            ],
            [
             0.5555555555555556,
             "#d8576b"
            ],
            [
             0.6666666666666666,
             "#ed7953"
            ],
            [
             0.7777777777777778,
             "#fb9f3a"
            ],
            [
             0.8888888888888888,
             "#fdca26"
            ],
            [
             1,
             "#f0f921"
            ]
           ]
          },
          "colorway": [
           "#636efa",
           "#EF553B",
           "#00cc96",
           "#ab63fa",
           "#FFA15A",
           "#19d3f3",
           "#FF6692",
           "#B6E880",
           "#FF97FF",
           "#FECB52"
          ],
          "font": {
           "color": "#2a3f5f"
          },
          "geo": {
           "bgcolor": "white",
           "lakecolor": "white",
           "landcolor": "#E5ECF6",
           "showlakes": true,
           "showland": true,
           "subunitcolor": "white"
          },
          "hoverlabel": {
           "align": "left"
          },
          "hovermode": "closest",
          "mapbox": {
           "style": "light"
          },
          "paper_bgcolor": "white",
          "plot_bgcolor": "#E5ECF6",
          "polar": {
           "angularaxis": {
            "gridcolor": "white",
            "linecolor": "white",
            "ticks": ""
           },
           "bgcolor": "#E5ECF6",
           "radialaxis": {
            "gridcolor": "white",
            "linecolor": "white",
            "ticks": ""
           }
          },
          "scene": {
           "xaxis": {
            "backgroundcolor": "#E5ECF6",
            "gridcolor": "white",
            "gridwidth": 2,
            "linecolor": "white",
            "showbackground": true,
            "ticks": "",
            "zerolinecolor": "white"
           },
           "yaxis": {
            "backgroundcolor": "#E5ECF6",
            "gridcolor": "white",
            "gridwidth": 2,
            "linecolor": "white",
            "showbackground": true,
            "ticks": "",
            "zerolinecolor": "white"
           },
           "zaxis": {
            "backgroundcolor": "#E5ECF6",
            "gridcolor": "white",
            "gridwidth": 2,
            "linecolor": "white",
            "showbackground": true,
            "ticks": "",
            "zerolinecolor": "white"
           }
          },
          "shapedefaults": {
           "line": {
            "color": "#2a3f5f"
           }
          },
          "ternary": {
           "aaxis": {
            "gridcolor": "white",
            "linecolor": "white",
            "ticks": ""
           },
           "baxis": {
            "gridcolor": "white",
            "linecolor": "white",
            "ticks": ""
           },
           "bgcolor": "#E5ECF6",
           "caxis": {
            "gridcolor": "white",
            "linecolor": "white",
            "ticks": ""
           }
          },
          "title": {
           "x": 0.05
          },
          "xaxis": {
           "automargin": true,
           "gridcolor": "white",
           "linecolor": "white",
           "ticks": "",
           "title": {
            "standoff": 15
           },
           "zerolinecolor": "white",
           "zerolinewidth": 2
          },
          "yaxis": {
           "automargin": true,
           "gridcolor": "white",
           "linecolor": "white",
           "ticks": "",
           "title": {
            "standoff": 15
           },
           "zerolinecolor": "white",
           "zerolinewidth": 2
          }
         }
        },
        "title": {
         "text": "Trade Trends for Some Popular Commodities Exported"
        },
        "xaxis": {
         "anchor": "y",
         "domain": [
          0,
          1
         ],
         "title": {
          "text": "Year"
         }
        },
        "xaxis2": {
         "anchor": "y2",
         "domain": [
          0,
          1
         ],
         "title": {
          "text": "Year"
         }
        },
        "xaxis3": {
         "anchor": "y3",
         "domain": [
          0,
          1
         ],
         "title": {
          "text": "Year"
         }
        },
        "xaxis4": {
         "anchor": "y4",
         "domain": [
          0,
          1
         ],
         "title": {
          "text": "Year"
         }
        },
        "xaxis5": {
         "anchor": "y5",
         "domain": [
          0,
          1
         ],
         "title": {
          "text": "Year"
         }
        },
        "yaxis": {
         "anchor": "x",
         "domain": [
          0.88,
          1
         ],
         "title": {
          "text": "Million US $"
         }
        },
        "yaxis2": {
         "anchor": "x2",
         "domain": [
          0.66,
          0.78
         ],
         "title": {
          "text": "Million US $"
         }
        },
        "yaxis3": {
         "anchor": "x3",
         "domain": [
          0.44,
          0.56
         ],
         "title": {
          "text": "Million US $"
         }
        },
        "yaxis4": {
         "anchor": "x4",
         "domain": [
          0.22,
          0.33999999999999997
         ],
         "title": {
          "text": "Million US $"
         }
        },
        "yaxis5": {
         "anchor": "x5",
         "domain": [
          0,
          0.12
         ],
         "title": {
          "text": "Million US $"
         }
        }
       }
      }
     },
     "metadata": {},
     "output_type": "display_data"
    }
   ],
   "source": [
    "g= pd.DataFrame(exp_temp.loc[[\"ELECTRICAL MACHINERY AND EQUIPMENT AND PARTS THEREOF\"]].groupby(['year', 'Commodity'])['value'].sum()).reset_index()\n",
    "g1= pd.DataFrame(exp_temp.loc[[\"NUCLEAR REACTORS, BOILERS, MACHINERY AND MECHANICAL APPLIANCES\"]].groupby(['year', 'Commodity'])['value'].sum()).reset_index()\n",
    "g2= pd.DataFrame(exp_temp.loc[[\"OPTICAL, PHOTOGRAPHIC CINEMATOGRAPHIC MEASURING, CHECKING PRECISION, MEDICAL OR SURGICAL INST. AND APPARATUS PARTS AND ACCESSORIES THEREOF\"]].groupby(['year', 'Commodity'])['value'].sum()).reset_index()\n",
    "g3= pd.DataFrame(exp_temp.loc[[\"PHARMACEUTICAL PRODUCTS\"]].groupby(['year', 'Commodity'])['value'].sum()).reset_index()\n",
    "g4= pd.DataFrame(exp_temp.loc[[\"ARTICLES OF APPAREL AND CLOTHING ACCESSORIES, NOT KNITTED OR CROCHETED.\"]].groupby(['year', 'Commodity'])['value'].sum()).reset_index()\n",
    "\n",
    "# Initialize figure with subplots\n",
    "fig = make_subplots(\n",
    "    rows=5, cols=1, subplot_titles=(\"Trend for Electrical Machinery & Equipments and Parts\",\n",
    "                                    \"Trend for Nuclear Reactors\",\n",
    "                                    \"Trend for Medical or Surgical Apparatus & Equipments\",\n",
    "                                    \"Trend for Pharmaceutical Products\",\n",
    "                                    \"Trend for Apparel and Clothing Accessories\"\n",
    "                                   )\n",
    ")\n",
    "\n",
    "# Add traces\n",
    "fig.add_trace(go.Scatter(x=g.year, y=g.value), row=1, col=1)\n",
    "fig.add_trace(go.Scatter(x=g1.year, y=g1.value), row=2, col=1)\n",
    "fig.add_trace(go.Scatter(x=g2.year, y=g2.value), row=3, col=1)\n",
    "fig.add_trace(go.Scatter(x=g3.year, y=g3.value), row=4, col=1)\n",
    "fig.add_trace(go.Scatter(x=g4.year, y=g4.value), row=5, col=1)\n",
    "\n",
    "\n",
    "# Update xaxis properties\n",
    "fig.update_xaxes(title_text=\"Year\", row=1, col=1)\n",
    "fig.update_xaxes(title_text=\"Year\", row=2, col=1)\n",
    "fig.update_xaxes(title_text=\"Year\", row=3, col=1)\n",
    "fig.update_xaxes(title_text=\"Year\", row=4, col=1)\n",
    "fig.update_xaxes(title_text=\"Year\", row=5, col=1)\n",
    "\n",
    "# Update yaxis properties\n",
    "fig.update_yaxes(title_text=\"Million US $\", row=1, col=1)\n",
    "fig.update_yaxes(title_text=\"Million US $\", row=2, col=1)\n",
    "fig.update_yaxes(title_text=\"Million US $\", row=3, col=1)\n",
    "fig.update_yaxes(title_text=\"Million US $\", row=4, col=1)\n",
    "fig.update_yaxes(title_text=\"Million US $\", row=5, col=1)\n",
    "\n",
    "# Update title and height\n",
    "fig.update_layout(title_text=\"Trade Trends for Some Popular Commodities Exported\", showlegend=False, height = 1500 )\n",
    "fig.show()"
   ]
  },
  {
   "attachments": {},
   "cell_type": "markdown",
   "metadata": {},
   "source": [
    "Findings\n",
    "\n",
    "i) The top 5 most often exported goods have seen an increase in the value of exports between 2010 and 2021; except for the Apparel and Clothing Accessories which see a dip after 2016.\n",
    "\n",
    "ii) Electrical Machinery & Equipments and Parts saw a dip in the exports between 2011 and 2016; but shows increasing trade offlate.\n",
    "\n",
    "iii) Exports for Nuclear Reactors and Part thereof, Medical or Surgical Apparatus and Equipments and Pharmaceutical Products show increasing trade consistently."
   ]
  },
  {
   "attachments": {},
   "cell_type": "markdown",
   "metadata": {},
   "source": [
    "# Commodities Imported Most Often or Popular Imported Commodities"
   ]
  },
  {
   "cell_type": "code",
   "execution_count": 70,
   "metadata": {},
   "outputs": [
    {
     "data": {
      "text/html": [
       "<div>\n",
       "<style scoped>\n",
       "    .dataframe tbody tr th:only-of-type {\n",
       "        vertical-align: middle;\n",
       "    }\n",
       "\n",
       "    .dataframe tbody tr th {\n",
       "        vertical-align: top;\n",
       "    }\n",
       "\n",
       "    .dataframe thead th {\n",
       "        text-align: right;\n",
       "    }\n",
       "</style>\n",
       "<table border=\"1\" class=\"dataframe\">\n",
       "  <thead>\n",
       "    <tr style=\"text-align: right;\">\n",
       "      <th></th>\n",
       "      <th>Commodity</th>\n",
       "    </tr>\n",
       "  </thead>\n",
       "  <tbody>\n",
       "    <tr>\n",
       "      <th>ELECTRICAL MACHINERY AND EQUIPMENT AND PARTS THEREOF; SOUND RECORDERS AND REPRODUCERS, TELEVISION IMAGE AND SOUND RECORDERS AND REPRODUCERS,AND PARTS.</th>\n",
       "      <td>1858</td>\n",
       "    </tr>\n",
       "    <tr>\n",
       "      <th>IRON AND STEEL</th>\n",
       "      <td>1795</td>\n",
       "    </tr>\n",
       "    <tr>\n",
       "      <th>NUCLEAR REACTORS, BOILERS, MACHINERY AND MECHANICAL APPLIANCES; PARTS THEREOF.</th>\n",
       "      <td>1763</td>\n",
       "    </tr>\n",
       "    <tr>\n",
       "      <th>ALUMINIUM AND ARTICLES THEREOF.</th>\n",
       "      <td>1638</td>\n",
       "    </tr>\n",
       "    <tr>\n",
       "      <th>PLASTIC AND ARTICLES THEREOF.</th>\n",
       "      <td>1492</td>\n",
       "    </tr>\n",
       "    <tr>\n",
       "      <th>COPPER AND ARTICLES THEREOF.</th>\n",
       "      <td>1438</td>\n",
       "    </tr>\n",
       "    <tr>\n",
       "      <th>OPTICAL, PHOTOGRAPHIC CINEMATOGRAPHIC MEASURING, CHECKING PRECISION, MEDICAL OR SURGICAL INST. AND APPARATUS PARTS AND ACCESSORIES THEREOF;</th>\n",
       "      <td>1385</td>\n",
       "    </tr>\n",
       "    <tr>\n",
       "      <th>WOOD AND ARTICLES OF WOOD; WOOD CHARCOAL.</th>\n",
       "      <td>1308</td>\n",
       "    </tr>\n",
       "    <tr>\n",
       "      <th>RAW HIDES AND SKINS (OTHER THAN FURSKINS) AND LEATHER</th>\n",
       "      <td>1290</td>\n",
       "    </tr>\n",
       "    <tr>\n",
       "      <th>ORGANIC CHEMICALS</th>\n",
       "      <td>1203</td>\n",
       "    </tr>\n",
       "  </tbody>\n",
       "</table>\n",
       "</div>"
      ],
      "text/plain": [
       "                                                    Commodity\n",
       "ELECTRICAL MACHINERY AND EQUIPMENT AND PARTS TH...       1858\n",
       "IRON AND STEEL                                           1795\n",
       "NUCLEAR REACTORS, BOILERS, MACHINERY AND MECHAN...       1763\n",
       "ALUMINIUM AND ARTICLES THEREOF.                          1638\n",
       "PLASTIC AND ARTICLES THEREOF.                            1492\n",
       "COPPER AND ARTICLES THEREOF.                             1438\n",
       "OPTICAL, PHOTOGRAPHIC CINEMATOGRAPHIC MEASURING...       1385\n",
       "WOOD AND ARTICLES OF WOOD; WOOD CHARCOAL.                1308\n",
       "RAW HIDES AND SKINS (OTHER THAN FURSKINS) AND L...       1290\n",
       "ORGANIC CHEMICALS                                        1203"
      ]
     },
     "execution_count": 70,
     "metadata": {},
     "output_type": "execute_result"
    }
   ],
   "source": [
    "df1 = pd.DataFrame(df_import['Commodity'].value_counts())\n",
    "df1.head(10)"
   ]
  },
  {
   "attachments": {},
   "cell_type": "markdown",
   "metadata": {},
   "source": [
    "Trend followed by the Popular Commodities Imported(In Values) From 2010 to 2021"
   ]
  },
  {
   "cell_type": "code",
   "execution_count": 71,
   "metadata": {},
   "outputs": [
    {
     "data": {
      "text/html": [
       "<div>\n",
       "<style scoped>\n",
       "    .dataframe tbody tr th:only-of-type {\n",
       "        vertical-align: middle;\n",
       "    }\n",
       "\n",
       "    .dataframe tbody tr th {\n",
       "        vertical-align: top;\n",
       "    }\n",
       "\n",
       "    .dataframe thead th {\n",
       "        text-align: right;\n",
       "    }\n",
       "</style>\n",
       "<table border=\"1\" class=\"dataframe\">\n",
       "  <thead>\n",
       "    <tr style=\"text-align: right;\">\n",
       "      <th></th>\n",
       "      <th>value</th>\n",
       "      <th>year</th>\n",
       "    </tr>\n",
       "    <tr>\n",
       "      <th>Commodity</th>\n",
       "      <th></th>\n",
       "      <th></th>\n",
       "    </tr>\n",
       "  </thead>\n",
       "  <tbody>\n",
       "    <tr>\n",
       "      <th>EDIBLE VEGETABLES AND CERTAIN ROOTS AND TUBERS.</th>\n",
       "      <td>9.14</td>\n",
       "      <td>2010</td>\n",
       "    </tr>\n",
       "    <tr>\n",
       "      <th>EDIBLE FRUIT AND NUTS</th>\n",
       "      <td>93.82</td>\n",
       "      <td>2010</td>\n",
       "    </tr>\n",
       "    <tr>\n",
       "      <th>COFFEE, TEA, MATE AND SPICES.</th>\n",
       "      <td>2.54</td>\n",
       "      <td>2010</td>\n",
       "    </tr>\n",
       "    <tr>\n",
       "      <th>OIL SEEDS AND OLEA. FRUITS</th>\n",
       "      <td>0.32</td>\n",
       "      <td>2010</td>\n",
       "    </tr>\n",
       "    <tr>\n",
       "      <th>LAC</th>\n",
       "      <td>37.67</td>\n",
       "      <td>2010</td>\n",
       "    </tr>\n",
       "    <tr>\n",
       "      <th>...</th>\n",
       "      <td>...</td>\n",
       "      <td>...</td>\n",
       "    </tr>\n",
       "    <tr>\n",
       "      <th>TOBACCO AND MANUFACTURED TOBACCO SUBSTITUTES.</th>\n",
       "      <td>6.87</td>\n",
       "      <td>2021</td>\n",
       "    </tr>\n",
       "    <tr>\n",
       "      <th>TANNING OR DYEING EXTRACTS</th>\n",
       "      <td>0.14</td>\n",
       "      <td>2021</td>\n",
       "    </tr>\n",
       "    <tr>\n",
       "      <th>MANUFACTURES OF STRAW, OF ESPARTO OR OF OTHER PLAITING MATERIALS</th>\n",
       "      <td>0.01</td>\n",
       "      <td>2021</td>\n",
       "    </tr>\n",
       "    <tr>\n",
       "      <th>NUCLEAR REACTORS, BOILERS, MACHINERY AND MECHANICAL APPLIANCES</th>\n",
       "      <td>0.02</td>\n",
       "      <td>2021</td>\n",
       "    </tr>\n",
       "    <tr>\n",
       "      <th>OPTICAL, PHOTOGRAPHIC CINEMATOGRAPHIC MEASURING, CHECKING PRECISION, MEDICAL OR SURGICAL INST. AND APPARATUS PARTS AND ACCESSORIES THEREOF</th>\n",
       "      <td>0.03</td>\n",
       "      <td>2021</td>\n",
       "    </tr>\n",
       "  </tbody>\n",
       "</table>\n",
       "<p>73305 rows × 2 columns</p>\n",
       "</div>"
      ],
      "text/plain": [
       "                                                    value  year\n",
       "Commodity                                                      \n",
       "EDIBLE VEGETABLES AND CERTAIN ROOTS AND TUBERS.      9.14  2010\n",
       "EDIBLE FRUIT AND NUTS                               93.82  2010\n",
       "COFFEE, TEA, MATE AND SPICES.                        2.54  2010\n",
       "OIL SEEDS AND OLEA. FRUITS                           0.32  2010\n",
       "LAC                                                 37.67  2010\n",
       "...                                                   ...   ...\n",
       "TOBACCO AND MANUFACTURED TOBACCO SUBSTITUTES.        6.87  2021\n",
       "TANNING OR DYEING EXTRACTS                           0.14  2021\n",
       "MANUFACTURES OF STRAW, OF ESPARTO OR OF OTHER P...   0.01  2021\n",
       "NUCLEAR REACTORS, BOILERS, MACHINERY AND MECHAN...   0.02  2021\n",
       "OPTICAL, PHOTOGRAPHIC CINEMATOGRAPHIC MEASURING...   0.03  2021\n",
       "\n",
       "[73305 rows x 2 columns]"
      ]
     },
     "execution_count": 71,
     "metadata": {},
     "output_type": "execute_result"
    }
   ],
   "source": [
    "imp_temp = df_import.copy()\n",
    "imp_temp.drop(['HSCode', 'country'], axis=1, inplace=True)\n",
    "imp_temp['Commodity'] = imp_temp['Commodity'].apply(lambda x:x.split(';')[0])\n",
    "imp_temp.set_index('Commodity', inplace=True)\n",
    "imp_temp"
   ]
  },
  {
   "cell_type": "code",
   "execution_count": 72,
   "metadata": {},
   "outputs": [
    {
     "data": {
      "application/vnd.plotly.v1+json": {
       "config": {
        "plotlyServerURL": "https://plot.ly"
       },
       "data": [
        {
         "type": "scatter",
         "x": [
          2010,
          2011,
          2012,
          2013,
          2014,
          2015,
          2016,
          2017,
          2018,
          2019,
          2020,
          2021
         ],
         "xaxis": "x",
         "y": [
          26981.469999999998,
          32829.77,
          29749.53,
          29118.079999999998,
          33142.06,
          35946.47,
          38558.11,
          48230.63,
          52045.96,
          49186.39,
          46689.47,
          62486.340000000004
         ],
         "yaxis": "y"
        },
        {
         "type": "scatter",
         "x": [
          2010,
          2011,
          2012,
          2013,
          2014,
          2015,
          2016,
          2017,
          2018,
          2019,
          2020,
          2021
         ],
         "xaxis": "x2",
         "y": [
          28859.81,
          37485,
          35144.74,
          30656.51,
          31726.53,
          32856.38,
          32079.03,
          37767.08,
          43835.06,
          43362.93,
          37025.46,
          50584.36
         ],
         "yaxis": "y2"
        },
        {
         "type": "scatter",
         "x": [
          2010,
          2011,
          2012,
          2013,
          2014,
          2015,
          2016,
          2017,
          2018,
          2019,
          2020,
          2021
         ],
         "xaxis": "x3",
         "y": [
          2238.31,
          3666.06,
          3907.9900000000002,
          4640.42,
          546.13,
          316.27,
          202.53,
          2.67,
          23.150000000000002,
          10.51,
          6.1,
          4.43
         ],
         "yaxis": "y3"
        },
        {
         "type": "scatter",
         "x": [
          2010,
          2011,
          2012,
          2013,
          2014,
          2015,
          2016,
          2017,
          2018,
          2019,
          2020,
          2021
         ],
         "xaxis": "x4",
         "y": [
          7541.54,
          8429.06,
          9589.73,
          10092.55,
          11689.32,
          11409.16,
          11565.66,
          13920.06,
          15246.14,
          14210.76,
          13307.35,
          19993.54
         ],
         "yaxis": "y4"
        },
        {
         "type": "scatter",
         "x": [
          2010,
          2011,
          2012,
          2013,
          2014,
          2015,
          2016,
          2017,
          2018,
          2019,
          2020,
          2021
         ],
         "xaxis": "x5",
         "y": [
          10955.27,
          13612.84,
          13612.01,
          9107.4,
          12341.08,
          11248.99,
          8237.46,
          10425.18,
          12580.84,
          10731.49,
          8276.92,
          12611.24
         ],
         "yaxis": "y5"
        }
       ],
       "layout": {
        "annotations": [
         {
          "font": {
           "size": 16
          },
          "showarrow": false,
          "text": "Trend for Electrical Machinery & Equipments and Parts",
          "x": 0.5,
          "xanchor": "center",
          "xref": "paper",
          "y": 1,
          "yanchor": "bottom",
          "yref": "paper"
         },
         {
          "font": {
           "size": 16
          },
          "showarrow": false,
          "text": "Trend for Nuclear Reactors",
          "x": 0.5,
          "xanchor": "center",
          "xref": "paper",
          "y": 0.78,
          "yanchor": "bottom",
          "yref": "paper"
         },
         {
          "font": {
           "size": 16
          },
          "showarrow": false,
          "text": "Trend for Miscellaneous Goods",
          "x": 0.5,
          "xanchor": "center",
          "xref": "paper",
          "y": 0.56,
          "yanchor": "bottom",
          "yref": "paper"
         },
         {
          "font": {
           "size": 16
          },
          "showarrow": false,
          "text": "Trend for Plastic and Articles",
          "x": 0.5,
          "xanchor": "center",
          "xref": "paper",
          "y": 0.33999999999999997,
          "yanchor": "bottom",
          "yref": "paper"
         },
         {
          "font": {
           "size": 16
          },
          "showarrow": false,
          "text": "Trend for Iron and Steel",
          "x": 0.5,
          "xanchor": "center",
          "xref": "paper",
          "y": 0.12,
          "yanchor": "bottom",
          "yref": "paper"
         }
        ],
        "height": 1500,
        "showlegend": false,
        "template": {
         "data": {
          "bar": [
           {
            "error_x": {
             "color": "#2a3f5f"
            },
            "error_y": {
             "color": "#2a3f5f"
            },
            "marker": {
             "line": {
              "color": "#E5ECF6",
              "width": 0.5
             },
             "pattern": {
              "fillmode": "overlay",
              "size": 10,
              "solidity": 0.2
             }
            },
            "type": "bar"
           }
          ],
          "barpolar": [
           {
            "marker": {
             "line": {
              "color": "#E5ECF6",
              "width": 0.5
             },
             "pattern": {
              "fillmode": "overlay",
              "size": 10,
              "solidity": 0.2
             }
            },
            "type": "barpolar"
           }
          ],
          "carpet": [
           {
            "aaxis": {
             "endlinecolor": "#2a3f5f",
             "gridcolor": "white",
             "linecolor": "white",
             "minorgridcolor": "white",
             "startlinecolor": "#2a3f5f"
            },
            "baxis": {
             "endlinecolor": "#2a3f5f",
             "gridcolor": "white",
             "linecolor": "white",
             "minorgridcolor": "white",
             "startlinecolor": "#2a3f5f"
            },
            "type": "carpet"
           }
          ],
          "choropleth": [
           {
            "colorbar": {
             "outlinewidth": 0,
             "ticks": ""
            },
            "type": "choropleth"
           }
          ],
          "contour": [
           {
            "colorbar": {
             "outlinewidth": 0,
             "ticks": ""
            },
            "colorscale": [
             [
              0,
              "#0d0887"
             ],
             [
              0.1111111111111111,
              "#46039f"
             ],
             [
              0.2222222222222222,
              "#7201a8"
             ],
             [
              0.3333333333333333,
              "#9c179e"
             ],
             [
              0.4444444444444444,
              "#bd3786"
             ],
             [
              0.5555555555555556,
              "#d8576b"
             ],
             [
              0.6666666666666666,
              "#ed7953"
             ],
             [
              0.7777777777777778,
              "#fb9f3a"
             ],
             [
              0.8888888888888888,
              "#fdca26"
             ],
             [
              1,
              "#f0f921"
             ]
            ],
            "type": "contour"
           }
          ],
          "contourcarpet": [
           {
            "colorbar": {
             "outlinewidth": 0,
             "ticks": ""
            },
            "type": "contourcarpet"
           }
          ],
          "heatmap": [
           {
            "colorbar": {
             "outlinewidth": 0,
             "ticks": ""
            },
            "colorscale": [
             [
              0,
              "#0d0887"
             ],
             [
              0.1111111111111111,
              "#46039f"
             ],
             [
              0.2222222222222222,
              "#7201a8"
             ],
             [
              0.3333333333333333,
              "#9c179e"
             ],
             [
              0.4444444444444444,
              "#bd3786"
             ],
             [
              0.5555555555555556,
              "#d8576b"
             ],
             [
              0.6666666666666666,
              "#ed7953"
             ],
             [
              0.7777777777777778,
              "#fb9f3a"
             ],
             [
              0.8888888888888888,
              "#fdca26"
             ],
             [
              1,
              "#f0f921"
             ]
            ],
            "type": "heatmap"
           }
          ],
          "heatmapgl": [
           {
            "colorbar": {
             "outlinewidth": 0,
             "ticks": ""
            },
            "colorscale": [
             [
              0,
              "#0d0887"
             ],
             [
              0.1111111111111111,
              "#46039f"
             ],
             [
              0.2222222222222222,
              "#7201a8"
             ],
             [
              0.3333333333333333,
              "#9c179e"
             ],
             [
              0.4444444444444444,
              "#bd3786"
             ],
             [
              0.5555555555555556,
              "#d8576b"
             ],
             [
              0.6666666666666666,
              "#ed7953"
             ],
             [
              0.7777777777777778,
              "#fb9f3a"
             ],
             [
              0.8888888888888888,
              "#fdca26"
             ],
             [
              1,
              "#f0f921"
             ]
            ],
            "type": "heatmapgl"
           }
          ],
          "histogram": [
           {
            "marker": {
             "pattern": {
              "fillmode": "overlay",
              "size": 10,
              "solidity": 0.2
             }
            },
            "type": "histogram"
           }
          ],
          "histogram2d": [
           {
            "colorbar": {
             "outlinewidth": 0,
             "ticks": ""
            },
            "colorscale": [
             [
              0,
              "#0d0887"
             ],
             [
              0.1111111111111111,
              "#46039f"
             ],
             [
              0.2222222222222222,
              "#7201a8"
             ],
             [
              0.3333333333333333,
              "#9c179e"
             ],
             [
              0.4444444444444444,
              "#bd3786"
             ],
             [
              0.5555555555555556,
              "#d8576b"
             ],
             [
              0.6666666666666666,
              "#ed7953"
             ],
             [
              0.7777777777777778,
              "#fb9f3a"
             ],
             [
              0.8888888888888888,
              "#fdca26"
             ],
             [
              1,
              "#f0f921"
             ]
            ],
            "type": "histogram2d"
           }
          ],
          "histogram2dcontour": [
           {
            "colorbar": {
             "outlinewidth": 0,
             "ticks": ""
            },
            "colorscale": [
             [
              0,
              "#0d0887"
             ],
             [
              0.1111111111111111,
              "#46039f"
             ],
             [
              0.2222222222222222,
              "#7201a8"
             ],
             [
              0.3333333333333333,
              "#9c179e"
             ],
             [
              0.4444444444444444,
              "#bd3786"
             ],
             [
              0.5555555555555556,
              "#d8576b"
             ],
             [
              0.6666666666666666,
              "#ed7953"
             ],
             [
              0.7777777777777778,
              "#fb9f3a"
             ],
             [
              0.8888888888888888,
              "#fdca26"
             ],
             [
              1,
              "#f0f921"
             ]
            ],
            "type": "histogram2dcontour"
           }
          ],
          "mesh3d": [
           {
            "colorbar": {
             "outlinewidth": 0,
             "ticks": ""
            },
            "type": "mesh3d"
           }
          ],
          "parcoords": [
           {
            "line": {
             "colorbar": {
              "outlinewidth": 0,
              "ticks": ""
             }
            },
            "type": "parcoords"
           }
          ],
          "pie": [
           {
            "automargin": true,
            "type": "pie"
           }
          ],
          "scatter": [
           {
            "fillpattern": {
             "fillmode": "overlay",
             "size": 10,
             "solidity": 0.2
            },
            "type": "scatter"
           }
          ],
          "scatter3d": [
           {
            "line": {
             "colorbar": {
              "outlinewidth": 0,
              "ticks": ""
             }
            },
            "marker": {
             "colorbar": {
              "outlinewidth": 0,
              "ticks": ""
             }
            },
            "type": "scatter3d"
           }
          ],
          "scattercarpet": [
           {
            "marker": {
             "colorbar": {
              "outlinewidth": 0,
              "ticks": ""
             }
            },
            "type": "scattercarpet"
           }
          ],
          "scattergeo": [
           {
            "marker": {
             "colorbar": {
              "outlinewidth": 0,
              "ticks": ""
             }
            },
            "type": "scattergeo"
           }
          ],
          "scattergl": [
           {
            "marker": {
             "colorbar": {
              "outlinewidth": 0,
              "ticks": ""
             }
            },
            "type": "scattergl"
           }
          ],
          "scattermapbox": [
           {
            "marker": {
             "colorbar": {
              "outlinewidth": 0,
              "ticks": ""
             }
            },
            "type": "scattermapbox"
           }
          ],
          "scatterpolar": [
           {
            "marker": {
             "colorbar": {
              "outlinewidth": 0,
              "ticks": ""
             }
            },
            "type": "scatterpolar"
           }
          ],
          "scatterpolargl": [
           {
            "marker": {
             "colorbar": {
              "outlinewidth": 0,
              "ticks": ""
             }
            },
            "type": "scatterpolargl"
           }
          ],
          "scatterternary": [
           {
            "marker": {
             "colorbar": {
              "outlinewidth": 0,
              "ticks": ""
             }
            },
            "type": "scatterternary"
           }
          ],
          "surface": [
           {
            "colorbar": {
             "outlinewidth": 0,
             "ticks": ""
            },
            "colorscale": [
             [
              0,
              "#0d0887"
             ],
             [
              0.1111111111111111,
              "#46039f"
             ],
             [
              0.2222222222222222,
              "#7201a8"
             ],
             [
              0.3333333333333333,
              "#9c179e"
             ],
             [
              0.4444444444444444,
              "#bd3786"
             ],
             [
              0.5555555555555556,
              "#d8576b"
             ],
             [
              0.6666666666666666,
              "#ed7953"
             ],
             [
              0.7777777777777778,
              "#fb9f3a"
             ],
             [
              0.8888888888888888,
              "#fdca26"
             ],
             [
              1,
              "#f0f921"
             ]
            ],
            "type": "surface"
           }
          ],
          "table": [
           {
            "cells": {
             "fill": {
              "color": "#EBF0F8"
             },
             "line": {
              "color": "white"
             }
            },
            "header": {
             "fill": {
              "color": "#C8D4E3"
             },
             "line": {
              "color": "white"
             }
            },
            "type": "table"
           }
          ]
         },
         "layout": {
          "annotationdefaults": {
           "arrowcolor": "#2a3f5f",
           "arrowhead": 0,
           "arrowwidth": 1
          },
          "autotypenumbers": "strict",
          "coloraxis": {
           "colorbar": {
            "outlinewidth": 0,
            "ticks": ""
           }
          },
          "colorscale": {
           "diverging": [
            [
             0,
             "#8e0152"
            ],
            [
             0.1,
             "#c51b7d"
            ],
            [
             0.2,
             "#de77ae"
            ],
            [
             0.3,
             "#f1b6da"
            ],
            [
             0.4,
             "#fde0ef"
            ],
            [
             0.5,
             "#f7f7f7"
            ],
            [
             0.6,
             "#e6f5d0"
            ],
            [
             0.7,
             "#b8e186"
            ],
            [
             0.8,
             "#7fbc41"
            ],
            [
             0.9,
             "#4d9221"
            ],
            [
             1,
             "#276419"
            ]
           ],
           "sequential": [
            [
             0,
             "#0d0887"
            ],
            [
             0.1111111111111111,
             "#46039f"
            ],
            [
             0.2222222222222222,
             "#7201a8"
            ],
            [
             0.3333333333333333,
             "#9c179e"
            ],
            [
             0.4444444444444444,
             "#bd3786"
            ],
            [
             0.5555555555555556,
             "#d8576b"
            ],
            [
             0.6666666666666666,
             "#ed7953"
            ],
            [
             0.7777777777777778,
             "#fb9f3a"
            ],
            [
             0.8888888888888888,
             "#fdca26"
            ],
            [
             1,
             "#f0f921"
            ]
           ],
           "sequentialminus": [
            [
             0,
             "#0d0887"
            ],
            [
             0.1111111111111111,
             "#46039f"
            ],
            [
             0.2222222222222222,
             "#7201a8"
            ],
            [
             0.3333333333333333,
             "#9c179e"
            ],
            [
             0.4444444444444444,
             "#bd3786"
            ],
            [
             0.5555555555555556,
             "#d8576b"
            ],
            [
             0.6666666666666666,
             "#ed7953"
            ],
            [
             0.7777777777777778,
             "#fb9f3a"
            ],
            [
             0.8888888888888888,
             "#fdca26"
            ],
            [
             1,
             "#f0f921"
            ]
           ]
          },
          "colorway": [
           "#636efa",
           "#EF553B",
           "#00cc96",
           "#ab63fa",
           "#FFA15A",
           "#19d3f3",
           "#FF6692",
           "#B6E880",
           "#FF97FF",
           "#FECB52"
          ],
          "font": {
           "color": "#2a3f5f"
          },
          "geo": {
           "bgcolor": "white",
           "lakecolor": "white",
           "landcolor": "#E5ECF6",
           "showlakes": true,
           "showland": true,
           "subunitcolor": "white"
          },
          "hoverlabel": {
           "align": "left"
          },
          "hovermode": "closest",
          "mapbox": {
           "style": "light"
          },
          "paper_bgcolor": "white",
          "plot_bgcolor": "#E5ECF6",
          "polar": {
           "angularaxis": {
            "gridcolor": "white",
            "linecolor": "white",
            "ticks": ""
           },
           "bgcolor": "#E5ECF6",
           "radialaxis": {
            "gridcolor": "white",
            "linecolor": "white",
            "ticks": ""
           }
          },
          "scene": {
           "xaxis": {
            "backgroundcolor": "#E5ECF6",
            "gridcolor": "white",
            "gridwidth": 2,
            "linecolor": "white",
            "showbackground": true,
            "ticks": "",
            "zerolinecolor": "white"
           },
           "yaxis": {
            "backgroundcolor": "#E5ECF6",
            "gridcolor": "white",
            "gridwidth": 2,
            "linecolor": "white",
            "showbackground": true,
            "ticks": "",
            "zerolinecolor": "white"
           },
           "zaxis": {
            "backgroundcolor": "#E5ECF6",
            "gridcolor": "white",
            "gridwidth": 2,
            "linecolor": "white",
            "showbackground": true,
            "ticks": "",
            "zerolinecolor": "white"
           }
          },
          "shapedefaults": {
           "line": {
            "color": "#2a3f5f"
           }
          },
          "ternary": {
           "aaxis": {
            "gridcolor": "white",
            "linecolor": "white",
            "ticks": ""
           },
           "baxis": {
            "gridcolor": "white",
            "linecolor": "white",
            "ticks": ""
           },
           "bgcolor": "#E5ECF6",
           "caxis": {
            "gridcolor": "white",
            "linecolor": "white",
            "ticks": ""
           }
          },
          "title": {
           "x": 0.05
          },
          "xaxis": {
           "automargin": true,
           "gridcolor": "white",
           "linecolor": "white",
           "ticks": "",
           "title": {
            "standoff": 15
           },
           "zerolinecolor": "white",
           "zerolinewidth": 2
          },
          "yaxis": {
           "automargin": true,
           "gridcolor": "white",
           "linecolor": "white",
           "ticks": "",
           "title": {
            "standoff": 15
           },
           "zerolinecolor": "white",
           "zerolinewidth": 2
          }
         }
        },
        "title": {
         "text": "Trade Trends for Some Popular Commodities Imported"
        },
        "xaxis": {
         "anchor": "y",
         "domain": [
          0,
          1
         ],
         "title": {
          "text": "Year"
         }
        },
        "xaxis2": {
         "anchor": "y2",
         "domain": [
          0,
          1
         ],
         "title": {
          "text": "Year"
         }
        },
        "xaxis3": {
         "anchor": "y3",
         "domain": [
          0,
          1
         ],
         "title": {
          "text": "Year"
         }
        },
        "xaxis4": {
         "anchor": "y4",
         "domain": [
          0,
          1
         ],
         "title": {
          "text": "Year"
         }
        },
        "xaxis5": {
         "anchor": "y5",
         "domain": [
          0,
          1
         ],
         "title": {
          "text": "Year"
         }
        },
        "yaxis": {
         "anchor": "x",
         "domain": [
          0.88,
          1
         ],
         "title": {
          "text": "Million US $"
         }
        },
        "yaxis2": {
         "anchor": "x2",
         "domain": [
          0.66,
          0.78
         ],
         "title": {
          "text": "Million US $"
         }
        },
        "yaxis3": {
         "anchor": "x3",
         "domain": [
          0.44,
          0.56
         ],
         "title": {
          "text": "Million US $"
         }
        },
        "yaxis4": {
         "anchor": "x4",
         "domain": [
          0.22,
          0.33999999999999997
         ],
         "title": {
          "text": "Million US $"
         }
        },
        "yaxis5": {
         "anchor": "x5",
         "domain": [
          0,
          0.12
         ],
         "title": {
          "text": "Million US $"
         }
        }
       }
      }
     },
     "metadata": {},
     "output_type": "display_data"
    }
   ],
   "source": [
    "g= pd.DataFrame(imp_temp.loc[[\"ELECTRICAL MACHINERY AND EQUIPMENT AND PARTS THEREOF\"]].groupby(['year', 'Commodity'])['value'].sum()).reset_index()\n",
    "g1= pd.DataFrame(imp_temp.loc[[\"NUCLEAR REACTORS, BOILERS, MACHINERY AND MECHANICAL APPLIANCES\"]].groupby(['year', 'Commodity'])['value'].sum()).reset_index()\n",
    "g2= pd.DataFrame(imp_temp.loc[[\"MISCELLANEOUS GOODS.\"]].groupby(['year', 'Commodity'])['value'].sum()).reset_index()\n",
    "g3= pd.DataFrame(imp_temp.loc[[\"PLASTIC AND ARTICLES THEREOF.\"]].groupby(['year', 'Commodity'])['value'].sum()).reset_index()\n",
    "g4= pd.DataFrame(imp_temp.loc[[\"IRON AND STEEL\"]].groupby(['year', 'Commodity'])['value'].sum()).reset_index()\n",
    "\n",
    "# Initialize figure with subplots\n",
    "fig = make_subplots(\n",
    "    rows=5, cols=1, subplot_titles=(\"Trend for Electrical Machinery & Equipments and Parts\",\n",
    "                                    \"Trend for Nuclear Reactors\",\n",
    "                                    \"Trend for Miscellaneous Goods\",\n",
    "                                    \"Trend for Plastic and Articles\",\n",
    "                                    \"Trend for Iron and Steel\"\n",
    "                                   )\n",
    ")\n",
    "\n",
    "# Add traces\n",
    "fig.add_trace(go.Scatter(x=g.year, y=g.value), row=1, col=1)\n",
    "fig.add_trace(go.Scatter(x=g1.year, y=g1.value), row=2, col=1)\n",
    "fig.add_trace(go.Scatter(x=g2.year, y=g2.value), row=3, col=1)\n",
    "fig.add_trace(go.Scatter(x=g3.year, y=g3.value), row=4, col=1)\n",
    "fig.add_trace(go.Scatter(x=g4.year, y=g4.value), row=5, col=1)\n",
    "\n",
    "\n",
    "# Update xaxis properties\n",
    "fig.update_xaxes(title_text=\"Year\", row=1, col=1)\n",
    "fig.update_xaxes(title_text=\"Year\", row=2, col=1)\n",
    "fig.update_xaxes(title_text=\"Year\", row=3, col=1)\n",
    "fig.update_xaxes(title_text=\"Year\", row=4, col=1)\n",
    "fig.update_xaxes(title_text=\"Year\", row=5, col=1)\n",
    "\n",
    "# Update yaxis properties\n",
    "fig.update_yaxes(title_text=\"Million US $\", row=1, col=1)\n",
    "fig.update_yaxes(title_text=\"Million US $\", row=2, col=1)\n",
    "fig.update_yaxes(title_text=\"Million US $\", row=3, col=1)\n",
    "fig.update_yaxes(title_text=\"Million US $\", row=4, col=1)\n",
    "fig.update_yaxes(title_text=\"Million US $\", row=5, col=1)\n",
    "\n",
    "# Update title and height\n",
    "fig.update_layout(title_text=\"Trade Trends for Some Popular Commodities Imported\", showlegend=False, height = 1500 )\n",
    "fig.show()"
   ]
  },
  {
   "attachments": {},
   "cell_type": "markdown",
   "metadata": {},
   "source": [
    "Findings\n",
    "\n",
    "i) The top 5 most often imported goods have seen an increase in the value of imports between 2010 and 2021; except for the Miscellaneous Goods which see a dip after 2013.\n",
    "\n",
    "ii) Imports for Nuclear Reactors and Parts saw a dip in the exports between 2011 and 2015; but shows increasing trade offlate.\n",
    "\n",
    "iii) Imports for Iron and Steel products shows inconsistent trend between 2012 and 2016 and between 2018 and 2020; but shows increasing imports after that.\n",
    "\n",
    "iv) Imports for Electrical Machinery & Equipments and Plastic & Articles show increasing trade consistently."
   ]
  },
  {
   "attachments": {},
   "cell_type": "markdown",
   "metadata": {},
   "source": [
    "# Country based Data Analysis"
   ]
  },
  {
   "cell_type": "code",
   "execution_count": 73,
   "metadata": {},
   "outputs": [
    {
     "name": "stdout",
     "output_type": "stream",
     "text": [
      "Number of Countries to whom we export comodities: 246\n",
      "Number of Countries from whom we import comodities: 241\n"
     ]
    }
   ],
   "source": [
    "print(\"Number of Countries to whom we export comodities: \" + str(df_export['country'].nunique()))\n",
    "print(\"Number of Countries from whom we import comodities: \" + str(df_import['country'].nunique()))"
   ]
  },
  {
   "attachments": {},
   "cell_type": "markdown",
   "metadata": {},
   "source": [
    "Top Countries to Export from India"
   ]
  },
  {
   "cell_type": "code",
   "execution_count": 74,
   "metadata": {},
   "outputs": [],
   "source": [
    "exp_country = df_export.groupby('country').agg({'value':'sum'})\n",
    "exp_country = exp_country.rename(columns={'value': 'Export'})\n",
    "exp_country = exp_country.sort_values(by = 'Export', ascending = False)\n",
    "exp_country = exp_country[:20]\n",
    "exp_country_tmp = exp_country[:10]"
   ]
  },
  {
   "cell_type": "code",
   "execution_count": 75,
   "metadata": {},
   "outputs": [
    {
     "data": {
      "application/vnd.plotly.v1+json": {
       "config": {
        "plotlyServerURL": "https://plot.ly"
       },
       "data": [
        {
         "alignmentgroup": "True",
         "hovertemplate": "Countries=%{x}<br>Total Exports in Million US$=%{marker.color}<extra></extra>",
         "legendgroup": "",
         "marker": {
          "color": [
           541487.45,
           362951.83,
           180865.06,
           147807.24,
           130427.76,
           107298.44,
           95153.81,
           93963.12,
           89520.36,
           86847.66
          ],
          "coloraxis": "coloraxis",
          "pattern": {
           "shape": ""
          }
         },
         "name": "",
         "offsetgroup": "",
         "orientation": "v",
         "showlegend": false,
         "textposition": "auto",
         "type": "bar",
         "x": [
          "U S A",
          "U ARAB EMTS",
          "CHINA P RP",
          "HONG KONG",
          "SINGAPORE",
          "U K",
          "GERMANY",
          "NETHERLAND",
          "BANGLADESH PR",
          "SAUDI ARAB"
         ],
         "xaxis": "x",
         "y": [
          541487.45,
          362951.83,
          180865.06,
          147807.24,
          130427.76,
          107298.44,
          95153.81,
          93963.12,
          89520.36,
          86847.66
         ],
         "yaxis": "y"
        }
       ],
       "layout": {
        "barmode": "relative",
        "coloraxis": {
         "colorbar": {
          "title": {
           "text": "Total Exports in Million US$"
          }
         },
         "colorscale": [
          [
           0,
           "#0d0887"
          ],
          [
           0.1111111111111111,
           "#46039f"
          ],
          [
           0.2222222222222222,
           "#7201a8"
          ],
          [
           0.3333333333333333,
           "#9c179e"
          ],
          [
           0.4444444444444444,
           "#bd3786"
          ],
          [
           0.5555555555555556,
           "#d8576b"
          ],
          [
           0.6666666666666666,
           "#ed7953"
          ],
          [
           0.7777777777777778,
           "#fb9f3a"
          ],
          [
           0.8888888888888888,
           "#fdca26"
          ],
          [
           1,
           "#f0f921"
          ]
         ]
        },
        "legend": {
         "tracegroupgap": 0
        },
        "margin": {
         "t": 60
        },
        "template": {
         "data": {
          "bar": [
           {
            "error_x": {
             "color": "#2a3f5f"
            },
            "error_y": {
             "color": "#2a3f5f"
            },
            "marker": {
             "line": {
              "color": "#E5ECF6",
              "width": 0.5
             },
             "pattern": {
              "fillmode": "overlay",
              "size": 10,
              "solidity": 0.2
             }
            },
            "type": "bar"
           }
          ],
          "barpolar": [
           {
            "marker": {
             "line": {
              "color": "#E5ECF6",
              "width": 0.5
             },
             "pattern": {
              "fillmode": "overlay",
              "size": 10,
              "solidity": 0.2
             }
            },
            "type": "barpolar"
           }
          ],
          "carpet": [
           {
            "aaxis": {
             "endlinecolor": "#2a3f5f",
             "gridcolor": "white",
             "linecolor": "white",
             "minorgridcolor": "white",
             "startlinecolor": "#2a3f5f"
            },
            "baxis": {
             "endlinecolor": "#2a3f5f",
             "gridcolor": "white",
             "linecolor": "white",
             "minorgridcolor": "white",
             "startlinecolor": "#2a3f5f"
            },
            "type": "carpet"
           }
          ],
          "choropleth": [
           {
            "colorbar": {
             "outlinewidth": 0,
             "ticks": ""
            },
            "type": "choropleth"
           }
          ],
          "contour": [
           {
            "colorbar": {
             "outlinewidth": 0,
             "ticks": ""
            },
            "colorscale": [
             [
              0,
              "#0d0887"
             ],
             [
              0.1111111111111111,
              "#46039f"
             ],
             [
              0.2222222222222222,
              "#7201a8"
             ],
             [
              0.3333333333333333,
              "#9c179e"
             ],
             [
              0.4444444444444444,
              "#bd3786"
             ],
             [
              0.5555555555555556,
              "#d8576b"
             ],
             [
              0.6666666666666666,
              "#ed7953"
             ],
             [
              0.7777777777777778,
              "#fb9f3a"
             ],
             [
              0.8888888888888888,
              "#fdca26"
             ],
             [
              1,
              "#f0f921"
             ]
            ],
            "type": "contour"
           }
          ],
          "contourcarpet": [
           {
            "colorbar": {
             "outlinewidth": 0,
             "ticks": ""
            },
            "type": "contourcarpet"
           }
          ],
          "heatmap": [
           {
            "colorbar": {
             "outlinewidth": 0,
             "ticks": ""
            },
            "colorscale": [
             [
              0,
              "#0d0887"
             ],
             [
              0.1111111111111111,
              "#46039f"
             ],
             [
              0.2222222222222222,
              "#7201a8"
             ],
             [
              0.3333333333333333,
              "#9c179e"
             ],
             [
              0.4444444444444444,
              "#bd3786"
             ],
             [
              0.5555555555555556,
              "#d8576b"
             ],
             [
              0.6666666666666666,
              "#ed7953"
             ],
             [
              0.7777777777777778,
              "#fb9f3a"
             ],
             [
              0.8888888888888888,
              "#fdca26"
             ],
             [
              1,
              "#f0f921"
             ]
            ],
            "type": "heatmap"
           }
          ],
          "heatmapgl": [
           {
            "colorbar": {
             "outlinewidth": 0,
             "ticks": ""
            },
            "colorscale": [
             [
              0,
              "#0d0887"
             ],
             [
              0.1111111111111111,
              "#46039f"
             ],
             [
              0.2222222222222222,
              "#7201a8"
             ],
             [
              0.3333333333333333,
              "#9c179e"
             ],
             [
              0.4444444444444444,
              "#bd3786"
             ],
             [
              0.5555555555555556,
              "#d8576b"
             ],
             [
              0.6666666666666666,
              "#ed7953"
             ],
             [
              0.7777777777777778,
              "#fb9f3a"
             ],
             [
              0.8888888888888888,
              "#fdca26"
             ],
             [
              1,
              "#f0f921"
             ]
            ],
            "type": "heatmapgl"
           }
          ],
          "histogram": [
           {
            "marker": {
             "pattern": {
              "fillmode": "overlay",
              "size": 10,
              "solidity": 0.2
             }
            },
            "type": "histogram"
           }
          ],
          "histogram2d": [
           {
            "colorbar": {
             "outlinewidth": 0,
             "ticks": ""
            },
            "colorscale": [
             [
              0,
              "#0d0887"
             ],
             [
              0.1111111111111111,
              "#46039f"
             ],
             [
              0.2222222222222222,
              "#7201a8"
             ],
             [
              0.3333333333333333,
              "#9c179e"
             ],
             [
              0.4444444444444444,
              "#bd3786"
             ],
             [
              0.5555555555555556,
              "#d8576b"
             ],
             [
              0.6666666666666666,
              "#ed7953"
             ],
             [
              0.7777777777777778,
              "#fb9f3a"
             ],
             [
              0.8888888888888888,
              "#fdca26"
             ],
             [
              1,
              "#f0f921"
             ]
            ],
            "type": "histogram2d"
           }
          ],
          "histogram2dcontour": [
           {
            "colorbar": {
             "outlinewidth": 0,
             "ticks": ""
            },
            "colorscale": [
             [
              0,
              "#0d0887"
             ],
             [
              0.1111111111111111,
              "#46039f"
             ],
             [
              0.2222222222222222,
              "#7201a8"
             ],
             [
              0.3333333333333333,
              "#9c179e"
             ],
             [
              0.4444444444444444,
              "#bd3786"
             ],
             [
              0.5555555555555556,
              "#d8576b"
             ],
             [
              0.6666666666666666,
              "#ed7953"
             ],
             [
              0.7777777777777778,
              "#fb9f3a"
             ],
             [
              0.8888888888888888,
              "#fdca26"
             ],
             [
              1,
              "#f0f921"
             ]
            ],
            "type": "histogram2dcontour"
           }
          ],
          "mesh3d": [
           {
            "colorbar": {
             "outlinewidth": 0,
             "ticks": ""
            },
            "type": "mesh3d"
           }
          ],
          "parcoords": [
           {
            "line": {
             "colorbar": {
              "outlinewidth": 0,
              "ticks": ""
             }
            },
            "type": "parcoords"
           }
          ],
          "pie": [
           {
            "automargin": true,
            "type": "pie"
           }
          ],
          "scatter": [
           {
            "fillpattern": {
             "fillmode": "overlay",
             "size": 10,
             "solidity": 0.2
            },
            "type": "scatter"
           }
          ],
          "scatter3d": [
           {
            "line": {
             "colorbar": {
              "outlinewidth": 0,
              "ticks": ""
             }
            },
            "marker": {
             "colorbar": {
              "outlinewidth": 0,
              "ticks": ""
             }
            },
            "type": "scatter3d"
           }
          ],
          "scattercarpet": [
           {
            "marker": {
             "colorbar": {
              "outlinewidth": 0,
              "ticks": ""
             }
            },
            "type": "scattercarpet"
           }
          ],
          "scattergeo": [
           {
            "marker": {
             "colorbar": {
              "outlinewidth": 0,
              "ticks": ""
             }
            },
            "type": "scattergeo"
           }
          ],
          "scattergl": [
           {
            "marker": {
             "colorbar": {
              "outlinewidth": 0,
              "ticks": ""
             }
            },
            "type": "scattergl"
           }
          ],
          "scattermapbox": [
           {
            "marker": {
             "colorbar": {
              "outlinewidth": 0,
              "ticks": ""
             }
            },
            "type": "scattermapbox"
           }
          ],
          "scatterpolar": [
           {
            "marker": {
             "colorbar": {
              "outlinewidth": 0,
              "ticks": ""
             }
            },
            "type": "scatterpolar"
           }
          ],
          "scatterpolargl": [
           {
            "marker": {
             "colorbar": {
              "outlinewidth": 0,
              "ticks": ""
             }
            },
            "type": "scatterpolargl"
           }
          ],
          "scatterternary": [
           {
            "marker": {
             "colorbar": {
              "outlinewidth": 0,
              "ticks": ""
             }
            },
            "type": "scatterternary"
           }
          ],
          "surface": [
           {
            "colorbar": {
             "outlinewidth": 0,
             "ticks": ""
            },
            "colorscale": [
             [
              0,
              "#0d0887"
             ],
             [
              0.1111111111111111,
              "#46039f"
             ],
             [
              0.2222222222222222,
              "#7201a8"
             ],
             [
              0.3333333333333333,
              "#9c179e"
             ],
             [
              0.4444444444444444,
              "#bd3786"
             ],
             [
              0.5555555555555556,
              "#d8576b"
             ],
             [
              0.6666666666666666,
              "#ed7953"
             ],
             [
              0.7777777777777778,
              "#fb9f3a"
             ],
             [
              0.8888888888888888,
              "#fdca26"
             ],
             [
              1,
              "#f0f921"
             ]
            ],
            "type": "surface"
           }
          ],
          "table": [
           {
            "cells": {
             "fill": {
              "color": "#EBF0F8"
             },
             "line": {
              "color": "white"
             }
            },
            "header": {
             "fill": {
              "color": "#C8D4E3"
             },
             "line": {
              "color": "white"
             }
            },
            "type": "table"
           }
          ]
         },
         "layout": {
          "annotationdefaults": {
           "arrowcolor": "#2a3f5f",
           "arrowhead": 0,
           "arrowwidth": 1
          },
          "autotypenumbers": "strict",
          "coloraxis": {
           "colorbar": {
            "outlinewidth": 0,
            "ticks": ""
           }
          },
          "colorscale": {
           "diverging": [
            [
             0,
             "#8e0152"
            ],
            [
             0.1,
             "#c51b7d"
            ],
            [
             0.2,
             "#de77ae"
            ],
            [
             0.3,
             "#f1b6da"
            ],
            [
             0.4,
             "#fde0ef"
            ],
            [
             0.5,
             "#f7f7f7"
            ],
            [
             0.6,
             "#e6f5d0"
            ],
            [
             0.7,
             "#b8e186"
            ],
            [
             0.8,
             "#7fbc41"
            ],
            [
             0.9,
             "#4d9221"
            ],
            [
             1,
             "#276419"
            ]
           ],
           "sequential": [
            [
             0,
             "#0d0887"
            ],
            [
             0.1111111111111111,
             "#46039f"
            ],
            [
             0.2222222222222222,
             "#7201a8"
            ],
            [
             0.3333333333333333,
             "#9c179e"
            ],
            [
             0.4444444444444444,
             "#bd3786"
            ],
            [
             0.5555555555555556,
             "#d8576b"
            ],
            [
             0.6666666666666666,
             "#ed7953"
            ],
            [
             0.7777777777777778,
             "#fb9f3a"
            ],
            [
             0.8888888888888888,
             "#fdca26"
            ],
            [
             1,
             "#f0f921"
            ]
           ],
           "sequentialminus": [
            [
             0,
             "#0d0887"
            ],
            [
             0.1111111111111111,
             "#46039f"
            ],
            [
             0.2222222222222222,
             "#7201a8"
            ],
            [
             0.3333333333333333,
             "#9c179e"
            ],
            [
             0.4444444444444444,
             "#bd3786"
            ],
            [
             0.5555555555555556,
             "#d8576b"
            ],
            [
             0.6666666666666666,
             "#ed7953"
            ],
            [
             0.7777777777777778,
             "#fb9f3a"
            ],
            [
             0.8888888888888888,
             "#fdca26"
            ],
            [
             1,
             "#f0f921"
            ]
           ]
          },
          "colorway": [
           "#636efa",
           "#EF553B",
           "#00cc96",
           "#ab63fa",
           "#FFA15A",
           "#19d3f3",
           "#FF6692",
           "#B6E880",
           "#FF97FF",
           "#FECB52"
          ],
          "font": {
           "color": "#2a3f5f"
          },
          "geo": {
           "bgcolor": "white",
           "lakecolor": "white",
           "landcolor": "#E5ECF6",
           "showlakes": true,
           "showland": true,
           "subunitcolor": "white"
          },
          "hoverlabel": {
           "align": "left"
          },
          "hovermode": "closest",
          "mapbox": {
           "style": "light"
          },
          "paper_bgcolor": "white",
          "plot_bgcolor": "#E5ECF6",
          "polar": {
           "angularaxis": {
            "gridcolor": "white",
            "linecolor": "white",
            "ticks": ""
           },
           "bgcolor": "#E5ECF6",
           "radialaxis": {
            "gridcolor": "white",
            "linecolor": "white",
            "ticks": ""
           }
          },
          "scene": {
           "xaxis": {
            "backgroundcolor": "#E5ECF6",
            "gridcolor": "white",
            "gridwidth": 2,
            "linecolor": "white",
            "showbackground": true,
            "ticks": "",
            "zerolinecolor": "white"
           },
           "yaxis": {
            "backgroundcolor": "#E5ECF6",
            "gridcolor": "white",
            "gridwidth": 2,
            "linecolor": "white",
            "showbackground": true,
            "ticks": "",
            "zerolinecolor": "white"
           },
           "zaxis": {
            "backgroundcolor": "#E5ECF6",
            "gridcolor": "white",
            "gridwidth": 2,
            "linecolor": "white",
            "showbackground": true,
            "ticks": "",
            "zerolinecolor": "white"
           }
          },
          "shapedefaults": {
           "line": {
            "color": "#2a3f5f"
           }
          },
          "ternary": {
           "aaxis": {
            "gridcolor": "white",
            "linecolor": "white",
            "ticks": ""
           },
           "baxis": {
            "gridcolor": "white",
            "linecolor": "white",
            "ticks": ""
           },
           "bgcolor": "#E5ECF6",
           "caxis": {
            "gridcolor": "white",
            "linecolor": "white",
            "ticks": ""
           }
          },
          "title": {
           "x": 0.05
          },
          "xaxis": {
           "automargin": true,
           "gridcolor": "white",
           "linecolor": "white",
           "ticks": "",
           "title": {
            "standoff": 15
           },
           "zerolinecolor": "white",
           "zerolinewidth": 2
          },
          "yaxis": {
           "automargin": true,
           "gridcolor": "white",
           "linecolor": "white",
           "ticks": "",
           "title": {
            "standoff": 15
           },
           "zerolinecolor": "white",
           "zerolinewidth": 2
          }
         }
        },
        "width": 1200,
        "xaxis": {
         "anchor": "y",
         "domain": [
          0,
          1
         ],
         "title": {
          "text": "Countries"
         }
        },
        "yaxis": {
         "anchor": "x",
         "domain": [
          0,
          1
         ],
         "title": {
          "text": "Total Exports in Million US$"
         }
        }
       }
      }
     },
     "metadata": {},
     "output_type": "display_data"
    }
   ],
   "source": [
    "px.bar(data_frame = exp_country_tmp, x=exp_country_tmp.index, y ='Export',\n",
    "labels={'country':\"Countries\", 'Export': \"Total Exports in Million US$\" } , color='Export', width=1200)"
   ]
  },
  {
   "attachments": {},
   "cell_type": "markdown",
   "metadata": {},
   "source": [
    "Top Countries From Whom India Imports"
   ]
  },
  {
   "cell_type": "code",
   "execution_count": 76,
   "metadata": {},
   "outputs": [],
   "source": [
    "imp_country = df_import.groupby('country').agg({'value':'sum'})\n",
    "imp_country = imp_country.rename(columns={'value': 'Import'})\n",
    "imp_country = imp_country.sort_values(by = 'Import', ascending = False)\n",
    "imp_country = imp_country[:20]\n",
    "imp_country_tmp = imp_country[:10]"
   ]
  },
  {
   "cell_type": "code",
   "execution_count": 77,
   "metadata": {},
   "outputs": [
    {
     "data": {
      "application/vnd.plotly.v1+json": {
       "config": {
        "plotlyServerURL": "https://plot.ly"
       },
       "data": [
        {
         "alignmentgroup": "True",
         "hovertemplate": "Countries=%{x}<br>Total Exports in Million US$=%{marker.color}<extra></extra>",
         "legendgroup": "",
         "marker": {
          "color": [
           757219.93,
           357998.58,
           327297.77,
           318699.57,
           265251.74,
           212430.61,
           173398.95,
           167052.86,
           161966.07,
           141485.53
          ],
          "coloraxis": "coloraxis",
          "pattern": {
           "shape": ""
          }
         },
         "name": "",
         "offsetgroup": "",
         "orientation": "v",
         "showlegend": false,
         "textposition": "auto",
         "type": "bar",
         "x": [
          "CHINA P RP",
          "U ARAB EMTS",
          "U S A",
          "SAUDI ARAB",
          "SWITZERLAND",
          "IRAQ",
          "INDONESIA",
          "KOREA RP",
          "GERMANY",
          "AUSTRALIA"
         ],
         "xaxis": "x",
         "y": [
          757219.93,
          357998.58,
          327297.77,
          318699.57,
          265251.74,
          212430.61,
          173398.95,
          167052.86,
          161966.07,
          141485.53
         ],
         "yaxis": "y"
        }
       ],
       "layout": {
        "barmode": "relative",
        "coloraxis": {
         "colorbar": {
          "title": {
           "text": "Total Exports in Million US$"
          }
         },
         "colorscale": [
          [
           0,
           "#0d0887"
          ],
          [
           0.1111111111111111,
           "#46039f"
          ],
          [
           0.2222222222222222,
           "#7201a8"
          ],
          [
           0.3333333333333333,
           "#9c179e"
          ],
          [
           0.4444444444444444,
           "#bd3786"
          ],
          [
           0.5555555555555556,
           "#d8576b"
          ],
          [
           0.6666666666666666,
           "#ed7953"
          ],
          [
           0.7777777777777778,
           "#fb9f3a"
          ],
          [
           0.8888888888888888,
           "#fdca26"
          ],
          [
           1,
           "#f0f921"
          ]
         ]
        },
        "legend": {
         "tracegroupgap": 0
        },
        "margin": {
         "t": 60
        },
        "template": {
         "data": {
          "bar": [
           {
            "error_x": {
             "color": "#2a3f5f"
            },
            "error_y": {
             "color": "#2a3f5f"
            },
            "marker": {
             "line": {
              "color": "#E5ECF6",
              "width": 0.5
             },
             "pattern": {
              "fillmode": "overlay",
              "size": 10,
              "solidity": 0.2
             }
            },
            "type": "bar"
           }
          ],
          "barpolar": [
           {
            "marker": {
             "line": {
              "color": "#E5ECF6",
              "width": 0.5
             },
             "pattern": {
              "fillmode": "overlay",
              "size": 10,
              "solidity": 0.2
             }
            },
            "type": "barpolar"
           }
          ],
          "carpet": [
           {
            "aaxis": {
             "endlinecolor": "#2a3f5f",
             "gridcolor": "white",
             "linecolor": "white",
             "minorgridcolor": "white",
             "startlinecolor": "#2a3f5f"
            },
            "baxis": {
             "endlinecolor": "#2a3f5f",
             "gridcolor": "white",
             "linecolor": "white",
             "minorgridcolor": "white",
             "startlinecolor": "#2a3f5f"
            },
            "type": "carpet"
           }
          ],
          "choropleth": [
           {
            "colorbar": {
             "outlinewidth": 0,
             "ticks": ""
            },
            "type": "choropleth"
           }
          ],
          "contour": [
           {
            "colorbar": {
             "outlinewidth": 0,
             "ticks": ""
            },
            "colorscale": [
             [
              0,
              "#0d0887"
             ],
             [
              0.1111111111111111,
              "#46039f"
             ],
             [
              0.2222222222222222,
              "#7201a8"
             ],
             [
              0.3333333333333333,
              "#9c179e"
             ],
             [
              0.4444444444444444,
              "#bd3786"
             ],
             [
              0.5555555555555556,
              "#d8576b"
             ],
             [
              0.6666666666666666,
              "#ed7953"
             ],
             [
              0.7777777777777778,
              "#fb9f3a"
             ],
             [
              0.8888888888888888,
              "#fdca26"
             ],
             [
              1,
              "#f0f921"
             ]
            ],
            "type": "contour"
           }
          ],
          "contourcarpet": [
           {
            "colorbar": {
             "outlinewidth": 0,
             "ticks": ""
            },
            "type": "contourcarpet"
           }
          ],
          "heatmap": [
           {
            "colorbar": {
             "outlinewidth": 0,
             "ticks": ""
            },
            "colorscale": [
             [
              0,
              "#0d0887"
             ],
             [
              0.1111111111111111,
              "#46039f"
             ],
             [
              0.2222222222222222,
              "#7201a8"
             ],
             [
              0.3333333333333333,
              "#9c179e"
             ],
             [
              0.4444444444444444,
              "#bd3786"
             ],
             [
              0.5555555555555556,
              "#d8576b"
             ],
             [
              0.6666666666666666,
              "#ed7953"
             ],
             [
              0.7777777777777778,
              "#fb9f3a"
             ],
             [
              0.8888888888888888,
              "#fdca26"
             ],
             [
              1,
              "#f0f921"
             ]
            ],
            "type": "heatmap"
           }
          ],
          "heatmapgl": [
           {
            "colorbar": {
             "outlinewidth": 0,
             "ticks": ""
            },
            "colorscale": [
             [
              0,
              "#0d0887"
             ],
             [
              0.1111111111111111,
              "#46039f"
             ],
             [
              0.2222222222222222,
              "#7201a8"
             ],
             [
              0.3333333333333333,
              "#9c179e"
             ],
             [
              0.4444444444444444,
              "#bd3786"
             ],
             [
              0.5555555555555556,
              "#d8576b"
             ],
             [
              0.6666666666666666,
              "#ed7953"
             ],
             [
              0.7777777777777778,
              "#fb9f3a"
             ],
             [
              0.8888888888888888,
              "#fdca26"
             ],
             [
              1,
              "#f0f921"
             ]
            ],
            "type": "heatmapgl"
           }
          ],
          "histogram": [
           {
            "marker": {
             "pattern": {
              "fillmode": "overlay",
              "size": 10,
              "solidity": 0.2
             }
            },
            "type": "histogram"
           }
          ],
          "histogram2d": [
           {
            "colorbar": {
             "outlinewidth": 0,
             "ticks": ""
            },
            "colorscale": [
             [
              0,
              "#0d0887"
             ],
             [
              0.1111111111111111,
              "#46039f"
             ],
             [
              0.2222222222222222,
              "#7201a8"
             ],
             [
              0.3333333333333333,
              "#9c179e"
             ],
             [
              0.4444444444444444,
              "#bd3786"
             ],
             [
              0.5555555555555556,
              "#d8576b"
             ],
             [
              0.6666666666666666,
              "#ed7953"
             ],
             [
              0.7777777777777778,
              "#fb9f3a"
             ],
             [
              0.8888888888888888,
              "#fdca26"
             ],
             [
              1,
              "#f0f921"
             ]
            ],
            "type": "histogram2d"
           }
          ],
          "histogram2dcontour": [
           {
            "colorbar": {
             "outlinewidth": 0,
             "ticks": ""
            },
            "colorscale": [
             [
              0,
              "#0d0887"
             ],
             [
              0.1111111111111111,
              "#46039f"
             ],
             [
              0.2222222222222222,
              "#7201a8"
             ],
             [
              0.3333333333333333,
              "#9c179e"
             ],
             [
              0.4444444444444444,
              "#bd3786"
             ],
             [
              0.5555555555555556,
              "#d8576b"
             ],
             [
              0.6666666666666666,
              "#ed7953"
             ],
             [
              0.7777777777777778,
              "#fb9f3a"
             ],
             [
              0.8888888888888888,
              "#fdca26"
             ],
             [
              1,
              "#f0f921"
             ]
            ],
            "type": "histogram2dcontour"
           }
          ],
          "mesh3d": [
           {
            "colorbar": {
             "outlinewidth": 0,
             "ticks": ""
            },
            "type": "mesh3d"
           }
          ],
          "parcoords": [
           {
            "line": {
             "colorbar": {
              "outlinewidth": 0,
              "ticks": ""
             }
            },
            "type": "parcoords"
           }
          ],
          "pie": [
           {
            "automargin": true,
            "type": "pie"
           }
          ],
          "scatter": [
           {
            "fillpattern": {
             "fillmode": "overlay",
             "size": 10,
             "solidity": 0.2
            },
            "type": "scatter"
           }
          ],
          "scatter3d": [
           {
            "line": {
             "colorbar": {
              "outlinewidth": 0,
              "ticks": ""
             }
            },
            "marker": {
             "colorbar": {
              "outlinewidth": 0,
              "ticks": ""
             }
            },
            "type": "scatter3d"
           }
          ],
          "scattercarpet": [
           {
            "marker": {
             "colorbar": {
              "outlinewidth": 0,
              "ticks": ""
             }
            },
            "type": "scattercarpet"
           }
          ],
          "scattergeo": [
           {
            "marker": {
             "colorbar": {
              "outlinewidth": 0,
              "ticks": ""
             }
            },
            "type": "scattergeo"
           }
          ],
          "scattergl": [
           {
            "marker": {
             "colorbar": {
              "outlinewidth": 0,
              "ticks": ""
             }
            },
            "type": "scattergl"
           }
          ],
          "scattermapbox": [
           {
            "marker": {
             "colorbar": {
              "outlinewidth": 0,
              "ticks": ""
             }
            },
            "type": "scattermapbox"
           }
          ],
          "scatterpolar": [
           {
            "marker": {
             "colorbar": {
              "outlinewidth": 0,
              "ticks": ""
             }
            },
            "type": "scatterpolar"
           }
          ],
          "scatterpolargl": [
           {
            "marker": {
             "colorbar": {
              "outlinewidth": 0,
              "ticks": ""
             }
            },
            "type": "scatterpolargl"
           }
          ],
          "scatterternary": [
           {
            "marker": {
             "colorbar": {
              "outlinewidth": 0,
              "ticks": ""
             }
            },
            "type": "scatterternary"
           }
          ],
          "surface": [
           {
            "colorbar": {
             "outlinewidth": 0,
             "ticks": ""
            },
            "colorscale": [
             [
              0,
              "#0d0887"
             ],
             [
              0.1111111111111111,
              "#46039f"
             ],
             [
              0.2222222222222222,
              "#7201a8"
             ],
             [
              0.3333333333333333,
              "#9c179e"
             ],
             [
              0.4444444444444444,
              "#bd3786"
             ],
             [
              0.5555555555555556,
              "#d8576b"
             ],
             [
              0.6666666666666666,
              "#ed7953"
             ],
             [
              0.7777777777777778,
              "#fb9f3a"
             ],
             [
              0.8888888888888888,
              "#fdca26"
             ],
             [
              1,
              "#f0f921"
             ]
            ],
            "type": "surface"
           }
          ],
          "table": [
           {
            "cells": {
             "fill": {
              "color": "#EBF0F8"
             },
             "line": {
              "color": "white"
             }
            },
            "header": {
             "fill": {
              "color": "#C8D4E3"
             },
             "line": {
              "color": "white"
             }
            },
            "type": "table"
           }
          ]
         },
         "layout": {
          "annotationdefaults": {
           "arrowcolor": "#2a3f5f",
           "arrowhead": 0,
           "arrowwidth": 1
          },
          "autotypenumbers": "strict",
          "coloraxis": {
           "colorbar": {
            "outlinewidth": 0,
            "ticks": ""
           }
          },
          "colorscale": {
           "diverging": [
            [
             0,
             "#8e0152"
            ],
            [
             0.1,
             "#c51b7d"
            ],
            [
             0.2,
             "#de77ae"
            ],
            [
             0.3,
             "#f1b6da"
            ],
            [
             0.4,
             "#fde0ef"
            ],
            [
             0.5,
             "#f7f7f7"
            ],
            [
             0.6,
             "#e6f5d0"
            ],
            [
             0.7,
             "#b8e186"
            ],
            [
             0.8,
             "#7fbc41"
            ],
            [
             0.9,
             "#4d9221"
            ],
            [
             1,
             "#276419"
            ]
           ],
           "sequential": [
            [
             0,
             "#0d0887"
            ],
            [
             0.1111111111111111,
             "#46039f"
            ],
            [
             0.2222222222222222,
             "#7201a8"
            ],
            [
             0.3333333333333333,
             "#9c179e"
            ],
            [
             0.4444444444444444,
             "#bd3786"
            ],
            [
             0.5555555555555556,
             "#d8576b"
            ],
            [
             0.6666666666666666,
             "#ed7953"
            ],
            [
             0.7777777777777778,
             "#fb9f3a"
            ],
            [
             0.8888888888888888,
             "#fdca26"
            ],
            [
             1,
             "#f0f921"
            ]
           ],
           "sequentialminus": [
            [
             0,
             "#0d0887"
            ],
            [
             0.1111111111111111,
             "#46039f"
            ],
            [
             0.2222222222222222,
             "#7201a8"
            ],
            [
             0.3333333333333333,
             "#9c179e"
            ],
            [
             0.4444444444444444,
             "#bd3786"
            ],
            [
             0.5555555555555556,
             "#d8576b"
            ],
            [
             0.6666666666666666,
             "#ed7953"
            ],
            [
             0.7777777777777778,
             "#fb9f3a"
            ],
            [
             0.8888888888888888,
             "#fdca26"
            ],
            [
             1,
             "#f0f921"
            ]
           ]
          },
          "colorway": [
           "#636efa",
           "#EF553B",
           "#00cc96",
           "#ab63fa",
           "#FFA15A",
           "#19d3f3",
           "#FF6692",
           "#B6E880",
           "#FF97FF",
           "#FECB52"
          ],
          "font": {
           "color": "#2a3f5f"
          },
          "geo": {
           "bgcolor": "white",
           "lakecolor": "white",
           "landcolor": "#E5ECF6",
           "showlakes": true,
           "showland": true,
           "subunitcolor": "white"
          },
          "hoverlabel": {
           "align": "left"
          },
          "hovermode": "closest",
          "mapbox": {
           "style": "light"
          },
          "paper_bgcolor": "white",
          "plot_bgcolor": "#E5ECF6",
          "polar": {
           "angularaxis": {
            "gridcolor": "white",
            "linecolor": "white",
            "ticks": ""
           },
           "bgcolor": "#E5ECF6",
           "radialaxis": {
            "gridcolor": "white",
            "linecolor": "white",
            "ticks": ""
           }
          },
          "scene": {
           "xaxis": {
            "backgroundcolor": "#E5ECF6",
            "gridcolor": "white",
            "gridwidth": 2,
            "linecolor": "white",
            "showbackground": true,
            "ticks": "",
            "zerolinecolor": "white"
           },
           "yaxis": {
            "backgroundcolor": "#E5ECF6",
            "gridcolor": "white",
            "gridwidth": 2,
            "linecolor": "white",
            "showbackground": true,
            "ticks": "",
            "zerolinecolor": "white"
           },
           "zaxis": {
            "backgroundcolor": "#E5ECF6",
            "gridcolor": "white",
            "gridwidth": 2,
            "linecolor": "white",
            "showbackground": true,
            "ticks": "",
            "zerolinecolor": "white"
           }
          },
          "shapedefaults": {
           "line": {
            "color": "#2a3f5f"
           }
          },
          "ternary": {
           "aaxis": {
            "gridcolor": "white",
            "linecolor": "white",
            "ticks": ""
           },
           "baxis": {
            "gridcolor": "white",
            "linecolor": "white",
            "ticks": ""
           },
           "bgcolor": "#E5ECF6",
           "caxis": {
            "gridcolor": "white",
            "linecolor": "white",
            "ticks": ""
           }
          },
          "title": {
           "x": 0.05
          },
          "xaxis": {
           "automargin": true,
           "gridcolor": "white",
           "linecolor": "white",
           "ticks": "",
           "title": {
            "standoff": 15
           },
           "zerolinecolor": "white",
           "zerolinewidth": 2
          },
          "yaxis": {
           "automargin": true,
           "gridcolor": "white",
           "linecolor": "white",
           "ticks": "",
           "title": {
            "standoff": 15
           },
           "zerolinecolor": "white",
           "zerolinewidth": 2
          }
         }
        },
        "width": 1200,
        "xaxis": {
         "anchor": "y",
         "domain": [
          0,
          1
         ],
         "title": {
          "text": "Countries"
         }
        },
        "yaxis": {
         "anchor": "x",
         "domain": [
          0,
          1
         ],
         "title": {
          "text": "Total Exports in Million US$"
         }
        }
       }
      }
     },
     "metadata": {},
     "output_type": "display_data"
    }
   ],
   "source": [
    "px.bar(data_frame = imp_country_tmp, x=imp_country_tmp.index, y ='Import',\n",
    "labels={'country':\"Countries\", 'Import': \"Total Exports in Million US$\" } , color='Import', width=1200 )"
   ]
  },
  {
   "attachments": {},
   "cell_type": "markdown",
   "metadata": {},
   "source": [
    "Findings:\n",
    "\n",
    "i) USA is biggest importer from India followed by UAE and China Republic.\n",
    "\n",
    "ii) China has the biggest market of Goods in India followed by UAE, Saudi Arabia and USA."
   ]
  },
  {
   "attachments": {},
   "cell_type": "markdown",
   "metadata": {},
   "source": [
    "# Calculating Trade Deficit:\n",
    "\n",
    "Let us calculate the trade deficit between exports and imports."
   ]
  },
  {
   "cell_type": "code",
   "execution_count": 78,
   "metadata": {},
   "outputs": [
    {
     "name": "stdout",
     "output_type": "stream",
     "text": [
      "Countrywise Trade Export/Import and Trade Balance of India\n"
     ]
    },
    {
     "data": {
      "text/html": [
       "<div>\n",
       "<style scoped>\n",
       "    .dataframe tbody tr th:only-of-type {\n",
       "        vertical-align: middle;\n",
       "    }\n",
       "\n",
       "    .dataframe tbody tr th {\n",
       "        vertical-align: top;\n",
       "    }\n",
       "\n",
       "    .dataframe thead th {\n",
       "        text-align: right;\n",
       "    }\n",
       "</style>\n",
       "<table border=\"1\" class=\"dataframe\">\n",
       "  <thead>\n",
       "    <tr style=\"text-align: right;\">\n",
       "      <th></th>\n",
       "      <th>Export</th>\n",
       "      <th>Import</th>\n",
       "      <th>Trade Deficit</th>\n",
       "    </tr>\n",
       "    <tr>\n",
       "      <th>country</th>\n",
       "      <th></th>\n",
       "      <th></th>\n",
       "      <th></th>\n",
       "    </tr>\n",
       "  </thead>\n",
       "  <tbody>\n",
       "    <tr>\n",
       "      <th>U S A</th>\n",
       "      <td>541487.45</td>\n",
       "      <td>327297.77</td>\n",
       "      <td>214189.68</td>\n",
       "    </tr>\n",
       "    <tr>\n",
       "      <th>HONG KONG</th>\n",
       "      <td>147807.24</td>\n",
       "      <td>134746.85</td>\n",
       "      <td>13060.39</td>\n",
       "    </tr>\n",
       "    <tr>\n",
       "      <th>SINGAPORE</th>\n",
       "      <td>130427.76</td>\n",
       "      <td>122056.32</td>\n",
       "      <td>8371.44</td>\n",
       "    </tr>\n",
       "    <tr>\n",
       "      <th>U ARAB EMTS</th>\n",
       "      <td>362951.83</td>\n",
       "      <td>357998.58</td>\n",
       "      <td>4953.25</td>\n",
       "    </tr>\n",
       "    <tr>\n",
       "      <th>BELGIUM</th>\n",
       "      <td>75098.44</td>\n",
       "      <td>107729.11</td>\n",
       "      <td>-32630.67</td>\n",
       "    </tr>\n",
       "    <tr>\n",
       "      <th>MALAYSIA</th>\n",
       "      <td>62794.30</td>\n",
       "      <td>114721.33</td>\n",
       "      <td>-51927.03</td>\n",
       "    </tr>\n",
       "    <tr>\n",
       "      <th>GERMANY</th>\n",
       "      <td>95153.81</td>\n",
       "      <td>161966.07</td>\n",
       "      <td>-66812.26</td>\n",
       "    </tr>\n",
       "    <tr>\n",
       "      <th>JAPAN</th>\n",
       "      <td>62953.11</td>\n",
       "      <td>133763.17</td>\n",
       "      <td>-70810.06</td>\n",
       "    </tr>\n",
       "    <tr>\n",
       "      <th>KOREA RP</th>\n",
       "      <td>55637.29</td>\n",
       "      <td>167052.86</td>\n",
       "      <td>-111415.57</td>\n",
       "    </tr>\n",
       "    <tr>\n",
       "      <th>INDONESIA</th>\n",
       "      <td>59775.33</td>\n",
       "      <td>173398.95</td>\n",
       "      <td>-113623.62</td>\n",
       "    </tr>\n",
       "    <tr>\n",
       "      <th>SAUDI ARAB</th>\n",
       "      <td>86847.66</td>\n",
       "      <td>318699.57</td>\n",
       "      <td>-231851.91</td>\n",
       "    </tr>\n",
       "  </tbody>\n",
       "</table>\n",
       "</div>"
      ],
      "text/plain": [
       "                Export     Import  Trade Deficit\n",
       "country                                         \n",
       "U S A        541487.45  327297.77      214189.68\n",
       "HONG KONG    147807.24  134746.85       13060.39\n",
       "SINGAPORE    130427.76  122056.32        8371.44\n",
       "U ARAB EMTS  362951.83  357998.58        4953.25\n",
       "BELGIUM       75098.44  107729.11      -32630.67\n",
       "MALAYSIA      62794.30  114721.33      -51927.03\n",
       "GERMANY       95153.81  161966.07      -66812.26\n",
       "JAPAN         62953.11  133763.17      -70810.06\n",
       "KOREA RP      55637.29  167052.86     -111415.57\n",
       "INDONESIA     59775.33  173398.95     -113623.62\n",
       "SAUDI ARAB    86847.66  318699.57     -231851.91"
      ]
     },
     "metadata": {},
     "output_type": "display_data"
    }
   ],
   "source": [
    "total_trade = pd.concat([exp_country, imp_country], axis = 1)\n",
    "total_trade['Trade Deficit'] = exp_country.Export - imp_country.Import\n",
    "total_trade = total_trade.sort_values(by = 'Trade Deficit', ascending = False)\n",
    "total_trade = total_trade[:11]\n",
    "\n",
    "print('Countrywise Trade Export/Import and Trade Balance of India')\n",
    "display(total_trade)"
   ]
  },
  {
   "cell_type": "code",
   "execution_count": 79,
   "metadata": {},
   "outputs": [
    {
     "data": {
      "application/vnd.plotly.v1+json": {
       "config": {
        "plotlyServerURL": "https://plot.ly"
       },
       "data": [
        {
         "alignmentgroup": "True",
         "hovertemplate": "variable=Import<br>country=%{x}<br>Million US $=%{y}<extra></extra>",
         "legendgroup": "Import",
         "marker": {
          "color": "#636efa",
          "pattern": {
           "shape": ""
          }
         },
         "name": "Import",
         "offsetgroup": "Import",
         "orientation": "v",
         "showlegend": true,
         "textposition": "auto",
         "type": "bar",
         "x": [
          "U S A",
          "HONG KONG",
          "SINGAPORE",
          "U ARAB EMTS",
          "BELGIUM",
          "MALAYSIA",
          "GERMANY",
          "JAPAN",
          "KOREA RP",
          "INDONESIA",
          "SAUDI ARAB"
         ],
         "xaxis": "x",
         "y": [
          327297.77,
          134746.85,
          122056.32,
          357998.58,
          107729.11,
          114721.33,
          161966.07,
          133763.17,
          167052.86,
          173398.95,
          318699.57
         ],
         "yaxis": "y"
        },
        {
         "alignmentgroup": "True",
         "hovertemplate": "variable=Export<br>country=%{x}<br>Million US $=%{y}<extra></extra>",
         "legendgroup": "Export",
         "marker": {
          "color": "#EF553B",
          "pattern": {
           "shape": ""
          }
         },
         "name": "Export",
         "offsetgroup": "Export",
         "orientation": "v",
         "showlegend": true,
         "textposition": "auto",
         "type": "bar",
         "x": [
          "U S A",
          "HONG KONG",
          "SINGAPORE",
          "U ARAB EMTS",
          "BELGIUM",
          "MALAYSIA",
          "GERMANY",
          "JAPAN",
          "KOREA RP",
          "INDONESIA",
          "SAUDI ARAB"
         ],
         "xaxis": "x",
         "y": [
          541487.45,
          147807.24,
          130427.76,
          362951.83,
          75098.44,
          62794.3,
          95153.81,
          62953.11,
          55637.29,
          59775.33,
          86847.66
         ],
         "yaxis": "y"
        },
        {
         "alignmentgroup": "True",
         "hovertemplate": "variable=Trade Deficit<br>country=%{x}<br>Million US $=%{y}<extra></extra>",
         "legendgroup": "Trade Deficit",
         "marker": {
          "color": "#00cc96",
          "pattern": {
           "shape": ""
          }
         },
         "name": "Trade Deficit",
         "offsetgroup": "Trade Deficit",
         "orientation": "v",
         "showlegend": true,
         "textposition": "auto",
         "type": "bar",
         "x": [
          "U S A",
          "HONG KONG",
          "SINGAPORE",
          "U ARAB EMTS",
          "BELGIUM",
          "MALAYSIA",
          "GERMANY",
          "JAPAN",
          "KOREA RP",
          "INDONESIA",
          "SAUDI ARAB"
         ],
         "xaxis": "x",
         "y": [
          214189.67999999993,
          13060.389999999985,
          8371.439999999988,
          4953.25,
          -32630.67,
          -51927.03,
          -66812.26000000001,
          -70810.06000000001,
          -111415.56999999998,
          -113623.62000000001,
          -231851.91
         ],
         "yaxis": "y"
        }
       ],
       "layout": {
        "barmode": "group",
        "legend": {
         "title": {
          "text": "variable"
         },
         "tracegroupgap": 0
        },
        "margin": {
         "t": 60
        },
        "template": {
         "data": {
          "bar": [
           {
            "error_x": {
             "color": "#2a3f5f"
            },
            "error_y": {
             "color": "#2a3f5f"
            },
            "marker": {
             "line": {
              "color": "#E5ECF6",
              "width": 0.5
             },
             "pattern": {
              "fillmode": "overlay",
              "size": 10,
              "solidity": 0.2
             }
            },
            "type": "bar"
           }
          ],
          "barpolar": [
           {
            "marker": {
             "line": {
              "color": "#E5ECF6",
              "width": 0.5
             },
             "pattern": {
              "fillmode": "overlay",
              "size": 10,
              "solidity": 0.2
             }
            },
            "type": "barpolar"
           }
          ],
          "carpet": [
           {
            "aaxis": {
             "endlinecolor": "#2a3f5f",
             "gridcolor": "white",
             "linecolor": "white",
             "minorgridcolor": "white",
             "startlinecolor": "#2a3f5f"
            },
            "baxis": {
             "endlinecolor": "#2a3f5f",
             "gridcolor": "white",
             "linecolor": "white",
             "minorgridcolor": "white",
             "startlinecolor": "#2a3f5f"
            },
            "type": "carpet"
           }
          ],
          "choropleth": [
           {
            "colorbar": {
             "outlinewidth": 0,
             "ticks": ""
            },
            "type": "choropleth"
           }
          ],
          "contour": [
           {
            "colorbar": {
             "outlinewidth": 0,
             "ticks": ""
            },
            "colorscale": [
             [
              0,
              "#0d0887"
             ],
             [
              0.1111111111111111,
              "#46039f"
             ],
             [
              0.2222222222222222,
              "#7201a8"
             ],
             [
              0.3333333333333333,
              "#9c179e"
             ],
             [
              0.4444444444444444,
              "#bd3786"
             ],
             [
              0.5555555555555556,
              "#d8576b"
             ],
             [
              0.6666666666666666,
              "#ed7953"
             ],
             [
              0.7777777777777778,
              "#fb9f3a"
             ],
             [
              0.8888888888888888,
              "#fdca26"
             ],
             [
              1,
              "#f0f921"
             ]
            ],
            "type": "contour"
           }
          ],
          "contourcarpet": [
           {
            "colorbar": {
             "outlinewidth": 0,
             "ticks": ""
            },
            "type": "contourcarpet"
           }
          ],
          "heatmap": [
           {
            "colorbar": {
             "outlinewidth": 0,
             "ticks": ""
            },
            "colorscale": [
             [
              0,
              "#0d0887"
             ],
             [
              0.1111111111111111,
              "#46039f"
             ],
             [
              0.2222222222222222,
              "#7201a8"
             ],
             [
              0.3333333333333333,
              "#9c179e"
             ],
             [
              0.4444444444444444,
              "#bd3786"
             ],
             [
              0.5555555555555556,
              "#d8576b"
             ],
             [
              0.6666666666666666,
              "#ed7953"
             ],
             [
              0.7777777777777778,
              "#fb9f3a"
             ],
             [
              0.8888888888888888,
              "#fdca26"
             ],
             [
              1,
              "#f0f921"
             ]
            ],
            "type": "heatmap"
           }
          ],
          "heatmapgl": [
           {
            "colorbar": {
             "outlinewidth": 0,
             "ticks": ""
            },
            "colorscale": [
             [
              0,
              "#0d0887"
             ],
             [
              0.1111111111111111,
              "#46039f"
             ],
             [
              0.2222222222222222,
              "#7201a8"
             ],
             [
              0.3333333333333333,
              "#9c179e"
             ],
             [
              0.4444444444444444,
              "#bd3786"
             ],
             [
              0.5555555555555556,
              "#d8576b"
             ],
             [
              0.6666666666666666,
              "#ed7953"
             ],
             [
              0.7777777777777778,
              "#fb9f3a"
             ],
             [
              0.8888888888888888,
              "#fdca26"
             ],
             [
              1,
              "#f0f921"
             ]
            ],
            "type": "heatmapgl"
           }
          ],
          "histogram": [
           {
            "marker": {
             "pattern": {
              "fillmode": "overlay",
              "size": 10,
              "solidity": 0.2
             }
            },
            "type": "histogram"
           }
          ],
          "histogram2d": [
           {
            "colorbar": {
             "outlinewidth": 0,
             "ticks": ""
            },
            "colorscale": [
             [
              0,
              "#0d0887"
             ],
             [
              0.1111111111111111,
              "#46039f"
             ],
             [
              0.2222222222222222,
              "#7201a8"
             ],
             [
              0.3333333333333333,
              "#9c179e"
             ],
             [
              0.4444444444444444,
              "#bd3786"
             ],
             [
              0.5555555555555556,
              "#d8576b"
             ],
             [
              0.6666666666666666,
              "#ed7953"
             ],
             [
              0.7777777777777778,
              "#fb9f3a"
             ],
             [
              0.8888888888888888,
              "#fdca26"
             ],
             [
              1,
              "#f0f921"
             ]
            ],
            "type": "histogram2d"
           }
          ],
          "histogram2dcontour": [
           {
            "colorbar": {
             "outlinewidth": 0,
             "ticks": ""
            },
            "colorscale": [
             [
              0,
              "#0d0887"
             ],
             [
              0.1111111111111111,
              "#46039f"
             ],
             [
              0.2222222222222222,
              "#7201a8"
             ],
             [
              0.3333333333333333,
              "#9c179e"
             ],
             [
              0.4444444444444444,
              "#bd3786"
             ],
             [
              0.5555555555555556,
              "#d8576b"
             ],
             [
              0.6666666666666666,
              "#ed7953"
             ],
             [
              0.7777777777777778,
              "#fb9f3a"
             ],
             [
              0.8888888888888888,
              "#fdca26"
             ],
             [
              1,
              "#f0f921"
             ]
            ],
            "type": "histogram2dcontour"
           }
          ],
          "mesh3d": [
           {
            "colorbar": {
             "outlinewidth": 0,
             "ticks": ""
            },
            "type": "mesh3d"
           }
          ],
          "parcoords": [
           {
            "line": {
             "colorbar": {
              "outlinewidth": 0,
              "ticks": ""
             }
            },
            "type": "parcoords"
           }
          ],
          "pie": [
           {
            "automargin": true,
            "type": "pie"
           }
          ],
          "scatter": [
           {
            "fillpattern": {
             "fillmode": "overlay",
             "size": 10,
             "solidity": 0.2
            },
            "type": "scatter"
           }
          ],
          "scatter3d": [
           {
            "line": {
             "colorbar": {
              "outlinewidth": 0,
              "ticks": ""
             }
            },
            "marker": {
             "colorbar": {
              "outlinewidth": 0,
              "ticks": ""
             }
            },
            "type": "scatter3d"
           }
          ],
          "scattercarpet": [
           {
            "marker": {
             "colorbar": {
              "outlinewidth": 0,
              "ticks": ""
             }
            },
            "type": "scattercarpet"
           }
          ],
          "scattergeo": [
           {
            "marker": {
             "colorbar": {
              "outlinewidth": 0,
              "ticks": ""
             }
            },
            "type": "scattergeo"
           }
          ],
          "scattergl": [
           {
            "marker": {
             "colorbar": {
              "outlinewidth": 0,
              "ticks": ""
             }
            },
            "type": "scattergl"
           }
          ],
          "scattermapbox": [
           {
            "marker": {
             "colorbar": {
              "outlinewidth": 0,
              "ticks": ""
             }
            },
            "type": "scattermapbox"
           }
          ],
          "scatterpolar": [
           {
            "marker": {
             "colorbar": {
              "outlinewidth": 0,
              "ticks": ""
             }
            },
            "type": "scatterpolar"
           }
          ],
          "scatterpolargl": [
           {
            "marker": {
             "colorbar": {
              "outlinewidth": 0,
              "ticks": ""
             }
            },
            "type": "scatterpolargl"
           }
          ],
          "scatterternary": [
           {
            "marker": {
             "colorbar": {
              "outlinewidth": 0,
              "ticks": ""
             }
            },
            "type": "scatterternary"
           }
          ],
          "surface": [
           {
            "colorbar": {
             "outlinewidth": 0,
             "ticks": ""
            },
            "colorscale": [
             [
              0,
              "#0d0887"
             ],
             [
              0.1111111111111111,
              "#46039f"
             ],
             [
              0.2222222222222222,
              "#7201a8"
             ],
             [
              0.3333333333333333,
              "#9c179e"
             ],
             [
              0.4444444444444444,
              "#bd3786"
             ],
             [
              0.5555555555555556,
              "#d8576b"
             ],
             [
              0.6666666666666666,
              "#ed7953"
             ],
             [
              0.7777777777777778,
              "#fb9f3a"
             ],
             [
              0.8888888888888888,
              "#fdca26"
             ],
             [
              1,
              "#f0f921"
             ]
            ],
            "type": "surface"
           }
          ],
          "table": [
           {
            "cells": {
             "fill": {
              "color": "#EBF0F8"
             },
             "line": {
              "color": "white"
             }
            },
            "header": {
             "fill": {
              "color": "#C8D4E3"
             },
             "line": {
              "color": "white"
             }
            },
            "type": "table"
           }
          ]
         },
         "layout": {
          "annotationdefaults": {
           "arrowcolor": "#2a3f5f",
           "arrowhead": 0,
           "arrowwidth": 1
          },
          "autotypenumbers": "strict",
          "coloraxis": {
           "colorbar": {
            "outlinewidth": 0,
            "ticks": ""
           }
          },
          "colorscale": {
           "diverging": [
            [
             0,
             "#8e0152"
            ],
            [
             0.1,
             "#c51b7d"
            ],
            [
             0.2,
             "#de77ae"
            ],
            [
             0.3,
             "#f1b6da"
            ],
            [
             0.4,
             "#fde0ef"
            ],
            [
             0.5,
             "#f7f7f7"
            ],
            [
             0.6,
             "#e6f5d0"
            ],
            [
             0.7,
             "#b8e186"
            ],
            [
             0.8,
             "#7fbc41"
            ],
            [
             0.9,
             "#4d9221"
            ],
            [
             1,
             "#276419"
            ]
           ],
           "sequential": [
            [
             0,
             "#0d0887"
            ],
            [
             0.1111111111111111,
             "#46039f"
            ],
            [
             0.2222222222222222,
             "#7201a8"
            ],
            [
             0.3333333333333333,
             "#9c179e"
            ],
            [
             0.4444444444444444,
             "#bd3786"
            ],
            [
             0.5555555555555556,
             "#d8576b"
            ],
            [
             0.6666666666666666,
             "#ed7953"
            ],
            [
             0.7777777777777778,
             "#fb9f3a"
            ],
            [
             0.8888888888888888,
             "#fdca26"
            ],
            [
             1,
             "#f0f921"
            ]
           ],
           "sequentialminus": [
            [
             0,
             "#0d0887"
            ],
            [
             0.1111111111111111,
             "#46039f"
            ],
            [
             0.2222222222222222,
             "#7201a8"
            ],
            [
             0.3333333333333333,
             "#9c179e"
            ],
            [
             0.4444444444444444,
             "#bd3786"
            ],
            [
             0.5555555555555556,
             "#d8576b"
            ],
            [
             0.6666666666666666,
             "#ed7953"
            ],
            [
             0.7777777777777778,
             "#fb9f3a"
            ],
            [
             0.8888888888888888,
             "#fdca26"
            ],
            [
             1,
             "#f0f921"
            ]
           ]
          },
          "colorway": [
           "#636efa",
           "#EF553B",
           "#00cc96",
           "#ab63fa",
           "#FFA15A",
           "#19d3f3",
           "#FF6692",
           "#B6E880",
           "#FF97FF",
           "#FECB52"
          ],
          "font": {
           "color": "#2a3f5f"
          },
          "geo": {
           "bgcolor": "white",
           "lakecolor": "white",
           "landcolor": "#E5ECF6",
           "showlakes": true,
           "showland": true,
           "subunitcolor": "white"
          },
          "hoverlabel": {
           "align": "left"
          },
          "hovermode": "closest",
          "mapbox": {
           "style": "light"
          },
          "paper_bgcolor": "white",
          "plot_bgcolor": "#E5ECF6",
          "polar": {
           "angularaxis": {
            "gridcolor": "white",
            "linecolor": "white",
            "ticks": ""
           },
           "bgcolor": "#E5ECF6",
           "radialaxis": {
            "gridcolor": "white",
            "linecolor": "white",
            "ticks": ""
           }
          },
          "scene": {
           "xaxis": {
            "backgroundcolor": "#E5ECF6",
            "gridcolor": "white",
            "gridwidth": 2,
            "linecolor": "white",
            "showbackground": true,
            "ticks": "",
            "zerolinecolor": "white"
           },
           "yaxis": {
            "backgroundcolor": "#E5ECF6",
            "gridcolor": "white",
            "gridwidth": 2,
            "linecolor": "white",
            "showbackground": true,
            "ticks": "",
            "zerolinecolor": "white"
           },
           "zaxis": {
            "backgroundcolor": "#E5ECF6",
            "gridcolor": "white",
            "gridwidth": 2,
            "linecolor": "white",
            "showbackground": true,
            "ticks": "",
            "zerolinecolor": "white"
           }
          },
          "shapedefaults": {
           "line": {
            "color": "#2a3f5f"
           }
          },
          "ternary": {
           "aaxis": {
            "gridcolor": "white",
            "linecolor": "white",
            "ticks": ""
           },
           "baxis": {
            "gridcolor": "white",
            "linecolor": "white",
            "ticks": ""
           },
           "bgcolor": "#E5ECF6",
           "caxis": {
            "gridcolor": "white",
            "linecolor": "white",
            "ticks": ""
           }
          },
          "title": {
           "x": 0.05
          },
          "xaxis": {
           "automargin": true,
           "gridcolor": "white",
           "linecolor": "white",
           "ticks": "",
           "title": {
            "standoff": 15
           },
           "zerolinecolor": "white",
           "zerolinewidth": 2
          },
          "yaxis": {
           "automargin": true,
           "gridcolor": "white",
           "linecolor": "white",
           "ticks": "",
           "title": {
            "standoff": 15
           },
           "zerolinecolor": "white",
           "zerolinewidth": 2
          }
         }
        },
        "xaxis": {
         "anchor": "y",
         "domain": [
          0,
          1
         ],
         "title": {
          "text": "country"
         }
        },
        "yaxis": {
         "anchor": "x",
         "domain": [
          0,
          1
         ],
         "title": {
          "text": "Million US $"
         }
        }
       }
      }
     },
     "metadata": {},
     "output_type": "display_data"
    }
   ],
   "source": [
    "px.bar(data_frame = total_trade, x=total_trade.index, y=['Import', 'Export', 'Trade Deficit'], barmode='group', labels={'index':'Countries', 'value':'Million US $'})"
   ]
  },
  {
   "attachments": {},
   "cell_type": "markdown",
   "metadata": {},
   "source": [
    "Findings:\n",
    "\n",
    "i) India has a trade surplus with USA, U Arab Emts, Hong Kong and Singapore.\n",
    "\n",
    "ii) India has a huge trade deficit with China, Suadi Arab and Indonesia etc."
   ]
  },
  {
   "attachments": {},
   "cell_type": "markdown",
   "metadata": {},
   "source": [
    "# Yearly Analysis"
   ]
  },
  {
   "cell_type": "code",
   "execution_count": 80,
   "metadata": {},
   "outputs": [],
   "source": [
    "Import =df_import.groupby(['year']).agg({'value':'sum'}).reset_index()\n",
    "Export =df_export.groupby(['year']).agg({'value':'sum'}).reset_index()\n",
    "Import['Deficit'] = Export.value - Import.value"
   ]
  },
  {
   "cell_type": "code",
   "execution_count": 81,
   "metadata": {},
   "outputs": [
    {
     "data": {
      "application/vnd.plotly.v1+json": {
       "config": {
        "plotlyServerURL": "https://plot.ly"
       },
       "data": [
        {
         "line": {
          "color": "blue",
          "width": 4
         },
         "mode": "lines+markers",
         "name": "Import",
         "type": "scatter",
         "x": [
          2010,
          2011,
          2012,
          2013,
          2014,
          2015,
          2016,
          2017,
          2018,
          2019,
          2020,
          2021
         ],
         "y": [
          365444.94,
          488272.63,
          488805.22000000003,
          446095.99,
          440463.87,
          372291.4,
          377006.72000000003,
          456379.59,
          513981.62,
          474578.29,
          394372.63,
          612999.56
         ]
        },
        {
         "line": {
          "color": "green",
          "width": 4
         },
         "mode": "lines+markers",
         "name": "Export",
         "type": "scatter",
         "x": [
          2010,
          2011,
          2012,
          2013,
          2014,
          2015,
          2016,
          2017,
          2018,
          2019,
          2020,
          2021
         ],
         "y": [
          235411.01,
          289511.58,
          294946.87,
          302844.13,
          306159.8,
          259791.42,
          273365.16,
          301078.18,
          327151.43,
          310794.15,
          291056.15,
          420684.76
         ]
        },
        {
         "line": {
          "color": "red",
          "width": 4
         },
         "mode": "lines+markers",
         "name": "Deficit",
         "type": "scatter",
         "x": [
          2010,
          2011,
          2012,
          2013,
          2014,
          2015,
          2016,
          2017,
          2018,
          2019,
          2020,
          2021
         ],
         "y": [
          -130033.93,
          -198761.05,
          -193858.35000000003,
          -143251.86,
          -134304.07,
          -112499.98000000001,
          -103641.56000000006,
          -155301.41000000003,
          -186830.19,
          -163784.13999999996,
          -103316.47999999998,
          -192314.80000000005
         ]
        }
       ],
       "layout": {
        "template": {
         "data": {
          "bar": [
           {
            "error_x": {
             "color": "#2a3f5f"
            },
            "error_y": {
             "color": "#2a3f5f"
            },
            "marker": {
             "line": {
              "color": "#E5ECF6",
              "width": 0.5
             },
             "pattern": {
              "fillmode": "overlay",
              "size": 10,
              "solidity": 0.2
             }
            },
            "type": "bar"
           }
          ],
          "barpolar": [
           {
            "marker": {
             "line": {
              "color": "#E5ECF6",
              "width": 0.5
             },
             "pattern": {
              "fillmode": "overlay",
              "size": 10,
              "solidity": 0.2
             }
            },
            "type": "barpolar"
           }
          ],
          "carpet": [
           {
            "aaxis": {
             "endlinecolor": "#2a3f5f",
             "gridcolor": "white",
             "linecolor": "white",
             "minorgridcolor": "white",
             "startlinecolor": "#2a3f5f"
            },
            "baxis": {
             "endlinecolor": "#2a3f5f",
             "gridcolor": "white",
             "linecolor": "white",
             "minorgridcolor": "white",
             "startlinecolor": "#2a3f5f"
            },
            "type": "carpet"
           }
          ],
          "choropleth": [
           {
            "colorbar": {
             "outlinewidth": 0,
             "ticks": ""
            },
            "type": "choropleth"
           }
          ],
          "contour": [
           {
            "colorbar": {
             "outlinewidth": 0,
             "ticks": ""
            },
            "colorscale": [
             [
              0,
              "#0d0887"
             ],
             [
              0.1111111111111111,
              "#46039f"
             ],
             [
              0.2222222222222222,
              "#7201a8"
             ],
             [
              0.3333333333333333,
              "#9c179e"
             ],
             [
              0.4444444444444444,
              "#bd3786"
             ],
             [
              0.5555555555555556,
              "#d8576b"
             ],
             [
              0.6666666666666666,
              "#ed7953"
             ],
             [
              0.7777777777777778,
              "#fb9f3a"
             ],
             [
              0.8888888888888888,
              "#fdca26"
             ],
             [
              1,
              "#f0f921"
             ]
            ],
            "type": "contour"
           }
          ],
          "contourcarpet": [
           {
            "colorbar": {
             "outlinewidth": 0,
             "ticks": ""
            },
            "type": "contourcarpet"
           }
          ],
          "heatmap": [
           {
            "colorbar": {
             "outlinewidth": 0,
             "ticks": ""
            },
            "colorscale": [
             [
              0,
              "#0d0887"
             ],
             [
              0.1111111111111111,
              "#46039f"
             ],
             [
              0.2222222222222222,
              "#7201a8"
             ],
             [
              0.3333333333333333,
              "#9c179e"
             ],
             [
              0.4444444444444444,
              "#bd3786"
             ],
             [
              0.5555555555555556,
              "#d8576b"
             ],
             [
              0.6666666666666666,
              "#ed7953"
             ],
             [
              0.7777777777777778,
              "#fb9f3a"
             ],
             [
              0.8888888888888888,
              "#fdca26"
             ],
             [
              1,
              "#f0f921"
             ]
            ],
            "type": "heatmap"
           }
          ],
          "heatmapgl": [
           {
            "colorbar": {
             "outlinewidth": 0,
             "ticks": ""
            },
            "colorscale": [
             [
              0,
              "#0d0887"
             ],
             [
              0.1111111111111111,
              "#46039f"
             ],
             [
              0.2222222222222222,
              "#7201a8"
             ],
             [
              0.3333333333333333,
              "#9c179e"
             ],
             [
              0.4444444444444444,
              "#bd3786"
             ],
             [
              0.5555555555555556,
              "#d8576b"
             ],
             [
              0.6666666666666666,
              "#ed7953"
             ],
             [
              0.7777777777777778,
              "#fb9f3a"
             ],
             [
              0.8888888888888888,
              "#fdca26"
             ],
             [
              1,
              "#f0f921"
             ]
            ],
            "type": "heatmapgl"
           }
          ],
          "histogram": [
           {
            "marker": {
             "pattern": {
              "fillmode": "overlay",
              "size": 10,
              "solidity": 0.2
             }
            },
            "type": "histogram"
           }
          ],
          "histogram2d": [
           {
            "colorbar": {
             "outlinewidth": 0,
             "ticks": ""
            },
            "colorscale": [
             [
              0,
              "#0d0887"
             ],
             [
              0.1111111111111111,
              "#46039f"
             ],
             [
              0.2222222222222222,
              "#7201a8"
             ],
             [
              0.3333333333333333,
              "#9c179e"
             ],
             [
              0.4444444444444444,
              "#bd3786"
             ],
             [
              0.5555555555555556,
              "#d8576b"
             ],
             [
              0.6666666666666666,
              "#ed7953"
             ],
             [
              0.7777777777777778,
              "#fb9f3a"
             ],
             [
              0.8888888888888888,
              "#fdca26"
             ],
             [
              1,
              "#f0f921"
             ]
            ],
            "type": "histogram2d"
           }
          ],
          "histogram2dcontour": [
           {
            "colorbar": {
             "outlinewidth": 0,
             "ticks": ""
            },
            "colorscale": [
             [
              0,
              "#0d0887"
             ],
             [
              0.1111111111111111,
              "#46039f"
             ],
             [
              0.2222222222222222,
              "#7201a8"
             ],
             [
              0.3333333333333333,
              "#9c179e"
             ],
             [
              0.4444444444444444,
              "#bd3786"
             ],
             [
              0.5555555555555556,
              "#d8576b"
             ],
             [
              0.6666666666666666,
              "#ed7953"
             ],
             [
              0.7777777777777778,
              "#fb9f3a"
             ],
             [
              0.8888888888888888,
              "#fdca26"
             ],
             [
              1,
              "#f0f921"
             ]
            ],
            "type": "histogram2dcontour"
           }
          ],
          "mesh3d": [
           {
            "colorbar": {
             "outlinewidth": 0,
             "ticks": ""
            },
            "type": "mesh3d"
           }
          ],
          "parcoords": [
           {
            "line": {
             "colorbar": {
              "outlinewidth": 0,
              "ticks": ""
             }
            },
            "type": "parcoords"
           }
          ],
          "pie": [
           {
            "automargin": true,
            "type": "pie"
           }
          ],
          "scatter": [
           {
            "fillpattern": {
             "fillmode": "overlay",
             "size": 10,
             "solidity": 0.2
            },
            "type": "scatter"
           }
          ],
          "scatter3d": [
           {
            "line": {
             "colorbar": {
              "outlinewidth": 0,
              "ticks": ""
             }
            },
            "marker": {
             "colorbar": {
              "outlinewidth": 0,
              "ticks": ""
             }
            },
            "type": "scatter3d"
           }
          ],
          "scattercarpet": [
           {
            "marker": {
             "colorbar": {
              "outlinewidth": 0,
              "ticks": ""
             }
            },
            "type": "scattercarpet"
           }
          ],
          "scattergeo": [
           {
            "marker": {
             "colorbar": {
              "outlinewidth": 0,
              "ticks": ""
             }
            },
            "type": "scattergeo"
           }
          ],
          "scattergl": [
           {
            "marker": {
             "colorbar": {
              "outlinewidth": 0,
              "ticks": ""
             }
            },
            "type": "scattergl"
           }
          ],
          "scattermapbox": [
           {
            "marker": {
             "colorbar": {
              "outlinewidth": 0,
              "ticks": ""
             }
            },
            "type": "scattermapbox"
           }
          ],
          "scatterpolar": [
           {
            "marker": {
             "colorbar": {
              "outlinewidth": 0,
              "ticks": ""
             }
            },
            "type": "scatterpolar"
           }
          ],
          "scatterpolargl": [
           {
            "marker": {
             "colorbar": {
              "outlinewidth": 0,
              "ticks": ""
             }
            },
            "type": "scatterpolargl"
           }
          ],
          "scatterternary": [
           {
            "marker": {
             "colorbar": {
              "outlinewidth": 0,
              "ticks": ""
             }
            },
            "type": "scatterternary"
           }
          ],
          "surface": [
           {
            "colorbar": {
             "outlinewidth": 0,
             "ticks": ""
            },
            "colorscale": [
             [
              0,
              "#0d0887"
             ],
             [
              0.1111111111111111,
              "#46039f"
             ],
             [
              0.2222222222222222,
              "#7201a8"
             ],
             [
              0.3333333333333333,
              "#9c179e"
             ],
             [
              0.4444444444444444,
              "#bd3786"
             ],
             [
              0.5555555555555556,
              "#d8576b"
             ],
             [
              0.6666666666666666,
              "#ed7953"
             ],
             [
              0.7777777777777778,
              "#fb9f3a"
             ],
             [
              0.8888888888888888,
              "#fdca26"
             ],
             [
              1,
              "#f0f921"
             ]
            ],
            "type": "surface"
           }
          ],
          "table": [
           {
            "cells": {
             "fill": {
              "color": "#EBF0F8"
             },
             "line": {
              "color": "white"
             }
            },
            "header": {
             "fill": {
              "color": "#C8D4E3"
             },
             "line": {
              "color": "white"
             }
            },
            "type": "table"
           }
          ]
         },
         "layout": {
          "annotationdefaults": {
           "arrowcolor": "#2a3f5f",
           "arrowhead": 0,
           "arrowwidth": 1
          },
          "autotypenumbers": "strict",
          "coloraxis": {
           "colorbar": {
            "outlinewidth": 0,
            "ticks": ""
           }
          },
          "colorscale": {
           "diverging": [
            [
             0,
             "#8e0152"
            ],
            [
             0.1,
             "#c51b7d"
            ],
            [
             0.2,
             "#de77ae"
            ],
            [
             0.3,
             "#f1b6da"
            ],
            [
             0.4,
             "#fde0ef"
            ],
            [
             0.5,
             "#f7f7f7"
            ],
            [
             0.6,
             "#e6f5d0"
            ],
            [
             0.7,
             "#b8e186"
            ],
            [
             0.8,
             "#7fbc41"
            ],
            [
             0.9,
             "#4d9221"
            ],
            [
             1,
             "#276419"
            ]
           ],
           "sequential": [
            [
             0,
             "#0d0887"
            ],
            [
             0.1111111111111111,
             "#46039f"
            ],
            [
             0.2222222222222222,
             "#7201a8"
            ],
            [
             0.3333333333333333,
             "#9c179e"
            ],
            [
             0.4444444444444444,
             "#bd3786"
            ],
            [
             0.5555555555555556,
             "#d8576b"
            ],
            [
             0.6666666666666666,
             "#ed7953"
            ],
            [
             0.7777777777777778,
             "#fb9f3a"
            ],
            [
             0.8888888888888888,
             "#fdca26"
            ],
            [
             1,
             "#f0f921"
            ]
           ],
           "sequentialminus": [
            [
             0,
             "#0d0887"
            ],
            [
             0.1111111111111111,
             "#46039f"
            ],
            [
             0.2222222222222222,
             "#7201a8"
            ],
            [
             0.3333333333333333,
             "#9c179e"
            ],
            [
             0.4444444444444444,
             "#bd3786"
            ],
            [
             0.5555555555555556,
             "#d8576b"
            ],
            [
             0.6666666666666666,
             "#ed7953"
            ],
            [
             0.7777777777777778,
             "#fb9f3a"
            ],
            [
             0.8888888888888888,
             "#fdca26"
            ],
            [
             1,
             "#f0f921"
            ]
           ]
          },
          "colorway": [
           "#636efa",
           "#EF553B",
           "#00cc96",
           "#ab63fa",
           "#FFA15A",
           "#19d3f3",
           "#FF6692",
           "#B6E880",
           "#FF97FF",
           "#FECB52"
          ],
          "font": {
           "color": "#2a3f5f"
          },
          "geo": {
           "bgcolor": "white",
           "lakecolor": "white",
           "landcolor": "#E5ECF6",
           "showlakes": true,
           "showland": true,
           "subunitcolor": "white"
          },
          "hoverlabel": {
           "align": "left"
          },
          "hovermode": "closest",
          "mapbox": {
           "style": "light"
          },
          "paper_bgcolor": "white",
          "plot_bgcolor": "#E5ECF6",
          "polar": {
           "angularaxis": {
            "gridcolor": "white",
            "linecolor": "white",
            "ticks": ""
           },
           "bgcolor": "#E5ECF6",
           "radialaxis": {
            "gridcolor": "white",
            "linecolor": "white",
            "ticks": ""
           }
          },
          "scene": {
           "xaxis": {
            "backgroundcolor": "#E5ECF6",
            "gridcolor": "white",
            "gridwidth": 2,
            "linecolor": "white",
            "showbackground": true,
            "ticks": "",
            "zerolinecolor": "white"
           },
           "yaxis": {
            "backgroundcolor": "#E5ECF6",
            "gridcolor": "white",
            "gridwidth": 2,
            "linecolor": "white",
            "showbackground": true,
            "ticks": "",
            "zerolinecolor": "white"
           },
           "zaxis": {
            "backgroundcolor": "#E5ECF6",
            "gridcolor": "white",
            "gridwidth": 2,
            "linecolor": "white",
            "showbackground": true,
            "ticks": "",
            "zerolinecolor": "white"
           }
          },
          "shapedefaults": {
           "line": {
            "color": "#2a3f5f"
           }
          },
          "ternary": {
           "aaxis": {
            "gridcolor": "white",
            "linecolor": "white",
            "ticks": ""
           },
           "baxis": {
            "gridcolor": "white",
            "linecolor": "white",
            "ticks": ""
           },
           "bgcolor": "#E5ECF6",
           "caxis": {
            "gridcolor": "white",
            "linecolor": "white",
            "ticks": ""
           }
          },
          "title": {
           "x": 0.05
          },
          "xaxis": {
           "automargin": true,
           "gridcolor": "white",
           "linecolor": "white",
           "ticks": "",
           "title": {
            "standoff": 15
           },
           "zerolinecolor": "white",
           "zerolinewidth": 2
          },
          "yaxis": {
           "automargin": true,
           "gridcolor": "white",
           "linecolor": "white",
           "ticks": "",
           "title": {
            "standoff": 15
           },
           "zerolinecolor": "white",
           "zerolinewidth": 2
          }
         }
        },
        "title": {
         "text": "Indian Trade Over The Years 2010-2018",
         "x": 0,
         "xref": "paper"
        },
        "xaxis": {
         "title": {
          "font": {
           "color": "#7f7f7f",
           "family": "Times New",
           "size": 18
          },
          "text": "Year"
         }
        },
        "yaxis": {
         "title": {
          "font": {
           "color": "#7f7f7f",
           "family": "Times New",
           "size": 18
          },
          "text": "Million US $"
         }
        }
       }
      }
     },
     "metadata": {},
     "output_type": "display_data"
    }
   ],
   "source": [
    "fig = go.Figure()\n",
    "\n",
    "# Create and style traces\n",
    "fig.add_trace(go.Scatter(x=Import.year, y=Import.value, name='Import',mode='lines+markers',\n",
    "                         line=dict(color='blue', width=4)))\n",
    "fig.add_trace(go.Scatter(x=Export.year, y=Export.value, name = 'Export',mode='lines+markers',\n",
    "                         line=dict(color='green', width=4)))\n",
    "fig.add_trace(go.Scatter(x=Import.year, y=Import.Deficit, name='Deficit',mode='lines+markers',\n",
    "                         line=dict(color='red', width=4)))\n",
    "\n",
    "fig.update_layout(\n",
    "    title=go.layout.Title(\n",
    "        text=\"Indian Trade Over The Years 2010-2018\",\n",
    "        xref=\"paper\",\n",
    "        x=0\n",
    "    ),\n",
    "    xaxis=go.layout.XAxis(\n",
    "        title=go.layout.xaxis.Title(\n",
    "            text=\"Year\",\n",
    "            font=dict(\n",
    "                family=\"Times New\",\n",
    "                size=18,\n",
    "                color=\"#7f7f7f\"\n",
    "            )\n",
    "        )\n",
    "    ),\n",
    "    yaxis=go.layout.YAxis(\n",
    "        title=go.layout.yaxis.Title(\n",
    "            text=\"Million US $\",\n",
    "            font=dict(\n",
    "                family=\"Times New\",\n",
    "                size=18,\n",
    "                color=\"#7f7f7f\"\n",
    "            )\n",
    "        )\n",
    "    )\n",
    ")\n",
    "\n",
    "fig.show()"
   ]
  },
  {
   "attachments": {},
   "cell_type": "markdown",
   "metadata": {},
   "source": [
    "Yearly Export or Import Trends for Some Chosen Countries"
   ]
  },
  {
   "cell_type": "code",
   "execution_count": 82,
   "metadata": {},
   "outputs": [
    {
     "data": {
      "text/html": [
       "<div>\n",
       "<style scoped>\n",
       "    .dataframe tbody tr th:only-of-type {\n",
       "        vertical-align: middle;\n",
       "    }\n",
       "\n",
       "    .dataframe tbody tr th {\n",
       "        vertical-align: top;\n",
       "    }\n",
       "\n",
       "    .dataframe thead th {\n",
       "        text-align: right;\n",
       "    }\n",
       "</style>\n",
       "<table border=\"1\" class=\"dataframe\">\n",
       "  <thead>\n",
       "    <tr style=\"text-align: right;\">\n",
       "      <th></th>\n",
       "      <th>year</th>\n",
       "      <th>value</th>\n",
       "    </tr>\n",
       "    <tr>\n",
       "      <th>country</th>\n",
       "      <th></th>\n",
       "      <th></th>\n",
       "    </tr>\n",
       "  </thead>\n",
       "  <tbody>\n",
       "    <tr>\n",
       "      <th>AFGHANISTAN</th>\n",
       "      <td>2010</td>\n",
       "      <td>146.01</td>\n",
       "    </tr>\n",
       "    <tr>\n",
       "      <th>AFGHANISTAN</th>\n",
       "      <td>2011</td>\n",
       "      <td>132.49</td>\n",
       "    </tr>\n",
       "    <tr>\n",
       "      <th>AFGHANISTAN</th>\n",
       "      <td>2012</td>\n",
       "      <td>159.53</td>\n",
       "    </tr>\n",
       "    <tr>\n",
       "      <th>AFGHANISTAN</th>\n",
       "      <td>2013</td>\n",
       "      <td>208.76</td>\n",
       "    </tr>\n",
       "    <tr>\n",
       "      <th>AFGHANISTAN</th>\n",
       "      <td>2014</td>\n",
       "      <td>261.92</td>\n",
       "    </tr>\n",
       "    <tr>\n",
       "      <th>...</th>\n",
       "      <td>...</td>\n",
       "      <td>...</td>\n",
       "    </tr>\n",
       "    <tr>\n",
       "      <th>ZIMBABWE</th>\n",
       "      <td>2017</td>\n",
       "      <td>62.20</td>\n",
       "    </tr>\n",
       "    <tr>\n",
       "      <th>ZIMBABWE</th>\n",
       "      <td>2018</td>\n",
       "      <td>7.81</td>\n",
       "    </tr>\n",
       "    <tr>\n",
       "      <th>ZIMBABWE</th>\n",
       "      <td>2019</td>\n",
       "      <td>13.60</td>\n",
       "    </tr>\n",
       "    <tr>\n",
       "      <th>ZIMBABWE</th>\n",
       "      <td>2020</td>\n",
       "      <td>5.71</td>\n",
       "    </tr>\n",
       "    <tr>\n",
       "      <th>ZIMBABWE</th>\n",
       "      <td>2021</td>\n",
       "      <td>7.77</td>\n",
       "    </tr>\n",
       "  </tbody>\n",
       "</table>\n",
       "<p>2571 rows × 2 columns</p>\n",
       "</div>"
      ],
      "text/plain": [
       "             year   value\n",
       "country                  \n",
       "AFGHANISTAN  2010  146.01\n",
       "AFGHANISTAN  2011  132.49\n",
       "AFGHANISTAN  2012  159.53\n",
       "AFGHANISTAN  2013  208.76\n",
       "AFGHANISTAN  2014  261.92\n",
       "...           ...     ...\n",
       "ZIMBABWE     2017   62.20\n",
       "ZIMBABWE     2018    7.81\n",
       "ZIMBABWE     2019   13.60\n",
       "ZIMBABWE     2020    5.71\n",
       "ZIMBABWE     2021    7.77\n",
       "\n",
       "[2571 rows x 2 columns]"
      ]
     },
     "execution_count": 82,
     "metadata": {},
     "output_type": "execute_result"
    }
   ],
   "source": [
    "exp_country = df_export.copy()\n",
    "exp_country.drop(['HSCode', 'Commodity'], axis=1, inplace=True)\n",
    "exp_country = pd.DataFrame(exp_country.groupby(['country', 'year'])['value'].sum())\n",
    "exp_country.reset_index('year', inplace=True)\n",
    "\n",
    "\n",
    "imp_country = df_import.copy()\n",
    "imp_country.drop(['HSCode', 'Commodity'], axis=1, inplace=True)\n",
    "imp_country = pd.DataFrame(imp_country.groupby(['country', 'year'])['value'].sum())\n",
    "imp_country.reset_index('year', inplace=True)\n",
    "imp_country"
   ]
  },
  {
   "cell_type": "code",
   "execution_count": 83,
   "metadata": {},
   "outputs": [
    {
     "data": {
      "application/vnd.plotly.v1+json": {
       "config": {
        "plotlyServerURL": "https://plot.ly"
       },
       "data": [
        {
         "line": {
          "color": "red",
          "width": 4
         },
         "mode": "lines+markers",
         "name": "Import to India",
         "type": "scatter",
         "x": [
          2010,
          2011,
          2012,
          2013,
          2014,
          2015,
          2016,
          2017,
          2018,
          2019,
          2020,
          2021
         ],
         "xaxis": "x",
         "y": [
          43479.39,
          55313.17,
          52247.97,
          51034.299999999996,
          60412.84,
          61707.54,
          61282.659999999996,
          76380.34999999999,
          70319.29000000001,
          65260.380000000005,
          65211.869999999995,
          94570.17
         ],
         "yaxis": "y"
        },
        {
         "line": {
          "color": "blue",
          "width": 4
         },
         "mode": "lines+markers",
         "name": "Export to China",
         "type": "scatter",
         "x": [
          2010,
          2011,
          2012,
          2013,
          2014,
          2015,
          2016,
          2017,
          2018,
          2019,
          2020,
          2021
         ],
         "xaxis": "x",
         "y": [
          14168.65,
          18076.34,
          13534.66,
          14824.16,
          11934.07,
          9011.19,
          10171.66,
          13333.33,
          16751.94,
          16612.52,
          21186.94,
          21259.6
         ],
         "yaxis": "y"
        },
        {
         "line": {
          "color": "orange",
          "width": 4
         },
         "mode": "lines+markers",
         "name": "Import to India",
         "type": "scatter",
         "x": [
          2010,
          2011,
          2012,
          2013,
          2014,
          2015,
          2016,
          2017,
          2018,
          2019,
          2020,
          2021
         ],
         "xaxis": "x2",
         "y": [
          20385.270000000004,
          31817.69,
          33998.049999999996,
          36403.67,
          28107.54,
          20321.31,
          19972.36,
          22069.91,
          28479.190000000002,
          26857.32,
          16186.71,
          34100.55
         ],
         "yaxis": "y2"
        },
        {
         "line": {
          "color": "green",
          "width": 4
         },
         "mode": "lines+markers",
         "name": "Export to Saudi Arab",
         "type": "scatter",
         "x": [
          2010,
          2011,
          2012,
          2013,
          2014,
          2015,
          2016,
          2017,
          2018,
          2019,
          2020,
          2021
         ],
         "xaxis": "x2",
         "y": [
          4684.17,
          5683.06,
          9785.56,
          12218.72,
          11161.21,
          6381.2300000000005,
          5110.09,
          5410.42,
          5561.53,
          6236.59,
          5856.34,
          8758.74
         ],
         "yaxis": "y2"
        },
        {
         "line": {
          "color": "gold",
          "width": 4
         },
         "mode": "lines+markers",
         "name": "Import to India",
         "type": "scatter",
         "x": [
          2010,
          2011,
          2012,
          2013,
          2014,
          2015,
          2016,
          2017,
          2018,
          2019,
          2020,
          2021
         ],
         "xaxis": "x3",
         "y": [
          20050.41,
          23454.64,
          25204.39,
          22504.79,
          21814.27,
          21781.06,
          22307.18,
          26610.72,
          35549.200000000004,
          35819.55,
          28887.81,
          43313.75
         ],
         "yaxis": "y3"
        },
        {
         "line": {
          "color": "purple",
          "width": 4
         },
         "mode": "lines+markers",
         "name": "Export to USA",
         "type": "scatter",
         "x": [
          2010,
          2011,
          2012,
          2013,
          2014,
          2015,
          2016,
          2017,
          2018,
          2019,
          2020,
          2021
         ],
         "xaxis": "x3",
         "y": [
          25291.559999999998,
          34741.33,
          36154.88,
          39141.81,
          42448.3,
          40335.68,
          42211.96,
          47878.17,
          52405.88,
          53088.43,
          51622.82,
          76166.63
         ],
         "yaxis": "y3"
        },
        {
         "line": {
          "color": "olive",
          "width": 4
         },
         "mode": "lines+markers",
         "name": "Import to India",
         "type": "scatter",
         "x": [
          2010,
          2011,
          2012,
          2013,
          2014,
          2015,
          2016,
          2017,
          2018,
          2019,
          2020,
          2021
         ],
         "xaxis": "x4",
         "y": [
          32753.019999999997,
          36756.16,
          39138.21,
          29019.660000000003,
          26139.73,
          19445.54,
          21509.690000000002,
          21738.98,
          29785.09,
          30256.43,
          26622.82,
          44833.25
         ],
         "yaxis": "y4"
        },
        {
         "line": {
          "color": "yellow",
          "width": 4
         },
         "mode": "lines+markers",
         "name": "Export to U Arab Emts",
         "type": "scatter",
         "x": [
          2010,
          2011,
          2012,
          2013,
          2014,
          2015,
          2016,
          2017,
          2018,
          2019,
          2020,
          2021
         ],
         "xaxis": "x4",
         "y": [
          33822.079999999994,
          35925.229999999996,
          36316.28999999999,
          30520.079999999998,
          33027.73,
          30316.16,
          31175.16,
          28145.77,
          30126.379999999997,
          28853.23,
          16679.19,
          28044.53
         ],
         "yaxis": "y4"
        }
       ],
       "layout": {
        "annotations": [
         {
          "font": {
           "size": 16
          },
          "showarrow": false,
          "text": "Chinese Trade with India Over The Years 2010-2018",
          "x": 0.5,
          "xanchor": "center",
          "xref": "paper",
          "y": 1,
          "yanchor": "bottom",
          "yref": "paper"
         },
         {
          "font": {
           "size": 16
          },
          "showarrow": false,
          "text": "Saudi Arab Trade with India Over The Years 2010-2018",
          "x": 0.5,
          "xanchor": "center",
          "xref": "paper",
          "y": 0.71875,
          "yanchor": "bottom",
          "yref": "paper"
         },
         {
          "font": {
           "size": 16
          },
          "showarrow": false,
          "text": "USA Trade with India Over The Years 2010-2018",
          "x": 0.5,
          "xanchor": "center",
          "xref": "paper",
          "y": 0.4375,
          "yanchor": "bottom",
          "yref": "paper"
         },
         {
          "font": {
           "size": 16
          },
          "showarrow": false,
          "text": "United Arab Emts Trade with India Over The Years 2010-2018",
          "x": 0.5,
          "xanchor": "center",
          "xref": "paper",
          "y": 0.15625,
          "yanchor": "bottom",
          "yref": "paper"
         }
        ],
        "height": 1500,
        "template": {
         "data": {
          "bar": [
           {
            "error_x": {
             "color": "#2a3f5f"
            },
            "error_y": {
             "color": "#2a3f5f"
            },
            "marker": {
             "line": {
              "color": "#E5ECF6",
              "width": 0.5
             },
             "pattern": {
              "fillmode": "overlay",
              "size": 10,
              "solidity": 0.2
             }
            },
            "type": "bar"
           }
          ],
          "barpolar": [
           {
            "marker": {
             "line": {
              "color": "#E5ECF6",
              "width": 0.5
             },
             "pattern": {
              "fillmode": "overlay",
              "size": 10,
              "solidity": 0.2
             }
            },
            "type": "barpolar"
           }
          ],
          "carpet": [
           {
            "aaxis": {
             "endlinecolor": "#2a3f5f",
             "gridcolor": "white",
             "linecolor": "white",
             "minorgridcolor": "white",
             "startlinecolor": "#2a3f5f"
            },
            "baxis": {
             "endlinecolor": "#2a3f5f",
             "gridcolor": "white",
             "linecolor": "white",
             "minorgridcolor": "white",
             "startlinecolor": "#2a3f5f"
            },
            "type": "carpet"
           }
          ],
          "choropleth": [
           {
            "colorbar": {
             "outlinewidth": 0,
             "ticks": ""
            },
            "type": "choropleth"
           }
          ],
          "contour": [
           {
            "colorbar": {
             "outlinewidth": 0,
             "ticks": ""
            },
            "colorscale": [
             [
              0,
              "#0d0887"
             ],
             [
              0.1111111111111111,
              "#46039f"
             ],
             [
              0.2222222222222222,
              "#7201a8"
             ],
             [
              0.3333333333333333,
              "#9c179e"
             ],
             [
              0.4444444444444444,
              "#bd3786"
             ],
             [
              0.5555555555555556,
              "#d8576b"
             ],
             [
              0.6666666666666666,
              "#ed7953"
             ],
             [
              0.7777777777777778,
              "#fb9f3a"
             ],
             [
              0.8888888888888888,
              "#fdca26"
             ],
             [
              1,
              "#f0f921"
             ]
            ],
            "type": "contour"
           }
          ],
          "contourcarpet": [
           {
            "colorbar": {
             "outlinewidth": 0,
             "ticks": ""
            },
            "type": "contourcarpet"
           }
          ],
          "heatmap": [
           {
            "colorbar": {
             "outlinewidth": 0,
             "ticks": ""
            },
            "colorscale": [
             [
              0,
              "#0d0887"
             ],
             [
              0.1111111111111111,
              "#46039f"
             ],
             [
              0.2222222222222222,
              "#7201a8"
             ],
             [
              0.3333333333333333,
              "#9c179e"
             ],
             [
              0.4444444444444444,
              "#bd3786"
             ],
             [
              0.5555555555555556,
              "#d8576b"
             ],
             [
              0.6666666666666666,
              "#ed7953"
             ],
             [
              0.7777777777777778,
              "#fb9f3a"
             ],
             [
              0.8888888888888888,
              "#fdca26"
             ],
             [
              1,
              "#f0f921"
             ]
            ],
            "type": "heatmap"
           }
          ],
          "heatmapgl": [
           {
            "colorbar": {
             "outlinewidth": 0,
             "ticks": ""
            },
            "colorscale": [
             [
              0,
              "#0d0887"
             ],
             [
              0.1111111111111111,
              "#46039f"
             ],
             [
              0.2222222222222222,
              "#7201a8"
             ],
             [
              0.3333333333333333,
              "#9c179e"
             ],
             [
              0.4444444444444444,
              "#bd3786"
             ],
             [
              0.5555555555555556,
              "#d8576b"
             ],
             [
              0.6666666666666666,
              "#ed7953"
             ],
             [
              0.7777777777777778,
              "#fb9f3a"
             ],
             [
              0.8888888888888888,
              "#fdca26"
             ],
             [
              1,
              "#f0f921"
             ]
            ],
            "type": "heatmapgl"
           }
          ],
          "histogram": [
           {
            "marker": {
             "pattern": {
              "fillmode": "overlay",
              "size": 10,
              "solidity": 0.2
             }
            },
            "type": "histogram"
           }
          ],
          "histogram2d": [
           {
            "colorbar": {
             "outlinewidth": 0,
             "ticks": ""
            },
            "colorscale": [
             [
              0,
              "#0d0887"
             ],
             [
              0.1111111111111111,
              "#46039f"
             ],
             [
              0.2222222222222222,
              "#7201a8"
             ],
             [
              0.3333333333333333,
              "#9c179e"
             ],
             [
              0.4444444444444444,
              "#bd3786"
             ],
             [
              0.5555555555555556,
              "#d8576b"
             ],
             [
              0.6666666666666666,
              "#ed7953"
             ],
             [
              0.7777777777777778,
              "#fb9f3a"
             ],
             [
              0.8888888888888888,
              "#fdca26"
             ],
             [
              1,
              "#f0f921"
             ]
            ],
            "type": "histogram2d"
           }
          ],
          "histogram2dcontour": [
           {
            "colorbar": {
             "outlinewidth": 0,
             "ticks": ""
            },
            "colorscale": [
             [
              0,
              "#0d0887"
             ],
             [
              0.1111111111111111,
              "#46039f"
             ],
             [
              0.2222222222222222,
              "#7201a8"
             ],
             [
              0.3333333333333333,
              "#9c179e"
             ],
             [
              0.4444444444444444,
              "#bd3786"
             ],
             [
              0.5555555555555556,
              "#d8576b"
             ],
             [
              0.6666666666666666,
              "#ed7953"
             ],
             [
              0.7777777777777778,
              "#fb9f3a"
             ],
             [
              0.8888888888888888,
              "#fdca26"
             ],
             [
              1,
              "#f0f921"
             ]
            ],
            "type": "histogram2dcontour"
           }
          ],
          "mesh3d": [
           {
            "colorbar": {
             "outlinewidth": 0,
             "ticks": ""
            },
            "type": "mesh3d"
           }
          ],
          "parcoords": [
           {
            "line": {
             "colorbar": {
              "outlinewidth": 0,
              "ticks": ""
             }
            },
            "type": "parcoords"
           }
          ],
          "pie": [
           {
            "automargin": true,
            "type": "pie"
           }
          ],
          "scatter": [
           {
            "fillpattern": {
             "fillmode": "overlay",
             "size": 10,
             "solidity": 0.2
            },
            "type": "scatter"
           }
          ],
          "scatter3d": [
           {
            "line": {
             "colorbar": {
              "outlinewidth": 0,
              "ticks": ""
             }
            },
            "marker": {
             "colorbar": {
              "outlinewidth": 0,
              "ticks": ""
             }
            },
            "type": "scatter3d"
           }
          ],
          "scattercarpet": [
           {
            "marker": {
             "colorbar": {
              "outlinewidth": 0,
              "ticks": ""
             }
            },
            "type": "scattercarpet"
           }
          ],
          "scattergeo": [
           {
            "marker": {
             "colorbar": {
              "outlinewidth": 0,
              "ticks": ""
             }
            },
            "type": "scattergeo"
           }
          ],
          "scattergl": [
           {
            "marker": {
             "colorbar": {
              "outlinewidth": 0,
              "ticks": ""
             }
            },
            "type": "scattergl"
           }
          ],
          "scattermapbox": [
           {
            "marker": {
             "colorbar": {
              "outlinewidth": 0,
              "ticks": ""
             }
            },
            "type": "scattermapbox"
           }
          ],
          "scatterpolar": [
           {
            "marker": {
             "colorbar": {
              "outlinewidth": 0,
              "ticks": ""
             }
            },
            "type": "scatterpolar"
           }
          ],
          "scatterpolargl": [
           {
            "marker": {
             "colorbar": {
              "outlinewidth": 0,
              "ticks": ""
             }
            },
            "type": "scatterpolargl"
           }
          ],
          "scatterternary": [
           {
            "marker": {
             "colorbar": {
              "outlinewidth": 0,
              "ticks": ""
             }
            },
            "type": "scatterternary"
           }
          ],
          "surface": [
           {
            "colorbar": {
             "outlinewidth": 0,
             "ticks": ""
            },
            "colorscale": [
             [
              0,
              "#0d0887"
             ],
             [
              0.1111111111111111,
              "#46039f"
             ],
             [
              0.2222222222222222,
              "#7201a8"
             ],
             [
              0.3333333333333333,
              "#9c179e"
             ],
             [
              0.4444444444444444,
              "#bd3786"
             ],
             [
              0.5555555555555556,
              "#d8576b"
             ],
             [
              0.6666666666666666,
              "#ed7953"
             ],
             [
              0.7777777777777778,
              "#fb9f3a"
             ],
             [
              0.8888888888888888,
              "#fdca26"
             ],
             [
              1,
              "#f0f921"
             ]
            ],
            "type": "surface"
           }
          ],
          "table": [
           {
            "cells": {
             "fill": {
              "color": "#EBF0F8"
             },
             "line": {
              "color": "white"
             }
            },
            "header": {
             "fill": {
              "color": "#C8D4E3"
             },
             "line": {
              "color": "white"
             }
            },
            "type": "table"
           }
          ]
         },
         "layout": {
          "annotationdefaults": {
           "arrowcolor": "#2a3f5f",
           "arrowhead": 0,
           "arrowwidth": 1
          },
          "autotypenumbers": "strict",
          "coloraxis": {
           "colorbar": {
            "outlinewidth": 0,
            "ticks": ""
           }
          },
          "colorscale": {
           "diverging": [
            [
             0,
             "#8e0152"
            ],
            [
             0.1,
             "#c51b7d"
            ],
            [
             0.2,
             "#de77ae"
            ],
            [
             0.3,
             "#f1b6da"
            ],
            [
             0.4,
             "#fde0ef"
            ],
            [
             0.5,
             "#f7f7f7"
            ],
            [
             0.6,
             "#e6f5d0"
            ],
            [
             0.7,
             "#b8e186"
            ],
            [
             0.8,
             "#7fbc41"
            ],
            [
             0.9,
             "#4d9221"
            ],
            [
             1,
             "#276419"
            ]
           ],
           "sequential": [
            [
             0,
             "#0d0887"
            ],
            [
             0.1111111111111111,
             "#46039f"
            ],
            [
             0.2222222222222222,
             "#7201a8"
            ],
            [
             0.3333333333333333,
             "#9c179e"
            ],
            [
             0.4444444444444444,
             "#bd3786"
            ],
            [
             0.5555555555555556,
             "#d8576b"
            ],
            [
             0.6666666666666666,
             "#ed7953"
            ],
            [
             0.7777777777777778,
             "#fb9f3a"
            ],
            [
             0.8888888888888888,
             "#fdca26"
            ],
            [
             1,
             "#f0f921"
            ]
           ],
           "sequentialminus": [
            [
             0,
             "#0d0887"
            ],
            [
             0.1111111111111111,
             "#46039f"
            ],
            [
             0.2222222222222222,
             "#7201a8"
            ],
            [
             0.3333333333333333,
             "#9c179e"
            ],
            [
             0.4444444444444444,
             "#bd3786"
            ],
            [
             0.5555555555555556,
             "#d8576b"
            ],
            [
             0.6666666666666666,
             "#ed7953"
            ],
            [
             0.7777777777777778,
             "#fb9f3a"
            ],
            [
             0.8888888888888888,
             "#fdca26"
            ],
            [
             1,
             "#f0f921"
            ]
           ]
          },
          "colorway": [
           "#636efa",
           "#EF553B",
           "#00cc96",
           "#ab63fa",
           "#FFA15A",
           "#19d3f3",
           "#FF6692",
           "#B6E880",
           "#FF97FF",
           "#FECB52"
          ],
          "font": {
           "color": "#2a3f5f"
          },
          "geo": {
           "bgcolor": "white",
           "lakecolor": "white",
           "landcolor": "#E5ECF6",
           "showlakes": true,
           "showland": true,
           "subunitcolor": "white"
          },
          "hoverlabel": {
           "align": "left"
          },
          "hovermode": "closest",
          "mapbox": {
           "style": "light"
          },
          "paper_bgcolor": "white",
          "plot_bgcolor": "#E5ECF6",
          "polar": {
           "angularaxis": {
            "gridcolor": "white",
            "linecolor": "white",
            "ticks": ""
           },
           "bgcolor": "#E5ECF6",
           "radialaxis": {
            "gridcolor": "white",
            "linecolor": "white",
            "ticks": ""
           }
          },
          "scene": {
           "xaxis": {
            "backgroundcolor": "#E5ECF6",
            "gridcolor": "white",
            "gridwidth": 2,
            "linecolor": "white",
            "showbackground": true,
            "ticks": "",
            "zerolinecolor": "white"
           },
           "yaxis": {
            "backgroundcolor": "#E5ECF6",
            "gridcolor": "white",
            "gridwidth": 2,
            "linecolor": "white",
            "showbackground": true,
            "ticks": "",
            "zerolinecolor": "white"
           },
           "zaxis": {
            "backgroundcolor": "#E5ECF6",
            "gridcolor": "white",
            "gridwidth": 2,
            "linecolor": "white",
            "showbackground": true,
            "ticks": "",
            "zerolinecolor": "white"
           }
          },
          "shapedefaults": {
           "line": {
            "color": "#2a3f5f"
           }
          },
          "ternary": {
           "aaxis": {
            "gridcolor": "white",
            "linecolor": "white",
            "ticks": ""
           },
           "baxis": {
            "gridcolor": "white",
            "linecolor": "white",
            "ticks": ""
           },
           "bgcolor": "#E5ECF6",
           "caxis": {
            "gridcolor": "white",
            "linecolor": "white",
            "ticks": ""
           }
          },
          "title": {
           "x": 0.05
          },
          "xaxis": {
           "automargin": true,
           "gridcolor": "white",
           "linecolor": "white",
           "ticks": "",
           "title": {
            "standoff": 15
           },
           "zerolinecolor": "white",
           "zerolinewidth": 2
          },
          "yaxis": {
           "automargin": true,
           "gridcolor": "white",
           "linecolor": "white",
           "ticks": "",
           "title": {
            "standoff": 15
           },
           "zerolinecolor": "white",
           "zerolinewidth": 2
          }
         }
        },
        "title": {
         "text": "Trade Trends for Some Popular Commodities Imported"
        },
        "xaxis": {
         "anchor": "y",
         "domain": [
          0,
          1
         ],
         "title": {
          "text": "Year"
         }
        },
        "xaxis2": {
         "anchor": "y2",
         "domain": [
          0,
          1
         ],
         "title": {
          "text": "Year"
         }
        },
        "xaxis3": {
         "anchor": "y3",
         "domain": [
          0,
          1
         ],
         "title": {
          "text": "Year"
         }
        },
        "xaxis4": {
         "anchor": "y4",
         "domain": [
          0,
          1
         ],
         "title": {
          "text": "Year"
         }
        },
        "yaxis": {
         "anchor": "x",
         "domain": [
          0.84375,
          1
         ],
         "title": {
          "text": "Million US $"
         }
        },
        "yaxis2": {
         "anchor": "x2",
         "domain": [
          0.5625,
          0.71875
         ],
         "title": {
          "text": "Million US $"
         }
        },
        "yaxis3": {
         "anchor": "x3",
         "domain": [
          0.28125,
          0.4375
         ],
         "title": {
          "text": "Million US $"
         }
        },
        "yaxis4": {
         "anchor": "x4",
         "domain": [
          0,
          0.15625
         ],
         "title": {
          "text": "Million US $"
         }
        }
       }
      }
     },
     "metadata": {},
     "output_type": "display_data"
    }
   ],
   "source": [
    "fig = make_subplots(\n",
    "    rows=4, cols=1, subplot_titles=(\"Chinese Trade with India Over The Years 2010-2018\",\n",
    "                                    \"Saudi Arab Trade with India Over The Years 2010-2018\",\n",
    "                                    \"USA Trade with India Over The Years 2010-2018\",\n",
    "                                    \"United Arab Emts Trade with India Over The Years 2010-2018\"\n",
    "                                   )\n",
    ")\n",
    "\n",
    "\n",
    "# Create traces\n",
    "g1 = pd.DataFrame(imp_country.loc[[\"CHINA P RP\"]]).groupby(['year'])['value'].sum().reset_index()\n",
    "g2 = pd.DataFrame(exp_country.loc[[\"CHINA P RP\"]]).groupby(['year'])['value'].sum().reset_index()\n",
    "g3 = pd.DataFrame(imp_country.loc[[\"SAUDI ARAB\"]]).groupby(['year'])['value'].sum().reset_index()\n",
    "g4 = pd.DataFrame(exp_country.loc[[\"SAUDI ARAB\"]]).groupby(['year'])['value'].sum().reset_index()\n",
    "g5 = pd.DataFrame(imp_country.loc[[\"U S A\"]]).groupby(['year'])['value'].sum().reset_index()\n",
    "g6 = pd.DataFrame(exp_country.loc[[\"U S A\"]]).groupby(['year'])['value'].sum().reset_index()\n",
    "g7 = pd.DataFrame(imp_country.loc[[\"U ARAB EMTS\"]]).groupby(['year'])['value'].sum().reset_index()\n",
    "g8 = pd.DataFrame(exp_country.loc[[\"U ARAB EMTS\"]]).groupby(['year'])['value'].sum().reset_index()\n",
    "\n",
    "\n",
    "# Add traces\n",
    "fig.add_trace(go.Scatter(x=g1.year, y=g1.value, name='Import to India',mode='lines+markers',\n",
    "                         line=dict(color='red', width=4)), row=1, col=1)\n",
    "fig.add_trace(go.Scatter(x=g2.year, y=g2.value, name = 'Export to China',mode='lines+markers',\n",
    "                         line=dict(color='blue', width=4)), row=1, col=1)\n",
    "\n",
    "fig.add_trace(go.Scatter(x=g3.year, y=g3.value, name='Import to India',mode='lines+markers',\n",
    "                         line=dict(color='orange', width=4)), row=2, col=1)\n",
    "fig.add_trace(go.Scatter(x=g4.year, y=g4.value, name = 'Export to Saudi Arab',mode='lines+markers',\n",
    "                         line=dict(color='green', width=4)), row=2, col=1)\n",
    "\n",
    "fig.add_trace(go.Scatter(x=g5.year, y=g5.value, name='Import to India',mode='lines+markers',\n",
    "                         line=dict(color='gold', width=4)), row=3, col=1)\n",
    "fig.add_trace(go.Scatter(x=g6.year, y=g6.value, name = 'Export to USA',mode='lines+markers',\n",
    "                         line=dict(color='purple', width=4)), row=3, col=1)\n",
    "\n",
    "fig.add_trace(go.Scatter(x=g7.year, y=g7.value, name='Import to India',mode='lines+markers',\n",
    "                         line=dict(color='olive', width=4)), row=4, col=1)\n",
    "fig.add_trace(go.Scatter(x=g8.year, y=g8.value, name = 'Export to U Arab Emts',mode='lines+markers',\n",
    "                         line=dict(color='yellow', width=4)), row=4, col=1)\n",
    "\n",
    "\n",
    "\n",
    "# Update xaxis properties\n",
    "fig.update_xaxes(title_text=\"Year\", row=1, col=1)\n",
    "fig.update_xaxes(title_text=\"Year\", row=2, col=1)\n",
    "fig.update_xaxes(title_text=\"Year\", row=3, col=1)\n",
    "fig.update_xaxes(title_text=\"Year\", row=4, col=1)\n",
    "\n",
    "\n",
    "# Update yaxis properties\n",
    "fig.update_yaxes(title_text=\"Million US $\", row=1, col=1)\n",
    "fig.update_yaxes(title_text=\"Million US $\", row=2, col=1)\n",
    "fig.update_yaxes(title_text=\"Million US $\", row=3, col=1)\n",
    "fig.update_yaxes(title_text=\"Million US $\", row=4, col=1)\n",
    "\n",
    "\n",
    "# Update title and height\n",
    "fig.update_layout(title_text=\"Trade Trends for Some Popular Commodities Imported\", height = 1500 )\n",
    "\n",
    "fig.show()"
   ]
  },
  {
   "attachments": {},
   "cell_type": "markdown",
   "metadata": {},
   "source": [
    "Findings:\n",
    "\n",
    "i) The graph for China and Saudi Arabia show a huge trade deficit over the years. India is at a loss over there.\n",
    "\n",
    "ii) The graph for USA and UAE show a trade surplus over the years. USA is the biggest importer from India."
   ]
  }
 ],
 "metadata": {
  "kernelspec": {
   "display_name": "Python 3",
   "language": "python",
   "name": "python3"
  },
  "language_info": {
   "codemirror_mode": {
    "name": "ipython",
    "version": 3
   },
   "file_extension": ".py",
   "mimetype": "text/x-python",
   "name": "python",
   "nbconvert_exporter": "python",
   "pygments_lexer": "ipython3",
   "version": "3.9.0"
  },
  "orig_nbformat": 4,
  "vscode": {
   "interpreter": {
    "hash": "091af42eb7049ab4f6a2a6a8451825e7bf1e4d9100eb6688df05c26a5835087c"
   }
  }
 },
 "nbformat": 4,
 "nbformat_minor": 2
}
